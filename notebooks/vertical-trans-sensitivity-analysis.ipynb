{
 "cells": [
  {
   "cell_type": "markdown",
   "metadata": {},
   "source": [
    "# Vertical transmission: sensitivity analysis"
   ]
  },
  {
   "cell_type": "code",
   "execution_count": 1,
   "metadata": {},
   "outputs": [],
   "source": [
    "from SALib.sample import saltelli, fast_sampler\n",
    "import pandas as pd\n",
    "from Sensitivity import Sensitivity\n",
    "\n",
    "model_path = \"../models/BMI-SNP/\"\n",
    "output_path = \"../output/data/\"\n",
    "plots_path = \"../output/plots/\""
   ]
  },
  {
   "cell_type": "code",
   "execution_count": 3,
   "metadata": {},
   "outputs": [],
   "source": [
    "# parameter dictionary\n",
    "problem = {\n",
    "    'num_vars': 3,\n",
    "    'names': ['random-mating', 'leakage', 'fertility-differential'],\n",
    "    'bounds': [[0, 1.0],\n",
    "               [0, 0.50],\n",
    "               [0, 0.30]]\n",
    "}"
   ]
  },
  {
   "cell_type": "markdown",
   "metadata": {},
   "source": [
    "# EFast"
   ]
  },
  {
   "cell_type": "code",
   "execution_count": 4,
   "metadata": {},
   "outputs": [
    {
     "data": {
      "text/plain": [
       "(6000, 3)"
      ]
     },
     "execution_count": 4,
     "metadata": {},
     "output_type": "execute_result"
    }
   ],
   "source": [
    "sample_parameters = True\n",
    "if (sample_parameters):\n",
    "    param_values = fast_sampler.sample(problem, 2000)\n",
    "    t = pd.DataFrame(param_values)\n",
    "    t.columns = ['random-mating', 'leakage', 'fertility-differential']\n",
    "    t.to_csv(model_path + \"data/param-vt-efast.csv\", index=False)\n",
    "else:\n",
    "    t = pd.read_csv(model_path + \"data/param-vt-efast.csv\")\n",
    "t.shape"
   ]
  },
  {
   "cell_type": "code",
   "execution_count": 4,
   "metadata": {},
   "outputs": [
    {
     "name": "stderr",
     "output_type": "stream",
     "text": [
      "<ipython-input-4-2a0cac65e141>:3: FutureWarning: The default value of regex will change from True to False in a future version.\n",
      "  cols = df.bmi_category_prop.str.replace(r'\\[|\\]', '').str.split(\",\", n=4, expand=True)\n"
     ]
    }
   ],
   "source": [
    "# process results\n",
    "df = pd.read_csv(output_path + \"results-snp-vt-efast.csv\", sep = \";\")\n",
    "cols = df.bmi_category_prop.str.replace(r'\\[|\\]', '').str.split(\",\", n=4, expand=True)\n",
    "colnames = ['g'+str(i+1) for i in range(4)]\n",
    "cols.columns = colnames\n",
    "cols = cols[colnames].apply(pd.to_numeric)\n",
    "df = pd.concat([df, cols], axis=1, ignore_index=False)\n",
    "params = pd.read_csv(output_path + \"param-snp-vt-efast.csv\", sep = \";\")\n",
    "df = df.merge(params, on = [\"iteration\", \"replicate\"])\n",
    "df = df.sort_values(by=['iteration'])\n",
    "df = df.loc[df[\"iteration\"] <= len(t),:]\n",
    "\n",
    "# select parameters\n",
    "vars = ['p_fertility_factor', 'p_random_mating', 'p_genetic_variance']\n",
    "X = df.loc[:,vars]"
   ]
  },
  {
   "cell_type": "markdown",
   "metadata": {},
   "source": [
    "## Obesity"
   ]
  },
  {
   "cell_type": "code",
   "execution_count": 8,
   "metadata": {},
   "outputs": [
    {
     "name": "stdout",
     "output_type": "stream",
     "text": [
      "                               S1        ST   S1_conf   ST_conf\n",
      "random-mating            0.192484  0.406608  0.004307  0.017857\n",
      "genetic-variance         0.384405  0.613412  0.003736  0.017882\n",
      "vertical-trans-variance  0.152249  0.304612  0.003138  0.018669\n"
     ]
    },
    {
     "data": {
      "image/png": "[encoded data removed]",
      "text/plain": [
       "<Figure size 432x288 with 1 Axes>"
      ]
     },
     "metadata": {
      "needs_background": "light"
     },
     "output_type": "display_data"
    }
   ],
   "source": [
    "ef = Sensitivity(problem, df['g4'], X)\n",
    "ef.score('efast')\n",
    "ef.plot(save=True, filepath= plots_path + 'vt-efast-prop-obese.pdf',\n",
    "    move=True, moving_path= '../manuscript/plots/')\n",
    "ef.plot3D(labels={'outcome':'obese', 'y':'random mating', 'x':'vertical transmission', 'z':'genes'})"
   ]
  },
  {
   "cell_type": "markdown",
   "metadata": {},
   "source": [
    "## BMI"
   ]
  },
  {
   "cell_type": "code",
   "execution_count": 22,
   "metadata": {},
   "outputs": [
    {
     "name": "stdout",
     "output_type": "stream",
     "text": [
      "                               S1        ST   S1_conf   ST_conf\n",
      "random-mating            0.098319  0.669410  0.003370  0.022412\n",
      "genetic-variance         0.200514  0.762468  0.004329  0.020688\n",
      "vertical-trans-variance  0.065278  0.572506  0.003844  0.017022\n"
     ]
    },
    {
     "data": {
      "image/png": "[encoded data removed]",
      "text/plain": [
       "<Figure size 432x288 with 1 Axes>"
      ]
     },
     "metadata": {
      "needs_background": "light"
     },
     "output_type": "display_data"
    }
   ],
   "source": [
    "ef = Sensitivity(problem, df['average_bmi'], X)\n",
    "ef.score('efast')\n",
    "ef.plot(save=True, filepath= plots_path + 'vt-efast-average-bmi.pdf',\n",
    "    move=True, moving_path= '../manuscript/plots/')\n",
    "ef.plot3D(labels={'outcome':'average bmi', 'y':'random mating', 'x':'vertical transmission', 'z':'genes'})"
   ]
  },
  {
   "cell_type": "markdown",
   "metadata": {},
   "source": [
    "## SD BMI"
   ]
  },
  {
   "cell_type": "code",
   "execution_count": 18,
   "metadata": {},
   "outputs": [
    {
     "name": "stdout",
     "output_type": "stream",
     "text": [
      "                               S1        ST   S1_conf   ST_conf\n",
      "random-mating            0.247175  0.459991  0.004347  0.018549\n",
      "genetic-variance         0.357261  0.565991  0.003831  0.020799\n",
      "vertical-trans-variance  0.139957  0.244216  0.004789  0.018746\n"
     ]
    },
    {
     "data": {
      "image/png": "[encoded data removed]",
      "text/plain": [
       "<Figure size 432x288 with 1 Axes>"
      ]
     },
     "metadata": {
      "needs_background": "light"
     },
     "output_type": "display_data"
    }
   ],
   "source": [
    "ef = Sensitivity(problem, df['sd_bmi'], X)\n",
    "ef.score('efast')\n",
    "ef.plot(save=True, filepath= plots_path + 'vt-efast-sd-bmi.pdf',\n",
    "    move=True, moving_path= '../manuscript/plots/')\n",
    "ef.plot3D(labels={'outcome':'sd bmi', 'y':'random mating', 'x':'vertical transmission', 'z':'genes'})"
   ]
  },
  {
   "cell_type": "markdown",
   "metadata": {},
   "source": [
    "# Sobol"
   ]
  },
  {
   "cell_type": "code",
   "execution_count": 16,
   "metadata": {},
   "outputs": [
    {
     "data": {
      "text/plain": [
       "16384"
      ]
     },
     "execution_count": 16,
     "metadata": {},
     "output_type": "execute_result"
    }
   ],
   "source": [
    "sample_parameters = True\n",
    "if (sample_parameters):\n",
    "    param_values = saltelli.sample(problem, 2**11)\n",
    "    t = pd.DataFrame(param_values)\n",
    "    t.columns = ['random-mating', 'genetic-variance', 'vertical-trans-variance']\n",
    "    t.to_csv(model_path + \"data/param-snp-vt-sobol.csv\", index=False)\n",
    "else:\n",
    "    t = pd.read_csv(model_path + \"data/param-snp-vt-sobol.csv\")\n",
    "len(t)"
   ]
  },
  {
   "cell_type": "code",
   "execution_count": null,
   "metadata": {},
   "outputs": [],
   "source": [
    "# process results\n",
    "df = pd.read_csv(output_path, \"results-snp-sobol.csv\", sep = \";\")\n",
    "cols = df.bmi_group_prop.str.replace(r'\\[|\\]', '').str.split(\",\", n=4, expand=True)\n",
    "colnames = ['g'+str(i+1) for i in range(4)]\n",
    "cols.columns = colnames\n",
    "cols = cols[colnames].apply(pd.to_numeric)\n",
    "df = pd.concat([df, cols], axis=1, ignore_index=False)\n",
    "params = pd.read_csv(output_path + \"param-snp-sobol.csv\", sep = \";\")\n",
    "df = df.merge(params, on = [\"iteration\", \"replicate\"])\n",
    "df[\"iteration\"] = pd.to_numeric(df[\"iteration\"])\n",
    "df = df.sort_values(by=['iteration'])\n",
    "df = df.loc[df[\"iteration\"] <= len(t),:]\n",
    "Y = df[\"g4\"].to_numpy()\n",
    "len(Y)"
   ]
  }
 ],
 "metadata": {
  "interpreter": {
   "hash": "949777d72b0d2535278d3dc13498b2535136f6dfe0678499012e853ee9abcab1"
  },
  "kernelspec": {
   "display_name": "Python 3.9.2 64-bit",
   "language": "python",
   "name": "python3"
  },
  "language_info": {
   "codemirror_mode": {
    "name": "ipython",
    "version": 3
   },
   "file_extension": ".py",
   "mimetype": "text/x-python",
   "name": "python",
   "nbconvert_exporter": "python",
   "pygments_lexer": "ipython3",
   "version": "3.9.2"
  },
  "orig_nbformat": 4
 },
 "nbformat": 4,
 "nbformat_minor": 2
}
