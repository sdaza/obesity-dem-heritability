{
 "cells": [
  {
   "cell_type": "markdown",
   "metadata": {},
   "source": [
    "# Simulating phenotypes\n",
    "\n",
    "- Mock example with very small sample size and number of SNPs\n",
    "- Simple example using 2 components (genetic and noise), and bi-allelic SNPs\n",
    "- Frequencies to sample alleles: 0.1, 0.2, 0.3"
   ]
  },
  {
   "cell_type": "code",
   "execution_count": 21,
   "metadata": {},
   "outputs": [],
   "source": [
    "# load libraries\n",
    "library(data.table)\n",
    "library(PhenotypeSimulator)"
   ]
  },
  {
   "cell_type": "code",
   "execution_count": 29,
   "metadata": {},
   "outputs": [
    {
     "data": {
      "text/html": [
       "<style>\n",
       ".list-inline {list-style: none; margin:0; padding: 0}\n",
       ".list-inline>li {display: inline-block}\n",
       ".list-inline>li:not(:last-child)::after {content: \"\\00b7\"; padding: 0 .5ex}\n",
       "</style>\n",
       "<ol class=list-inline><li>'genotypes'</li><li>'freq'</li><li>'id_snps'</li><li>'id_samples'</li></ol>\n"
      ],
      "text/latex": [
       "\\begin{enumerate*}\n",
       "\\item 'genotypes'\n",
       "\\item 'freq'\n",
       "\\item 'id\\_snps'\n",
       "\\item 'id\\_samples'\n",
       "\\end{enumerate*}\n"
      ],
      "text/markdown": [
       "1. 'genotypes'\n",
       "2. 'freq'\n",
       "3. 'id_snps'\n",
       "4. 'id_samples'\n",
       "\n",
       "\n"
      ],
      "text/plain": [
       "[1] \"genotypes\"  \"freq\"       \"id_snps\"    \"id_samples\""
      ]
     },
     "metadata": {},
     "output_type": "display_data"
    }
   ],
   "source": [
    "# simulate simple bi-allelic genotypes \n",
    "# 100 people, 30 SNP\n",
    "# Allele frequencies 0.1, 0.2, 0.3, we need to think about better values for this\n",
    "nsim = 100\n",
    "genotypes = simulateGenotypes(N = nsim, NrSNP = 30, \n",
    "        frequencies = c(0.1, 0.2, 0.3), verbose = FALSE)\n",
    "names(genotypes)"
   ]
  },
  {
   "cell_type": "code",
   "execution_count": 30,
   "metadata": {},
   "outputs": [
    {
     "data": {
      "text/html": [
       "<table class=\"dataframe\">\n",
       "<caption>A matrix: 6 × 30 of type int</caption>\n",
       "<thead>\n",
       "\t<tr><th></th><th scope=col>SNP_1</th><th scope=col>SNP_2</th><th scope=col>SNP_3</th><th scope=col>SNP_4</th><th scope=col>SNP_5</th><th scope=col>SNP_6</th><th scope=col>SNP_7</th><th scope=col>SNP_8</th><th scope=col>SNP_9</th><th scope=col>SNP_10</th><th scope=col>⋯</th><th scope=col>SNP_21</th><th scope=col>SNP_22</th><th scope=col>SNP_23</th><th scope=col>SNP_24</th><th scope=col>SNP_25</th><th scope=col>SNP_26</th><th scope=col>SNP_27</th><th scope=col>SNP_28</th><th scope=col>SNP_29</th><th scope=col>SNP_30</th></tr>\n",
       "</thead>\n",
       "<tbody>\n",
       "\t<tr><th scope=row>ID_1</th><td>0</td><td>0</td><td>1</td><td>0</td><td>0</td><td>0</td><td>0</td><td>1</td><td>0</td><td>0</td><td>⋯</td><td>0</td><td>2</td><td>0</td><td>0</td><td>1</td><td>0</td><td>1</td><td>0</td><td>0</td><td>1</td></tr>\n",
       "\t<tr><th scope=row>ID_2</th><td>0</td><td>1</td><td>0</td><td>0</td><td>0</td><td>0</td><td>1</td><td>0</td><td>1</td><td>0</td><td>⋯</td><td>0</td><td>1</td><td>1</td><td>0</td><td>0</td><td>0</td><td>1</td><td>0</td><td>0</td><td>0</td></tr>\n",
       "\t<tr><th scope=row>ID_3</th><td>0</td><td>0</td><td>1</td><td>0</td><td>0</td><td>1</td><td>0</td><td>0</td><td>0</td><td>2</td><td>⋯</td><td>0</td><td>0</td><td>1</td><td>0</td><td>0</td><td>0</td><td>1</td><td>1</td><td>0</td><td>0</td></tr>\n",
       "\t<tr><th scope=row>ID_4</th><td>1</td><td>1</td><td>1</td><td>0</td><td>2</td><td>0</td><td>0</td><td>0</td><td>0</td><td>0</td><td>⋯</td><td>0</td><td>1</td><td>1</td><td>0</td><td>0</td><td>0</td><td>0</td><td>0</td><td>1</td><td>0</td></tr>\n",
       "\t<tr><th scope=row>ID_5</th><td>0</td><td>0</td><td>0</td><td>1</td><td>0</td><td>0</td><td>0</td><td>0</td><td>0</td><td>0</td><td>⋯</td><td>0</td><td>1</td><td>0</td><td>1</td><td>0</td><td>2</td><td>1</td><td>0</td><td>0</td><td>1</td></tr>\n",
       "\t<tr><th scope=row>ID_6</th><td>1</td><td>0</td><td>0</td><td>0</td><td>0</td><td>0</td><td>1</td><td>0</td><td>0</td><td>2</td><td>⋯</td><td>0</td><td>0</td><td>2</td><td>0</td><td>0</td><td>0</td><td>1</td><td>1</td><td>0</td><td>1</td></tr>\n",
       "</tbody>\n",
       "</table>\n"
      ],
      "text/latex": [
       "A matrix: 6 × 30 of type int\n",
       "\\begin{tabular}{r|lllllllllllllllllllll}\n",
       "  & SNP\\_1 & SNP\\_2 & SNP\\_3 & SNP\\_4 & SNP\\_5 & SNP\\_6 & SNP\\_7 & SNP\\_8 & SNP\\_9 & SNP\\_10 & ⋯ & SNP\\_21 & SNP\\_22 & SNP\\_23 & SNP\\_24 & SNP\\_25 & SNP\\_26 & SNP\\_27 & SNP\\_28 & SNP\\_29 & SNP\\_30\\\\\n",
       "\\hline\n",
       "\tID\\_1 & 0 & 0 & 1 & 0 & 0 & 0 & 0 & 1 & 0 & 0 & ⋯ & 0 & 2 & 0 & 0 & 1 & 0 & 1 & 0 & 0 & 1\\\\\n",
       "\tID\\_2 & 0 & 1 & 0 & 0 & 0 & 0 & 1 & 0 & 1 & 0 & ⋯ & 0 & 1 & 1 & 0 & 0 & 0 & 1 & 0 & 0 & 0\\\\\n",
       "\tID\\_3 & 0 & 0 & 1 & 0 & 0 & 1 & 0 & 0 & 0 & 2 & ⋯ & 0 & 0 & 1 & 0 & 0 & 0 & 1 & 1 & 0 & 0\\\\\n",
       "\tID\\_4 & 1 & 1 & 1 & 0 & 2 & 0 & 0 & 0 & 0 & 0 & ⋯ & 0 & 1 & 1 & 0 & 0 & 0 & 0 & 0 & 1 & 0\\\\\n",
       "\tID\\_5 & 0 & 0 & 0 & 1 & 0 & 0 & 0 & 0 & 0 & 0 & ⋯ & 0 & 1 & 0 & 1 & 0 & 2 & 1 & 0 & 0 & 1\\\\\n",
       "\tID\\_6 & 1 & 0 & 0 & 0 & 0 & 0 & 1 & 0 & 0 & 2 & ⋯ & 0 & 0 & 2 & 0 & 0 & 0 & 1 & 1 & 0 & 1\\\\\n",
       "\\end{tabular}\n"
      ],
      "text/markdown": [
       "\n",
       "A matrix: 6 × 30 of type int\n",
       "\n",
       "| <!--/--> | SNP_1 | SNP_2 | SNP_3 | SNP_4 | SNP_5 | SNP_6 | SNP_7 | SNP_8 | SNP_9 | SNP_10 | ⋯ | SNP_21 | SNP_22 | SNP_23 | SNP_24 | SNP_25 | SNP_26 | SNP_27 | SNP_28 | SNP_29 | SNP_30 |\n",
       "|---|---|---|---|---|---|---|---|---|---|---|---|---|---|---|---|---|---|---|---|---|---|\n",
       "| ID_1 | 0 | 0 | 1 | 0 | 0 | 0 | 0 | 1 | 0 | 0 | ⋯ | 0 | 2 | 0 | 0 | 1 | 0 | 1 | 0 | 0 | 1 |\n",
       "| ID_2 | 0 | 1 | 0 | 0 | 0 | 0 | 1 | 0 | 1 | 0 | ⋯ | 0 | 1 | 1 | 0 | 0 | 0 | 1 | 0 | 0 | 0 |\n",
       "| ID_3 | 0 | 0 | 1 | 0 | 0 | 1 | 0 | 0 | 0 | 2 | ⋯ | 0 | 0 | 1 | 0 | 0 | 0 | 1 | 1 | 0 | 0 |\n",
       "| ID_4 | 1 | 1 | 1 | 0 | 2 | 0 | 0 | 0 | 0 | 0 | ⋯ | 0 | 1 | 1 | 0 | 0 | 0 | 0 | 0 | 1 | 0 |\n",
       "| ID_5 | 0 | 0 | 0 | 1 | 0 | 0 | 0 | 0 | 0 | 0 | ⋯ | 0 | 1 | 0 | 1 | 0 | 2 | 1 | 0 | 0 | 1 |\n",
       "| ID_6 | 1 | 0 | 0 | 0 | 0 | 0 | 1 | 0 | 0 | 2 | ⋯ | 0 | 0 | 2 | 0 | 0 | 0 | 1 | 1 | 0 | 1 |\n",
       "\n"
      ],
      "text/plain": [
       "     SNP_1 SNP_2 SNP_3 SNP_4 SNP_5 SNP_6 SNP_7 SNP_8 SNP_9 SNP_10 ⋯ SNP_21\n",
       "ID_1 0     0     1     0     0     0     0     1     0     0      ⋯ 0     \n",
       "ID_2 0     1     0     0     0     0     1     0     1     0      ⋯ 0     \n",
       "ID_3 0     0     1     0     0     1     0     0     0     2      ⋯ 0     \n",
       "ID_4 1     1     1     0     2     0     0     0     0     0      ⋯ 0     \n",
       "ID_5 0     0     0     1     0     0     0     0     0     0      ⋯ 0     \n",
       "ID_6 1     0     0     0     0     0     1     0     0     2      ⋯ 0     \n",
       "     SNP_22 SNP_23 SNP_24 SNP_25 SNP_26 SNP_27 SNP_28 SNP_29 SNP_30\n",
       "ID_1 2      0      0      1      0      1      0      0      1     \n",
       "ID_2 1      1      0      0      0      1      0      0      0     \n",
       "ID_3 0      1      0      0      0      1      1      0      0     \n",
       "ID_4 1      1      0      0      0      0      0      1      0     \n",
       "ID_5 1      0      1      0      2      1      0      0      1     \n",
       "ID_6 0      2      0      0      0      1      1      0      1     "
      ]
     },
     "metadata": {},
     "output_type": "display_data"
    }
   ],
   "source": [
    "# this is pretty simple, it just create fake SNP with a given allele frequencies\n",
    "head(genotypes$genotypes)"
   ]
  },
  {
   "cell_type": "code",
   "execution_count": 24,
   "metadata": {},
   "outputs": [
    {
     "data": {
      "text/html": [
       "<table class=\"dataframe\">\n",
       "<caption>A matrix: 10 × 1 of type dbl</caption>\n",
       "<thead>\n",
       "\t<tr><th></th><th scope=col>Trait_1</th></tr>\n",
       "</thead>\n",
       "<tbody>\n",
       "\t<tr><th scope=row>independentEffect1_SNP_3</th><td>-1.2180380</td></tr>\n",
       "\t<tr><th scope=row>independentEffect2_SNP_7</th><td> 1.2355717</td></tr>\n",
       "\t<tr><th scope=row>independentEffect3_SNP_11</th><td> 0.5500125</td></tr>\n",
       "\t<tr><th scope=row>independentEffect4_SNP_14</th><td>-1.2414441</td></tr>\n",
       "\t<tr><th scope=row>independentEffect5_SNP_21</th><td>-1.6153626</td></tr>\n",
       "\t<tr><th scope=row>independentEffect6_SNP_22</th><td>-1.4464035</td></tr>\n",
       "\t<tr><th scope=row>independentEffect7_SNP_25</th><td> 1.0247222</td></tr>\n",
       "\t<tr><th scope=row>independentEffect8_SNP_27</th><td>-0.2788519</td></tr>\n",
       "\t<tr><th scope=row>independentEffect9_SNP_28</th><td>-1.0862980</td></tr>\n",
       "\t<tr><th scope=row>independentEffect10_SNP_30</th><td> 1.5797855</td></tr>\n",
       "</tbody>\n",
       "</table>\n"
      ],
      "text/latex": [
       "A matrix: 10 × 1 of type dbl\n",
       "\\begin{tabular}{r|l}\n",
       "  & Trait\\_1\\\\\n",
       "\\hline\n",
       "\tindependentEffect1\\_SNP\\_3 & -1.2180380\\\\\n",
       "\tindependentEffect2\\_SNP\\_7 &  1.2355717\\\\\n",
       "\tindependentEffect3\\_SNP\\_11 &  0.5500125\\\\\n",
       "\tindependentEffect4\\_SNP\\_14 & -1.2414441\\\\\n",
       "\tindependentEffect5\\_SNP\\_21 & -1.6153626\\\\\n",
       "\tindependentEffect6\\_SNP\\_22 & -1.4464035\\\\\n",
       "\tindependentEffect7\\_SNP\\_25 &  1.0247222\\\\\n",
       "\tindependentEffect8\\_SNP\\_27 & -0.2788519\\\\\n",
       "\tindependentEffect9\\_SNP\\_28 & -1.0862980\\\\\n",
       "\tindependentEffect10\\_SNP\\_30 &  1.5797855\\\\\n",
       "\\end{tabular}\n"
      ],
      "text/markdown": [
       "\n",
       "A matrix: 10 × 1 of type dbl\n",
       "\n",
       "| <!--/--> | Trait_1 |\n",
       "|---|---|\n",
       "| independentEffect1_SNP_3 | -1.2180380 |\n",
       "| independentEffect2_SNP_7 |  1.2355717 |\n",
       "| independentEffect3_SNP_11 |  0.5500125 |\n",
       "| independentEffect4_SNP_14 | -1.2414441 |\n",
       "| independentEffect5_SNP_21 | -1.6153626 |\n",
       "| independentEffect6_SNP_22 | -1.4464035 |\n",
       "| independentEffect7_SNP_25 |  1.0247222 |\n",
       "| independentEffect8_SNP_27 | -0.2788519 |\n",
       "| independentEffect9_SNP_28 | -1.0862980 |\n",
       "| independentEffect10_SNP_30 |  1.5797855 |\n",
       "\n"
      ],
      "text/plain": [
       "                           Trait_1   \n",
       "independentEffect1_SNP_3   -1.2180380\n",
       "independentEffect2_SNP_7    1.2355717\n",
       "independentEffect3_SNP_11   0.5500125\n",
       "independentEffect4_SNP_14  -1.2414441\n",
       "independentEffect5_SNP_21  -1.6153626\n",
       "independentEffect6_SNP_22  -1.4464035\n",
       "independentEffect7_SNP_25   1.0247222\n",
       "independentEffect8_SNP_27  -0.2788519\n",
       "independentEffect9_SNP_28  -1.0862980\n",
       "independentEffect10_SNP_30  1.5797855"
      ]
     },
     "metadata": {},
     "output_type": "display_data"
    }
   ],
   "source": [
    "# then, we can assign (randomly) causal SNP to that matrix\n",
    "# and genetic effects\n",
    "# P = number of traits simulated, in this case only one\n",
    "causalSNPs = getCausalSNPs(N = nsim, genotypes = genotypes$genotypes, \n",
    "    NrCausalSNPs = 10, verbose = FALSE)\n",
    "genFixed <- geneticFixedEffects(N = nsim, P = 1, X_causal = causalSNPs, \n",
    "    pIndependentGenetic = 1) \n",
    "# effects simulated for the causal SNP selected (a fake GWAS)\n",
    "t(genFixed$cov_effect)\n"
   ]
  },
  {
   "cell_type": "code",
   "execution_count": 31,
   "metadata": {},
   "outputs": [
    {
     "data": {
      "text/html": [
       "<table class=\"dataframe\">\n",
       "<caption>A matrix: 1 × 1 of type dbl</caption>\n",
       "<tbody>\n",
       "\t<tr><td>0.08341913</td></tr>\n",
       "</tbody>\n",
       "</table>\n"
      ],
      "text/latex": [
       "A matrix: 1 × 1 of type dbl\n",
       "\\begin{tabular}{l}\n",
       "\t 0.08341913\\\\\n",
       "\\end{tabular}\n"
      ],
      "text/markdown": [
       "\n",
       "A matrix: 1 × 1 of type dbl\n",
       "\n",
       "| 0.08341913 |\n",
       "\n"
      ],
      "text/plain": [
       "     [,1]      \n",
       "[1,] 0.08341913"
      ]
     },
     "metadata": {},
     "output_type": "display_data"
    }
   ],
   "source": [
    "# to simulate the phenotype we need to define other factors\n",
    "# in this case I am just adding noise, but we can add effect of covariates, culture, etc.\n",
    "# I am only using independent effect because we are using only one trait.\n",
    "noiseBg = noiseBgEffects(N = nsim, P = 1, share = FALSE)\n",
    "t(noiseBg$cov_independent)\n"
   ]
  },
  {
   "cell_type": "code",
   "execution_count": 32,
   "metadata": {},
   "outputs": [
    {
     "data": {
      "text/html": [
       "TRUE"
      ],
      "text/latex": [
       "TRUE"
      ],
      "text/markdown": [
       "TRUE"
      ],
      "text/plain": [
       "[1] TRUE"
      ]
     },
     "metadata": {},
     "output_type": "display_data"
    }
   ],
   "source": [
    "# to define the phenotype we set parameters on the variance composition of the phenotype\n",
    "\n",
    "# parameters (pretty simple example)\n",
    "genVar = 0.3 # genetic variability\n",
    "noiseVar <- 1 - genVar # noise variability \n",
    "\n",
    "# rescale phenotype components so that variance composition match parameters above\n",
    "genFixed_independent_scaled = rescaleVariance(genFixed$independent, genVar)\n",
    "noiseBg_independent_scaled <- rescaleVariance(noiseBg$independent, noiseVar)\n",
    "\n",
    "# total variance proportion shave to add up yo 1\n",
    "total <-  noiseVar + genVar\n",
    "total == 1"
   ]
  },
  {
   "cell_type": "code",
   "execution_count": 35,
   "metadata": {},
   "outputs": [
    {
     "data": {
      "text/plain": [
       "    Trait_1       \n",
       " Min.   :-2.1583  \n",
       " 1st Qu.:-0.8123  \n",
       " Median :-0.1425  \n",
       " Mean   :-0.1676  \n",
       " 3rd Qu.: 0.4468  \n",
       " Max.   : 1.9684  "
      ]
     },
     "metadata": {},
     "output_type": "display_data"
    },
    {
     "data": {
      "image/png": "[encoded data removed]",
      "text/plain": [
       "Plot with title “Histogram of Y”"
      ]
     },
     "metadata": {
      "image/png": {
       "height": 420,
       "width": 420
      }
     },
     "output_type": "display_data"
    }
   ],
   "source": [
    "# combine components into final phenotype\n",
    "Y <- genFixed_independent_scaled$component + noiseBg_independent_scaled$component\n",
    "summary(Y)\n",
    "hist(Y)\n"
   ]
  },
  {
   "cell_type": "markdown",
   "metadata": {},
   "source": [
    "# Reproduction?\n",
    "\n",
    "Let's assume individual 30 mates with 40:"
   ]
  },
  {
   "cell_type": "code",
   "execution_count": 40,
   "metadata": {},
   "outputs": [
    {
     "data": {
      "text/html": [
       "<table class=\"dataframe\">\n",
       "<caption>A matrix: 30 × 2 of type int</caption>\n",
       "<thead>\n",
       "\t<tr><th></th><th scope=col>ID_30</th><th scope=col>ID_40</th></tr>\n",
       "</thead>\n",
       "<tbody>\n",
       "\t<tr><th scope=row>SNP_1</th><td>0</td><td>0</td></tr>\n",
       "\t<tr><th scope=row>SNP_2</th><td>2</td><td>2</td></tr>\n",
       "\t<tr><th scope=row>SNP_3</th><td>1</td><td>0</td></tr>\n",
       "\t<tr><th scope=row>SNP_4</th><td>0</td><td>0</td></tr>\n",
       "\t<tr><th scope=row>SNP_5</th><td>0</td><td>0</td></tr>\n",
       "\t<tr><th scope=row>SNP_6</th><td>0</td><td>0</td></tr>\n",
       "\t<tr><th scope=row>SNP_7</th><td>2</td><td>0</td></tr>\n",
       "\t<tr><th scope=row>SNP_8</th><td>0</td><td>0</td></tr>\n",
       "\t<tr><th scope=row>SNP_9</th><td>0</td><td>1</td></tr>\n",
       "\t<tr><th scope=row>SNP_10</th><td>0</td><td>0</td></tr>\n",
       "\t<tr><th scope=row>SNP_11</th><td>1</td><td>0</td></tr>\n",
       "\t<tr><th scope=row>SNP_12</th><td>0</td><td>1</td></tr>\n",
       "\t<tr><th scope=row>SNP_13</th><td>1</td><td>0</td></tr>\n",
       "\t<tr><th scope=row>SNP_14</th><td>0</td><td>1</td></tr>\n",
       "\t<tr><th scope=row>SNP_15</th><td>0</td><td>1</td></tr>\n",
       "\t<tr><th scope=row>SNP_16</th><td>0</td><td>0</td></tr>\n",
       "\t<tr><th scope=row>SNP_17</th><td>1</td><td>0</td></tr>\n",
       "\t<tr><th scope=row>SNP_18</th><td>0</td><td>0</td></tr>\n",
       "\t<tr><th scope=row>SNP_19</th><td>0</td><td>1</td></tr>\n",
       "\t<tr><th scope=row>SNP_20</th><td>0</td><td>0</td></tr>\n",
       "\t<tr><th scope=row>SNP_21</th><td>0</td><td>0</td></tr>\n",
       "\t<tr><th scope=row>SNP_22</th><td>0</td><td>0</td></tr>\n",
       "\t<tr><th scope=row>SNP_23</th><td>0</td><td>0</td></tr>\n",
       "\t<tr><th scope=row>SNP_24</th><td>0</td><td>1</td></tr>\n",
       "\t<tr><th scope=row>SNP_25</th><td>0</td><td>1</td></tr>\n",
       "\t<tr><th scope=row>SNP_26</th><td>0</td><td>0</td></tr>\n",
       "\t<tr><th scope=row>SNP_27</th><td>2</td><td>1</td></tr>\n",
       "\t<tr><th scope=row>SNP_28</th><td>2</td><td>1</td></tr>\n",
       "\t<tr><th scope=row>SNP_29</th><td>0</td><td>1</td></tr>\n",
       "\t<tr><th scope=row>SNP_30</th><td>0</td><td>1</td></tr>\n",
       "</tbody>\n",
       "</table>\n"
      ],
      "text/latex": [
       "A matrix: 30 × 2 of type int\n",
       "\\begin{tabular}{r|ll}\n",
       "  & ID\\_30 & ID\\_40\\\\\n",
       "\\hline\n",
       "\tSNP\\_1 & 0 & 0\\\\\n",
       "\tSNP\\_2 & 2 & 2\\\\\n",
       "\tSNP\\_3 & 1 & 0\\\\\n",
       "\tSNP\\_4 & 0 & 0\\\\\n",
       "\tSNP\\_5 & 0 & 0\\\\\n",
       "\tSNP\\_6 & 0 & 0\\\\\n",
       "\tSNP\\_7 & 2 & 0\\\\\n",
       "\tSNP\\_8 & 0 & 0\\\\\n",
       "\tSNP\\_9 & 0 & 1\\\\\n",
       "\tSNP\\_10 & 0 & 0\\\\\n",
       "\tSNP\\_11 & 1 & 0\\\\\n",
       "\tSNP\\_12 & 0 & 1\\\\\n",
       "\tSNP\\_13 & 1 & 0\\\\\n",
       "\tSNP\\_14 & 0 & 1\\\\\n",
       "\tSNP\\_15 & 0 & 1\\\\\n",
       "\tSNP\\_16 & 0 & 0\\\\\n",
       "\tSNP\\_17 & 1 & 0\\\\\n",
       "\tSNP\\_18 & 0 & 0\\\\\n",
       "\tSNP\\_19 & 0 & 1\\\\\n",
       "\tSNP\\_20 & 0 & 0\\\\\n",
       "\tSNP\\_21 & 0 & 0\\\\\n",
       "\tSNP\\_22 & 0 & 0\\\\\n",
       "\tSNP\\_23 & 0 & 0\\\\\n",
       "\tSNP\\_24 & 0 & 1\\\\\n",
       "\tSNP\\_25 & 0 & 1\\\\\n",
       "\tSNP\\_26 & 0 & 0\\\\\n",
       "\tSNP\\_27 & 2 & 1\\\\\n",
       "\tSNP\\_28 & 2 & 1\\\\\n",
       "\tSNP\\_29 & 0 & 1\\\\\n",
       "\tSNP\\_30 & 0 & 1\\\\\n",
       "\\end{tabular}\n"
      ],
      "text/markdown": [
       "\n",
       "A matrix: 30 × 2 of type int\n",
       "\n",
       "| <!--/--> | ID_30 | ID_40 |\n",
       "|---|---|---|\n",
       "| SNP_1 | 0 | 0 |\n",
       "| SNP_2 | 2 | 2 |\n",
       "| SNP_3 | 1 | 0 |\n",
       "| SNP_4 | 0 | 0 |\n",
       "| SNP_5 | 0 | 0 |\n",
       "| SNP_6 | 0 | 0 |\n",
       "| SNP_7 | 2 | 0 |\n",
       "| SNP_8 | 0 | 0 |\n",
       "| SNP_9 | 0 | 1 |\n",
       "| SNP_10 | 0 | 0 |\n",
       "| SNP_11 | 1 | 0 |\n",
       "| SNP_12 | 0 | 1 |\n",
       "| SNP_13 | 1 | 0 |\n",
       "| SNP_14 | 0 | 1 |\n",
       "| SNP_15 | 0 | 1 |\n",
       "| SNP_16 | 0 | 0 |\n",
       "| SNP_17 | 1 | 0 |\n",
       "| SNP_18 | 0 | 0 |\n",
       "| SNP_19 | 0 | 1 |\n",
       "| SNP_20 | 0 | 0 |\n",
       "| SNP_21 | 0 | 0 |\n",
       "| SNP_22 | 0 | 0 |\n",
       "| SNP_23 | 0 | 0 |\n",
       "| SNP_24 | 0 | 1 |\n",
       "| SNP_25 | 0 | 1 |\n",
       "| SNP_26 | 0 | 0 |\n",
       "| SNP_27 | 2 | 1 |\n",
       "| SNP_28 | 2 | 1 |\n",
       "| SNP_29 | 0 | 1 |\n",
       "| SNP_30 | 0 | 1 |\n",
       "\n"
      ],
      "text/plain": [
       "       ID_30 ID_40\n",
       "SNP_1  0     0    \n",
       "SNP_2  2     2    \n",
       "SNP_3  1     0    \n",
       "SNP_4  0     0    \n",
       "SNP_5  0     0    \n",
       "SNP_6  0     0    \n",
       "SNP_7  2     0    \n",
       "SNP_8  0     0    \n",
       "SNP_9  0     1    \n",
       "SNP_10 0     0    \n",
       "SNP_11 1     0    \n",
       "SNP_12 0     1    \n",
       "SNP_13 1     0    \n",
       "SNP_14 0     1    \n",
       "SNP_15 0     1    \n",
       "SNP_16 0     0    \n",
       "SNP_17 1     0    \n",
       "SNP_18 0     0    \n",
       "SNP_19 0     1    \n",
       "SNP_20 0     0    \n",
       "SNP_21 0     0    \n",
       "SNP_22 0     0    \n",
       "SNP_23 0     0    \n",
       "SNP_24 0     1    \n",
       "SNP_25 0     1    \n",
       "SNP_26 0     0    \n",
       "SNP_27 2     1    \n",
       "SNP_28 2     1    \n",
       "SNP_29 0     1    \n",
       "SNP_30 0     1    "
      ]
     },
     "metadata": {},
     "output_type": "display_data"
    }
   ],
   "source": [
    "# What would be the new genotype info? \n",
    "# A simple mathematical rule?\n",
    "t(genotypes$genotypes[c(30, 40), ])\n"
   ]
  }
 ],
 "metadata": {
  "interpreter": {
   "hash": "e2e428ab9c127afb68bd4bd6fa54439dcad71a6972a08f78f80f785dd2e6f6bf"
  },
  "kernelspec": {
   "display_name": "R",
   "language": "R",
   "name": "ir"
  },
  "language_info": {
   "codemirror_mode": "r",
   "file_extension": ".r",
   "mimetype": "text/x-r-source",
   "name": "R",
   "pygments_lexer": "r",
   "version": "4.1.2"
  },
  "orig_nbformat": 4
 },
 "nbformat": 4,
 "nbformat_minor": 2
}
