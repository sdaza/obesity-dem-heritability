{
 "cells": [
  {
   "cell_type": "markdown",
   "metadata": {},
   "source": [
    "# Simulating phenotypes\n",
    "\n",
    "- Mock example with very small sample size and number of SNPs\n",
    "- Simple example using 2 components (genetic and noise), and bi-allelic SNPs\n",
    "- Frequencies to sample alleles: 0.1, 0.2, 0.3"
   ]
  },
  {
   "cell_type": "code",
   "execution_count": 263,
   "metadata": {},
   "outputs": [],
   "source": [
    "# load libraries\n",
    "library(data.table)\n",
    "library(PhenotypeSimulator)"
   ]
  },
  {
   "cell_type": "code",
   "execution_count": 264,
   "metadata": {},
   "outputs": [
    {
     "data": {
      "text/html": [
       "<style>\n",
       ".list-inline {list-style: none; margin:0; padding: 0}\n",
       ".list-inline>li {display: inline-block}\n",
       ".list-inline>li:not(:last-child)::after {content: \"\\00b7\"; padding: 0 .5ex}\n",
       "</style>\n",
       "<ol class=list-inline><li>'genotypes'</li><li>'freq'</li><li>'id_snps'</li><li>'id_samples'</li></ol>\n"
      ],
      "text/latex": [
       "\\begin{enumerate*}\n",
       "\\item 'genotypes'\n",
       "\\item 'freq'\n",
       "\\item 'id\\_snps'\n",
       "\\item 'id\\_samples'\n",
       "\\end{enumerate*}\n"
      ],
      "text/markdown": [
       "1. 'genotypes'\n",
       "2. 'freq'\n",
       "3. 'id_snps'\n",
       "4. 'id_samples'\n",
       "\n",
       "\n"
      ],
      "text/plain": [
       "[1] \"genotypes\"  \"freq\"       \"id_snps\"    \"id_samples\""
      ]
     },
     "metadata": {},
     "output_type": "display_data"
    }
   ],
   "source": [
    "# simulate simple bi-allelic genotypes \n",
    "# 100 people, 30 SNP\n",
    "# Allele frequencies 0.1, 0.2, 0.3, we need to think about better values for this\n",
    "nsim = 100\n",
    "genotypes = simulateGenotypes(N = nsim, NrSNP = 30, \n",
    "        frequencies = c(0.1, 0.2, 0.3), verbose = FALSE)\n",
    "names(genotypes)"
   ]
  },
  {
   "cell_type": "code",
   "execution_count": 265,
   "metadata": {},
   "outputs": [
    {
     "data": {
      "text/html": [
       "<table class=\"dataframe\">\n",
       "<caption>A matrix: 6 × 30 of type int</caption>\n",
       "<thead>\n",
       "\t<tr><th></th><th scope=col>SNP_1</th><th scope=col>SNP_2</th><th scope=col>SNP_3</th><th scope=col>SNP_4</th><th scope=col>SNP_5</th><th scope=col>SNP_6</th><th scope=col>SNP_7</th><th scope=col>SNP_8</th><th scope=col>SNP_9</th><th scope=col>SNP_10</th><th scope=col>⋯</th><th scope=col>SNP_21</th><th scope=col>SNP_22</th><th scope=col>SNP_23</th><th scope=col>SNP_24</th><th scope=col>SNP_25</th><th scope=col>SNP_26</th><th scope=col>SNP_27</th><th scope=col>SNP_28</th><th scope=col>SNP_29</th><th scope=col>SNP_30</th></tr>\n",
       "</thead>\n",
       "<tbody>\n",
       "\t<tr><th scope=row>ID_1</th><td>0</td><td>0</td><td>0</td><td>0</td><td>0</td><td>0</td><td>0</td><td>0</td><td>0</td><td>0</td><td>⋯</td><td>0</td><td>0</td><td>0</td><td>1</td><td>0</td><td>0</td><td>0</td><td>0</td><td>0</td><td>1</td></tr>\n",
       "\t<tr><th scope=row>ID_2</th><td>1</td><td>0</td><td>1</td><td>0</td><td>0</td><td>1</td><td>0</td><td>0</td><td>0</td><td>0</td><td>⋯</td><td>0</td><td>1</td><td>0</td><td>1</td><td>1</td><td>2</td><td>0</td><td>1</td><td>1</td><td>0</td></tr>\n",
       "\t<tr><th scope=row>ID_3</th><td>1</td><td>1</td><td>1</td><td>0</td><td>0</td><td>1</td><td>0</td><td>0</td><td>0</td><td>0</td><td>⋯</td><td>0</td><td>0</td><td>0</td><td>1</td><td>0</td><td>0</td><td>0</td><td>0</td><td>0</td><td>1</td></tr>\n",
       "\t<tr><th scope=row>ID_4</th><td>1</td><td>1</td><td>2</td><td>0</td><td>0</td><td>2</td><td>2</td><td>1</td><td>0</td><td>0</td><td>⋯</td><td>1</td><td>0</td><td>0</td><td>0</td><td>0</td><td>0</td><td>0</td><td>0</td><td>0</td><td>1</td></tr>\n",
       "\t<tr><th scope=row>ID_5</th><td>0</td><td>0</td><td>0</td><td>0</td><td>1</td><td>1</td><td>1</td><td>0</td><td>0</td><td>0</td><td>⋯</td><td>0</td><td>0</td><td>0</td><td>1</td><td>0</td><td>1</td><td>1</td><td>0</td><td>0</td><td>0</td></tr>\n",
       "\t<tr><th scope=row>ID_6</th><td>2</td><td>1</td><td>1</td><td>0</td><td>1</td><td>1</td><td>0</td><td>0</td><td>0</td><td>0</td><td>⋯</td><td>0</td><td>0</td><td>0</td><td>0</td><td>1</td><td>1</td><td>1</td><td>0</td><td>0</td><td>0</td></tr>\n",
       "</tbody>\n",
       "</table>\n"
      ],
      "text/latex": [
       "A matrix: 6 × 30 of type int\n",
       "\\begin{tabular}{r|lllllllllllllllllllll}\n",
       "  & SNP\\_1 & SNP\\_2 & SNP\\_3 & SNP\\_4 & SNP\\_5 & SNP\\_6 & SNP\\_7 & SNP\\_8 & SNP\\_9 & SNP\\_10 & ⋯ & SNP\\_21 & SNP\\_22 & SNP\\_23 & SNP\\_24 & SNP\\_25 & SNP\\_26 & SNP\\_27 & SNP\\_28 & SNP\\_29 & SNP\\_30\\\\\n",
       "\\hline\n",
       "\tID\\_1 & 0 & 0 & 0 & 0 & 0 & 0 & 0 & 0 & 0 & 0 & ⋯ & 0 & 0 & 0 & 1 & 0 & 0 & 0 & 0 & 0 & 1\\\\\n",
       "\tID\\_2 & 1 & 0 & 1 & 0 & 0 & 1 & 0 & 0 & 0 & 0 & ⋯ & 0 & 1 & 0 & 1 & 1 & 2 & 0 & 1 & 1 & 0\\\\\n",
       "\tID\\_3 & 1 & 1 & 1 & 0 & 0 & 1 & 0 & 0 & 0 & 0 & ⋯ & 0 & 0 & 0 & 1 & 0 & 0 & 0 & 0 & 0 & 1\\\\\n",
       "\tID\\_4 & 1 & 1 & 2 & 0 & 0 & 2 & 2 & 1 & 0 & 0 & ⋯ & 1 & 0 & 0 & 0 & 0 & 0 & 0 & 0 & 0 & 1\\\\\n",
       "\tID\\_5 & 0 & 0 & 0 & 0 & 1 & 1 & 1 & 0 & 0 & 0 & ⋯ & 0 & 0 & 0 & 1 & 0 & 1 & 1 & 0 & 0 & 0\\\\\n",
       "\tID\\_6 & 2 & 1 & 1 & 0 & 1 & 1 & 0 & 0 & 0 & 0 & ⋯ & 0 & 0 & 0 & 0 & 1 & 1 & 1 & 0 & 0 & 0\\\\\n",
       "\\end{tabular}\n"
      ],
      "text/markdown": [
       "\n",
       "A matrix: 6 × 30 of type int\n",
       "\n",
       "| <!--/--> | SNP_1 | SNP_2 | SNP_3 | SNP_4 | SNP_5 | SNP_6 | SNP_7 | SNP_8 | SNP_9 | SNP_10 | ⋯ | SNP_21 | SNP_22 | SNP_23 | SNP_24 | SNP_25 | SNP_26 | SNP_27 | SNP_28 | SNP_29 | SNP_30 |\n",
       "|---|---|---|---|---|---|---|---|---|---|---|---|---|---|---|---|---|---|---|---|---|---|\n",
       "| ID_1 | 0 | 0 | 0 | 0 | 0 | 0 | 0 | 0 | 0 | 0 | ⋯ | 0 | 0 | 0 | 1 | 0 | 0 | 0 | 0 | 0 | 1 |\n",
       "| ID_2 | 1 | 0 | 1 | 0 | 0 | 1 | 0 | 0 | 0 | 0 | ⋯ | 0 | 1 | 0 | 1 | 1 | 2 | 0 | 1 | 1 | 0 |\n",
       "| ID_3 | 1 | 1 | 1 | 0 | 0 | 1 | 0 | 0 | 0 | 0 | ⋯ | 0 | 0 | 0 | 1 | 0 | 0 | 0 | 0 | 0 | 1 |\n",
       "| ID_4 | 1 | 1 | 2 | 0 | 0 | 2 | 2 | 1 | 0 | 0 | ⋯ | 1 | 0 | 0 | 0 | 0 | 0 | 0 | 0 | 0 | 1 |\n",
       "| ID_5 | 0 | 0 | 0 | 0 | 1 | 1 | 1 | 0 | 0 | 0 | ⋯ | 0 | 0 | 0 | 1 | 0 | 1 | 1 | 0 | 0 | 0 |\n",
       "| ID_6 | 2 | 1 | 1 | 0 | 1 | 1 | 0 | 0 | 0 | 0 | ⋯ | 0 | 0 | 0 | 0 | 1 | 1 | 1 | 0 | 0 | 0 |\n",
       "\n"
      ],
      "text/plain": [
       "     SNP_1 SNP_2 SNP_3 SNP_4 SNP_5 SNP_6 SNP_7 SNP_8 SNP_9 SNP_10 ⋯ SNP_21\n",
       "ID_1 0     0     0     0     0     0     0     0     0     0      ⋯ 0     \n",
       "ID_2 1     0     1     0     0     1     0     0     0     0      ⋯ 0     \n",
       "ID_3 1     1     1     0     0     1     0     0     0     0      ⋯ 0     \n",
       "ID_4 1     1     2     0     0     2     2     1     0     0      ⋯ 1     \n",
       "ID_5 0     0     0     0     1     1     1     0     0     0      ⋯ 0     \n",
       "ID_6 2     1     1     0     1     1     0     0     0     0      ⋯ 0     \n",
       "     SNP_22 SNP_23 SNP_24 SNP_25 SNP_26 SNP_27 SNP_28 SNP_29 SNP_30\n",
       "ID_1 0      0      1      0      0      0      0      0      1     \n",
       "ID_2 1      0      1      1      2      0      1      1      0     \n",
       "ID_3 0      0      1      0      0      0      0      0      1     \n",
       "ID_4 0      0      0      0      0      0      0      0      1     \n",
       "ID_5 0      0      1      0      1      1      0      0      0     \n",
       "ID_6 0      0      0      1      1      1      0      0      0     "
      ]
     },
     "metadata": {},
     "output_type": "display_data"
    }
   ],
   "source": [
    "# this is pretty simple, it just create fake SNP with a given allele frequencies\n",
    "head(genotypes$genotypes)"
   ]
  },
  {
   "cell_type": "code",
   "execution_count": 266,
   "metadata": {},
   "outputs": [
    {
     "data": {
      "text/html": [
       "<table class=\"dataframe\">\n",
       "<caption>A matrix: 10 × 1 of type dbl</caption>\n",
       "<thead>\n",
       "\t<tr><th></th><th scope=col>Trait_1</th></tr>\n",
       "</thead>\n",
       "<tbody>\n",
       "\t<tr><th scope=row>independentEffect1_SNP_2</th><td> 2.51263847</td></tr>\n",
       "\t<tr><th scope=row>independentEffect2_SNP_4</th><td> 0.17965633</td></tr>\n",
       "\t<tr><th scope=row>independentEffect3_SNP_5</th><td>-0.54696725</td></tr>\n",
       "\t<tr><th scope=row>independentEffect4_SNP_8</th><td> 0.12497527</td></tr>\n",
       "\t<tr><th scope=row>independentEffect5_SNP_9</th><td>-0.60206605</td></tr>\n",
       "\t<tr><th scope=row>independentEffect6_SNP_12</th><td>-0.05686761</td></tr>\n",
       "\t<tr><th scope=row>independentEffect7_SNP_14</th><td> 0.10039204</td></tr>\n",
       "\t<tr><th scope=row>independentEffect8_SNP_18</th><td>-1.62474934</td></tr>\n",
       "\t<tr><th scope=row>independentEffect9_SNP_20</th><td>-0.74297686</td></tr>\n",
       "\t<tr><th scope=row>independentEffect10_SNP_29</th><td>-0.99985231</td></tr>\n",
       "</tbody>\n",
       "</table>\n"
      ],
      "text/latex": [
       "A matrix: 10 × 1 of type dbl\n",
       "\\begin{tabular}{r|l}\n",
       "  & Trait\\_1\\\\\n",
       "\\hline\n",
       "\tindependentEffect1\\_SNP\\_2 &  2.51263847\\\\\n",
       "\tindependentEffect2\\_SNP\\_4 &  0.17965633\\\\\n",
       "\tindependentEffect3\\_SNP\\_5 & -0.54696725\\\\\n",
       "\tindependentEffect4\\_SNP\\_8 &  0.12497527\\\\\n",
       "\tindependentEffect5\\_SNP\\_9 & -0.60206605\\\\\n",
       "\tindependentEffect6\\_SNP\\_12 & -0.05686761\\\\\n",
       "\tindependentEffect7\\_SNP\\_14 &  0.10039204\\\\\n",
       "\tindependentEffect8\\_SNP\\_18 & -1.62474934\\\\\n",
       "\tindependentEffect9\\_SNP\\_20 & -0.74297686\\\\\n",
       "\tindependentEffect10\\_SNP\\_29 & -0.99985231\\\\\n",
       "\\end{tabular}\n"
      ],
      "text/markdown": [
       "\n",
       "A matrix: 10 × 1 of type dbl\n",
       "\n",
       "| <!--/--> | Trait_1 |\n",
       "|---|---|\n",
       "| independentEffect1_SNP_2 |  2.51263847 |\n",
       "| independentEffect2_SNP_4 |  0.17965633 |\n",
       "| independentEffect3_SNP_5 | -0.54696725 |\n",
       "| independentEffect4_SNP_8 |  0.12497527 |\n",
       "| independentEffect5_SNP_9 | -0.60206605 |\n",
       "| independentEffect6_SNP_12 | -0.05686761 |\n",
       "| independentEffect7_SNP_14 |  0.10039204 |\n",
       "| independentEffect8_SNP_18 | -1.62474934 |\n",
       "| independentEffect9_SNP_20 | -0.74297686 |\n",
       "| independentEffect10_SNP_29 | -0.99985231 |\n",
       "\n"
      ],
      "text/plain": [
       "                           Trait_1    \n",
       "independentEffect1_SNP_2    2.51263847\n",
       "independentEffect2_SNP_4    0.17965633\n",
       "independentEffect3_SNP_5   -0.54696725\n",
       "independentEffect4_SNP_8    0.12497527\n",
       "independentEffect5_SNP_9   -0.60206605\n",
       "independentEffect6_SNP_12  -0.05686761\n",
       "independentEffect7_SNP_14   0.10039204\n",
       "independentEffect8_SNP_18  -1.62474934\n",
       "independentEffect9_SNP_20  -0.74297686\n",
       "independentEffect10_SNP_29 -0.99985231"
      ]
     },
     "metadata": {},
     "output_type": "display_data"
    }
   ],
   "source": [
    "# then, we can assign (randomly) causal SNP to that matrix\n",
    "# and genetic effects\n",
    "# P = number of traits simulated, in this case only one\n",
    "causalSNPs = getCausalSNPs(N = nsim, genotypes = genotypes$genotypes, \n",
    "    NrCausalSNPs = 10, verbose = FALSE)\n",
    "genFixed <- geneticFixedEffects(N = nsim, P = 1, X_causal = causalSNPs, \n",
    "    pIndependentGenetic = 1) \n",
    "# effects simulated for the causal SNP selected (a fake GWAS)\n",
    "t(genFixed$cov_effect)\n"
   ]
  },
  {
   "cell_type": "code",
   "execution_count": 267,
   "metadata": {},
   "outputs": [
    {
     "data": {
      "text/html": [
       "<table class=\"dataframe\">\n",
       "<caption>A matrix: 1 × 1 of type dbl</caption>\n",
       "<tbody>\n",
       "\t<tr><td>1.275785</td></tr>\n",
       "</tbody>\n",
       "</table>\n"
      ],
      "text/latex": [
       "A matrix: 1 × 1 of type dbl\n",
       "\\begin{tabular}{l}\n",
       "\t 1.275785\\\\\n",
       "\\end{tabular}\n"
      ],
      "text/markdown": [
       "\n",
       "A matrix: 1 × 1 of type dbl\n",
       "\n",
       "| 1.275785 |\n",
       "\n"
      ],
      "text/plain": [
       "     [,1]    \n",
       "[1,] 1.275785"
      ]
     },
     "metadata": {},
     "output_type": "display_data"
    }
   ],
   "source": [
    "# to simulate the phenotype we need to define other factors\n",
    "# in this case I am just adding noise, but we can add effect of covariates, culture, etc.\n",
    "# I am only using independent effect because we are using only one trait.\n",
    "noiseBg = noiseBgEffects(N = nsim, P = 1, share = FALSE)\n",
    "t(noiseBg$cov_independent)\n"
   ]
  },
  {
   "cell_type": "code",
   "execution_count": 268,
   "metadata": {},
   "outputs": [
    {
     "data": {
      "text/html": [
       "TRUE"
      ],
      "text/latex": [
       "TRUE"
      ],
      "text/markdown": [
       "TRUE"
      ],
      "text/plain": [
       "[1] TRUE"
      ]
     },
     "metadata": {},
     "output_type": "display_data"
    }
   ],
   "source": [
    "# to define the phenotype we set parameters on the variance composition of the phenotype\n",
    "\n",
    "# parameters (pretty simple example)\n",
    "genVar = 0.3 # genetic variability\n",
    "noiseVar <- 1 - genVar # noise variability \n",
    "\n",
    "# rescale phenotype components so that variance composition match parameters above\n",
    "genFixed_independent_scaled = rescaleVariance(genFixed$independent, genVar)\n",
    "noiseBg_independent_scaled <- rescaleVariance(noiseBg$independent, noiseVar)\n",
    "\n",
    "# total variance proportion shave to add up yo 1\n",
    "total <-  noiseVar + genVar\n",
    "total == 1"
   ]
  },
  {
   "cell_type": "code",
   "execution_count": 269,
   "metadata": {},
   "outputs": [
    {
     "data": {
      "text/html": [
       "<style>\n",
       ".list-inline {list-style: none; margin:0; padding: 0}\n",
       ".list-inline>li {display: inline-block}\n",
       ".list-inline>li:not(:last-child)::after {content: \"\\00b7\"; padding: 0 .5ex}\n",
       "</style>\n",
       "<ol class=list-inline><li>0.90780968793516</li><li>-1.75643583455595</li></ol>\n"
      ],
      "text/latex": [
       "\\begin{enumerate*}\n",
       "\\item 0.90780968793516\n",
       "\\item -1.75643583455595\n",
       "\\end{enumerate*}\n"
      ],
      "text/markdown": [
       "1. 0.90780968793516\n",
       "2. -1.75643583455595\n",
       "\n",
       "\n"
      ],
      "text/plain": [
       "[1]  0.9078097 -1.7564358"
      ]
     },
     "metadata": {},
     "output_type": "display_data"
    },
    {
     "data": {
      "text/html": [
       "<style>\n",
       ".list-inline {list-style: none; margin:0; padding: 0}\n",
       ".list-inline>li {display: inline-block}\n",
       ".list-inline>li:not(:last-child)::after {content: \"\\00b7\"; padding: 0 .5ex}\n",
       "</style>\n",
       "<ol class=list-inline><li>1.23146638318533</li><li>-2.38264882301213</li></ol>\n"
      ],
      "text/latex": [
       "\\begin{enumerate*}\n",
       "\\item 1.23146638318533\n",
       "\\item -2.38264882301213\n",
       "\\end{enumerate*}\n"
      ],
      "text/markdown": [
       "1. 1.23146638318533\n",
       "2. -2.38264882301213\n",
       "\n",
       "\n"
      ],
      "text/plain": [
       "[1]  1.231466 -2.382649"
      ]
     },
     "metadata": {},
     "output_type": "display_data"
    }
   ],
   "source": [
    "noiseBg_independent_scaled$component[c(30, 40)]\n",
    "noiseBg$independent[c(30, 40)]"
   ]
  },
  {
   "cell_type": "code",
   "execution_count": 270,
   "metadata": {},
   "outputs": [
    {
     "data": {
      "text/html": [
       "<style>\n",
       ".list-inline {list-style: none; margin:0; padding: 0}\n",
       ".list-inline>li {display: inline-block}\n",
       ".list-inline>li:not(:last-child)::after {content: \"\\00b7\"; padding: 0 .5ex}\n",
       "</style>\n",
       "<ol class=list-inline><li>-0.323179458767485</li><li>0.133707745015455</li></ol>\n"
      ],
      "text/latex": [
       "\\begin{enumerate*}\n",
       "\\item -0.323179458767485\n",
       "\\item 0.133707745015455\n",
       "\\end{enumerate*}\n"
      ],
      "text/markdown": [
       "1. -0.323179458767485\n",
       "2. 0.133707745015455\n",
       "\n",
       "\n"
      ],
      "text/plain": [
       "[1] -0.3231795  0.1337077"
      ]
     },
     "metadata": {},
     "output_type": "display_data"
    },
    {
     "data": {
      "text/html": [
       "<style>\n",
       ".list-inline {list-style: none; margin:0; padding: 0}\n",
       ".list-inline>li {display: inline-block}\n",
       ".list-inline>li:not(:last-child)::after {content: \"\\00b7\"; padding: 0 .5ex}\n",
       "</style>\n",
       "<ol class=list-inline><li>-1.14903330383988</li><li>0.475384953579684</li></ol>\n"
      ],
      "text/latex": [
       "\\begin{enumerate*}\n",
       "\\item -1.14903330383988\n",
       "\\item 0.475384953579684\n",
       "\\end{enumerate*}\n"
      ],
      "text/markdown": [
       "1. -1.14903330383988\n",
       "2. 0.475384953579684\n",
       "\n",
       "\n"
      ],
      "text/plain": [
       "[1] -1.149033  0.475385"
      ]
     },
     "metadata": {},
     "output_type": "display_data"
    }
   ],
   "source": [
    "genFixed_independent_scaled$component[c(30, 40)]\n",
    "genFixed$independent[c(30, 40)]"
   ]
  },
  {
   "cell_type": "code",
   "execution_count": 271,
   "metadata": {},
   "outputs": [
    {
     "data": {
      "text/plain": [
       "    Trait_1         \n",
       " Min.   :-2.272308  \n",
       " 1st Qu.:-0.507009  \n",
       " Median :-0.001182  \n",
       " Mean   : 0.093612  \n",
       " 3rd Qu.: 0.636727  \n",
       " Max.   : 2.269225  "
      ]
     },
     "metadata": {},
     "output_type": "display_data"
    },
    {
     "data": {
      "image/png": "[encoded data removed]",
      "text/plain": [
       "Plot with title “Histogram of Y”"
      ]
     },
     "metadata": {
      "image/png": {
       "height": 420,
       "width": 420
      }
     },
     "output_type": "display_data"
    }
   ],
   "source": [
    "# combine components into final phenotype\n",
    "Y <- genFixed_independent_scaled$component + noiseBg_independent_scaled$component\n",
    "summary(Y)\n",
    "hist(Y)\n"
   ]
  },
  {
   "cell_type": "markdown",
   "metadata": {},
   "source": [
    "# Reproduction?\n",
    "\n",
    "Let's assume individual 30 mates 40:"
   ]
  },
  {
   "cell_type": "code",
   "execution_count": 272,
   "metadata": {},
   "outputs": [
    {
     "data": {
      "text/html": [
       "<table class=\"dataframe\">\n",
       "<caption>A data.table: 30 × 2</caption>\n",
       "<thead>\n",
       "\t<tr><th></th><th scope=col>ID_30</th><th scope=col>ID_40</th></tr>\n",
       "\t<tr><th></th><th scope=col>&lt;int&gt;</th><th scope=col>&lt;int&gt;</th></tr>\n",
       "</thead>\n",
       "<tbody>\n",
       "\t<tr><th scope=row>SNP_1</th><td>0</td><td>0</td></tr>\n",
       "\t<tr><th scope=row>SNP_2</th><td>0</td><td>1</td></tr>\n",
       "\t<tr><th scope=row>SNP_3</th><td>0</td><td>2</td></tr>\n",
       "\t<tr><th scope=row>SNP_4</th><td>0</td><td>0</td></tr>\n",
       "\t<tr><th scope=row>SNP_5</th><td>1</td><td>1</td></tr>\n",
       "\t<tr><th scope=row>SNP_6</th><td>0</td><td>0</td></tr>\n",
       "\t<tr><th scope=row>SNP_7</th><td>0</td><td>2</td></tr>\n",
       "\t<tr><th scope=row>SNP_8</th><td>0</td><td>1</td></tr>\n",
       "\t<tr><th scope=row>SNP_9</th><td>1</td><td>1</td></tr>\n",
       "\t<tr><th scope=row>SNP_10</th><td>0</td><td>0</td></tr>\n",
       "\t<tr><th scope=row>SNP_11</th><td>1</td><td>0</td></tr>\n",
       "\t<tr><th scope=row>SNP_12</th><td>0</td><td>2</td></tr>\n",
       "\t<tr><th scope=row>SNP_13</th><td>1</td><td>0</td></tr>\n",
       "\t<tr><th scope=row>SNP_14</th><td>0</td><td>1</td></tr>\n",
       "\t<tr><th scope=row>SNP_15</th><td>1</td><td>0</td></tr>\n",
       "\t<tr><th scope=row>SNP_16</th><td>0</td><td>0</td></tr>\n",
       "\t<tr><th scope=row>SNP_17</th><td>0</td><td>0</td></tr>\n",
       "\t<tr><th scope=row>SNP_18</th><td>0</td><td>0</td></tr>\n",
       "\t<tr><th scope=row>SNP_19</th><td>0</td><td>1</td></tr>\n",
       "\t<tr><th scope=row>SNP_20</th><td>0</td><td>0</td></tr>\n",
       "\t<tr><th scope=row>SNP_21</th><td>0</td><td>0</td></tr>\n",
       "\t<tr><th scope=row>SNP_22</th><td>0</td><td>0</td></tr>\n",
       "\t<tr><th scope=row>SNP_23</th><td>0</td><td>0</td></tr>\n",
       "\t<tr><th scope=row>SNP_24</th><td>0</td><td>0</td></tr>\n",
       "\t<tr><th scope=row>SNP_25</th><td>0</td><td>0</td></tr>\n",
       "\t<tr><th scope=row>SNP_26</th><td>1</td><td>1</td></tr>\n",
       "\t<tr><th scope=row>SNP_27</th><td>0</td><td>0</td></tr>\n",
       "\t<tr><th scope=row>SNP_28</th><td>0</td><td>1</td></tr>\n",
       "\t<tr><th scope=row>SNP_29</th><td>0</td><td>1</td></tr>\n",
       "\t<tr><th scope=row>SNP_30</th><td>0</td><td>1</td></tr>\n",
       "</tbody>\n",
       "</table>\n"
      ],
      "text/latex": [
       "A data.table: 30 × 2\n",
       "\\begin{tabular}{r|ll}\n",
       "  & ID\\_30 & ID\\_40\\\\\n",
       "  & <int> & <int>\\\\\n",
       "\\hline\n",
       "\tSNP\\_1 & 0 & 0\\\\\n",
       "\tSNP\\_2 & 0 & 1\\\\\n",
       "\tSNP\\_3 & 0 & 2\\\\\n",
       "\tSNP\\_4 & 0 & 0\\\\\n",
       "\tSNP\\_5 & 1 & 1\\\\\n",
       "\tSNP\\_6 & 0 & 0\\\\\n",
       "\tSNP\\_7 & 0 & 2\\\\\n",
       "\tSNP\\_8 & 0 & 1\\\\\n",
       "\tSNP\\_9 & 1 & 1\\\\\n",
       "\tSNP\\_10 & 0 & 0\\\\\n",
       "\tSNP\\_11 & 1 & 0\\\\\n",
       "\tSNP\\_12 & 0 & 2\\\\\n",
       "\tSNP\\_13 & 1 & 0\\\\\n",
       "\tSNP\\_14 & 0 & 1\\\\\n",
       "\tSNP\\_15 & 1 & 0\\\\\n",
       "\tSNP\\_16 & 0 & 0\\\\\n",
       "\tSNP\\_17 & 0 & 0\\\\\n",
       "\tSNP\\_18 & 0 & 0\\\\\n",
       "\tSNP\\_19 & 0 & 1\\\\\n",
       "\tSNP\\_20 & 0 & 0\\\\\n",
       "\tSNP\\_21 & 0 & 0\\\\\n",
       "\tSNP\\_22 & 0 & 0\\\\\n",
       "\tSNP\\_23 & 0 & 0\\\\\n",
       "\tSNP\\_24 & 0 & 0\\\\\n",
       "\tSNP\\_25 & 0 & 0\\\\\n",
       "\tSNP\\_26 & 1 & 1\\\\\n",
       "\tSNP\\_27 & 0 & 0\\\\\n",
       "\tSNP\\_28 & 0 & 1\\\\\n",
       "\tSNP\\_29 & 0 & 1\\\\\n",
       "\tSNP\\_30 & 0 & 1\\\\\n",
       "\\end{tabular}\n"
      ],
      "text/markdown": [
       "\n",
       "A data.table: 30 × 2\n",
       "\n",
       "| <!--/--> | ID_30 &lt;int&gt; | ID_40 &lt;int&gt; |\n",
       "|---|---|---|\n",
       "| SNP_1 | 0 | 0 |\n",
       "| SNP_2 | 0 | 1 |\n",
       "| SNP_3 | 0 | 2 |\n",
       "| SNP_4 | 0 | 0 |\n",
       "| SNP_5 | 1 | 1 |\n",
       "| SNP_6 | 0 | 0 |\n",
       "| SNP_7 | 0 | 2 |\n",
       "| SNP_8 | 0 | 1 |\n",
       "| SNP_9 | 1 | 1 |\n",
       "| SNP_10 | 0 | 0 |\n",
       "| SNP_11 | 1 | 0 |\n",
       "| SNP_12 | 0 | 2 |\n",
       "| SNP_13 | 1 | 0 |\n",
       "| SNP_14 | 0 | 1 |\n",
       "| SNP_15 | 1 | 0 |\n",
       "| SNP_16 | 0 | 0 |\n",
       "| SNP_17 | 0 | 0 |\n",
       "| SNP_18 | 0 | 0 |\n",
       "| SNP_19 | 0 | 1 |\n",
       "| SNP_20 | 0 | 0 |\n",
       "| SNP_21 | 0 | 0 |\n",
       "| SNP_22 | 0 | 0 |\n",
       "| SNP_23 | 0 | 0 |\n",
       "| SNP_24 | 0 | 0 |\n",
       "| SNP_25 | 0 | 0 |\n",
       "| SNP_26 | 1 | 1 |\n",
       "| SNP_27 | 0 | 0 |\n",
       "| SNP_28 | 0 | 1 |\n",
       "| SNP_29 | 0 | 1 |\n",
       "| SNP_30 | 0 | 1 |\n",
       "\n"
      ],
      "text/plain": [
       "   ID_30 ID_40\n",
       "1  0     0    \n",
       "2  0     1    \n",
       "3  0     2    \n",
       "4  0     0    \n",
       "5  1     1    \n",
       "6  0     0    \n",
       "7  0     2    \n",
       "8  0     1    \n",
       "9  1     1    \n",
       "10 0     0    \n",
       "11 1     0    \n",
       "12 0     2    \n",
       "13 1     0    \n",
       "14 0     1    \n",
       "15 1     0    \n",
       "16 0     0    \n",
       "17 0     0    \n",
       "18 0     0    \n",
       "19 0     1    \n",
       "20 0     0    \n",
       "21 0     0    \n",
       "22 0     0    \n",
       "23 0     0    \n",
       "24 0     0    \n",
       "25 0     0    \n",
       "26 1     1    \n",
       "27 0     0    \n",
       "28 0     1    \n",
       "29 0     1    \n",
       "30 0     1    "
      ]
     },
     "metadata": {},
     "output_type": "display_data"
    }
   ],
   "source": [
    "# What would be the new genotype info? \n",
    "# A simple mathematical rule?\n",
    "snps = colnames(genotypes$genotypes)\n",
    "couple = data.table(t(genotypes$genotypes[c(30, 40), ]))\n",
    "rownames(couple) = snps\n",
    "couple"
   ]
  },
  {
   "cell_type": "code",
   "execution_count": 273,
   "metadata": {},
   "outputs": [
    {
     "data": {
      "text/html": [
       "<table class=\"dataframe\">\n",
       "<caption>A matrix: 6 × 3 of type dbl</caption>\n",
       "<thead>\n",
       "\t<tr><th></th><th scope=col>0</th><th scope=col>1</th><th scope=col>2</th></tr>\n",
       "</thead>\n",
       "<tbody>\n",
       "\t<tr><th scope=row>00</th><td>1.00</td><td>0.0</td><td>0.00</td></tr>\n",
       "\t<tr><th scope=row>01</th><td>0.50</td><td>0.5</td><td>0.00</td></tr>\n",
       "\t<tr><th scope=row>02</th><td>0.00</td><td>1.0</td><td>0.00</td></tr>\n",
       "\t<tr><th scope=row>11</th><td>0.25</td><td>0.5</td><td>0.25</td></tr>\n",
       "\t<tr><th scope=row>12</th><td>0.00</td><td>0.5</td><td>0.50</td></tr>\n",
       "\t<tr><th scope=row>22</th><td>0.00</td><td>0.0</td><td>1.00</td></tr>\n",
       "</tbody>\n",
       "</table>\n"
      ],
      "text/latex": [
       "A matrix: 6 × 3 of type dbl\n",
       "\\begin{tabular}{r|lll}\n",
       "  & 0 & 1 & 2\\\\\n",
       "\\hline\n",
       "\t00 & 1.00 & 0.0 & 0.00\\\\\n",
       "\t01 & 0.50 & 0.5 & 0.00\\\\\n",
       "\t02 & 0.00 & 1.0 & 0.00\\\\\n",
       "\t11 & 0.25 & 0.5 & 0.25\\\\\n",
       "\t12 & 0.00 & 0.5 & 0.50\\\\\n",
       "\t22 & 0.00 & 0.0 & 1.00\\\\\n",
       "\\end{tabular}\n"
      ],
      "text/markdown": [
       "\n",
       "A matrix: 6 × 3 of type dbl\n",
       "\n",
       "| <!--/--> | 0 | 1 | 2 |\n",
       "|---|---|---|---|\n",
       "| 00 | 1.00 | 0.0 | 0.00 |\n",
       "| 01 | 0.50 | 0.5 | 0.00 |\n",
       "| 02 | 0.00 | 1.0 | 0.00 |\n",
       "| 11 | 0.25 | 0.5 | 0.25 |\n",
       "| 12 | 0.00 | 0.5 | 0.50 |\n",
       "| 22 | 0.00 | 0.0 | 1.00 |\n",
       "\n"
      ],
      "text/plain": [
       "   0    1   2   \n",
       "00 1.00 0.0 0.00\n",
       "01 0.50 0.5 0.00\n",
       "02 0.00 1.0 0.00\n",
       "11 0.25 0.5 0.25\n",
       "12 0.00 0.5 0.50\n",
       "22 0.00 0.0 1.00"
      ]
     },
     "metadata": {},
     "output_type": "display_data"
    }
   ],
   "source": [
    "# mendelian rules\n",
    "m = matrix(c(1, 0, 0, 0.5, 0.5, 0, 0, 1, 0, 0.25, 0.50, 0.25, 0, 0.50, 0.5, 0, 0, 1), \n",
    "    nrow = 6, ncol = 3, byrow  = TRUE\n",
    ") \n",
    "colnames(m) = c(0, 1, 2)\n",
    "rownames(m) = c(\"00\", \"01\", \"02\", \"11\", \"12\", \"22\")\n",
    "m"
   ]
  },
  {
   "cell_type": "code",
   "execution_count": 274,
   "metadata": {},
   "outputs": [],
   "source": [
    "# function to get offspring genotype\n",
    "getGenotype = function(father, mother, matrix) {\n",
    "    comba = paste0(father, mother, collapse = \"\")\n",
    "    combb = paste0(mother, father, collapse = \"\")\n",
    "    s = grep(paste0(comba, \"|\", combb), rownames(matrix))\n",
    "    prob = as.vector(matrix[s, ])\n",
    "    return(sample(0:2, size = 1, prob = prob))\n",
    "}\n",
    "\n",
    "# getGenotype(2, 2, m)"
   ]
  },
  {
   "cell_type": "code",
   "execution_count": 279,
   "metadata": {},
   "outputs": [
    {
     "data": {
      "text/html": [
       "<table class=\"dataframe\">\n",
       "<caption>A data.table: 6 × 4</caption>\n",
       "<thead>\n",
       "\t<tr><th scope=col>ID_30</th><th scope=col>ID_40</th><th scope=col>ID_NEW</th><th scope=col>SNP_ID</th></tr>\n",
       "\t<tr><th scope=col>&lt;int&gt;</th><th scope=col>&lt;int&gt;</th><th scope=col>&lt;int&gt;</th><th scope=col>&lt;chr&gt;</th></tr>\n",
       "</thead>\n",
       "<tbody>\n",
       "\t<tr><td>0</td><td>0</td><td>0</td><td>SNP_1</td></tr>\n",
       "\t<tr><td>0</td><td>1</td><td>0</td><td>SNP_2</td></tr>\n",
       "\t<tr><td>0</td><td>2</td><td>1</td><td>SNP_3</td></tr>\n",
       "\t<tr><td>0</td><td>0</td><td>0</td><td>SNP_4</td></tr>\n",
       "\t<tr><td>1</td><td>1</td><td>1</td><td>SNP_5</td></tr>\n",
       "\t<tr><td>0</td><td>0</td><td>0</td><td>SNP_6</td></tr>\n",
       "</tbody>\n",
       "</table>\n"
      ],
      "text/latex": [
       "A data.table: 6 × 4\n",
       "\\begin{tabular}{llll}\n",
       " ID\\_30 & ID\\_40 & ID\\_NEW & SNP\\_ID\\\\\n",
       " <int> & <int> & <int> & <chr>\\\\\n",
       "\\hline\n",
       "\t 0 & 0 & 0 & SNP\\_1\\\\\n",
       "\t 0 & 1 & 0 & SNP\\_2\\\\\n",
       "\t 0 & 2 & 1 & SNP\\_3\\\\\n",
       "\t 0 & 0 & 0 & SNP\\_4\\\\\n",
       "\t 1 & 1 & 1 & SNP\\_5\\\\\n",
       "\t 0 & 0 & 0 & SNP\\_6\\\\\n",
       "\\end{tabular}\n"
      ],
      "text/markdown": [
       "\n",
       "A data.table: 6 × 4\n",
       "\n",
       "| ID_30 &lt;int&gt; | ID_40 &lt;int&gt; | ID_NEW &lt;int&gt; | SNP_ID &lt;chr&gt; |\n",
       "|---|---|---|---|\n",
       "| 0 | 0 | 0 | SNP_1 |\n",
       "| 0 | 1 | 0 | SNP_2 |\n",
       "| 0 | 2 | 1 | SNP_3 |\n",
       "| 0 | 0 | 0 | SNP_4 |\n",
       "| 1 | 1 | 1 | SNP_5 |\n",
       "| 0 | 0 | 0 | SNP_6 |\n",
       "\n"
      ],
      "text/plain": [
       "  ID_30 ID_40 ID_NEW SNP_ID\n",
       "1 0     0     0      SNP_1 \n",
       "2 0     1     0      SNP_2 \n",
       "3 0     2     1      SNP_3 \n",
       "4 0     0     0      SNP_4 \n",
       "5 1     1     1      SNP_5 \n",
       "6 0     0     0      SNP_6 "
      ]
     },
     "metadata": {},
     "output_type": "display_data"
    }
   ],
   "source": [
    "couple[, ID_NEW := getGenotype(ID_30, ID_40, m), by = seq_len(nrow(couple))]\n",
    "couple[, SNP_ID := rownames(couple)]\n",
    "head(couple)"
   ]
  },
  {
   "cell_type": "code",
   "execution_count": 280,
   "metadata": {},
   "outputs": [],
   "source": [
    "# compute phenotype\n",
    "genV = matrix(couple[SNP_ID %in% colnames(causalSNPs), ID_NEW], byrow = TRUE, nrow = 1, 10) %*% t(genFixed$cov_effect)\n",
    "noiseV = rnorm(1, mean = 0, sd = 1)"
   ]
  },
  {
   "cell_type": "code",
   "execution_count": 281,
   "metadata": {},
   "outputs": [
    {
     "data": {
      "text/html": [
       "<table class=\"dataframe\">\n",
       "<caption>A matrix: 1 × 1 of type dbl</caption>\n",
       "<thead>\n",
       "\t<tr><th scope=col>Trait_1</th></tr>\n",
       "</thead>\n",
       "<tbody>\n",
       "\t<tr><td>0.6580801</td></tr>\n",
       "</tbody>\n",
       "</table>\n"
      ],
      "text/latex": [
       "A matrix: 1 × 1 of type dbl\n",
       "\\begin{tabular}{l}\n",
       " Trait\\_1\\\\\n",
       "\\hline\n",
       "\t 0.6580801\\\\\n",
       "\\end{tabular}\n"
      ],
      "text/markdown": [
       "\n",
       "A matrix: 1 × 1 of type dbl\n",
       "\n",
       "| Trait_1 |\n",
       "|---|\n",
       "| 0.6580801 |\n",
       "\n"
      ],
      "text/plain": [
       "     Trait_1  \n",
       "[1,] 0.6580801"
      ]
     },
     "metadata": {},
     "output_type": "display_data"
    }
   ],
   "source": [
    "newY <- genV * genVar + noiseV * (1-genVar)\n",
    "newY"
   ]
  },
  {
   "cell_type": "code",
   "execution_count": 282,
   "metadata": {},
   "outputs": [
    {
     "data": {
      "text/html": [
       "<style>\n",
       ".list-inline {list-style: none; margin:0; padding: 0}\n",
       ".list-inline>li {display: inline-block}\n",
       ".list-inline>li:not(:last-child)::after {content: \"\\00b7\"; padding: 0 .5ex}\n",
       "</style>\n",
       "<ol class=list-inline><li>0.584630229167674</li><li>-1.62272808954049</li></ol>\n"
      ],
      "text/latex": [
       "\\begin{enumerate*}\n",
       "\\item 0.584630229167674\n",
       "\\item -1.62272808954049\n",
       "\\end{enumerate*}\n"
      ],
      "text/markdown": [
       "1. 0.584630229167674\n",
       "2. -1.62272808954049\n",
       "\n",
       "\n"
      ],
      "text/plain": [
       "[1]  0.5846302 -1.6227281"
      ]
     },
     "metadata": {},
     "output_type": "display_data"
    }
   ],
   "source": [
    "# parents phenotype\n",
    "Y[c(30, 40)]"
   ]
  }
 ],
 "metadata": {
  "interpreter": {
   "hash": "e2e428ab9c127afb68bd4bd6fa54439dcad71a6972a08f78f80f785dd2e6f6bf"
  },
  "kernelspec": {
   "display_name": "R",
   "language": "R",
   "name": "ir"
  },
  "language_info": {
   "codemirror_mode": "r",
   "file_extension": ".r",
   "mimetype": "text/x-r-source",
   "name": "R",
   "pygments_lexer": "r",
   "version": "4.1.2"
  },
  "orig_nbformat": 4
 },
 "nbformat": 4,
 "nbformat_minor": 2
}
