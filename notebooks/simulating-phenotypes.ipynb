{
 "cells": [
  {
   "cell_type": "markdown",
   "metadata": {},
   "source": [
    "# Simulating phenotypes\n",
    "\n",
    "- Mock example with very small sample size and number of SNPs\n",
    "- Simple example using 2 components (genetic and noise), and bi-allelic SNPs\n",
    "- Frequencies to sample alleles: 0.1, 0.2, 0.3"
   ]
  },
  {
   "cell_type": "code",
   "execution_count": 168,
   "metadata": {},
   "outputs": [],
   "source": [
    "# load libraries\n",
    "library(data.table)\n",
    "library(PhenotypeSimulator)"
   ]
  },
  {
   "cell_type": "code",
   "execution_count": 344,
   "metadata": {},
   "outputs": [],
   "source": [
    "# simulate simple bi-allelic genotypes \n",
    "# 100 people, 30 SNP\n",
    "# allele frequencies 0.1, 0.2, 0.3, we need to think about better values for this\n",
    "# nsim = 100\n",
    "# genotypes = simulateGenotypes(N = nsim, NrSNP = 30, \n",
    "#         frequencies = c(0.1, 0.2, 0.3), verbose = FALSE)\n",
    "# names(genotypes)\n",
    "# ids = genotypes$id_samples"
   ]
  },
  {
   "cell_type": "code",
   "execution_count": 345,
   "metadata": {},
   "outputs": [],
   "source": [
    "simGenotype = function(N = 50, nSNP = 30, frequencies = c(0.1, 0.2, 0.4)) {\n",
    "    sps = paste0(\"%0\", nchar(as.character(N)), \"d\")\n",
    "    spsn = paste0(\"%0\", nchar(as.character(nSNP)), \"d\")\n",
    "    \n",
    "    samples = paste0(\"ID_\", sprintf(sps, 1:N))\n",
    "    snps = paste0(\"SNP_\", sprintf(spsn, 1:nSNP))\n",
    "    freq = sample(frequencies, nSNP, replace = TRUE)\n",
    "    X <- sapply(1:nSNP, function(x) rbinom(N, 2, freq[x]))\n",
    "    colnames(X) <- snps\n",
    "    rownames(X) <- samples\n",
    "    return(X)\n",
    "}\n",
    "\n",
    "\n",
    "geneticEffects = function (genotype, causalSNP = 10, mBeta = 0, sdBeta = 1) \n",
    "{\n",
    "    cSNP = sort(sample(colnames(genotype), causalSNP, replace = FALSE))\n",
    "    betas = rnorm(causalSNP, mBeta, sdBeta)\n",
    "    g = colnames(genotype)\n",
    "    effects = rep(0, length(g))\n",
    "    effects[g %in% cSNP] = betas\n",
    "    names(effects) = g\n",
    "    return(effects)\n",
    "}\n",
    "\n",
    "\n",
    "createCouples = function(genotype) {\n",
    "    temp = rownames(genotype)\n",
    "    pairs = NULL\n",
    "        for (i in seq_along(ids)) {\n",
    "            if (length(temp) > 0) {\n",
    "            e = sample(temp, 1)\n",
    "            temp = temp[!temp %in% e]\n",
    "            a = sample(temp, 1)\n",
    "            temp = temp[!temp %in% a]\n",
    "            pairs = rbind(pairs, c(e, a))\n",
    "        } else {\n",
    "            break\n",
    "        }\n",
    "    }\n",
    "\n",
    "    couples = list()\n",
    "    snps = colnames(genotype)\n",
    "    for (i in 1:nrow(pairs)) {\n",
    "        temp = data.table(t(genotype[pairs[i,], ]))\n",
    "        rownames(temp) = snps \n",
    "        couples[[i]] = temp\n",
    "    }\n",
    "    return(couples)\n",
    "}\n",
    "\n",
    "reproduce = function(couples, nkids = 2) {\n",
    "\n",
    "    # mendelian rules\n",
    "    m = matrix(c(1, 0, 0, 0.5, 0.5, 0, 0, 1, 0, 0.25, 0.50, 0.25, 0, 0.50, 0.5, 0, 0, 1), \n",
    "        nrow = 6, ncol = 3, byrow  = TRUE\n",
    "    )       \n",
    "    colnames(m) = c(0, 1, 2)\n",
    "    rownames(m) = c(\"00\", \"01\", \"02\", \"11\", \"12\", \"22\")\n",
    "    \n",
    "    kids = list()\n",
    "    \n",
    "    family = data.table()\n",
    "    j = 1\n",
    "\n",
    "    for (i in seq_along(couples)) {\n",
    "        for (ii in 1:nkids) {\n",
    "            temp = couples[[i]]\n",
    "            fids = colnames(temp)\n",
    "            temp$k = temp[, apply(.SD, 1, getKidGenotype, matrix = m)]\n",
    "            temp = temp[, .(k)]\n",
    "            setnames(temp, \"k\", paste0(\"ID_\", j))\n",
    "            temp[, snp := rownames(couples[[1]])]\n",
    "            kids[[paste0(i, ii)]] = temp\n",
    "\n",
    "            family = rbind(family, data.table(father = fids[1], mother = fids[2], kid = paste0(\"ID_\", j)))\n",
    "            j = j+1\n",
    "        }\n",
    "}\n",
    "    kk = Reduce(function(...) merge(...,  by = \"snp\"), kids)\n",
    "    kk[, snp := NULL]\n",
    "    kk = as.matrix(t(kk))\n",
    "    colnames(kk) = rownames(couples[[1]])\n",
    "    return(list(kk, family))\n",
    "\n",
    "}\n",
    "\n",
    "\n",
    "# function to get offspring genotype\n",
    "getKidGenotype = function(values, matrix) {\n",
    "    comba = paste0(values, collapse = \"\")\n",
    "    combb = paste0(rev(values), collapse = \"\")\n",
    "    s = grep(paste0(comba, \"|\", combb), rownames(matrix))\n",
    "    prob = as.vector(matrix[s, ])\n",
    "    return(sample(0:2, size = 1, prob = prob))\n",
    "}\n",
    "\n",
    "simKidTrait = function(kids, ge) {\n",
    "    return(kids[[1]] %*% ge)\n",
    "}\n",
    "\n",
    "getNoiseComponent = function(genotype, mNoise = 0, sdNoise = 1) {\n",
    "    n = nrow(genotype)\n",
    "    return(rnorm(n, mNoise, sdNoise))\n",
    "}\n",
    "\n",
    "rescaleVar = function(component, prop) {\n",
    "    component = as.vector(component) \n",
    "    var_component = var(component)\n",
    "    scale_factor = sqrt(prop/var_component)\n",
    "    return(component * scale_factor)\n",
    "}\n",
    "\n",
    "scalingFactor = function(component, prop) {\n",
    "    component = as.vector(component) \n",
    "    var_component = var(component)\n",
    "    return(sqrt(prop/var_component))\n",
    "}\n"
   ]
  },
  {
   "cell_type": "code",
   "execution_count": 361,
   "metadata": {},
   "outputs": [],
   "source": [
    "gen = 0.3\n",
    "noise = 1 - gen\n",
    "\n",
    "genotype = simGenotype(1000, 50)\n",
    "ge = geneticEffects(genotype)\n",
    "parentGComp = genotype %*% ge\n",
    "parentNComp = getNoiseComponent(genotype)\n",
    "\n",
    "pgsf = scalingFactor(parentGComp, gen)\n",
    "pnsf = scalingFactor(parentNComp, noise)\n",
    "parentTrait = parentGComp * pgsf + parentNComp * pnsf\n"
   ]
  },
  {
   "cell_type": "code",
   "execution_count": 379,
   "metadata": {},
   "outputs": [],
   "source": [
    "dparentTrait = data.table(id = rownames(parentTrait), trait = parentTrait[, 1])"
   ]
  },
  {
   "cell_type": "code",
   "execution_count": 372,
   "metadata": {},
   "outputs": [],
   "source": [
    "couples = createCouples(genotype)\n",
    "kids = reproduce(couples)"
   ]
  },
  {
   "cell_type": "code",
   "execution_count": 373,
   "metadata": {},
   "outputs": [],
   "source": [
    "kidGComp = kids[[1]] %*%  ge\n",
    "kidNComp = getNoiseComponent(kids[[1]])\n",
    "kidTrait = kidGComp * pgsf + kidNComp * pnsf"
   ]
  },
  {
   "cell_type": "code",
   "execution_count": 377,
   "metadata": {},
   "outputs": [],
   "source": [
    "dkidTrait = data.table(id = rownames(kidTrait), trait = kidTrait[, 1])"
   ]
  },
  {
   "cell_type": "code",
   "execution_count": 382,
   "metadata": {},
   "outputs": [],
   "source": [
    "family = kids[[2]]"
   ]
  },
  {
   "cell_type": "code",
   "execution_count": 349,
   "metadata": {},
   "outputs": [
    {
     "data": {
      "text/html": [
       "<table class=\"dataframe\">\n",
       "<caption>A matrix: 1 × 1 of type dbl</caption>\n",
       "<tbody>\n",
       "\t<tr><td>0.3005956</td></tr>\n",
       "</tbody>\n",
       "</table>\n"
      ],
      "text/latex": [
       "A matrix: 1 × 1 of type dbl\n",
       "\\begin{tabular}{l}\n",
       "\t 0.3005956\\\\\n",
       "\\end{tabular}\n"
      ],
      "text/markdown": [
       "\n",
       "A matrix: 1 × 1 of type dbl\n",
       "\n",
       "| 0.3005956 |\n",
       "\n"
      ],
      "text/plain": [
       "     [,1]     \n",
       "[1,] 0.3005956"
      ]
     },
     "metadata": {},
     "output_type": "display_data"
    },
    {
     "data": {
      "text/html": [
       "<table class=\"dataframe\">\n",
       "<caption>A matrix: 1 × 1 of type dbl</caption>\n",
       "<tbody>\n",
       "\t<tr><td>0.7013897</td></tr>\n",
       "</tbody>\n",
       "</table>\n"
      ],
      "text/latex": [
       "A matrix: 1 × 1 of type dbl\n",
       "\\begin{tabular}{l}\n",
       "\t 0.7013897\\\\\n",
       "\\end{tabular}\n"
      ],
      "text/markdown": [
       "\n",
       "A matrix: 1 × 1 of type dbl\n",
       "\n",
       "| 0.7013897 |\n",
       "\n"
      ],
      "text/plain": [
       "     [,1]     \n",
       "[1,] 0.7013897"
      ]
     },
     "metadata": {},
     "output_type": "display_data"
    }
   ],
   "source": [
    "var(parentGComp * pgsf) /var(parentTrait)\n",
    "var(parentNComp * pnsf) /var(parentTrait)"
   ]
  },
  {
   "cell_type": "code",
   "execution_count": 343,
   "metadata": {},
   "outputs": [
    {
     "data": {
      "text/html": [
       "<table class=\"dataframe\">\n",
       "<caption>A matrix: 1 × 1 of type dbl</caption>\n",
       "<tbody>\n",
       "\t<tr><td>0.289476</td></tr>\n",
       "</tbody>\n",
       "</table>\n"
      ],
      "text/latex": [
       "A matrix: 1 × 1 of type dbl\n",
       "\\begin{tabular}{l}\n",
       "\t 0.289476\\\\\n",
       "\\end{tabular}\n"
      ],
      "text/markdown": [
       "\n",
       "A matrix: 1 × 1 of type dbl\n",
       "\n",
       "| 0.289476 |\n",
       "\n"
      ],
      "text/plain": [
       "     [,1]    \n",
       "[1,] 0.289476"
      ]
     },
     "metadata": {},
     "output_type": "display_data"
    },
    {
     "data": {
      "text/html": [
       "<table class=\"dataframe\">\n",
       "<caption>A matrix: 1 × 1 of type dbl</caption>\n",
       "<tbody>\n",
       "\t<tr><td>0.7550101</td></tr>\n",
       "</tbody>\n",
       "</table>\n"
      ],
      "text/latex": [
       "A matrix: 1 × 1 of type dbl\n",
       "\\begin{tabular}{l}\n",
       "\t 0.7550101\\\\\n",
       "\\end{tabular}\n"
      ],
      "text/markdown": [
       "\n",
       "A matrix: 1 × 1 of type dbl\n",
       "\n",
       "| 0.7550101 |\n",
       "\n"
      ],
      "text/plain": [
       "     [,1]     \n",
       "[1,] 0.7550101"
      ]
     },
     "metadata": {},
     "output_type": "display_data"
    }
   ],
   "source": [
    "var(kidGComp * pgsf) /var(kidTrait)\n",
    "var(kidNComp * pnsf) /var(kidTrait)"
   ]
  },
  {
   "cell_type": "code",
   "execution_count": 352,
   "metadata": {},
   "outputs": [
    {
     "data": {
      "text/html": [
       "<table class=\"dataframe\">\n",
       "<caption>A matrix: 1 × 1 of type dbl</caption>\n",
       "<tbody>\n",
       "\t<tr><td>0.3317153</td></tr>\n",
       "</tbody>\n",
       "</table>\n"
      ],
      "text/latex": [
       "A matrix: 1 × 1 of type dbl\n",
       "\\begin{tabular}{l}\n",
       "\t 0.3317153\\\\\n",
       "\\end{tabular}\n"
      ],
      "text/markdown": [
       "\n",
       "A matrix: 1 × 1 of type dbl\n",
       "\n",
       "| 0.3317153 |\n",
       "\n"
      ],
      "text/plain": [
       "     [,1]     \n",
       "[1,] 0.3317153"
      ]
     },
     "metadata": {},
     "output_type": "display_data"
    },
    {
     "data": {
      "text/html": [
       "<table class=\"dataframe\">\n",
       "<caption>A matrix: 1 × 1 of type dbl</caption>\n",
       "<tbody>\n",
       "\t<tr><td>0.6863526</td></tr>\n",
       "</tbody>\n",
       "</table>\n"
      ],
      "text/latex": [
       "A matrix: 1 × 1 of type dbl\n",
       "\\begin{tabular}{l}\n",
       "\t 0.6863526\\\\\n",
       "\\end{tabular}\n"
      ],
      "text/markdown": [
       "\n",
       "A matrix: 1 × 1 of type dbl\n",
       "\n",
       "| 0.6863526 |\n",
       "\n"
      ],
      "text/plain": [
       "     [,1]     \n",
       "[1,] 0.6863526"
      ]
     },
     "metadata": {},
     "output_type": "display_data"
    }
   ],
   "source": [
    "parentGComp = kids[[1]] %*% ge\n",
    "parentNComp = getNoiseComponent(kids[[1]])\n",
    "parentTrait = parentGComp * pgsf + parentNComp * pnsf\n",
    "var(parentGComp * pgsf) /var(parentTrait)\n",
    "var(parentNComp * pnsf) /var(parentTrait)"
   ]
  },
  {
   "cell_type": "code",
   "execution_count": 353,
   "metadata": {},
   "outputs": [],
   "source": [
    "couples = createCouples(kids[[1]])\n",
    "kids = reproduce(couples)"
   ]
  },
  {
   "cell_type": "code",
   "execution_count": 355,
   "metadata": {},
   "outputs": [],
   "source": [
    "kidGComp = kids[[1]] %*%  ge\n",
    "kidNComp = getNoiseComponent(kids[[1]])\n",
    "kidTrait = kidGComp * pgsf + kidNComp * pnsf"
   ]
  },
  {
   "cell_type": "code",
   "execution_count": 356,
   "metadata": {},
   "outputs": [
    {
     "data": {
      "text/html": [
       "<table class=\"dataframe\">\n",
       "<caption>A matrix: 1 × 1 of type dbl</caption>\n",
       "<tbody>\n",
       "\t<tr><td>0.3428243</td></tr>\n",
       "</tbody>\n",
       "</table>\n"
      ],
      "text/latex": [
       "A matrix: 1 × 1 of type dbl\n",
       "\\begin{tabular}{l}\n",
       "\t 0.3428243\\\\\n",
       "\\end{tabular}\n"
      ],
      "text/markdown": [
       "\n",
       "A matrix: 1 × 1 of type dbl\n",
       "\n",
       "| 0.3428243 |\n",
       "\n"
      ],
      "text/plain": [
       "     [,1]     \n",
       "[1,] 0.3428243"
      ]
     },
     "metadata": {},
     "output_type": "display_data"
    },
    {
     "data": {
      "text/html": [
       "<table class=\"dataframe\">\n",
       "<caption>A matrix: 1 × 1 of type dbl</caption>\n",
       "<tbody>\n",
       "\t<tr><td>0.7055084</td></tr>\n",
       "</tbody>\n",
       "</table>\n"
      ],
      "text/latex": [
       "A matrix: 1 × 1 of type dbl\n",
       "\\begin{tabular}{l}\n",
       "\t 0.7055084\\\\\n",
       "\\end{tabular}\n"
      ],
      "text/markdown": [
       "\n",
       "A matrix: 1 × 1 of type dbl\n",
       "\n",
       "| 0.7055084 |\n",
       "\n"
      ],
      "text/plain": [
       "     [,1]     \n",
       "[1,] 0.7055084"
      ]
     },
     "metadata": {},
     "output_type": "display_data"
    }
   ],
   "source": [
    "var(kidGComp * pgsf) /var(kidTrait)\n",
    "var(kidNComp * pnsf) /var(kidTrait)"
   ]
  },
  {
   "cell_type": "code",
   "execution_count": 358,
   "metadata": {},
   "outputs": [
    {
     "data": {
      "text/html": [
       "<table class=\"dataframe\">\n",
       "<caption>A data.table: 1000 × 3</caption>\n",
       "<thead>\n",
       "\t<tr><th scope=col>father</th><th scope=col>mother</th><th scope=col>kid</th></tr>\n",
       "\t<tr><th scope=col>&lt;chr&gt;</th><th scope=col>&lt;chr&gt;</th><th scope=col>&lt;chr&gt;</th></tr>\n",
       "</thead>\n",
       "<tbody>\n",
       "\t<tr><td>ID_502</td><td>ID_208</td><td>ID_1 </td></tr>\n",
       "\t<tr><td>ID_502</td><td>ID_208</td><td>ID_2 </td></tr>\n",
       "\t<tr><td>ID_135</td><td>ID_371</td><td>ID_3 </td></tr>\n",
       "\t<tr><td>ID_135</td><td>ID_371</td><td>ID_4 </td></tr>\n",
       "\t<tr><td>ID_13 </td><td>ID_74 </td><td>ID_5 </td></tr>\n",
       "\t<tr><td>ID_13 </td><td>ID_74 </td><td>ID_6 </td></tr>\n",
       "\t<tr><td>ID_213</td><td>ID_384</td><td>ID_7 </td></tr>\n",
       "\t<tr><td>ID_213</td><td>ID_384</td><td>ID_8 </td></tr>\n",
       "\t<tr><td>ID_984</td><td>ID_6  </td><td>ID_9 </td></tr>\n",
       "\t<tr><td>ID_984</td><td>ID_6  </td><td>ID_10</td></tr>\n",
       "\t<tr><td>ID_804</td><td>ID_148</td><td>ID_11</td></tr>\n",
       "\t<tr><td>ID_804</td><td>ID_148</td><td>ID_12</td></tr>\n",
       "\t<tr><td>ID_852</td><td>ID_462</td><td>ID_13</td></tr>\n",
       "\t<tr><td>ID_852</td><td>ID_462</td><td>ID_14</td></tr>\n",
       "\t<tr><td>ID_785</td><td>ID_110</td><td>ID_15</td></tr>\n",
       "\t<tr><td>ID_785</td><td>ID_110</td><td>ID_16</td></tr>\n",
       "\t<tr><td>ID_686</td><td>ID_64 </td><td>ID_17</td></tr>\n",
       "\t<tr><td>ID_686</td><td>ID_64 </td><td>ID_18</td></tr>\n",
       "\t<tr><td>ID_80 </td><td>ID_414</td><td>ID_19</td></tr>\n",
       "\t<tr><td>ID_80 </td><td>ID_414</td><td>ID_20</td></tr>\n",
       "\t<tr><td>ID_551</td><td>ID_927</td><td>ID_21</td></tr>\n",
       "\t<tr><td>ID_551</td><td>ID_927</td><td>ID_22</td></tr>\n",
       "\t<tr><td>ID_451</td><td>ID_757</td><td>ID_23</td></tr>\n",
       "\t<tr><td>ID_451</td><td>ID_757</td><td>ID_24</td></tr>\n",
       "\t<tr><td>ID_356</td><td>ID_65 </td><td>ID_25</td></tr>\n",
       "\t<tr><td>ID_356</td><td>ID_65 </td><td>ID_26</td></tr>\n",
       "\t<tr><td>ID_873</td><td>ID_993</td><td>ID_27</td></tr>\n",
       "\t<tr><td>ID_873</td><td>ID_993</td><td>ID_28</td></tr>\n",
       "\t<tr><td>ID_84 </td><td>ID_893</td><td>ID_29</td></tr>\n",
       "\t<tr><td>ID_84 </td><td>ID_893</td><td>ID_30</td></tr>\n",
       "\t<tr><td>⋮</td><td>⋮</td><td>⋮</td></tr>\n",
       "\t<tr><td>ID_328</td><td>ID_69 </td><td>ID_971 </td></tr>\n",
       "\t<tr><td>ID_328</td><td>ID_69 </td><td>ID_972 </td></tr>\n",
       "\t<tr><td>ID_768</td><td>ID_326</td><td>ID_973 </td></tr>\n",
       "\t<tr><td>ID_768</td><td>ID_326</td><td>ID_974 </td></tr>\n",
       "\t<tr><td>ID_947</td><td>ID_413</td><td>ID_975 </td></tr>\n",
       "\t<tr><td>ID_947</td><td>ID_413</td><td>ID_976 </td></tr>\n",
       "\t<tr><td>ID_348</td><td>ID_153</td><td>ID_977 </td></tr>\n",
       "\t<tr><td>ID_348</td><td>ID_153</td><td>ID_978 </td></tr>\n",
       "\t<tr><td>ID_315</td><td>ID_87 </td><td>ID_979 </td></tr>\n",
       "\t<tr><td>ID_315</td><td>ID_87 </td><td>ID_980 </td></tr>\n",
       "\t<tr><td>ID_783</td><td>ID_119</td><td>ID_981 </td></tr>\n",
       "\t<tr><td>ID_783</td><td>ID_119</td><td>ID_982 </td></tr>\n",
       "\t<tr><td>ID_667</td><td>ID_407</td><td>ID_983 </td></tr>\n",
       "\t<tr><td>ID_667</td><td>ID_407</td><td>ID_984 </td></tr>\n",
       "\t<tr><td>ID_867</td><td>ID_870</td><td>ID_985 </td></tr>\n",
       "\t<tr><td>ID_867</td><td>ID_870</td><td>ID_986 </td></tr>\n",
       "\t<tr><td>ID_818</td><td>ID_377</td><td>ID_987 </td></tr>\n",
       "\t<tr><td>ID_818</td><td>ID_377</td><td>ID_988 </td></tr>\n",
       "\t<tr><td>ID_719</td><td>ID_530</td><td>ID_989 </td></tr>\n",
       "\t<tr><td>ID_719</td><td>ID_530</td><td>ID_990 </td></tr>\n",
       "\t<tr><td>ID_103</td><td>ID_177</td><td>ID_991 </td></tr>\n",
       "\t<tr><td>ID_103</td><td>ID_177</td><td>ID_992 </td></tr>\n",
       "\t<tr><td>ID_723</td><td>ID_470</td><td>ID_993 </td></tr>\n",
       "\t<tr><td>ID_723</td><td>ID_470</td><td>ID_994 </td></tr>\n",
       "\t<tr><td>ID_465</td><td>ID_801</td><td>ID_995 </td></tr>\n",
       "\t<tr><td>ID_465</td><td>ID_801</td><td>ID_996 </td></tr>\n",
       "\t<tr><td>ID_781</td><td>ID_775</td><td>ID_997 </td></tr>\n",
       "\t<tr><td>ID_781</td><td>ID_775</td><td>ID_998 </td></tr>\n",
       "\t<tr><td>ID_569</td><td>ID_55 </td><td>ID_999 </td></tr>\n",
       "\t<tr><td>ID_569</td><td>ID_55 </td><td>ID_1000</td></tr>\n",
       "</tbody>\n",
       "</table>\n"
      ],
      "text/latex": [
       "A data.table: 1000 × 3\n",
       "\\begin{tabular}{lll}\n",
       " father & mother & kid\\\\\n",
       " <chr> & <chr> & <chr>\\\\\n",
       "\\hline\n",
       "\t ID\\_502 & ID\\_208 & ID\\_1 \\\\\n",
       "\t ID\\_502 & ID\\_208 & ID\\_2 \\\\\n",
       "\t ID\\_135 & ID\\_371 & ID\\_3 \\\\\n",
       "\t ID\\_135 & ID\\_371 & ID\\_4 \\\\\n",
       "\t ID\\_13  & ID\\_74  & ID\\_5 \\\\\n",
       "\t ID\\_13  & ID\\_74  & ID\\_6 \\\\\n",
       "\t ID\\_213 & ID\\_384 & ID\\_7 \\\\\n",
       "\t ID\\_213 & ID\\_384 & ID\\_8 \\\\\n",
       "\t ID\\_984 & ID\\_6   & ID\\_9 \\\\\n",
       "\t ID\\_984 & ID\\_6   & ID\\_10\\\\\n",
       "\t ID\\_804 & ID\\_148 & ID\\_11\\\\\n",
       "\t ID\\_804 & ID\\_148 & ID\\_12\\\\\n",
       "\t ID\\_852 & ID\\_462 & ID\\_13\\\\\n",
       "\t ID\\_852 & ID\\_462 & ID\\_14\\\\\n",
       "\t ID\\_785 & ID\\_110 & ID\\_15\\\\\n",
       "\t ID\\_785 & ID\\_110 & ID\\_16\\\\\n",
       "\t ID\\_686 & ID\\_64  & ID\\_17\\\\\n",
       "\t ID\\_686 & ID\\_64  & ID\\_18\\\\\n",
       "\t ID\\_80  & ID\\_414 & ID\\_19\\\\\n",
       "\t ID\\_80  & ID\\_414 & ID\\_20\\\\\n",
       "\t ID\\_551 & ID\\_927 & ID\\_21\\\\\n",
       "\t ID\\_551 & ID\\_927 & ID\\_22\\\\\n",
       "\t ID\\_451 & ID\\_757 & ID\\_23\\\\\n",
       "\t ID\\_451 & ID\\_757 & ID\\_24\\\\\n",
       "\t ID\\_356 & ID\\_65  & ID\\_25\\\\\n",
       "\t ID\\_356 & ID\\_65  & ID\\_26\\\\\n",
       "\t ID\\_873 & ID\\_993 & ID\\_27\\\\\n",
       "\t ID\\_873 & ID\\_993 & ID\\_28\\\\\n",
       "\t ID\\_84  & ID\\_893 & ID\\_29\\\\\n",
       "\t ID\\_84  & ID\\_893 & ID\\_30\\\\\n",
       "\t ⋮ & ⋮ & ⋮\\\\\n",
       "\t ID\\_328 & ID\\_69  & ID\\_971 \\\\\n",
       "\t ID\\_328 & ID\\_69  & ID\\_972 \\\\\n",
       "\t ID\\_768 & ID\\_326 & ID\\_973 \\\\\n",
       "\t ID\\_768 & ID\\_326 & ID\\_974 \\\\\n",
       "\t ID\\_947 & ID\\_413 & ID\\_975 \\\\\n",
       "\t ID\\_947 & ID\\_413 & ID\\_976 \\\\\n",
       "\t ID\\_348 & ID\\_153 & ID\\_977 \\\\\n",
       "\t ID\\_348 & ID\\_153 & ID\\_978 \\\\\n",
       "\t ID\\_315 & ID\\_87  & ID\\_979 \\\\\n",
       "\t ID\\_315 & ID\\_87  & ID\\_980 \\\\\n",
       "\t ID\\_783 & ID\\_119 & ID\\_981 \\\\\n",
       "\t ID\\_783 & ID\\_119 & ID\\_982 \\\\\n",
       "\t ID\\_667 & ID\\_407 & ID\\_983 \\\\\n",
       "\t ID\\_667 & ID\\_407 & ID\\_984 \\\\\n",
       "\t ID\\_867 & ID\\_870 & ID\\_985 \\\\\n",
       "\t ID\\_867 & ID\\_870 & ID\\_986 \\\\\n",
       "\t ID\\_818 & ID\\_377 & ID\\_987 \\\\\n",
       "\t ID\\_818 & ID\\_377 & ID\\_988 \\\\\n",
       "\t ID\\_719 & ID\\_530 & ID\\_989 \\\\\n",
       "\t ID\\_719 & ID\\_530 & ID\\_990 \\\\\n",
       "\t ID\\_103 & ID\\_177 & ID\\_991 \\\\\n",
       "\t ID\\_103 & ID\\_177 & ID\\_992 \\\\\n",
       "\t ID\\_723 & ID\\_470 & ID\\_993 \\\\\n",
       "\t ID\\_723 & ID\\_470 & ID\\_994 \\\\\n",
       "\t ID\\_465 & ID\\_801 & ID\\_995 \\\\\n",
       "\t ID\\_465 & ID\\_801 & ID\\_996 \\\\\n",
       "\t ID\\_781 & ID\\_775 & ID\\_997 \\\\\n",
       "\t ID\\_781 & ID\\_775 & ID\\_998 \\\\\n",
       "\t ID\\_569 & ID\\_55  & ID\\_999 \\\\\n",
       "\t ID\\_569 & ID\\_55  & ID\\_1000\\\\\n",
       "\\end{tabular}\n"
      ],
      "text/markdown": [
       "\n",
       "A data.table: 1000 × 3\n",
       "\n",
       "| father &lt;chr&gt; | mother &lt;chr&gt; | kid &lt;chr&gt; |\n",
       "|---|---|---|\n",
       "| ID_502 | ID_208 | ID_1  |\n",
       "| ID_502 | ID_208 | ID_2  |\n",
       "| ID_135 | ID_371 | ID_3  |\n",
       "| ID_135 | ID_371 | ID_4  |\n",
       "| ID_13  | ID_74  | ID_5  |\n",
       "| ID_13  | ID_74  | ID_6  |\n",
       "| ID_213 | ID_384 | ID_7  |\n",
       "| ID_213 | ID_384 | ID_8  |\n",
       "| ID_984 | ID_6   | ID_9  |\n",
       "| ID_984 | ID_6   | ID_10 |\n",
       "| ID_804 | ID_148 | ID_11 |\n",
       "| ID_804 | ID_148 | ID_12 |\n",
       "| ID_852 | ID_462 | ID_13 |\n",
       "| ID_852 | ID_462 | ID_14 |\n",
       "| ID_785 | ID_110 | ID_15 |\n",
       "| ID_785 | ID_110 | ID_16 |\n",
       "| ID_686 | ID_64  | ID_17 |\n",
       "| ID_686 | ID_64  | ID_18 |\n",
       "| ID_80  | ID_414 | ID_19 |\n",
       "| ID_80  | ID_414 | ID_20 |\n",
       "| ID_551 | ID_927 | ID_21 |\n",
       "| ID_551 | ID_927 | ID_22 |\n",
       "| ID_451 | ID_757 | ID_23 |\n",
       "| ID_451 | ID_757 | ID_24 |\n",
       "| ID_356 | ID_65  | ID_25 |\n",
       "| ID_356 | ID_65  | ID_26 |\n",
       "| ID_873 | ID_993 | ID_27 |\n",
       "| ID_873 | ID_993 | ID_28 |\n",
       "| ID_84  | ID_893 | ID_29 |\n",
       "| ID_84  | ID_893 | ID_30 |\n",
       "| ⋮ | ⋮ | ⋮ |\n",
       "| ID_328 | ID_69  | ID_971  |\n",
       "| ID_328 | ID_69  | ID_972  |\n",
       "| ID_768 | ID_326 | ID_973  |\n",
       "| ID_768 | ID_326 | ID_974  |\n",
       "| ID_947 | ID_413 | ID_975  |\n",
       "| ID_947 | ID_413 | ID_976  |\n",
       "| ID_348 | ID_153 | ID_977  |\n",
       "| ID_348 | ID_153 | ID_978  |\n",
       "| ID_315 | ID_87  | ID_979  |\n",
       "| ID_315 | ID_87  | ID_980  |\n",
       "| ID_783 | ID_119 | ID_981  |\n",
       "| ID_783 | ID_119 | ID_982  |\n",
       "| ID_667 | ID_407 | ID_983  |\n",
       "| ID_667 | ID_407 | ID_984  |\n",
       "| ID_867 | ID_870 | ID_985  |\n",
       "| ID_867 | ID_870 | ID_986  |\n",
       "| ID_818 | ID_377 | ID_987  |\n",
       "| ID_818 | ID_377 | ID_988  |\n",
       "| ID_719 | ID_530 | ID_989  |\n",
       "| ID_719 | ID_530 | ID_990  |\n",
       "| ID_103 | ID_177 | ID_991  |\n",
       "| ID_103 | ID_177 | ID_992  |\n",
       "| ID_723 | ID_470 | ID_993  |\n",
       "| ID_723 | ID_470 | ID_994  |\n",
       "| ID_465 | ID_801 | ID_995  |\n",
       "| ID_465 | ID_801 | ID_996  |\n",
       "| ID_781 | ID_775 | ID_997  |\n",
       "| ID_781 | ID_775 | ID_998  |\n",
       "| ID_569 | ID_55  | ID_999  |\n",
       "| ID_569 | ID_55  | ID_1000 |\n",
       "\n"
      ],
      "text/plain": [
       "     father mother kid    \n",
       "1    ID_502 ID_208 ID_1   \n",
       "2    ID_502 ID_208 ID_2   \n",
       "3    ID_135 ID_371 ID_3   \n",
       "4    ID_135 ID_371 ID_4   \n",
       "5    ID_13  ID_74  ID_5   \n",
       "6    ID_13  ID_74  ID_6   \n",
       "7    ID_213 ID_384 ID_7   \n",
       "8    ID_213 ID_384 ID_8   \n",
       "9    ID_984 ID_6   ID_9   \n",
       "10   ID_984 ID_6   ID_10  \n",
       "11   ID_804 ID_148 ID_11  \n",
       "12   ID_804 ID_148 ID_12  \n",
       "13   ID_852 ID_462 ID_13  \n",
       "14   ID_852 ID_462 ID_14  \n",
       "15   ID_785 ID_110 ID_15  \n",
       "16   ID_785 ID_110 ID_16  \n",
       "17   ID_686 ID_64  ID_17  \n",
       "18   ID_686 ID_64  ID_18  \n",
       "19   ID_80  ID_414 ID_19  \n",
       "20   ID_80  ID_414 ID_20  \n",
       "21   ID_551 ID_927 ID_21  \n",
       "22   ID_551 ID_927 ID_22  \n",
       "23   ID_451 ID_757 ID_23  \n",
       "24   ID_451 ID_757 ID_24  \n",
       "25   ID_356 ID_65  ID_25  \n",
       "26   ID_356 ID_65  ID_26  \n",
       "27   ID_873 ID_993 ID_27  \n",
       "28   ID_873 ID_993 ID_28  \n",
       "29   ID_84  ID_893 ID_29  \n",
       "30   ID_84  ID_893 ID_30  \n",
       "⋮    ⋮      ⋮      ⋮      \n",
       "971  ID_328 ID_69  ID_971 \n",
       "972  ID_328 ID_69  ID_972 \n",
       "973  ID_768 ID_326 ID_973 \n",
       "974  ID_768 ID_326 ID_974 \n",
       "975  ID_947 ID_413 ID_975 \n",
       "976  ID_947 ID_413 ID_976 \n",
       "977  ID_348 ID_153 ID_977 \n",
       "978  ID_348 ID_153 ID_978 \n",
       "979  ID_315 ID_87  ID_979 \n",
       "980  ID_315 ID_87  ID_980 \n",
       "981  ID_783 ID_119 ID_981 \n",
       "982  ID_783 ID_119 ID_982 \n",
       "983  ID_667 ID_407 ID_983 \n",
       "984  ID_667 ID_407 ID_984 \n",
       "985  ID_867 ID_870 ID_985 \n",
       "986  ID_867 ID_870 ID_986 \n",
       "987  ID_818 ID_377 ID_987 \n",
       "988  ID_818 ID_377 ID_988 \n",
       "989  ID_719 ID_530 ID_989 \n",
       "990  ID_719 ID_530 ID_990 \n",
       "991  ID_103 ID_177 ID_991 \n",
       "992  ID_103 ID_177 ID_992 \n",
       "993  ID_723 ID_470 ID_993 \n",
       "994  ID_723 ID_470 ID_994 \n",
       "995  ID_465 ID_801 ID_995 \n",
       "996  ID_465 ID_801 ID_996 \n",
       "997  ID_781 ID_775 ID_997 \n",
       "998  ID_781 ID_775 ID_998 \n",
       "999  ID_569 ID_55  ID_999 \n",
       "1000 ID_569 ID_55  ID_1000"
      ]
     },
     "metadata": {},
     "output_type": "display_data"
    }
   ],
   "source": [
    "kids[[2]]"
   ]
  },
  {
   "cell_type": "code",
   "execution_count": 10,
   "metadata": {},
   "outputs": [
    {
     "data": {
      "text/html": [
       "<table class=\"dataframe\">\n",
       "<caption>A matrix: 1 × 1 of type dbl</caption>\n",
       "<tbody>\n",
       "\t<tr><td>0.5476672</td></tr>\n",
       "</tbody>\n",
       "</table>\n"
      ],
      "text/latex": [
       "A matrix: 1 × 1 of type dbl\n",
       "\\begin{tabular}{l}\n",
       "\t 0.5476672\\\\\n",
       "\\end{tabular}\n"
      ],
      "text/markdown": [
       "\n",
       "A matrix: 1 × 1 of type dbl\n",
       "\n",
       "| 0.5476672 |\n",
       "\n"
      ],
      "text/plain": [
       "     [,1]     \n",
       "[1,] 0.5476672"
      ]
     },
     "metadata": {},
     "output_type": "display_data"
    }
   ],
   "source": [
    "# to simulate the phenotype we need to define other factors\n",
    "# in this case I am just adding noise, but we can add effect of covariates, culture, etc.\n",
    "# I am only using independent effect because we are using only one trait.\n",
    "noiseBg = noiseBgEffects(N = nsim, P = 1, share = FALSE)\n",
    "t(noiseBg$cov_independent)\n"
   ]
  },
  {
   "cell_type": "code",
   "execution_count": 11,
   "metadata": {},
   "outputs": [
    {
     "data": {
      "text/html": [
       "TRUE"
      ],
      "text/latex": [
       "TRUE"
      ],
      "text/markdown": [
       "TRUE"
      ],
      "text/plain": [
       "[1] TRUE"
      ]
     },
     "metadata": {},
     "output_type": "display_data"
    }
   ],
   "source": [
    "# to define the phenotype we set parameters on the variance composition of the phenotype\n",
    "\n",
    "# parameters (pretty simple example)\n",
    "genVar = 0.3 # genetic variability\n",
    "noiseVar <- 1 - genVar # noise variability \n",
    "\n",
    "# rescale phenotype components so that variance composition match parameters above\n",
    "genFixed_independent_scaled = rescaleVariance(genFixed$independent, genVar)\n",
    "noiseBg_independent_scaled <- rescaleVariance(noiseBg$independent, noiseVar)\n",
    "\n",
    "# total variance proportions have to add up to 1\n",
    "total <-  noiseVar + genVar\n",
    "total == 1"
   ]
  },
  {
   "cell_type": "code",
   "execution_count": 12,
   "metadata": {},
   "outputs": [],
   "source": [
    "var_component <- var(genFixed$independent)\n",
    "mean_var <- mean(diag(var_component))\n",
    "scale_factor <- sqrt(0.4/mean_var)\n",
    "component_scaled <- genFixed$independent * scale_factor"
   ]
  },
  {
   "cell_type": "code",
   "execution_count": 13,
   "metadata": {},
   "outputs": [
    {
     "data": {
      "text/html": [
       "0.371241503034114"
      ],
      "text/latex": [
       "0.371241503034114"
      ],
      "text/markdown": [
       "0.371241503034114"
      ],
      "text/plain": [
       "[1] 0.3712415"
      ]
     },
     "metadata": {},
     "output_type": "display_data"
    }
   ],
   "source": [
    "sqrt(0.4/mean_var)"
   ]
  },
  {
   "cell_type": "code",
   "execution_count": 62,
   "metadata": {},
   "outputs": [
    {
     "data": {
      "text/html": [
       "<style>\n",
       ".list-inline {list-style: none; margin:0; padding: 0}\n",
       ".list-inline>li {display: inline-block}\n",
       ".list-inline>li:not(:last-child)::after {content: \"\\00b7\"; padding: 0 .5ex}\n",
       "</style>\n",
       "<ol class=list-inline><li>-1.73930507941859</li><li>0.203024406316749</li></ol>\n"
      ],
      "text/latex": [
       "\\begin{enumerate*}\n",
       "\\item -1.73930507941859\n",
       "\\item 0.203024406316749\n",
       "\\end{enumerate*}\n"
      ],
      "text/markdown": [
       "1. -1.73930507941859\n",
       "2. 0.203024406316749\n",
       "\n",
       "\n"
      ],
      "text/plain": [
       "[1] -1.7393051  0.2030244"
      ]
     },
     "metadata": {},
     "output_type": "display_data"
    },
    {
     "data": {
      "text/html": [
       "<style>\n",
       ".list-inline {list-style: none; margin:0; padding: 0}\n",
       ".list-inline>li {display: inline-block}\n",
       ".list-inline>li:not(:last-child)::after {content: \"\\00b7\"; padding: 0 .5ex}\n",
       "</style>\n",
       "<ol class=list-inline><li>-0.26075170633153</li><li>-0.233501955521766</li></ol>\n"
      ],
      "text/latex": [
       "\\begin{enumerate*}\n",
       "\\item -0.26075170633153\n",
       "\\item -0.233501955521766\n",
       "\\end{enumerate*}\n"
      ],
      "text/markdown": [
       "1. -0.26075170633153\n",
       "2. -0.233501955521766\n",
       "\n",
       "\n"
      ],
      "text/plain": [
       "[1] -0.2607517 -0.2335020"
      ]
     },
     "metadata": {},
     "output_type": "display_data"
    }
   ],
   "source": [
    "noiseBg_independent_scaled$component[c(30, 40)]\n",
    "noiseBg$independent[c(30, 40)]"
   ]
  },
  {
   "cell_type": "code",
   "execution_count": 270,
   "metadata": {},
   "outputs": [
    {
     "data": {
      "text/html": [
       "<style>\n",
       ".list-inline {list-style: none; margin:0; padding: 0}\n",
       ".list-inline>li {display: inline-block}\n",
       ".list-inline>li:not(:last-child)::after {content: \"\\00b7\"; padding: 0 .5ex}\n",
       "</style>\n",
       "<ol class=list-inline><li>-0.323179458767485</li><li>0.133707745015455</li></ol>\n"
      ],
      "text/latex": [
       "\\begin{enumerate*}\n",
       "\\item -0.323179458767485\n",
       "\\item 0.133707745015455\n",
       "\\end{enumerate*}\n"
      ],
      "text/markdown": [
       "1. -0.323179458767485\n",
       "2. 0.133707745015455\n",
       "\n",
       "\n"
      ],
      "text/plain": [
       "[1] -0.3231795  0.1337077"
      ]
     },
     "metadata": {},
     "output_type": "display_data"
    },
    {
     "data": {
      "text/html": [
       "<style>\n",
       ".list-inline {list-style: none; margin:0; padding: 0}\n",
       ".list-inline>li {display: inline-block}\n",
       ".list-inline>li:not(:last-child)::after {content: \"\\00b7\"; padding: 0 .5ex}\n",
       "</style>\n",
       "<ol class=list-inline><li>-1.14903330383988</li><li>0.475384953579684</li></ol>\n"
      ],
      "text/latex": [
       "\\begin{enumerate*}\n",
       "\\item -1.14903330383988\n",
       "\\item 0.475384953579684\n",
       "\\end{enumerate*}\n"
      ],
      "text/markdown": [
       "1. -1.14903330383988\n",
       "2. 0.475384953579684\n",
       "\n",
       "\n"
      ],
      "text/plain": [
       "[1] -1.149033  0.475385"
      ]
     },
     "metadata": {},
     "output_type": "display_data"
    }
   ],
   "source": [
    "genFixed_independent_scaled$component[c(30, 40)]\n",
    "genFixed$independent[c(30, 40)]"
   ]
  },
  {
   "cell_type": "code",
   "execution_count": 237,
   "metadata": {},
   "outputs": [],
   "source": [
    "# combine components into final phenotype\n",
    "# Y1 <- genFixed_independent_scaled$component + noiseBg_independent_scaled$component\n",
    "# Y2 <- genFixed$independent + noiseBg$independent\n",
    "# summary(Y1)\n",
    "# summary(Y2)\n",
    "# hist(Y1)\n",
    "# hist(Y2)\n"
   ]
  },
  {
   "cell_type": "code",
   "execution_count": 64,
   "metadata": {},
   "outputs": [
    {
     "data": {
      "text/html": [
       "<table class=\"dataframe\">\n",
       "<caption>A matrix: 1 × 1 of type dbl</caption>\n",
       "<thead>\n",
       "\t<tr><th></th><th scope=col>Trait_1</th></tr>\n",
       "</thead>\n",
       "<tbody>\n",
       "\t<tr><th scope=row>Trait_1</th><td>0.2756157</td></tr>\n",
       "</tbody>\n",
       "</table>\n"
      ],
      "text/latex": [
       "A matrix: 1 × 1 of type dbl\n",
       "\\begin{tabular}{r|l}\n",
       "  & Trait\\_1\\\\\n",
       "\\hline\n",
       "\tTrait\\_1 & 0.2756157\\\\\n",
       "\\end{tabular}\n"
      ],
      "text/markdown": [
       "\n",
       "A matrix: 1 × 1 of type dbl\n",
       "\n",
       "| <!--/--> | Trait_1 |\n",
       "|---|---|\n",
       "| Trait_1 | 0.2756157 |\n",
       "\n"
      ],
      "text/plain": [
       "        Trait_1  \n",
       "Trait_1 0.2756157"
      ]
     },
     "metadata": {},
     "output_type": "display_data"
    },
    {
     "data": {
      "text/html": [
       "<table class=\"dataframe\">\n",
       "<caption>A matrix: 1 × 1 of type dbl</caption>\n",
       "<thead>\n",
       "\t<tr><th></th><th scope=col>Trait_1</th></tr>\n",
       "</thead>\n",
       "<tbody>\n",
       "\t<tr><th scope=row>Trait_1</th><td>0.6431034</td></tr>\n",
       "</tbody>\n",
       "</table>\n"
      ],
      "text/latex": [
       "A matrix: 1 × 1 of type dbl\n",
       "\\begin{tabular}{r|l}\n",
       "  & Trait\\_1\\\\\n",
       "\\hline\n",
       "\tTrait\\_1 & 0.6431034\\\\\n",
       "\\end{tabular}\n"
      ],
      "text/markdown": [
       "\n",
       "A matrix: 1 × 1 of type dbl\n",
       "\n",
       "| <!--/--> | Trait_1 |\n",
       "|---|---|\n",
       "| Trait_1 | 0.6431034 |\n",
       "\n"
      ],
      "text/plain": [
       "        Trait_1  \n",
       "Trait_1 0.6431034"
      ]
     },
     "metadata": {},
     "output_type": "display_data"
    },
    {
     "data": {
      "text/html": [
       "<table class=\"dataframe\">\n",
       "<caption>A matrix: 1 × 1 of type dbl</caption>\n",
       "<thead>\n",
       "\t<tr><th></th><th scope=col>Trait_1</th></tr>\n",
       "</thead>\n",
       "<tbody>\n",
       "\t<tr><th scope=row>Trait_1</th><td>0.7866207</td></tr>\n",
       "</tbody>\n",
       "</table>\n"
      ],
      "text/latex": [
       "A matrix: 1 × 1 of type dbl\n",
       "\\begin{tabular}{r|l}\n",
       "  & Trait\\_1\\\\\n",
       "\\hline\n",
       "\tTrait\\_1 & 0.7866207\\\\\n",
       "\\end{tabular}\n"
      ],
      "text/markdown": [
       "\n",
       "A matrix: 1 × 1 of type dbl\n",
       "\n",
       "| <!--/--> | Trait_1 |\n",
       "|---|---|\n",
       "| Trait_1 | 0.7866207 |\n",
       "\n"
      ],
      "text/plain": [
       "        Trait_1  \n",
       "Trait_1 0.7866207"
      ]
     },
     "metadata": {},
     "output_type": "display_data"
    },
    {
     "data": {
      "text/html": [
       "<table class=\"dataframe\">\n",
       "<caption>A matrix: 1 × 1 of type dbl</caption>\n",
       "<thead>\n",
       "\t<tr><th></th><th scope=col>Trait_1</th></tr>\n",
       "</thead>\n",
       "<tbody>\n",
       "\t<tr><th scope=row>Trait_1</th><td>0.2012685</td></tr>\n",
       "</tbody>\n",
       "</table>\n"
      ],
      "text/latex": [
       "A matrix: 1 × 1 of type dbl\n",
       "\\begin{tabular}{r|l}\n",
       "  & Trait\\_1\\\\\n",
       "\\hline\n",
       "\tTrait\\_1 & 0.2012685\\\\\n",
       "\\end{tabular}\n"
      ],
      "text/markdown": [
       "\n",
       "A matrix: 1 × 1 of type dbl\n",
       "\n",
       "| <!--/--> | Trait_1 |\n",
       "|---|---|\n",
       "| Trait_1 | 0.2012685 |\n",
       "\n"
      ],
      "text/plain": [
       "        Trait_1  \n",
       "Trait_1 0.2012685"
      ]
     },
     "metadata": {},
     "output_type": "display_data"
    }
   ],
   "source": [
    "# variance composition\n",
    "var(genFixed_independent_scaled$component)/var(Y1)\n",
    "var(noiseBg_independent_scaled$component)/var(Y1)\n",
    "\n",
    "var(genFixed$independent)/var(Y2)\n",
    "var(noiseBg$independent)/var(Y2)"
   ]
  },
  {
   "cell_type": "markdown",
   "metadata": {},
   "source": [
    "# Reproduction?\n",
    "\n",
    "Let's assume individual 30 mates 40:"
   ]
  },
  {
   "cell_type": "code",
   "execution_count": 198,
   "metadata": {},
   "outputs": [],
   "source": [
    "# function to get offspring genotype\n",
    "getGenotype = function(values, matrix) {\n",
    "    comba = paste0(values, collapse = \"\")\n",
    "    combb = paste0(rev(values), collapse = \"\")\n",
    "    s = grep(paste0(comba, \"|\", combb), rownames(matrix))\n",
    "    prob = as.vector(matrix[s, ])\n",
    "    return(sample(0:2, size = 1, prob = prob))\n",
    "}\n",
    "\n",
    "# getGenotype(2, 2, m)"
   ]
  },
  {
   "cell_type": "code",
   "execution_count": 214,
   "metadata": {},
   "outputs": [],
   "source": [
    "reproduce = function(couples, nkids = 2) {\n",
    "\n",
    "    # mendelian rules\n",
    "    m = matrix(c(1, 0, 0, 0.5, 0.5, 0, 0, 1, 0, 0.25, 0.50, 0.25, 0, 0.50, 0.5, 0, 0, 1), \n",
    "        nrow = 6, ncol = 3, byrow  = TRUE\n",
    "    )       \n",
    "    colnames(m) = c(0, 1, 2)\n",
    "    rownames(m) = c(\"00\", \"01\", \"02\", \"11\", \"12\", \"22\")\n",
    "    kids = list()\n",
    "    \n",
    "    family = data.table()\n",
    "    j = 1\n",
    "\n",
    "    for (i in seq_along(couples)) {\n",
    "        for (ii in 1:nkids) {\n",
    "            temp = couples[[i]]\n",
    "            fids = colnames(temp)\n",
    "            temp$k = temp[, apply(.SD, 1, getKidGenotype, matrix = m)]\n",
    "            temp = temp[, .(k)]\n",
    "            setnames(temp, \"k\", paste0(\"ID_\", j))\n",
    "            temp[, snp := rownames(couples[[1]])]\n",
    "            kids[[paste0(i, ii)]] = temp\n",
    "\n",
    "            family = rbind(family, data.table(father = fids[1], mother = fids[2], kid = paste0(\"ID_\", j)))\n",
    "            j = j+1\n",
    "        }\n",
    "}\n",
    "    kk = Reduce(function(...) merge(...,  by = \"snp\"), kids)\n",
    "    return(list(kk, family))\n",
    "\n",
    "}\n",
    "\n"
   ]
  },
  {
   "cell_type": "code",
   "execution_count": 215,
   "metadata": {},
   "outputs": [],
   "source": [
    "kids = reproduce(couples)\n"
   ]
  },
  {
   "cell_type": "code",
   "execution_count": 229,
   "metadata": {},
   "outputs": [
    {
     "ename": "ERROR",
     "evalue": "Error in as.matrix(sk) %*% as.vector(ge): requires numeric/complex matrix/vector arguments\n",
     "output_type": "error",
     "traceback": [
      "Error in as.matrix(sk) %*% as.vector(ge): requires numeric/complex matrix/vector arguments\nTraceback:\n"
     ]
    }
   ],
   "source": [
    "sk = t(kids[[1]])\n",
    "as.matrix(sk) %*% as.vector(ge)"
   ]
  },
  {
   "cell_type": "code",
   "execution_count": 234,
   "metadata": {},
   "outputs": [
    {
     "ename": "ERROR",
     "evalue": "Error in as.matrix(sk)[-1, ] %*% as.vector(ge): requires numeric/complex matrix/vector arguments\n",
     "output_type": "error",
     "traceback": [
      "Error in as.matrix(sk)[-1, ] %*% as.vector(ge): requires numeric/complex matrix/vector arguments\nTraceback:\n"
     ]
    }
   ],
   "source": [
    "as.matrix(sk)[-1, ] %*% as.vector(ge)"
   ]
  },
  {
   "cell_type": "code",
   "execution_count": 224,
   "metadata": {},
   "outputs": [
    {
     "ename": "ERROR",
     "evalue": "Error in matrix(kk[snp %in% colnames(causalSNPs), ], byrow = TRUE, nrow = 1, : object 'kk' not found\n",
     "output_type": "error",
     "traceback": [
      "Error in matrix(kk[snp %in% colnames(causalSNPs), ], byrow = TRUE, nrow = 1, : object 'kk' not found\nTraceback:\n",
      "1. matrix(kk[snp %in% colnames(causalSNPs), ], byrow = TRUE, nrow = 1, \n .     10)"
     ]
    }
   ],
   "source": [
    "matrix(kk[snp %in% colnames(causalSNPs), ], byrow = TRUE, nrow = 1, 10) "
   ]
  },
  {
   "cell_type": "code",
   "execution_count": null,
   "metadata": {},
   "outputs": [],
   "source": [
    "newY <- genV * genVar + noiseV * (1-genVar)\n",
    "newY"
   ]
  },
  {
   "cell_type": "code",
   "execution_count": null,
   "metadata": {},
   "outputs": [],
   "source": [
    "# parents phenotype\n",
    "Y[c(30, 40)]"
   ]
  }
 ],
 "metadata": {
  "interpreter": {
   "hash": "e2e428ab9c127afb68bd4bd6fa54439dcad71a6972a08f78f80f785dd2e6f6bf"
  },
  "kernelspec": {
   "display_name": "R",
   "language": "R",
   "name": "ir"
  },
  "language_info": {
   "codemirror_mode": "r",
   "file_extension": ".r",
   "mimetype": "text/x-r-source",
   "name": "R",
   "pygments_lexer": "r",
   "version": "4.1.2"
  },
  "orig_nbformat": 4
 },
 "nbformat": 4,
 "nbformat_minor": 2
}
