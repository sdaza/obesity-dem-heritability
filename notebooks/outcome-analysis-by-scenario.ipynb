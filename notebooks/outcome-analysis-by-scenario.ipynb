{
 "cells": [
  {
   "cell_type": "markdown",
   "metadata": {},
   "source": [
    "# BMI analysis"
   ]
  },
  {
   "cell_type": "code",
   "execution_count": 74,
   "metadata": {},
   "outputs": [],
   "source": [
    "from matplotlib import pyplot as plt\n",
    "import seaborn as sns\n",
    "sns.set_theme(style='whitegrid', palette='vlag')\n",
    "import pandas as pd\n",
    "import numpy as np\n",
    "import shutil\n",
    "import itertools\n",
    "\n",
    "model_path = \"../models/BMI-SNP/\"\n",
    "output_path = \"../output/data/\"\n",
    "plots_path = \"../output/plots/\"\n",
    "plot_manuscript = \"../manuscript/plots/\"\n",
    "\n",
    "def product_dict(**kwargs):\n",
    "    keys = kwargs.keys()\n",
    "    vals = kwargs.values()\n",
    "    for instance in itertools.product(*vals):\n",
    "        yield dict(zip(keys, instance))"
   ]
  },
  {
   "cell_type": "code",
   "execution_count": 75,
   "metadata": {},
   "outputs": [
    {
     "name": "stdout",
     "output_type": "stream",
     "text": [
      "0.12.0.dev0\n"
     ]
    }
   ],
   "source": [
    "print(sns.__version__)"
   ]
  },
  {
   "cell_type": "markdown",
   "metadata": {},
   "source": [
    "# Define parameters"
   ]
  },
  {
   "cell_type": "code",
   "execution_count": 76,
   "metadata": {},
   "outputs": [
    {
     "data": {
      "text/plain": [
       "(8000, 4)"
      ]
     },
     "execution_count": 76,
     "metadata": {},
     "output_type": "execute_result"
    }
   ],
   "source": [
    "# scenarios genes + vertical transmission\n",
    "replicates = 100\n",
    "d = {'random-mating' :  [0.10, .25, 0.5, 0.75, 0.90],\n",
    "    'genes' : [0.0, 0.05, 0.10, 0.20],\n",
    "    'vertical-trans' : [0.0, 0.05, 0.10, 0.20]}\n",
    "\n",
    "df = pd.DataFrame(product_dict(**d))\n",
    "df['iteration'] = df.groupby(list(d)).ngroup()\n",
    "df = df.loc[df.index.repeat(replicates)]\n",
    "vars = ['iteration', 'random-mating', 'genes', 'vertical-trans']\n",
    "df.loc[:,vars].to_csv(model_path + \"data/param-bmi-mating-genes-vertical-trans-test.csv\", index=False)\n",
    "df.loc[:,vars].shape"
   ]
  },
  {
   "cell_type": "markdown",
   "metadata": {},
   "source": [
    "# Genes + Vertical transmission + Mating"
   ]
  },
  {
   "cell_type": "code",
   "execution_count": 77,
   "metadata": {},
   "outputs": [
    {
     "name": "stderr",
     "output_type": "stream",
     "text": [
      "/var/folders/36/wsfqn0_j2ng6r0b58wc559fc0000gn/T/ipykernel_51353/1305005866.py:7: FutureWarning: The default value of regex will change from True to False in a future version.\n",
      "  cols = df.bmi_category_prop.str.replace(r'\\[|\\]', '').str.split(\",\", n=4, expand=True)\n"
     ]
    }
   ],
   "source": [
    "vars = ['iteration', 'p_genetic_variance', 'p_vertical_trans_variance', \n",
    "    'p_random_mating', 'p_fertility_factor']\n",
    "df = pd.read_csv(output_path + \"results-bmi-mating-genes-vertical-trans-test.csv\", sep = \";\")\n",
    "params = pd.read_csv(output_path + \"param-bmi-mating-genes-vertical-trans-test.csv\", sep = \";\")\n",
    "params = params. drop_duplicates(subset=vars)\n",
    "\n",
    "cols = df.bmi_category_prop.str.replace(r'\\[|\\]', '').str.split(\",\", n=4, expand=True)\n",
    "colnames = ['g'+str(i+1) for i in range(4)]\n",
    "cols.columns = colnames\n",
    "cols = cols[colnames].apply(pd.to_numeric)\n",
    "df = pd.concat([df, cols], axis=1, ignore_index=False)\n",
    "df = df.merge(params, on = [\"iteration\"])\n",
    "df['p_comb'] = 'G = ' + df['p_genetic_variance'].map(str)  + ', VT = ' + df['p_vertical_trans_variance'].map(str)"
   ]
  },
  {
   "cell_type": "code",
   "execution_count": 78,
   "metadata": {},
   "outputs": [
    {
     "data": {
      "text/html": [
       "<div>\n",
       "<style scoped>\n",
       "    .dataframe tbody tr th:only-of-type {\n",
       "        vertical-align: middle;\n",
       "    }\n",
       "\n",
       "    .dataframe tbody tr th {\n",
       "        vertical-align: top;\n",
       "    }\n",
       "\n",
       "    .dataframe thead th {\n",
       "        text-align: right;\n",
       "    }\n",
       "</style>\n",
       "<table border=\"1\" class=\"dataframe\">\n",
       "  <thead>\n",
       "    <tr style=\"text-align: right;\">\n",
       "      <th></th>\n",
       "      <th></th>\n",
       "      <th>count</th>\n",
       "      <th>mean</th>\n",
       "      <th>std</th>\n",
       "      <th>min</th>\n",
       "      <th>2.5%</th>\n",
       "      <th>50%</th>\n",
       "      <th>97.5%</th>\n",
       "      <th>max</th>\n",
       "    </tr>\n",
       "    <tr>\n",
       "      <th>p_comb</th>\n",
       "      <th>p_random_mating</th>\n",
       "      <th></th>\n",
       "      <th></th>\n",
       "      <th></th>\n",
       "      <th></th>\n",
       "      <th></th>\n",
       "      <th></th>\n",
       "      <th></th>\n",
       "      <th></th>\n",
       "    </tr>\n",
       "  </thead>\n",
       "  <tbody>\n",
       "    <tr>\n",
       "      <th rowspan=\"5\" valign=\"top\">G = 0.05, VT = 0.0</th>\n",
       "      <th>0.10</th>\n",
       "      <td>100.0</td>\n",
       "      <td>0.103246</td>\n",
       "      <td>0.005057</td>\n",
       "      <td>0.090558</td>\n",
       "      <td>0.093942</td>\n",
       "      <td>0.103727</td>\n",
       "      <td>0.111801</td>\n",
       "      <td>0.112969</td>\n",
       "    </tr>\n",
       "    <tr>\n",
       "      <th>0.25</th>\n",
       "      <td>100.0</td>\n",
       "      <td>0.103129</td>\n",
       "      <td>0.004511</td>\n",
       "      <td>0.094547</td>\n",
       "      <td>0.095901</td>\n",
       "      <td>0.102894</td>\n",
       "      <td>0.113321</td>\n",
       "      <td>0.113901</td>\n",
       "    </tr>\n",
       "    <tr>\n",
       "      <th>0.50</th>\n",
       "      <td>100.0</td>\n",
       "      <td>0.100869</td>\n",
       "      <td>0.004833</td>\n",
       "      <td>0.091645</td>\n",
       "      <td>0.092743</td>\n",
       "      <td>0.100696</td>\n",
       "      <td>0.112446</td>\n",
       "      <td>0.117057</td>\n",
       "    </tr>\n",
       "    <tr>\n",
       "      <th>0.75</th>\n",
       "      <td>100.0</td>\n",
       "      <td>0.097298</td>\n",
       "      <td>0.004392</td>\n",
       "      <td>0.089272</td>\n",
       "      <td>0.090245</td>\n",
       "      <td>0.096781</td>\n",
       "      <td>0.107921</td>\n",
       "      <td>0.110599</td>\n",
       "    </tr>\n",
       "    <tr>\n",
       "      <th>0.90</th>\n",
       "      <td>100.0</td>\n",
       "      <td>0.093251</td>\n",
       "      <td>0.003956</td>\n",
       "      <td>0.084539</td>\n",
       "      <td>0.085630</td>\n",
       "      <td>0.093468</td>\n",
       "      <td>0.101063</td>\n",
       "      <td>0.103115</td>\n",
       "    </tr>\n",
       "    <tr>\n",
       "      <th rowspan=\"5\" valign=\"top\">G = 0.05, VT = 0.05</th>\n",
       "      <th>0.10</th>\n",
       "      <td>100.0</td>\n",
       "      <td>0.147396</td>\n",
       "      <td>0.008406</td>\n",
       "      <td>0.126493</td>\n",
       "      <td>0.132570</td>\n",
       "      <td>0.147277</td>\n",
       "      <td>0.162402</td>\n",
       "      <td>0.169590</td>\n",
       "    </tr>\n",
       "    <tr>\n",
       "      <th>0.25</th>\n",
       "      <td>100.0</td>\n",
       "      <td>0.141141</td>\n",
       "      <td>0.007644</td>\n",
       "      <td>0.115420</td>\n",
       "      <td>0.128255</td>\n",
       "      <td>0.140863</td>\n",
       "      <td>0.155444</td>\n",
       "      <td>0.160793</td>\n",
       "    </tr>\n",
       "    <tr>\n",
       "      <th>0.50</th>\n",
       "      <td>100.0</td>\n",
       "      <td>0.130446</td>\n",
       "      <td>0.008279</td>\n",
       "      <td>0.109643</td>\n",
       "      <td>0.114407</td>\n",
       "      <td>0.130699</td>\n",
       "      <td>0.146964</td>\n",
       "      <td>0.154921</td>\n",
       "    </tr>\n",
       "    <tr>\n",
       "      <th>0.75</th>\n",
       "      <td>100.0</td>\n",
       "      <td>0.118181</td>\n",
       "      <td>0.007003</td>\n",
       "      <td>0.099313</td>\n",
       "      <td>0.107094</td>\n",
       "      <td>0.118177</td>\n",
       "      <td>0.131036</td>\n",
       "      <td>0.135380</td>\n",
       "    </tr>\n",
       "    <tr>\n",
       "      <th>0.90</th>\n",
       "      <td>100.0</td>\n",
       "      <td>0.108302</td>\n",
       "      <td>0.007220</td>\n",
       "      <td>0.092224</td>\n",
       "      <td>0.096542</td>\n",
       "      <td>0.108938</td>\n",
       "      <td>0.121181</td>\n",
       "      <td>0.129133</td>\n",
       "    </tr>\n",
       "    <tr>\n",
       "      <th rowspan=\"5\" valign=\"top\">G = 0.05, VT = 0.1</th>\n",
       "      <th>0.10</th>\n",
       "      <td>100.0</td>\n",
       "      <td>0.191383</td>\n",
       "      <td>0.011859</td>\n",
       "      <td>0.163719</td>\n",
       "      <td>0.169450</td>\n",
       "      <td>0.191912</td>\n",
       "      <td>0.215914</td>\n",
       "      <td>0.223450</td>\n",
       "    </tr>\n",
       "    <tr>\n",
       "      <th>0.25</th>\n",
       "      <td>100.0</td>\n",
       "      <td>0.183595</td>\n",
       "      <td>0.011883</td>\n",
       "      <td>0.158361</td>\n",
       "      <td>0.161039</td>\n",
       "      <td>0.183426</td>\n",
       "      <td>0.207964</td>\n",
       "      <td>0.210318</td>\n",
       "    </tr>\n",
       "    <tr>\n",
       "      <th>0.50</th>\n",
       "      <td>100.0</td>\n",
       "      <td>0.161750</td>\n",
       "      <td>0.008494</td>\n",
       "      <td>0.140358</td>\n",
       "      <td>0.146062</td>\n",
       "      <td>0.161664</td>\n",
       "      <td>0.178617</td>\n",
       "      <td>0.184037</td>\n",
       "    </tr>\n",
       "    <tr>\n",
       "      <th>0.75</th>\n",
       "      <td>100.0</td>\n",
       "      <td>0.137341</td>\n",
       "      <td>0.009458</td>\n",
       "      <td>0.113145</td>\n",
       "      <td>0.120515</td>\n",
       "      <td>0.136991</td>\n",
       "      <td>0.155772</td>\n",
       "      <td>0.161412</td>\n",
       "    </tr>\n",
       "    <tr>\n",
       "      <th>0.90</th>\n",
       "      <td>100.0</td>\n",
       "      <td>0.121992</td>\n",
       "      <td>0.007666</td>\n",
       "      <td>0.105027</td>\n",
       "      <td>0.109091</td>\n",
       "      <td>0.121710</td>\n",
       "      <td>0.137637</td>\n",
       "      <td>0.141337</td>\n",
       "    </tr>\n",
       "    <tr>\n",
       "      <th rowspan=\"5\" valign=\"top\">G = 0.05, VT = 0.2</th>\n",
       "      <th>0.10</th>\n",
       "      <td>100.0</td>\n",
       "      <td>0.339810</td>\n",
       "      <td>0.020498</td>\n",
       "      <td>0.289022</td>\n",
       "      <td>0.297150</td>\n",
       "      <td>0.339943</td>\n",
       "      <td>0.382038</td>\n",
       "      <td>0.386353</td>\n",
       "    </tr>\n",
       "    <tr>\n",
       "      <th>0.25</th>\n",
       "      <td>100.0</td>\n",
       "      <td>0.309882</td>\n",
       "      <td>0.020003</td>\n",
       "      <td>0.266626</td>\n",
       "      <td>0.271876</td>\n",
       "      <td>0.307872</td>\n",
       "      <td>0.340412</td>\n",
       "      <td>0.377484</td>\n",
       "    </tr>\n",
       "    <tr>\n",
       "      <th>0.50</th>\n",
       "      <td>100.0</td>\n",
       "      <td>0.258311</td>\n",
       "      <td>0.015828</td>\n",
       "      <td>0.212894</td>\n",
       "      <td>0.227877</td>\n",
       "      <td>0.259965</td>\n",
       "      <td>0.292282</td>\n",
       "      <td>0.302171</td>\n",
       "    </tr>\n",
       "    <tr>\n",
       "      <th>0.75</th>\n",
       "      <td>100.0</td>\n",
       "      <td>0.199341</td>\n",
       "      <td>0.014348</td>\n",
       "      <td>0.169004</td>\n",
       "      <td>0.172385</td>\n",
       "      <td>0.198343</td>\n",
       "      <td>0.226857</td>\n",
       "      <td>0.235998</td>\n",
       "    </tr>\n",
       "    <tr>\n",
       "      <th>0.90</th>\n",
       "      <td>100.0</td>\n",
       "      <td>0.161830</td>\n",
       "      <td>0.014013</td>\n",
       "      <td>0.133536</td>\n",
       "      <td>0.141590</td>\n",
       "      <td>0.160105</td>\n",
       "      <td>0.191971</td>\n",
       "      <td>0.201810</td>\n",
       "    </tr>\n",
       "  </tbody>\n",
       "</table>\n",
       "</div>"
      ],
      "text/plain": [
       "                                     count      mean       std       min  \\\n",
       "p_comb              p_random_mating                                        \n",
       "G = 0.05, VT = 0.0  0.10             100.0  0.103246  0.005057  0.090558   \n",
       "                    0.25             100.0  0.103129  0.004511  0.094547   \n",
       "                    0.50             100.0  0.100869  0.004833  0.091645   \n",
       "                    0.75             100.0  0.097298  0.004392  0.089272   \n",
       "                    0.90             100.0  0.093251  0.003956  0.084539   \n",
       "G = 0.05, VT = 0.05 0.10             100.0  0.147396  0.008406  0.126493   \n",
       "                    0.25             100.0  0.141141  0.007644  0.115420   \n",
       "                    0.50             100.0  0.130446  0.008279  0.109643   \n",
       "                    0.75             100.0  0.118181  0.007003  0.099313   \n",
       "                    0.90             100.0  0.108302  0.007220  0.092224   \n",
       "G = 0.05, VT = 0.1  0.10             100.0  0.191383  0.011859  0.163719   \n",
       "                    0.25             100.0  0.183595  0.011883  0.158361   \n",
       "                    0.50             100.0  0.161750  0.008494  0.140358   \n",
       "                    0.75             100.0  0.137341  0.009458  0.113145   \n",
       "                    0.90             100.0  0.121992  0.007666  0.105027   \n",
       "G = 0.05, VT = 0.2  0.10             100.0  0.339810  0.020498  0.289022   \n",
       "                    0.25             100.0  0.309882  0.020003  0.266626   \n",
       "                    0.50             100.0  0.258311  0.015828  0.212894   \n",
       "                    0.75             100.0  0.199341  0.014348  0.169004   \n",
       "                    0.90             100.0  0.161830  0.014013  0.133536   \n",
       "\n",
       "                                         2.5%       50%     97.5%       max  \n",
       "p_comb              p_random_mating                                          \n",
       "G = 0.05, VT = 0.0  0.10             0.093942  0.103727  0.111801  0.112969  \n",
       "                    0.25             0.095901  0.102894  0.113321  0.113901  \n",
       "                    0.50             0.092743  0.100696  0.112446  0.117057  \n",
       "                    0.75             0.090245  0.096781  0.107921  0.110599  \n",
       "                    0.90             0.085630  0.093468  0.101063  0.103115  \n",
       "G = 0.05, VT = 0.05 0.10             0.132570  0.147277  0.162402  0.169590  \n",
       "                    0.25             0.128255  0.140863  0.155444  0.160793  \n",
       "                    0.50             0.114407  0.130699  0.146964  0.154921  \n",
       "                    0.75             0.107094  0.118177  0.131036  0.135380  \n",
       "                    0.90             0.096542  0.108938  0.121181  0.129133  \n",
       "G = 0.05, VT = 0.1  0.10             0.169450  0.191912  0.215914  0.223450  \n",
       "                    0.25             0.161039  0.183426  0.207964  0.210318  \n",
       "                    0.50             0.146062  0.161664  0.178617  0.184037  \n",
       "                    0.75             0.120515  0.136991  0.155772  0.161412  \n",
       "                    0.90             0.109091  0.121710  0.137637  0.141337  \n",
       "G = 0.05, VT = 0.2  0.10             0.297150  0.339943  0.382038  0.386353  \n",
       "                    0.25             0.271876  0.307872  0.340412  0.377484  \n",
       "                    0.50             0.227877  0.259965  0.292282  0.302171  \n",
       "                    0.75             0.172385  0.198343  0.226857  0.235998  \n",
       "                    0.90             0.141590  0.160105  0.191971  0.201810  "
      ]
     },
     "execution_count": 78,
     "metadata": {},
     "output_type": "execute_result"
    }
   ],
   "source": [
    "df.loc[df.p_genetic_variance==0.05].groupby(['p_comb', 'p_random_mating'])['g4'].describe(percentiles=[0.5, 0.025, 0.975])"
   ]
  },
  {
   "cell_type": "code",
   "execution_count": 79,
   "metadata": {},
   "outputs": [
    {
     "name": "stdout",
     "output_type": "stream",
     "text": [
      "[0.1, 0.0, 0.2, 0.05]\n"
     ]
    },
    {
     "data": {
      "image/png": "[encoded data removed]",
      "text/plain": [
       "<Figure size 432x288 with 1 Axes>"
      ]
     },
     "metadata": {},
     "output_type": "display_data"
    },
    {
     "data": {
      "image/png": "[encoded data removed]",
      "text/plain": [
       "<Figure size 432x288 with 1 Axes>"
      ]
     },
     "metadata": {},
     "output_type": "display_data"
    },
    {
     "data": {
      "image/png": "[encoded data removed]",
      "text/plain": [
       "<Figure size 432x288 with 1 Axes>"
      ]
     },
     "metadata": {},
     "output_type": "display_data"
    },
    {
     "data": {
      "image/png": "[encoded data removed]",
      "text/plain": [
       "<Figure size 432x288 with 1 Axes>"
      ]
     },
     "metadata": {},
     "output_type": "display_data"
    }
   ],
   "source": [
    "s = df.loc[df.p_vertical_trans_variance != 0].copy()\n",
    "v = list(s.p_genetic_variance.unique())\n",
    "print(v)\n",
    "for i in v:\n",
    "    p = sns.barplot(y='g4', x='p_random_mating', hue='p_vertical_trans_variance',\n",
    "    data=s[s.p_genetic_variance==i], estimator=np.median, ci='sd');\n",
    "    p.set_ylabel(\"propotion obese\", fontsize = 10)\n",
    "    p.set_xlabel(\"random mating\", fontsize = 10)\n",
    "    p.set(title =\"genetic variance = \" + str(i))\n",
    "    p.set_ylim(0, 1.0)\n",
    "    plt.legend(title='vertical trans variance', bbox_to_anchor=(1.05, 1), loc=2, borderaxespad=0.)\n",
    "    plt.savefig(plots_path + \"prop-bmi-mating-vertical-trans-genes-test-\" + str(i).replace('.', '-') + \".pdf\", bbox_inches='tight')\n",
    "    shutil.copy(plots_path + \"prop-bmi-mating-vertical-trans-genes-test-\" + str(i).replace('.', '-') + \".pdf\", plot_manuscript)\n",
    "    plt.show()"
   ]
  },
  {
   "cell_type": "code",
   "execution_count": 80,
   "metadata": {},
   "outputs": [
    {
     "ename": "KeyboardInterrupt",
     "evalue": "",
     "output_type": "error",
     "traceback": [
      "\u001b[0;31m---------------------------------------------------------------------------\u001b[0m",
      "\u001b[0;31mKeyboardInterrupt\u001b[0m                         Traceback (most recent call last)",
      "\u001b[1;32m/Users/sdaza/Documents/git/heritability-dem/notebooks/outcome-analysis-by-scenario.ipynb Cell 10\u001b[0m in \u001b[0;36m<cell line: 3>\u001b[0;34m()\u001b[0m\n\u001b[1;32m      <a href='vscode-notebook-cell:/Users/sdaza/Documents/git/heritability-dem/notebooks/outcome-analysis-by-scenario.ipynb#ch0000010?line=0'>1</a>\u001b[0m \u001b[39m# vertical transmission = 0\u001b[39;00m\n\u001b[1;32m      <a href='vscode-notebook-cell:/Users/sdaza/Documents/git/heritability-dem/notebooks/outcome-analysis-by-scenario.ipynb#ch0000010?line=1'>2</a>\u001b[0m s \u001b[39m=\u001b[39m df\u001b[39m.\u001b[39mloc[(df\u001b[39m.\u001b[39mp_vertical_trans_variance \u001b[39m==\u001b[39m \u001b[39m0\u001b[39m) \u001b[39m&\u001b[39m (df\u001b[39m.\u001b[39mp_genetic_variance\u001b[39m>\u001b[39m\u001b[39m0\u001b[39m)]\u001b[39m.\u001b[39mcopy()\n\u001b[0;32m----> <a href='vscode-notebook-cell:/Users/sdaza/Documents/git/heritability-dem/notebooks/outcome-analysis-by-scenario.ipynb#ch0000010?line=2'>3</a>\u001b[0m p \u001b[39m=\u001b[39m sns\u001b[39m.\u001b[39;49mbarplot(y\u001b[39m=\u001b[39;49m\u001b[39m'\u001b[39;49m\u001b[39mg4\u001b[39;49m\u001b[39m'\u001b[39;49m, x\u001b[39m=\u001b[39;49m\u001b[39m'\u001b[39;49m\u001b[39mp_random_mating\u001b[39;49m\u001b[39m'\u001b[39;49m, hue\u001b[39m=\u001b[39;49m\u001b[39m'\u001b[39;49m\u001b[39mp_genetic_variance\u001b[39;49m\u001b[39m'\u001b[39;49m,\n\u001b[1;32m      <a href='vscode-notebook-cell:/Users/sdaza/Documents/git/heritability-dem/notebooks/outcome-analysis-by-scenario.ipynb#ch0000010?line=3'>4</a>\u001b[0m data\u001b[39m=\u001b[39;49ms, estimator\u001b[39m=\u001b[39;49mnp\u001b[39m.\u001b[39;49mmedian);\n\u001b[1;32m      <a href='vscode-notebook-cell:/Users/sdaza/Documents/git/heritability-dem/notebooks/outcome-analysis-by-scenario.ipynb#ch0000010?line=4'>5</a>\u001b[0m p\u001b[39m.\u001b[39mset_ylabel(\u001b[39m\"\u001b[39m\u001b[39mpropotion obese\u001b[39m\u001b[39m\"\u001b[39m, fontsize \u001b[39m=\u001b[39m \u001b[39m10\u001b[39m)\n\u001b[1;32m      <a href='vscode-notebook-cell:/Users/sdaza/Documents/git/heritability-dem/notebooks/outcome-analysis-by-scenario.ipynb#ch0000010?line=5'>6</a>\u001b[0m p\u001b[39m.\u001b[39mset_xlabel(\u001b[39m\"\u001b[39m\u001b[39mrandom mating\u001b[39m\u001b[39m\"\u001b[39m, fontsize \u001b[39m=\u001b[39m \u001b[39m10\u001b[39m)\n",
      "File \u001b[0;32m~/Documents/git/heritability-dem/env/lib/python3.9/site-packages/seaborn/categorical.py:2752\u001b[0m, in \u001b[0;36mbarplot\u001b[0;34m(data, x, y, hue, order, hue_order, estimator, ci, n_boot, units, seed, orient, color, palette, saturation, errcolor, errwidth, capsize, dodge, ax, **kwargs)\u001b[0m\n\u001b[1;32m   2743\u001b[0m \u001b[39mdef\u001b[39;00m \u001b[39mbarplot\u001b[39m(\n\u001b[1;32m   2744\u001b[0m     data\u001b[39m=\u001b[39m\u001b[39mNone\u001b[39;00m, \u001b[39m*\u001b[39m, x\u001b[39m=\u001b[39m\u001b[39mNone\u001b[39;00m, y\u001b[39m=\u001b[39m\u001b[39mNone\u001b[39;00m, hue\u001b[39m=\u001b[39m\u001b[39mNone\u001b[39;00m, order\u001b[39m=\u001b[39m\u001b[39mNone\u001b[39;00m, hue_order\u001b[39m=\u001b[39m\u001b[39mNone\u001b[39;00m,\n\u001b[1;32m   2745\u001b[0m     estimator\u001b[39m=\u001b[39mnp\u001b[39m.\u001b[39mmean, ci\u001b[39m=\u001b[39m\u001b[39m95\u001b[39m, n_boot\u001b[39m=\u001b[39m\u001b[39m1000\u001b[39m, units\u001b[39m=\u001b[39m\u001b[39mNone\u001b[39;00m, seed\u001b[39m=\u001b[39m\u001b[39mNone\u001b[39;00m,\n\u001b[0;32m   (...)\u001b[0m\n\u001b[1;32m   2749\u001b[0m     \u001b[39m*\u001b[39m\u001b[39m*\u001b[39mkwargs,\n\u001b[1;32m   2750\u001b[0m ):\n\u001b[0;32m-> 2752\u001b[0m     plotter \u001b[39m=\u001b[39m _BarPlotter(x, y, hue, data, order, hue_order,\n\u001b[1;32m   2753\u001b[0m                           estimator, ci, n_boot, units, seed,\n\u001b[1;32m   2754\u001b[0m                           orient, color, palette, saturation,\n\u001b[1;32m   2755\u001b[0m                           errcolor, errwidth, capsize, dodge)\n\u001b[1;32m   2757\u001b[0m     \u001b[39mif\u001b[39;00m ax \u001b[39mis\u001b[39;00m \u001b[39mNone\u001b[39;00m:\n\u001b[1;32m   2758\u001b[0m         ax \u001b[39m=\u001b[39m plt\u001b[39m.\u001b[39mgca()\n",
      "File \u001b[0;32m~/Documents/git/heritability-dem/env/lib/python3.9/site-packages/seaborn/categorical.py:1585\u001b[0m, in \u001b[0;36m_BarPlotter.__init__\u001b[0;34m(self, x, y, hue, data, order, hue_order, estimator, ci, n_boot, units, seed, orient, color, palette, saturation, errcolor, errwidth, capsize, dodge)\u001b[0m\n\u001b[1;32m   1582\u001b[0m \u001b[39mself\u001b[39m\u001b[39m.\u001b[39mestablish_variables(x, y, hue, data, orient,\n\u001b[1;32m   1583\u001b[0m                          order, hue_order, units)\n\u001b[1;32m   1584\u001b[0m \u001b[39mself\u001b[39m\u001b[39m.\u001b[39mestablish_colors(color, palette, saturation)\n\u001b[0;32m-> 1585\u001b[0m \u001b[39mself\u001b[39;49m\u001b[39m.\u001b[39;49mestimate_statistic(estimator, ci, n_boot, seed)\n\u001b[1;32m   1587\u001b[0m \u001b[39mself\u001b[39m\u001b[39m.\u001b[39mdodge \u001b[39m=\u001b[39m dodge\n\u001b[1;32m   1589\u001b[0m \u001b[39mself\u001b[39m\u001b[39m.\u001b[39merrcolor \u001b[39m=\u001b[39m errcolor\n",
      "File \u001b[0;32m~/Documents/git/heritability-dem/env/lib/python3.9/site-packages/seaborn/categorical.py:1535\u001b[0m, in \u001b[0;36m_CategoricalStatPlotter.estimate_statistic\u001b[0;34m(self, estimator, ci, n_boot, seed)\u001b[0m\n\u001b[1;32m   1531\u001b[0m                     confint[i]\u001b[39m.\u001b[39mappend((estimate \u001b[39m-\u001b[39m sd, estimate \u001b[39m+\u001b[39m sd))\n\u001b[1;32m   1533\u001b[0m                 \u001b[39melse\u001b[39;00m:\n\u001b[0;32m-> 1535\u001b[0m                     boots \u001b[39m=\u001b[39m bootstrap(stat_data, func\u001b[39m=\u001b[39;49mestimator,\n\u001b[1;32m   1536\u001b[0m                                       n_boot\u001b[39m=\u001b[39;49mn_boot,\n\u001b[1;32m   1537\u001b[0m                                       units\u001b[39m=\u001b[39;49munit_data,\n\u001b[1;32m   1538\u001b[0m                                       seed\u001b[39m=\u001b[39;49mseed)\n\u001b[1;32m   1539\u001b[0m                     confint[i]\u001b[39m.\u001b[39mappend(utils\u001b[39m.\u001b[39mci(boots, ci))\n\u001b[1;32m   1541\u001b[0m \u001b[39m# Save the resulting values for plotting\u001b[39;00m\n",
      "File \u001b[0;32m~/Documents/git/heritability-dem/env/lib/python3.9/site-packages/seaborn/algorithms.py:98\u001b[0m, in \u001b[0;36mbootstrap\u001b[0;34m(*args, **kwargs)\u001b[0m\n\u001b[1;32m     96\u001b[0m     resampler \u001b[39m=\u001b[39m integers(\u001b[39m0\u001b[39m, n, n, dtype\u001b[39m=\u001b[39mnp\u001b[39m.\u001b[39mintp)  \u001b[39m# intp is indexing dtype\u001b[39;00m\n\u001b[1;32m     97\u001b[0m     sample \u001b[39m=\u001b[39m [a\u001b[39m.\u001b[39mtake(resampler, axis\u001b[39m=\u001b[39m\u001b[39m0\u001b[39m) \u001b[39mfor\u001b[39;00m a \u001b[39min\u001b[39;00m args]\n\u001b[0;32m---> 98\u001b[0m     boot_dist\u001b[39m.\u001b[39mappend(f(\u001b[39m*\u001b[39;49msample, \u001b[39m*\u001b[39;49m\u001b[39m*\u001b[39;49mfunc_kwargs))\n\u001b[1;32m     99\u001b[0m \u001b[39mreturn\u001b[39;00m np\u001b[39m.\u001b[39marray(boot_dist)\n",
      "File \u001b[0;32m<__array_function__ internals>:180\u001b[0m, in \u001b[0;36mmedian\u001b[0;34m(*args, **kwargs)\u001b[0m\n",
      "File \u001b[0;32m~/Documents/git/heritability-dem/env/lib/python3.9/site-packages/numpy/lib/function_base.py:3793\u001b[0m, in \u001b[0;36mmedian\u001b[0;34m(a, axis, out, overwrite_input, keepdims)\u001b[0m\n\u001b[1;32m   3711\u001b[0m \u001b[39m@array_function_dispatch\u001b[39m(_median_dispatcher)\n\u001b[1;32m   3712\u001b[0m \u001b[39mdef\u001b[39;00m \u001b[39mmedian\u001b[39m(a, axis\u001b[39m=\u001b[39m\u001b[39mNone\u001b[39;00m, out\u001b[39m=\u001b[39m\u001b[39mNone\u001b[39;00m, overwrite_input\u001b[39m=\u001b[39m\u001b[39mFalse\u001b[39;00m, keepdims\u001b[39m=\u001b[39m\u001b[39mFalse\u001b[39;00m):\n\u001b[1;32m   3713\u001b[0m     \u001b[39m\"\"\"\u001b[39;00m\n\u001b[1;32m   3714\u001b[0m \u001b[39m    Compute the median along the specified axis.\u001b[39;00m\n\u001b[1;32m   3715\u001b[0m \n\u001b[0;32m   (...)\u001b[0m\n\u001b[1;32m   3791\u001b[0m \n\u001b[1;32m   3792\u001b[0m \u001b[39m    \"\"\"\u001b[39;00m\n\u001b[0;32m-> 3793\u001b[0m     r, k \u001b[39m=\u001b[39m _ureduce(a, func\u001b[39m=\u001b[39;49m_median, axis\u001b[39m=\u001b[39;49maxis, out\u001b[39m=\u001b[39;49mout,\n\u001b[1;32m   3794\u001b[0m                     overwrite_input\u001b[39m=\u001b[39;49moverwrite_input)\n\u001b[1;32m   3795\u001b[0m     \u001b[39mif\u001b[39;00m keepdims:\n\u001b[1;32m   3796\u001b[0m         \u001b[39mreturn\u001b[39;00m r\u001b[39m.\u001b[39mreshape(k)\n",
      "File \u001b[0;32m~/Documents/git/heritability-dem/env/lib/python3.9/site-packages/numpy/lib/function_base.py:3702\u001b[0m, in \u001b[0;36m_ureduce\u001b[0;34m(a, func, **kwargs)\u001b[0m\n\u001b[1;32m   3699\u001b[0m \u001b[39melse\u001b[39;00m:\n\u001b[1;32m   3700\u001b[0m     keepdim \u001b[39m=\u001b[39m (\u001b[39m1\u001b[39m,) \u001b[39m*\u001b[39m a\u001b[39m.\u001b[39mndim\n\u001b[0;32m-> 3702\u001b[0m r \u001b[39m=\u001b[39m func(a, \u001b[39m*\u001b[39;49m\u001b[39m*\u001b[39;49mkwargs)\n\u001b[1;32m   3703\u001b[0m \u001b[39mreturn\u001b[39;00m r, keepdim\n",
      "File \u001b[0;32m~/Documents/git/heritability-dem/env/lib/python3.9/site-packages/numpy/lib/function_base.py:3847\u001b[0m, in \u001b[0;36m_median\u001b[0;34m(a, axis, out, overwrite_input)\u001b[0m\n\u001b[1;32m   3843\u001b[0m indexer \u001b[39m=\u001b[39m \u001b[39mtuple\u001b[39m(indexer)\n\u001b[1;32m   3845\u001b[0m \u001b[39m# Use mean in both odd and even case to coerce data type,\u001b[39;00m\n\u001b[1;32m   3846\u001b[0m \u001b[39m# using out array if needed.\u001b[39;00m\n\u001b[0;32m-> 3847\u001b[0m rout \u001b[39m=\u001b[39m mean(part[indexer], axis\u001b[39m=\u001b[39;49maxis, out\u001b[39m=\u001b[39;49mout)\n\u001b[1;32m   3848\u001b[0m \u001b[39m# Check if the array contains any nan's\u001b[39;00m\n\u001b[1;32m   3849\u001b[0m \u001b[39mif\u001b[39;00m np\u001b[39m.\u001b[39missubdtype(a\u001b[39m.\u001b[39mdtype, np\u001b[39m.\u001b[39minexact) \u001b[39mand\u001b[39;00m sz \u001b[39m>\u001b[39m \u001b[39m0\u001b[39m:\n\u001b[1;32m   3850\u001b[0m     \u001b[39m# If nans are possible, warn and replace by nans like mean would.\u001b[39;00m\n",
      "File \u001b[0;32m<__array_function__ internals>:180\u001b[0m, in \u001b[0;36mmean\u001b[0;34m(*args, **kwargs)\u001b[0m\n",
      "File \u001b[0;32m~/Documents/git/heritability-dem/env/lib/python3.9/site-packages/numpy/core/fromnumeric.py:3474\u001b[0m, in \u001b[0;36mmean\u001b[0;34m(a, axis, dtype, out, keepdims, where)\u001b[0m\n\u001b[1;32m   3471\u001b[0m     \u001b[39melse\u001b[39;00m:\n\u001b[1;32m   3472\u001b[0m         \u001b[39mreturn\u001b[39;00m mean(axis\u001b[39m=\u001b[39maxis, dtype\u001b[39m=\u001b[39mdtype, out\u001b[39m=\u001b[39mout, \u001b[39m*\u001b[39m\u001b[39m*\u001b[39mkwargs)\n\u001b[0;32m-> 3474\u001b[0m \u001b[39mreturn\u001b[39;00m _methods\u001b[39m.\u001b[39;49m_mean(a, axis\u001b[39m=\u001b[39;49maxis, dtype\u001b[39m=\u001b[39;49mdtype,\n\u001b[1;32m   3475\u001b[0m                       out\u001b[39m=\u001b[39;49mout, \u001b[39m*\u001b[39;49m\u001b[39m*\u001b[39;49mkwargs)\n",
      "File \u001b[0;32m~/Documents/git/heritability-dem/env/lib/python3.9/site-packages/numpy/core/_methods.py:173\u001b[0m, in \u001b[0;36m_mean\u001b[0;34m(a, axis, dtype, out, keepdims, where)\u001b[0m\n\u001b[1;32m    171\u001b[0m \u001b[39m# Cast bool, unsigned int, and int to float64 by default\u001b[39;00m\n\u001b[1;32m    172\u001b[0m \u001b[39mif\u001b[39;00m dtype \u001b[39mis\u001b[39;00m \u001b[39mNone\u001b[39;00m:\n\u001b[0;32m--> 173\u001b[0m     \u001b[39mif\u001b[39;00m \u001b[39missubclass\u001b[39m(arr\u001b[39m.\u001b[39mdtype\u001b[39m.\u001b[39mtype, (nt\u001b[39m.\u001b[39minteger, nt\u001b[39m.\u001b[39mbool_)):\n\u001b[1;32m    174\u001b[0m         dtype \u001b[39m=\u001b[39m mu\u001b[39m.\u001b[39mdtype(\u001b[39m'\u001b[39m\u001b[39mf8\u001b[39m\u001b[39m'\u001b[39m)\n\u001b[1;32m    175\u001b[0m     \u001b[39melif\u001b[39;00m \u001b[39missubclass\u001b[39m(arr\u001b[39m.\u001b[39mdtype\u001b[39m.\u001b[39mtype, nt\u001b[39m.\u001b[39mfloat16):\n",
      "\u001b[0;31mKeyboardInterrupt\u001b[0m: "
     ]
    }
   ],
   "source": [
    "# vertical transmission = 0\n",
    "s = df.loc[(df.p_vertical_trans_variance == 0) & (df.p_genetic_variance>0)].copy()\n",
    "p = sns.barplot(y='g4', x='p_random_mating', hue='p_genetic_variance',\n",
    "data=s, estimator=np.median);\n",
    "p.set_ylabel(\"propotion obese\", fontsize = 10)\n",
    "p.set_xlabel(\"random mating\", fontsize = 10)\n",
    "p.set(title =\"vertical transmission = \" + str(0))\n",
    "p.set_ylim(0, 1.0)\n",
    "plt.legend(title='genetic variance', bbox_to_anchor=(1.05, 1), loc=2, borderaxespad=0.)\n",
    "plt.savefig(plots_path + \"prop-bmi-mating-genes-vertical-trans-test-\" + str(0) + \".pdf\", bbox_inches='tight')\n",
    "shutil.copy(plots_path + \"prop-bmi-mating-genes-vertical-trans-test-\" + str(0) + \".pdf\", plot_manuscript)\n",
    "plt.show()"
   ]
  },
  {
   "cell_type": "markdown",
   "metadata": {},
   "source": [
    "# Genes + Vertical transmission + Fertiliy"
   ]
  },
  {
   "cell_type": "code",
   "execution_count": null,
   "metadata": {},
   "outputs": [
    {
     "data": {
      "text/plain": [
       "(6400, 4)"
      ]
     },
     "execution_count": 62,
     "metadata": {},
     "output_type": "execute_result"
    }
   ],
   "source": [
    "# scenarios genes + vertical transmission\n",
    "replicates = 100\n",
    "d = {'fertility' :  [0.0, .10, 0.20, 0.30],\n",
    "    'genes' : [0.0, 0.05, 0.10, 0.20],\n",
    "    'vertical-trans' : [0.0, 0.05, 0.10, 0.20]}\n",
    "\n",
    "df = pd.DataFrame(product_dict(**d))\n",
    "df['iteration'] = df.groupby(list(d)).ngroup()\n",
    "df = df.loc[df.index.repeat(replicates)]\n",
    "vars = ['iteration', 'fertility', 'genes', 'vertical-trans']\n",
    "df.loc[:,vars].to_csv(model_path + \"data/param-bmi-fertility-genes-vertical-trans-test.csv\", index=False)\n",
    "df.loc[:,vars].shape"
   ]
  },
  {
   "cell_type": "code",
   "execution_count": null,
   "metadata": {},
   "outputs": [
    {
     "name": "stderr",
     "output_type": "stream",
     "text": [
      "/var/folders/36/wsfqn0_j2ng6r0b58wc559fc0000gn/T/ipykernel_51353/4115404729.py:7: FutureWarning: The default value of regex will change from True to False in a future version.\n",
      "  cols = df.bmi_category_prop.str.replace(r'\\[|\\]', '').str.split(\",\", n=4, expand=True)\n"
     ]
    }
   ],
   "source": [
    "vars = ['iteration', 'p_genetic_variance', 'p_vertical_trans_variance', \n",
    "    'p_random_mating', 'p_fertility_factor']\n",
    "df = pd.read_csv(output_path + \"results-bmi-fertility-genes-vertical-trans-test.csv\", sep = \";\")\n",
    "params = pd.read_csv(output_path + \"param-bmi-fertility-genes-vertical-trans-test.csv\", sep = \";\")\n",
    "params = params. drop_duplicates(subset=vars)\n",
    "\n",
    "cols = df.bmi_category_prop.str.replace(r'\\[|\\]', '').str.split(\",\", n=4, expand=True)\n",
    "colnames = ['g'+str(i+1) for i in range(4)]\n",
    "cols.columns = colnames\n",
    "cols = cols[colnames].apply(pd.to_numeric)\n",
    "df = pd.concat([df, cols], axis=1, ignore_index=False)\n",
    "df = df.merge(params, on = [\"iteration\"])\n",
    "df['p_comb'] = 'G = ' + df['p_genetic_variance'].map(str)  + ', VT = ' + df['p_vertical_trans_variance'].map(str)"
   ]
  },
  {
   "cell_type": "code",
   "execution_count": null,
   "metadata": {},
   "outputs": [
    {
     "data": {
      "text/plain": [
       "(6400, 28)"
      ]
     },
     "execution_count": 64,
     "metadata": {},
     "output_type": "execute_result"
    }
   ],
   "source": [
    "df.shape"
   ]
  },
  {
   "cell_type": "code",
   "execution_count": null,
   "metadata": {},
   "outputs": [
    {
     "data": {
      "text/html": [
       "<div>\n",
       "<style scoped>\n",
       "    .dataframe tbody tr th:only-of-type {\n",
       "        vertical-align: middle;\n",
       "    }\n",
       "\n",
       "    .dataframe tbody tr th {\n",
       "        vertical-align: top;\n",
       "    }\n",
       "\n",
       "    .dataframe thead th {\n",
       "        text-align: right;\n",
       "    }\n",
       "</style>\n",
       "<table border=\"1\" class=\"dataframe\">\n",
       "  <thead>\n",
       "    <tr style=\"text-align: right;\">\n",
       "      <th></th>\n",
       "      <th></th>\n",
       "      <th>count</th>\n",
       "      <th>mean</th>\n",
       "      <th>std</th>\n",
       "      <th>min</th>\n",
       "      <th>2.5%</th>\n",
       "      <th>50%</th>\n",
       "      <th>97.5%</th>\n",
       "      <th>max</th>\n",
       "    </tr>\n",
       "    <tr>\n",
       "      <th>p_comb</th>\n",
       "      <th>p_fertility_factor</th>\n",
       "      <th></th>\n",
       "      <th></th>\n",
       "      <th></th>\n",
       "      <th></th>\n",
       "      <th></th>\n",
       "      <th></th>\n",
       "      <th></th>\n",
       "      <th></th>\n",
       "    </tr>\n",
       "  </thead>\n",
       "  <tbody>\n",
       "    <tr>\n",
       "      <th>G = 0.0, VT = 0.0</th>\n",
       "      <th>0.0</th>\n",
       "      <td>100.0</td>\n",
       "      <td>0.080631</td>\n",
       "      <td>0.002004</td>\n",
       "      <td>0.076214</td>\n",
       "      <td>0.077041</td>\n",
       "      <td>0.080397</td>\n",
       "      <td>0.084911</td>\n",
       "      <td>0.086017</td>\n",
       "    </tr>\n",
       "    <tr>\n",
       "      <th>G = 0.05, VT = 0.0</th>\n",
       "      <th>0.0</th>\n",
       "      <td>100.0</td>\n",
       "      <td>0.082751</td>\n",
       "      <td>0.004439</td>\n",
       "      <td>0.073879</td>\n",
       "      <td>0.075004</td>\n",
       "      <td>0.082607</td>\n",
       "      <td>0.091567</td>\n",
       "      <td>0.092898</td>\n",
       "    </tr>\n",
       "    <tr>\n",
       "      <th>G = 0.1, VT = 0.0</th>\n",
       "      <th>0.0</th>\n",
       "      <td>100.0</td>\n",
       "      <td>0.083174</td>\n",
       "      <td>0.004721</td>\n",
       "      <td>0.072345</td>\n",
       "      <td>0.074530</td>\n",
       "      <td>0.083196</td>\n",
       "      <td>0.092041</td>\n",
       "      <td>0.095012</td>\n",
       "    </tr>\n",
       "    <tr>\n",
       "      <th>G = 0.2, VT = 0.0</th>\n",
       "      <th>0.0</th>\n",
       "      <td>100.0</td>\n",
       "      <td>0.087797</td>\n",
       "      <td>0.007573</td>\n",
       "      <td>0.067969</td>\n",
       "      <td>0.073500</td>\n",
       "      <td>0.086711</td>\n",
       "      <td>0.102867</td>\n",
       "      <td>0.107465</td>\n",
       "    </tr>\n",
       "  </tbody>\n",
       "</table>\n",
       "</div>"
      ],
      "text/plain": [
       "                                       count      mean       std       min  \\\n",
       "p_comb             p_fertility_factor                                        \n",
       "G = 0.0, VT = 0.0  0.0                 100.0  0.080631  0.002004  0.076214   \n",
       "G = 0.05, VT = 0.0 0.0                 100.0  0.082751  0.004439  0.073879   \n",
       "G = 0.1, VT = 0.0  0.0                 100.0  0.083174  0.004721  0.072345   \n",
       "G = 0.2, VT = 0.0  0.0                 100.0  0.087797  0.007573  0.067969   \n",
       "\n",
       "                                           2.5%       50%     97.5%       max  \n",
       "p_comb             p_fertility_factor                                          \n",
       "G = 0.0, VT = 0.0  0.0                 0.077041  0.080397  0.084911  0.086017  \n",
       "G = 0.05, VT = 0.0 0.0                 0.075004  0.082607  0.091567  0.092898  \n",
       "G = 0.1, VT = 0.0  0.0                 0.074530  0.083196  0.092041  0.095012  \n",
       "G = 0.2, VT = 0.0  0.0                 0.073500  0.086711  0.102867  0.107465  "
      ]
     },
     "execution_count": 65,
     "metadata": {},
     "output_type": "execute_result"
    }
   ],
   "source": [
    "df.loc[(df.p_fertility_factor==0) & (df.p_vertical_trans_variance==0)].groupby(['p_comb', 'p_fertility_factor'])['g4'].describe(percentiles=[0.5, 0.025, 0.975])"
   ]
  },
  {
   "cell_type": "code",
   "execution_count": null,
   "metadata": {},
   "outputs": [
    {
     "name": "stdout",
     "output_type": "stream",
     "text": [
      "[0.1, 0.0, 0.2, 0.05]\n"
     ]
    },
    {
     "data": {
      "image/png": "[encoded data removed]",
      "text/plain": [
       "<Figure size 432x288 with 1 Axes>"
      ]
     },
     "metadata": {},
     "output_type": "display_data"
    },
    {
     "data": {
      "image/png": "[encoded data removed]",
      "text/plain": [
       "<Figure size 432x288 with 1 Axes>"
      ]
     },
     "metadata": {},
     "output_type": "display_data"
    },
    {
     "data": {
      "image/png": "[encoded data removed]",
      "text/plain": [
       "<Figure size 432x288 with 1 Axes>"
      ]
     },
     "metadata": {},
     "output_type": "display_data"
    },
    {
     "data": {
      "image/png": "[encoded data removed]",
      "text/plain": [
       "<Figure size 432x288 with 1 Axes>"
      ]
     },
     "metadata": {},
     "output_type": "display_data"
    }
   ],
   "source": [
    "s = df.loc[df.p_vertical_trans_variance != 0].copy()\n",
    "v = list(s.p_genetic_variance.unique())\n",
    "print(v)\n",
    "for i in v:\n",
    "    p = sns.barplot(y='g4', x='p_fertility_factor', hue='p_vertical_trans_variance',\n",
    "    data=s[s.p_genetic_variance==i], estimator=np.median, ci='sd');\n",
    "    p.set_ylabel(\"proportion obese\", fontsize = 10)\n",
    "    p.set_xlabel(\"fertility differential\", fontsize = 10)\n",
    "    p.set(title =\"genetic variance = \" + str(i))\n",
    "    p.set_ylim(0, 1.0)\n",
    "    plt.legend(title='vertical trans variance', bbox_to_anchor=(1.05, 1), loc=2, borderaxespad=0.)\n",
    "    plt.savefig(plots_path + \"prop-bmi-fertility-vertical-trans-genes-test-\" + str(i).replace('.', '-') + \".pdf\", bbox_inches='tight')\n",
    "    shutil.copy(plots_path + \"prop-bmi-fertility-vertical-trans-genes-test-\" + str(i).replace('.', '-') + \".pdf\", plot_manuscript)\n",
    "    plt.show()"
   ]
  },
  {
   "cell_type": "code",
   "execution_count": null,
   "metadata": {},
   "outputs": [
    {
     "data": {
      "image/png": "[encoded data removed]",
      "text/plain": [
       "<Figure size 432x288 with 1 Axes>"
      ]
     },
     "metadata": {},
     "output_type": "display_data"
    }
   ],
   "source": [
    "# vertical transmission = 0\n",
    "s = df.loc[(df.p_vertical_trans_variance==0) & (df.p_genetic_variance>0)].copy()\n",
    "p = sns.barplot(y='g4', x='p_fertility_factor', hue='p_genetic_variance',\n",
    "data=s, estimator=np.median);\n",
    "p.set_ylabel(\"propotion obese\", fontsize = 10)\n",
    "p.set_xlabel(\"fertility differential\", fontsize = 10)\n",
    "p.set(title =\"vertical transmission = \" + str(0))\n",
    "p.set_ylim(0, 1.0)\n",
    "plt.legend(title='genetic variance', bbox_to_anchor=(1.05, 1), loc=2, borderaxespad=0.)\n",
    "plt.savefig(plots_path + \"prop-bmi-fertility-genes-vertical-trans-test-\" + str(0) + \".pdf\", bbox_inches='tight')\n",
    "shutil.copy(plots_path + \"prop-bmi-fertility-genes-vertical-trans-test-\" + str(0) + \".pdf\", plot_manuscript)\n",
    "plt.show()"
   ]
  },
  {
   "cell_type": "markdown",
   "metadata": {},
   "source": [
    "# No mating and fertlity differentials"
   ]
  },
  {
   "cell_type": "code",
   "execution_count": null,
   "metadata": {},
   "outputs": [
    {
     "data": {
      "text/plain": [
       "(1600, 5)"
      ]
     },
     "execution_count": 68,
     "metadata": {},
     "output_type": "execute_result"
    }
   ],
   "source": [
    "replicates = 100\n",
    "d = {'random-mating' :  [1.0],\n",
    "    'fertility': [0.0],\n",
    "    'genes' : [0.0, 0.05, 0.10, 0.20],\n",
    "    'vertical-trans' : [0.0, 0.05, 0.10, 0.20]}\n",
    "\n",
    "df = pd.DataFrame(product_dict(**d))\n",
    "df['iteration'] = df.groupby(list(d)).ngroup()\n",
    "df = df.loc[df.index.repeat(replicates)]\n",
    "vars = ['iteration', 'random-mating', 'fertility', 'genes', 'vertical-trans']\n",
    "df.loc[:,vars].to_csv(model_path + \"data/param-bmi-only-genes-vertical-trans-test.csv\", index=False)\n",
    "df.loc[:,vars].shape"
   ]
  },
  {
   "cell_type": "code",
   "execution_count": null,
   "metadata": {},
   "outputs": [
    {
     "data": {
      "text/html": [
       "<div>\n",
       "<style scoped>\n",
       "    .dataframe tbody tr th:only-of-type {\n",
       "        vertical-align: middle;\n",
       "    }\n",
       "\n",
       "    .dataframe tbody tr th {\n",
       "        vertical-align: top;\n",
       "    }\n",
       "\n",
       "    .dataframe thead th {\n",
       "        text-align: right;\n",
       "    }\n",
       "</style>\n",
       "<table border=\"1\" class=\"dataframe\">\n",
       "  <thead>\n",
       "    <tr style=\"text-align: right;\">\n",
       "      <th></th>\n",
       "      <th>random-mating</th>\n",
       "      <th>fertility</th>\n",
       "      <th>genes</th>\n",
       "      <th>vertical-trans</th>\n",
       "      <th>iteration</th>\n",
       "    </tr>\n",
       "  </thead>\n",
       "  <tbody>\n",
       "    <tr>\n",
       "      <th>count</th>\n",
       "      <td>1600.0</td>\n",
       "      <td>1600.0</td>\n",
       "      <td>1600.000000</td>\n",
       "      <td>1600.000000</td>\n",
       "      <td>1600.000000</td>\n",
       "    </tr>\n",
       "    <tr>\n",
       "      <th>mean</th>\n",
       "      <td>1.0</td>\n",
       "      <td>0.0</td>\n",
       "      <td>0.087500</td>\n",
       "      <td>0.087500</td>\n",
       "      <td>7.500000</td>\n",
       "    </tr>\n",
       "    <tr>\n",
       "      <th>std</th>\n",
       "      <td>0.0</td>\n",
       "      <td>0.0</td>\n",
       "      <td>0.073974</td>\n",
       "      <td>0.073974</td>\n",
       "      <td>4.611213</td>\n",
       "    </tr>\n",
       "    <tr>\n",
       "      <th>min</th>\n",
       "      <td>1.0</td>\n",
       "      <td>0.0</td>\n",
       "      <td>0.000000</td>\n",
       "      <td>0.000000</td>\n",
       "      <td>0.000000</td>\n",
       "    </tr>\n",
       "    <tr>\n",
       "      <th>25%</th>\n",
       "      <td>1.0</td>\n",
       "      <td>0.0</td>\n",
       "      <td>0.037500</td>\n",
       "      <td>0.037500</td>\n",
       "      <td>3.750000</td>\n",
       "    </tr>\n",
       "    <tr>\n",
       "      <th>50%</th>\n",
       "      <td>1.0</td>\n",
       "      <td>0.0</td>\n",
       "      <td>0.075000</td>\n",
       "      <td>0.075000</td>\n",
       "      <td>7.500000</td>\n",
       "    </tr>\n",
       "    <tr>\n",
       "      <th>75%</th>\n",
       "      <td>1.0</td>\n",
       "      <td>0.0</td>\n",
       "      <td>0.125000</td>\n",
       "      <td>0.125000</td>\n",
       "      <td>11.250000</td>\n",
       "    </tr>\n",
       "    <tr>\n",
       "      <th>max</th>\n",
       "      <td>1.0</td>\n",
       "      <td>0.0</td>\n",
       "      <td>0.200000</td>\n",
       "      <td>0.200000</td>\n",
       "      <td>15.000000</td>\n",
       "    </tr>\n",
       "  </tbody>\n",
       "</table>\n",
       "</div>"
      ],
      "text/plain": [
       "       random-mating  fertility        genes  vertical-trans    iteration\n",
       "count         1600.0     1600.0  1600.000000     1600.000000  1600.000000\n",
       "mean             1.0        0.0     0.087500        0.087500     7.500000\n",
       "std              0.0        0.0     0.073974        0.073974     4.611213\n",
       "min              1.0        0.0     0.000000        0.000000     0.000000\n",
       "25%              1.0        0.0     0.037500        0.037500     3.750000\n",
       "50%              1.0        0.0     0.075000        0.075000     7.500000\n",
       "75%              1.0        0.0     0.125000        0.125000    11.250000\n",
       "max              1.0        0.0     0.200000        0.200000    15.000000"
      ]
     },
     "execution_count": 69,
     "metadata": {},
     "output_type": "execute_result"
    }
   ],
   "source": [
    "df.describe()"
   ]
  },
  {
   "cell_type": "code",
   "execution_count": null,
   "metadata": {},
   "outputs": [
    {
     "name": "stderr",
     "output_type": "stream",
     "text": [
      "/var/folders/36/wsfqn0_j2ng6r0b58wc559fc0000gn/T/ipykernel_51353/1973531835.py:7: FutureWarning: The default value of regex will change from True to False in a future version.\n",
      "  cols = df.bmi_category_prop.str.replace(r'\\[|\\]', '').str.split(\",\", n=4, expand=True)\n"
     ]
    }
   ],
   "source": [
    "vars = ['iteration', 'p_genetic_variance', 'p_vertical_trans_variance', \n",
    "    'p_random_mating', 'p_fertility_factor']\n",
    "df = pd.read_csv(output_path + \"results-bmi-only-genes-vertical-trans-test.csv\", sep = \";\")\n",
    "params = pd.read_csv(output_path + \"param-bmi-only-genes-vertical-trans-test.csv\", sep = \";\")\n",
    "params = params. drop_duplicates(subset=vars)\n",
    "\n",
    "cols = df.bmi_category_prop.str.replace(r'\\[|\\]', '').str.split(\",\", n=4, expand=True)\n",
    "colnames = ['g'+str(i+1) for i in range(4)]\n",
    "cols.columns = colnames\n",
    "cols = cols[colnames].apply(pd.to_numeric)\n",
    "df = pd.concat([df, cols], axis=1, ignore_index=False)\n",
    "df = df.merge(params, on = [\"iteration\"])\n",
    "df['p_comb'] = 'G = ' + df['p_genetic_variance'].map(str)  + ', VT = ' + df['p_vertical_trans_variance'].map(str)"
   ]
  },
  {
   "cell_type": "code",
   "execution_count": null,
   "metadata": {},
   "outputs": [
    {
     "data": {
      "text/plain": [
       "1.0    1600\n",
       "Name: p_random_mating, dtype: int64"
      ]
     },
     "execution_count": 71,
     "metadata": {},
     "output_type": "execute_result"
    }
   ],
   "source": [
    "df.p_random_mating.value_counts()"
   ]
  },
  {
   "cell_type": "code",
   "execution_count": null,
   "metadata": {},
   "outputs": [
    {
     "data": {
      "text/plain": [
       "0.0    1600\n",
       "Name: p_fertility_factor, dtype: int64"
      ]
     },
     "execution_count": 72,
     "metadata": {},
     "output_type": "execute_result"
    }
   ],
   "source": [
    "df.p_fertility_factor.value_counts()"
   ]
  },
  {
   "cell_type": "code",
   "execution_count": null,
   "metadata": {},
   "outputs": [
    {
     "data": {
      "image/png": "[encoded data removed]",
      "text/plain": [
       "<Figure size 432x288 with 1 Axes>"
      ]
     },
     "metadata": {},
     "output_type": "display_data"
    }
   ],
   "source": [
    "s = df.copy()\n",
    "p = sns.barplot(y='g4', x='p_genetic_variance', hue='p_vertical_trans_variance', data=s, ci='sd')\n",
    "p.set_ylabel(\"proportion obese\", fontsize = 10)\n",
    "p.set_xlabel(\"genetic variance\", fontsize = 10)\n",
    "p.set_ylim(0, 0.3)\n",
    "plt.legend(title='vertical trans variance', bbox_to_anchor=(1.05, 1), loc=2, borderaxespad=0.)\n",
    "plt.savefig(plots_path + \"prop-bmi-only-vertical-trans-genes-test.pdf\", bbox_inches='tight')\n",
    "shutil.copy(plots_path + \"prop-bmi-only-vertical-trans-genes-test.pdf\", plot_manuscript)\n",
    "plt.show()"
   ]
  }
 ],
 "metadata": {
  "kernelspec": {
   "display_name": "Python 3.9.2 ('env': venv)",
   "language": "python",
   "name": "python3"
  },
  "language_info": {
   "codemirror_mode": {
    "name": "ipython",
    "version": 3
   },
   "file_extension": ".py",
   "mimetype": "text/x-python",
   "name": "python",
   "nbconvert_exporter": "python",
   "pygments_lexer": "ipython3",
   "version": "3.9.2"
  },
  "vscode": {
   "interpreter": {
    "hash": "a0f0b72a04c8b6986553e1ade3ed1bbe2212da0e0709325fafa3ce2ffc97dd20"
   }
  }
 },
 "nbformat": 4,
 "nbformat_minor": 2
}
