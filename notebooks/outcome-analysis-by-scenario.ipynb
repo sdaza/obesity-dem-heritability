{
 "cells": [
  {
   "cell_type": "markdown",
   "metadata": {},
   "source": [
    "# BMI analysis"
   ]
  },
  {
   "cell_type": "code",
   "execution_count": 34,
   "metadata": {},
   "outputs": [],
   "source": [
    "from matplotlib import pyplot as plt\n",
    "import seaborn as sns\n",
    "import pandas as pd\n",
    "import numpy as np\n",
    "import shutil\n",
    "import itertools\n",
    "\n",
    "model_path = \"../models/BMI-SNP/\"\n",
    "output_path = \"../output/data/\"\n",
    "plots_path = \"../output/plots/\"\n",
    "plot_manuscript = \"../manuscript/plots/\"\n",
    "\n",
    "def product_dict(**kwargs):\n",
    "    keys = kwargs.keys()\n",
    "    vals = kwargs.values()\n",
    "    for instance in itertools.product(*vals):\n",
    "        yield dict(zip(keys, instance))"
   ]
  },
  {
   "cell_type": "markdown",
   "metadata": {},
   "source": [
    "# Define parameters"
   ]
  },
  {
   "cell_type": "code",
   "execution_count": 35,
   "metadata": {},
   "outputs": [
    {
     "data": {
      "text/plain": [
       "(8000, 4)"
      ]
     },
     "execution_count": 35,
     "metadata": {},
     "output_type": "execute_result"
    }
   ],
   "source": [
    "# scenarios genes + vertical transmission\n",
    "replicates = 100\n",
    "d = {'random-mating' :  [0.10, .25, 0.5, 0.75, 0.90],\n",
    "    'genes' : [0.0, 0.05, 0.10, 0.20],\n",
    "    'vertical-trans' : [0.0, 0.05, 0.10, 0.20]}\n",
    "\n",
    "df = pd.DataFrame(product_dict(**d))\n",
    "df['iteration'] = df.groupby(list(d)).ngroup()\n",
    "df = df.loc[df.index.repeat(replicates)]\n",
    "vars = ['iteration', 'random-mating', 'genes', 'vertical-trans']\n",
    "df.loc[:,vars].to_csv(model_path + \"data/param-bmi-mating-genes-vertical-trans-test.csv\", index=False)\n",
    "df.loc[:,vars].shape"
   ]
  },
  {
   "cell_type": "markdown",
   "metadata": {},
   "source": [
    "# Genes + Vertical transmission + Mating"
   ]
  },
  {
   "cell_type": "code",
   "execution_count": 36,
   "metadata": {},
   "outputs": [
    {
     "name": "stderr",
     "output_type": "stream",
     "text": [
      "/var/folders/36/wsfqn0_j2ng6r0b58wc559fc0000gn/T/ipykernel_88369/1305005866.py:7: FutureWarning: The default value of regex will change from True to False in a future version.\n",
      "  cols = df.bmi_category_prop.str.replace(r'\\[|\\]', '').str.split(\",\", n=4, expand=True)\n"
     ]
    }
   ],
   "source": [
    "vars = ['iteration', 'p_genetic_variance', 'p_vertical_trans_variance', \n",
    "    'p_random_mating', 'p_fertility_factor']\n",
    "df = pd.read_csv(output_path + \"results-bmi-mating-genes-vertical-trans-test.csv\", sep = \";\")\n",
    "params = pd.read_csv(output_path + \"param-bmi-mating-genes-vertical-trans-test.csv\", sep = \";\")\n",
    "params = params. drop_duplicates(subset=vars)\n",
    "\n",
    "cols = df.bmi_category_prop.str.replace(r'\\[|\\]', '').str.split(\",\", n=4, expand=True)\n",
    "colnames = ['g'+str(i+1) for i in range(4)]\n",
    "cols.columns = colnames\n",
    "cols = cols[colnames].apply(pd.to_numeric)\n",
    "df = pd.concat([df, cols], axis=1, ignore_index=False)\n",
    "df = df.merge(params, on = [\"iteration\"])\n",
    "df['p_comb'] = 'G = ' + df['p_genetic_variance'].map(str)  + ', VT = ' + df['p_vertical_trans_variance'].map(str)"
   ]
  },
  {
   "cell_type": "code",
   "execution_count": 37,
   "metadata": {},
   "outputs": [
    {
     "data": {
      "text/plain": [
       "(80, 11)"
      ]
     },
     "execution_count": 37,
     "metadata": {},
     "output_type": "execute_result"
    }
   ],
   "source": [
    "params.shape"
   ]
  },
  {
   "cell_type": "code",
   "execution_count": 38,
   "metadata": {},
   "outputs": [
    {
     "data": {
      "text/plain": [
       "(8000, 28)"
      ]
     },
     "execution_count": 38,
     "metadata": {},
     "output_type": "execute_result"
    }
   ],
   "source": [
    "df.shape"
   ]
  },
  {
   "cell_type": "code",
   "execution_count": 41,
   "metadata": {},
   "outputs": [
    {
     "data": {
      "text/html": [
       "<div>\n",
       "<style scoped>\n",
       "    .dataframe tbody tr th:only-of-type {\n",
       "        vertical-align: middle;\n",
       "    }\n",
       "\n",
       "    .dataframe tbody tr th {\n",
       "        vertical-align: top;\n",
       "    }\n",
       "\n",
       "    .dataframe thead th {\n",
       "        text-align: right;\n",
       "    }\n",
       "</style>\n",
       "<table border=\"1\" class=\"dataframe\">\n",
       "  <thead>\n",
       "    <tr style=\"text-align: right;\">\n",
       "      <th></th>\n",
       "      <th></th>\n",
       "      <th>count</th>\n",
       "      <th>mean</th>\n",
       "      <th>std</th>\n",
       "      <th>min</th>\n",
       "      <th>2.5%</th>\n",
       "      <th>50%</th>\n",
       "      <th>97.5%</th>\n",
       "      <th>max</th>\n",
       "    </tr>\n",
       "    <tr>\n",
       "      <th>p_comb</th>\n",
       "      <th>p_random_mating</th>\n",
       "      <th></th>\n",
       "      <th></th>\n",
       "      <th></th>\n",
       "      <th></th>\n",
       "      <th></th>\n",
       "      <th></th>\n",
       "      <th></th>\n",
       "      <th></th>\n",
       "    </tr>\n",
       "  </thead>\n",
       "  <tbody>\n",
       "    <tr>\n",
       "      <th rowspan=\"5\" valign=\"top\">G = 0.05, VT = 0.0</th>\n",
       "      <th>0.10</th>\n",
       "      <td>100.0</td>\n",
       "      <td>0.103246</td>\n",
       "      <td>0.005057</td>\n",
       "      <td>0.090558</td>\n",
       "      <td>0.093942</td>\n",
       "      <td>0.103727</td>\n",
       "      <td>0.111801</td>\n",
       "      <td>0.112969</td>\n",
       "    </tr>\n",
       "    <tr>\n",
       "      <th>0.25</th>\n",
       "      <td>100.0</td>\n",
       "      <td>0.103129</td>\n",
       "      <td>0.004511</td>\n",
       "      <td>0.094547</td>\n",
       "      <td>0.095901</td>\n",
       "      <td>0.102894</td>\n",
       "      <td>0.113321</td>\n",
       "      <td>0.113901</td>\n",
       "    </tr>\n",
       "    <tr>\n",
       "      <th>0.50</th>\n",
       "      <td>100.0</td>\n",
       "      <td>0.100869</td>\n",
       "      <td>0.004833</td>\n",
       "      <td>0.091645</td>\n",
       "      <td>0.092743</td>\n",
       "      <td>0.100696</td>\n",
       "      <td>0.112446</td>\n",
       "      <td>0.117057</td>\n",
       "    </tr>\n",
       "    <tr>\n",
       "      <th>0.75</th>\n",
       "      <td>100.0</td>\n",
       "      <td>0.097298</td>\n",
       "      <td>0.004392</td>\n",
       "      <td>0.089272</td>\n",
       "      <td>0.090245</td>\n",
       "      <td>0.096781</td>\n",
       "      <td>0.107921</td>\n",
       "      <td>0.110599</td>\n",
       "    </tr>\n",
       "    <tr>\n",
       "      <th>0.90</th>\n",
       "      <td>100.0</td>\n",
       "      <td>0.093251</td>\n",
       "      <td>0.003956</td>\n",
       "      <td>0.084539</td>\n",
       "      <td>0.085630</td>\n",
       "      <td>0.093468</td>\n",
       "      <td>0.101063</td>\n",
       "      <td>0.103115</td>\n",
       "    </tr>\n",
       "    <tr>\n",
       "      <th rowspan=\"5\" valign=\"top\">G = 0.05, VT = 0.05</th>\n",
       "      <th>0.10</th>\n",
       "      <td>100.0</td>\n",
       "      <td>0.147396</td>\n",
       "      <td>0.008406</td>\n",
       "      <td>0.126493</td>\n",
       "      <td>0.132570</td>\n",
       "      <td>0.147277</td>\n",
       "      <td>0.162402</td>\n",
       "      <td>0.169590</td>\n",
       "    </tr>\n",
       "    <tr>\n",
       "      <th>0.25</th>\n",
       "      <td>100.0</td>\n",
       "      <td>0.141141</td>\n",
       "      <td>0.007644</td>\n",
       "      <td>0.115420</td>\n",
       "      <td>0.128255</td>\n",
       "      <td>0.140863</td>\n",
       "      <td>0.155444</td>\n",
       "      <td>0.160793</td>\n",
       "    </tr>\n",
       "    <tr>\n",
       "      <th>0.50</th>\n",
       "      <td>100.0</td>\n",
       "      <td>0.130446</td>\n",
       "      <td>0.008279</td>\n",
       "      <td>0.109643</td>\n",
       "      <td>0.114407</td>\n",
       "      <td>0.130699</td>\n",
       "      <td>0.146964</td>\n",
       "      <td>0.154921</td>\n",
       "    </tr>\n",
       "    <tr>\n",
       "      <th>0.75</th>\n",
       "      <td>100.0</td>\n",
       "      <td>0.118181</td>\n",
       "      <td>0.007003</td>\n",
       "      <td>0.099313</td>\n",
       "      <td>0.107094</td>\n",
       "      <td>0.118177</td>\n",
       "      <td>0.131036</td>\n",
       "      <td>0.135380</td>\n",
       "    </tr>\n",
       "    <tr>\n",
       "      <th>0.90</th>\n",
       "      <td>100.0</td>\n",
       "      <td>0.108302</td>\n",
       "      <td>0.007220</td>\n",
       "      <td>0.092224</td>\n",
       "      <td>0.096542</td>\n",
       "      <td>0.108938</td>\n",
       "      <td>0.121181</td>\n",
       "      <td>0.129133</td>\n",
       "    </tr>\n",
       "    <tr>\n",
       "      <th rowspan=\"5\" valign=\"top\">G = 0.05, VT = 0.1</th>\n",
       "      <th>0.10</th>\n",
       "      <td>100.0</td>\n",
       "      <td>0.191383</td>\n",
       "      <td>0.011859</td>\n",
       "      <td>0.163719</td>\n",
       "      <td>0.169450</td>\n",
       "      <td>0.191912</td>\n",
       "      <td>0.215914</td>\n",
       "      <td>0.223450</td>\n",
       "    </tr>\n",
       "    <tr>\n",
       "      <th>0.25</th>\n",
       "      <td>100.0</td>\n",
       "      <td>0.183595</td>\n",
       "      <td>0.011883</td>\n",
       "      <td>0.158361</td>\n",
       "      <td>0.161039</td>\n",
       "      <td>0.183426</td>\n",
       "      <td>0.207964</td>\n",
       "      <td>0.210318</td>\n",
       "    </tr>\n",
       "    <tr>\n",
       "      <th>0.50</th>\n",
       "      <td>100.0</td>\n",
       "      <td>0.161750</td>\n",
       "      <td>0.008494</td>\n",
       "      <td>0.140358</td>\n",
       "      <td>0.146062</td>\n",
       "      <td>0.161664</td>\n",
       "      <td>0.178617</td>\n",
       "      <td>0.184037</td>\n",
       "    </tr>\n",
       "    <tr>\n",
       "      <th>0.75</th>\n",
       "      <td>100.0</td>\n",
       "      <td>0.137341</td>\n",
       "      <td>0.009458</td>\n",
       "      <td>0.113145</td>\n",
       "      <td>0.120515</td>\n",
       "      <td>0.136991</td>\n",
       "      <td>0.155772</td>\n",
       "      <td>0.161412</td>\n",
       "    </tr>\n",
       "    <tr>\n",
       "      <th>0.90</th>\n",
       "      <td>100.0</td>\n",
       "      <td>0.121992</td>\n",
       "      <td>0.007666</td>\n",
       "      <td>0.105027</td>\n",
       "      <td>0.109091</td>\n",
       "      <td>0.121710</td>\n",
       "      <td>0.137637</td>\n",
       "      <td>0.141337</td>\n",
       "    </tr>\n",
       "    <tr>\n",
       "      <th rowspan=\"5\" valign=\"top\">G = 0.05, VT = 0.2</th>\n",
       "      <th>0.10</th>\n",
       "      <td>100.0</td>\n",
       "      <td>0.339810</td>\n",
       "      <td>0.020498</td>\n",
       "      <td>0.289022</td>\n",
       "      <td>0.297150</td>\n",
       "      <td>0.339943</td>\n",
       "      <td>0.382038</td>\n",
       "      <td>0.386353</td>\n",
       "    </tr>\n",
       "    <tr>\n",
       "      <th>0.25</th>\n",
       "      <td>100.0</td>\n",
       "      <td>0.309882</td>\n",
       "      <td>0.020003</td>\n",
       "      <td>0.266626</td>\n",
       "      <td>0.271876</td>\n",
       "      <td>0.307872</td>\n",
       "      <td>0.340412</td>\n",
       "      <td>0.377484</td>\n",
       "    </tr>\n",
       "    <tr>\n",
       "      <th>0.50</th>\n",
       "      <td>100.0</td>\n",
       "      <td>0.258311</td>\n",
       "      <td>0.015828</td>\n",
       "      <td>0.212894</td>\n",
       "      <td>0.227877</td>\n",
       "      <td>0.259965</td>\n",
       "      <td>0.292282</td>\n",
       "      <td>0.302171</td>\n",
       "    </tr>\n",
       "    <tr>\n",
       "      <th>0.75</th>\n",
       "      <td>100.0</td>\n",
       "      <td>0.199341</td>\n",
       "      <td>0.014348</td>\n",
       "      <td>0.169004</td>\n",
       "      <td>0.172385</td>\n",
       "      <td>0.198343</td>\n",
       "      <td>0.226857</td>\n",
       "      <td>0.235998</td>\n",
       "    </tr>\n",
       "    <tr>\n",
       "      <th>0.90</th>\n",
       "      <td>100.0</td>\n",
       "      <td>0.161830</td>\n",
       "      <td>0.014013</td>\n",
       "      <td>0.133536</td>\n",
       "      <td>0.141590</td>\n",
       "      <td>0.160105</td>\n",
       "      <td>0.191971</td>\n",
       "      <td>0.201810</td>\n",
       "    </tr>\n",
       "  </tbody>\n",
       "</table>\n",
       "</div>"
      ],
      "text/plain": [
       "                                     count      mean       std       min  \\\n",
       "p_comb              p_random_mating                                        \n",
       "G = 0.05, VT = 0.0  0.10             100.0  0.103246  0.005057  0.090558   \n",
       "                    0.25             100.0  0.103129  0.004511  0.094547   \n",
       "                    0.50             100.0  0.100869  0.004833  0.091645   \n",
       "                    0.75             100.0  0.097298  0.004392  0.089272   \n",
       "                    0.90             100.0  0.093251  0.003956  0.084539   \n",
       "G = 0.05, VT = 0.05 0.10             100.0  0.147396  0.008406  0.126493   \n",
       "                    0.25             100.0  0.141141  0.007644  0.115420   \n",
       "                    0.50             100.0  0.130446  0.008279  0.109643   \n",
       "                    0.75             100.0  0.118181  0.007003  0.099313   \n",
       "                    0.90             100.0  0.108302  0.007220  0.092224   \n",
       "G = 0.05, VT = 0.1  0.10             100.0  0.191383  0.011859  0.163719   \n",
       "                    0.25             100.0  0.183595  0.011883  0.158361   \n",
       "                    0.50             100.0  0.161750  0.008494  0.140358   \n",
       "                    0.75             100.0  0.137341  0.009458  0.113145   \n",
       "                    0.90             100.0  0.121992  0.007666  0.105027   \n",
       "G = 0.05, VT = 0.2  0.10             100.0  0.339810  0.020498  0.289022   \n",
       "                    0.25             100.0  0.309882  0.020003  0.266626   \n",
       "                    0.50             100.0  0.258311  0.015828  0.212894   \n",
       "                    0.75             100.0  0.199341  0.014348  0.169004   \n",
       "                    0.90             100.0  0.161830  0.014013  0.133536   \n",
       "\n",
       "                                         2.5%       50%     97.5%       max  \n",
       "p_comb              p_random_mating                                          \n",
       "G = 0.05, VT = 0.0  0.10             0.093942  0.103727  0.111801  0.112969  \n",
       "                    0.25             0.095901  0.102894  0.113321  0.113901  \n",
       "                    0.50             0.092743  0.100696  0.112446  0.117057  \n",
       "                    0.75             0.090245  0.096781  0.107921  0.110599  \n",
       "                    0.90             0.085630  0.093468  0.101063  0.103115  \n",
       "G = 0.05, VT = 0.05 0.10             0.132570  0.147277  0.162402  0.169590  \n",
       "                    0.25             0.128255  0.140863  0.155444  0.160793  \n",
       "                    0.50             0.114407  0.130699  0.146964  0.154921  \n",
       "                    0.75             0.107094  0.118177  0.131036  0.135380  \n",
       "                    0.90             0.096542  0.108938  0.121181  0.129133  \n",
       "G = 0.05, VT = 0.1  0.10             0.169450  0.191912  0.215914  0.223450  \n",
       "                    0.25             0.161039  0.183426  0.207964  0.210318  \n",
       "                    0.50             0.146062  0.161664  0.178617  0.184037  \n",
       "                    0.75             0.120515  0.136991  0.155772  0.161412  \n",
       "                    0.90             0.109091  0.121710  0.137637  0.141337  \n",
       "G = 0.05, VT = 0.2  0.10             0.297150  0.339943  0.382038  0.386353  \n",
       "                    0.25             0.271876  0.307872  0.340412  0.377484  \n",
       "                    0.50             0.227877  0.259965  0.292282  0.302171  \n",
       "                    0.75             0.172385  0.198343  0.226857  0.235998  \n",
       "                    0.90             0.141590  0.160105  0.191971  0.201810  "
      ]
     },
     "execution_count": 41,
     "metadata": {},
     "output_type": "execute_result"
    }
   ],
   "source": [
    "df.loc[df.p_genetic_variance==0.05].groupby(['p_comb', 'p_random_mating'])['g4'].describe(percentiles=[0.5, 0.025, 0.975])"
   ]
  },
  {
   "cell_type": "code",
   "execution_count": 26,
   "metadata": {},
   "outputs": [
    {
     "name": "stdout",
     "output_type": "stream",
     "text": [
      "[0.1, 0.0, 0.2, 0.05]\n"
     ]
    },
    {
     "data": {
      "image/png": "[encoded data removed]",
      "text/plain": [
       "<Figure size 432x288 with 1 Axes>"
      ]
     },
     "metadata": {
      "needs_background": "light"
     },
     "output_type": "display_data"
    },
    {
     "data": {
      "image/png": "[encoded data removed]",
      "text/plain": [
       "<Figure size 432x288 with 1 Axes>"
      ]
     },
     "metadata": {
      "needs_background": "light"
     },
     "output_type": "display_data"
    },
    {
     "data": {
      "image/png": "[encoded data removed]",
      "text/plain": [
       "<Figure size 432x288 with 1 Axes>"
      ]
     },
     "metadata": {
      "needs_background": "light"
     },
     "output_type": "display_data"
    },
    {
     "data": {
      "image/png": "[encoded data removed]",
      "text/plain": [
       "<Figure size 432x288 with 1 Axes>"
      ]
     },
     "metadata": {
      "needs_background": "light"
     },
     "output_type": "display_data"
    }
   ],
   "source": [
    "s = df.loc[df.p_vertical_trans_variance != 0].copy()\n",
    "v = list(s.p_genetic_variance.unique())\n",
    "print(v)\n",
    "for i in v:\n",
    "    p = sns.barplot(y='g4', x='p_random_mating', hue='p_vertical_trans_variance',\n",
    "    data=s[s.p_genetic_variance==i], estimator=np.median);\n",
    "    p.set_ylabel(\"propotion obese\", fontsize = 10)\n",
    "    p.set_xlabel(\"random mating\", fontsize = 10)\n",
    "    p.set(title =\"genetic variance = \" + str(i))\n",
    "    p.set_ylim(0, 1.0)\n",
    "    plt.legend(title='vertical trans variance', bbox_to_anchor=(1.05, 1), loc=2, borderaxespad=0.)\n",
    "    plt.savefig(plots_path + \"prop-bmi-mating-vertical-trans-genes-test-\" + str(i).replace('.', '-') + \".pdf\", bbox_inches='tight')\n",
    "    shutil.copy(plots_path + \"prop-bmi-mating-vertical-trans-genes-test-\" + str(i).replace('.', '-') + \".pdf\", plot_manuscript)\n",
    "    plt.show()"
   ]
  },
  {
   "cell_type": "code",
   "execution_count": 27,
   "metadata": {},
   "outputs": [
    {
     "data": {
      "image/png": "[encoded data removed]",
      "text/plain": [
       "<Figure size 432x288 with 1 Axes>"
      ]
     },
     "metadata": {
      "needs_background": "light"
     },
     "output_type": "display_data"
    }
   ],
   "source": [
    "# vertical transmission = 0\n",
    "s = df.loc[(df.p_vertical_trans_variance == 0) & (df.p_genetic_variance>0)].copy()\n",
    "p = sns.barplot(y='g4', x='p_random_mating', hue='p_genetic_variance',\n",
    "data=s, estimator=np.median);\n",
    "p.set_ylabel(\"propotion obese\", fontsize = 10)\n",
    "p.set_xlabel(\"random mating\", fontsize = 10)\n",
    "p.set(title =\"vertical transmission = \" + str(0))\n",
    "p.set_ylim(0, 1.0)\n",
    "plt.legend(title='genetic variance', bbox_to_anchor=(1.05, 1), loc=2, borderaxespad=0.)\n",
    "plt.savefig(plots_path + \"prop-bmi-mating-genes-vertical-trans-test-\" + str(0) + \".pdf\", bbox_inches='tight')\n",
    "shutil.copy(plots_path + \"prop-bmi-mating-genes-vertical-trans-test-\" + str(0) + \".pdf\", plot_manuscript)\n",
    "plt.show()"
   ]
  },
  {
   "cell_type": "markdown",
   "metadata": {},
   "source": [
    "# Genes + Vertical transmission + Fertiliy"
   ]
  },
  {
   "cell_type": "code",
   "execution_count": 28,
   "metadata": {},
   "outputs": [
    {
     "data": {
      "text/plain": [
       "(6400, 4)"
      ]
     },
     "execution_count": 28,
     "metadata": {},
     "output_type": "execute_result"
    }
   ],
   "source": [
    "# scenarios genes + vertical transmission\n",
    "replicates = 100\n",
    "d = {'fertility' :  [0.0, .10, 0.20, 0.30],\n",
    "    'genes' : [0.0, 0.05, 0.10, 0.20],\n",
    "    'vertical-trans' : [0.0, 0.05, 0.10, 0.20]}\n",
    "\n",
    "df = pd.DataFrame(product_dict(**d))\n",
    "df['iteration'] = df.groupby(list(d)).ngroup()\n",
    "df = df.loc[df.index.repeat(replicates)]\n",
    "vars = ['iteration', 'fertility', 'genes', 'vertical-trans']\n",
    "df.loc[:,vars].to_csv(model_path + \"data/param-bmi-fertility-genes-vertical-trans-test.csv\", index=False)\n",
    "df.loc[:,vars].shape"
   ]
  },
  {
   "cell_type": "code",
   "execution_count": 42,
   "metadata": {},
   "outputs": [
    {
     "name": "stderr",
     "output_type": "stream",
     "text": [
      "/var/folders/36/wsfqn0_j2ng6r0b58wc559fc0000gn/T/ipykernel_88369/4115404729.py:7: FutureWarning: The default value of regex will change from True to False in a future version.\n",
      "  cols = df.bmi_category_prop.str.replace(r'\\[|\\]', '').str.split(\",\", n=4, expand=True)\n"
     ]
    }
   ],
   "source": [
    "vars = ['iteration', 'p_genetic_variance', 'p_vertical_trans_variance', \n",
    "    'p_random_mating', 'p_fertility_factor']\n",
    "df = pd.read_csv(output_path + \"results-bmi-fertility-genes-vertical-trans-test.csv\", sep = \";\")\n",
    "params = pd.read_csv(output_path + \"param-bmi-fertility-genes-vertical-trans-test.csv\", sep = \";\")\n",
    "params = params. drop_duplicates(subset=vars)\n",
    "\n",
    "cols = df.bmi_category_prop.str.replace(r'\\[|\\]', '').str.split(\",\", n=4, expand=True)\n",
    "colnames = ['g'+str(i+1) for i in range(4)]\n",
    "cols.columns = colnames\n",
    "cols = cols[colnames].apply(pd.to_numeric)\n",
    "df = pd.concat([df, cols], axis=1, ignore_index=False)\n",
    "df = df.merge(params, on = [\"iteration\"])\n",
    "df['p_comb'] = 'G = ' + df['p_genetic_variance'].map(str)  + ', VT = ' + df['p_vertical_trans_variance'].map(str)"
   ]
  },
  {
   "cell_type": "code",
   "execution_count": 30,
   "metadata": {},
   "outputs": [
    {
     "data": {
      "text/plain": [
       "(6400, 28)"
      ]
     },
     "execution_count": 30,
     "metadata": {},
     "output_type": "execute_result"
    }
   ],
   "source": [
    "df.shape"
   ]
  },
  {
   "cell_type": "code",
   "execution_count": 46,
   "metadata": {},
   "outputs": [
    {
     "data": {
      "text/html": [
       "<div>\n",
       "<style scoped>\n",
       "    .dataframe tbody tr th:only-of-type {\n",
       "        vertical-align: middle;\n",
       "    }\n",
       "\n",
       "    .dataframe tbody tr th {\n",
       "        vertical-align: top;\n",
       "    }\n",
       "\n",
       "    .dataframe thead th {\n",
       "        text-align: right;\n",
       "    }\n",
       "</style>\n",
       "<table border=\"1\" class=\"dataframe\">\n",
       "  <thead>\n",
       "    <tr style=\"text-align: right;\">\n",
       "      <th></th>\n",
       "      <th></th>\n",
       "      <th>count</th>\n",
       "      <th>mean</th>\n",
       "      <th>std</th>\n",
       "      <th>min</th>\n",
       "      <th>2.5%</th>\n",
       "      <th>50%</th>\n",
       "      <th>97.5%</th>\n",
       "      <th>max</th>\n",
       "    </tr>\n",
       "    <tr>\n",
       "      <th>p_comb</th>\n",
       "      <th>p_fertility_factor</th>\n",
       "      <th></th>\n",
       "      <th></th>\n",
       "      <th></th>\n",
       "      <th></th>\n",
       "      <th></th>\n",
       "      <th></th>\n",
       "      <th></th>\n",
       "      <th></th>\n",
       "    </tr>\n",
       "  </thead>\n",
       "  <tbody>\n",
       "    <tr>\n",
       "      <th>G = 0.0, VT = 0.0</th>\n",
       "      <th>0.0</th>\n",
       "      <td>100.0</td>\n",
       "      <td>0.080631</td>\n",
       "      <td>0.002004</td>\n",
       "      <td>0.076214</td>\n",
       "      <td>0.077041</td>\n",
       "      <td>0.080397</td>\n",
       "      <td>0.084911</td>\n",
       "      <td>0.086017</td>\n",
       "    </tr>\n",
       "    <tr>\n",
       "      <th>G = 0.05, VT = 0.0</th>\n",
       "      <th>0.0</th>\n",
       "      <td>100.0</td>\n",
       "      <td>0.082751</td>\n",
       "      <td>0.004439</td>\n",
       "      <td>0.073879</td>\n",
       "      <td>0.075004</td>\n",
       "      <td>0.082607</td>\n",
       "      <td>0.091567</td>\n",
       "      <td>0.092898</td>\n",
       "    </tr>\n",
       "    <tr>\n",
       "      <th>G = 0.1, VT = 0.0</th>\n",
       "      <th>0.0</th>\n",
       "      <td>100.0</td>\n",
       "      <td>0.083174</td>\n",
       "      <td>0.004721</td>\n",
       "      <td>0.072345</td>\n",
       "      <td>0.074530</td>\n",
       "      <td>0.083196</td>\n",
       "      <td>0.092041</td>\n",
       "      <td>0.095012</td>\n",
       "    </tr>\n",
       "    <tr>\n",
       "      <th>G = 0.2, VT = 0.0</th>\n",
       "      <th>0.0</th>\n",
       "      <td>100.0</td>\n",
       "      <td>0.087797</td>\n",
       "      <td>0.007573</td>\n",
       "      <td>0.067969</td>\n",
       "      <td>0.073500</td>\n",
       "      <td>0.086711</td>\n",
       "      <td>0.102867</td>\n",
       "      <td>0.107465</td>\n",
       "    </tr>\n",
       "  </tbody>\n",
       "</table>\n",
       "</div>"
      ],
      "text/plain": [
       "                                       count      mean       std       min  \\\n",
       "p_comb             p_fertility_factor                                        \n",
       "G = 0.0, VT = 0.0  0.0                 100.0  0.080631  0.002004  0.076214   \n",
       "G = 0.05, VT = 0.0 0.0                 100.0  0.082751  0.004439  0.073879   \n",
       "G = 0.1, VT = 0.0  0.0                 100.0  0.083174  0.004721  0.072345   \n",
       "G = 0.2, VT = 0.0  0.0                 100.0  0.087797  0.007573  0.067969   \n",
       "\n",
       "                                           2.5%       50%     97.5%       max  \n",
       "p_comb             p_fertility_factor                                          \n",
       "G = 0.0, VT = 0.0  0.0                 0.077041  0.080397  0.084911  0.086017  \n",
       "G = 0.05, VT = 0.0 0.0                 0.075004  0.082607  0.091567  0.092898  \n",
       "G = 0.1, VT = 0.0  0.0                 0.074530  0.083196  0.092041  0.095012  \n",
       "G = 0.2, VT = 0.0  0.0                 0.073500  0.086711  0.102867  0.107465  "
      ]
     },
     "execution_count": 46,
     "metadata": {},
     "output_type": "execute_result"
    }
   ],
   "source": [
    "df.loc[(df.p_fertility_factor==0) & (df.p_vertical_trans_variance==0)].groupby(['p_comb', 'p_fertility_factor'])['g4'].describe(percentiles=[0.5, 0.025, 0.975])"
   ]
  },
  {
   "cell_type": "code",
   "execution_count": null,
   "metadata": {},
   "outputs": [],
   "source": []
  },
  {
   "cell_type": "code",
   "execution_count": 31,
   "metadata": {},
   "outputs": [
    {
     "name": "stdout",
     "output_type": "stream",
     "text": [
      "[0.1, 0.0, 0.2, 0.05]\n"
     ]
    },
    {
     "data": {
      "image/png": "[encoded data removed]",
      "text/plain": [
       "<Figure size 432x288 with 1 Axes>"
      ]
     },
     "metadata": {
      "needs_background": "light"
     },
     "output_type": "display_data"
    },
    {
     "data": {
      "image/png": "[encoded data removed]",
      "text/plain": [
       "<Figure size 432x288 with 1 Axes>"
      ]
     },
     "metadata": {
      "needs_background": "light"
     },
     "output_type": "display_data"
    },
    {
     "data": {
      "image/png": "[encoded data removed]",
      "text/plain": [
       "<Figure size 432x288 with 1 Axes>"
      ]
     },
     "metadata": {
      "needs_background": "light"
     },
     "output_type": "display_data"
    },
    {
     "data": {
      "image/png": "[encoded data removed]",
      "text/plain": [
       "<Figure size 432x288 with 1 Axes>"
      ]
     },
     "metadata": {
      "needs_background": "light"
     },
     "output_type": "display_data"
    }
   ],
   "source": [
    "s = df.loc[df.p_vertical_trans_variance != 0].copy()\n",
    "v = list(s.p_genetic_variance.unique())\n",
    "print(v)\n",
    "for i in v:\n",
    "    p = sns.barplot(y='g4', x='p_fertility_factor', hue='p_vertical_trans_variance',\n",
    "    data=s[s.p_genetic_variance==i], estimator=np.median);\n",
    "    p.set_ylabel(\"proportion obese\", fontsize = 10)\n",
    "    p.set_xlabel(\"fertility differential\", fontsize = 10)\n",
    "    p.set(title =\"genetic variance = \" + str(i))\n",
    "    p.set_ylim(0, 1.0)\n",
    "    plt.legend(title='vertical trans variance', bbox_to_anchor=(1.05, 1), loc=2, borderaxespad=0.)\n",
    "    plt.savefig(plots_path + \"prop-bmi-fertility-vertical-trans-genes-test-\" + str(i).replace('.', '-') + \".pdf\", bbox_inches='tight')\n",
    "    shutil.copy(plots_path + \"prop-bmi-fertility-vertical-trans-genes-test-\" + str(i).replace('.', '-') + \".pdf\", plot_manuscript)\n",
    "    plt.show()"
   ]
  },
  {
   "cell_type": "code",
   "execution_count": 32,
   "metadata": {},
   "outputs": [
    {
     "data": {
      "image/png": "[encoded data removed]",
      "text/plain": [
       "<Figure size 432x288 with 1 Axes>"
      ]
     },
     "metadata": {
      "needs_background": "light"
     },
     "output_type": "display_data"
    }
   ],
   "source": [
    "# vertical transmission = 0\n",
    "s = df.loc[(df.p_vertical_trans_variance==0) & (df.p_genetic_variance>0)].copy()\n",
    "p = sns.barplot(y='g4', x='p_fertility_factor', hue='p_genetic_variance',\n",
    "data=s, estimator=np.median);\n",
    "p.set_ylabel(\"propotion obese\", fontsize = 10)\n",
    "p.set_xlabel(\"fertility differential\", fontsize = 10)\n",
    "p.set(title =\"vertical transmission = \" + str(0))\n",
    "p.set_ylim(0, 1.0)\n",
    "plt.legend(title='genetic variance', bbox_to_anchor=(1.05, 1), loc=2, borderaxespad=0.)\n",
    "plt.savefig(plots_path + \"prop-bmi-fertility-genes-vertical-trans-test-\" + str(0) + \".pdf\", bbox_inches='tight')\n",
    "shutil.copy(plots_path + \"prop-bmi-fertility-genes-vertical-trans-test-\" + str(0) + \".pdf\", plot_manuscript)\n",
    "plt.show()"
   ]
  }
 ],
 "metadata": {
  "kernelspec": {
   "display_name": "Python 3.9.2 ('env': venv)",
   "language": "python",
   "name": "python3"
  },
  "language_info": {
   "codemirror_mode": {
    "name": "ipython",
    "version": 3
   },
   "file_extension": ".py",
   "mimetype": "text/x-python",
   "name": "python",
   "nbconvert_exporter": "python",
   "pygments_lexer": "ipython3",
   "version": "3.9.2"
  },
  "vscode": {
   "interpreter": {
    "hash": "a0f0b72a04c8b6986553e1ade3ed1bbe2212da0e0709325fafa3ce2ffc97dd20"
   }
  }
 },
 "nbformat": 4,
 "nbformat_minor": 2
}
