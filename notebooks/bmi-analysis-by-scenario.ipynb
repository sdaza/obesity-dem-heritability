{
 "cells": [
  {
   "cell_type": "markdown",
   "metadata": {},
   "source": [
    "# BMI analysis"
   ]
  },
  {
   "cell_type": "code",
   "execution_count": 2,
   "metadata": {},
   "outputs": [],
   "source": [
    "from matplotlib import pyplot as plt\n",
    "import seaborn as sns\n",
    "import pandas as pd\n",
    "import numpy as np\n",
    "import shutil\n",
    "import itertools\n",
    "\n",
    "model_path = \"../models/BMI-SNP/\"\n",
    "output_path = \"../output/data/\"\n",
    "plots_path = \"../output/plots/\"\n",
    "plot_manuscript = \"../manuscript/plots/\"\n",
    "\n",
    "def product_dict(**kwargs):\n",
    "    keys = kwargs.keys()\n",
    "    vals = kwargs.values()\n",
    "    for instance in itertools.product(*vals):\n",
    "        yield dict(zip(keys, instance))"
   ]
  },
  {
   "cell_type": "markdown",
   "metadata": {},
   "source": [
    "# Define parameters"
   ]
  },
  {
   "cell_type": "code",
   "execution_count": 60,
   "metadata": {},
   "outputs": [
    {
     "data": {
      "text/plain": [
       "(8000, 4)"
      ]
     },
     "execution_count": 60,
     "metadata": {},
     "output_type": "execute_result"
    }
   ],
   "source": [
    "# scenarios genes + vertical transmission\n",
    "d = {'random-mating' :  [0.10, .25, 0.5, 0.75, 0.90],\n",
    "    'genes' : [0.0, 0.05, 0.10, 0.20],\n",
    "    'vertical-trans' : [0.0, 0.05, 0.25, 0.50]}\n",
    "\n",
    "df = pd.DataFrame(product_dict(**d))\n",
    "df['iteration'] = df.groupby(list(d)).ngroup()\n",
    "df = df.loc[df.index.repeat(100)]\n",
    "vars = ['iteration', 'random-mating', 'genes', 'vertical-trans']\n",
    "df.loc[:,vars].to_csv(model_path + \"data/param-bmi-mating-genes-vertical-trans.csv\", index=False)\n",
    "df.loc[:,vars].shape"
   ]
  },
  {
   "cell_type": "markdown",
   "metadata": {},
   "source": [
    "# Genes + Vertical transmission + Mating"
   ]
  },
  {
   "cell_type": "code",
   "execution_count": 2,
   "metadata": {},
   "outputs": [
    {
     "name": "stderr",
     "output_type": "stream",
     "text": [
      "/var/folders/36/wsfqn0_j2ng6r0b58wc559fc0000gn/T/ipykernel_44362/2664135294.py:7: FutureWarning: The default value of regex will change from True to False in a future version.\n",
      "  cols = df.bmi_category_prop.str.replace(r'\\[|\\]', '').str.split(\",\", n=4, expand=True)\n"
     ]
    }
   ],
   "source": [
    "vars = ['iteration', 'p_genetic_variance', 'p_vertical_trans_variance', \n",
    "    'p_random_mating', 'p_fertility_factor']\n",
    "df = pd.read_csv(output_path + \"results-bmi-mating-genes-vertical-trans.csv\", sep = \";\")\n",
    "params = pd.read_csv(output_path + \"param-bmi-mating-genes-vertical-trans.csv\", sep = \";\")\n",
    "params = params. drop_duplicates(subset=vars)\n",
    "\n",
    "cols = df.bmi_category_prop.str.replace(r'\\[|\\]', '').str.split(\",\", n=4, expand=True)\n",
    "colnames = ['g'+str(i+1) for i in range(4)]\n",
    "cols.columns = colnames\n",
    "cols = cols[colnames].apply(pd.to_numeric)\n",
    "df = pd.concat([df, cols], axis=1, ignore_index=False)\n",
    "df = df.merge(params, on = [\"iteration\"])\n",
    "df['p_comb'] = 'G = ' + df['p_genetic_variance'].map(str)  + ', VT = ' + df['p_vertical_trans_variance'].map(str)"
   ]
  },
  {
   "cell_type": "code",
   "execution_count": 16,
   "metadata": {},
   "outputs": [
    {
     "data": {
      "text/html": [
       "<div>\n",
       "<style scoped>\n",
       "    .dataframe tbody tr th:only-of-type {\n",
       "        vertical-align: middle;\n",
       "    }\n",
       "\n",
       "    .dataframe tbody tr th {\n",
       "        vertical-align: top;\n",
       "    }\n",
       "\n",
       "    .dataframe thead th {\n",
       "        text-align: right;\n",
       "    }\n",
       "</style>\n",
       "<table border=\"1\" class=\"dataframe\">\n",
       "  <thead>\n",
       "    <tr style=\"text-align: right;\">\n",
       "      <th></th>\n",
       "      <th>iteration</th>\n",
       "      <th>replicate</th>\n",
       "      <th>init_pop</th>\n",
       "      <th>fertility_type</th>\n",
       "      <th>mating_type</th>\n",
       "      <th>p_genetic_variance</th>\n",
       "      <th>p_vertical_trans_variance</th>\n",
       "      <th>p_leakage</th>\n",
       "      <th>p_random_mating</th>\n",
       "      <th>p_fertility_factor</th>\n",
       "    </tr>\n",
       "  </thead>\n",
       "  <tbody>\n",
       "    <tr>\n",
       "      <th>0</th>\n",
       "      <td>0</td>\n",
       "      <td>1</td>\n",
       "      <td>8000</td>\n",
       "      <td>additive</td>\n",
       "      <td>logistic</td>\n",
       "      <td>0.0</td>\n",
       "      <td>0.10</td>\n",
       "      <td>0.1</td>\n",
       "      <td>0.1</td>\n",
       "      <td>0.25</td>\n",
       "    </tr>\n",
       "    <tr>\n",
       "      <th>3</th>\n",
       "      <td>1</td>\n",
       "      <td>1</td>\n",
       "      <td>8000</td>\n",
       "      <td>additive</td>\n",
       "      <td>logistic</td>\n",
       "      <td>0.0</td>\n",
       "      <td>0.25</td>\n",
       "      <td>0.1</td>\n",
       "      <td>0.1</td>\n",
       "      <td>0.25</td>\n",
       "    </tr>\n",
       "    <tr>\n",
       "      <th>114</th>\n",
       "      <td>2</td>\n",
       "      <td>1</td>\n",
       "      <td>8000</td>\n",
       "      <td>additive</td>\n",
       "      <td>logistic</td>\n",
       "      <td>0.0</td>\n",
       "      <td>0.50</td>\n",
       "      <td>0.1</td>\n",
       "      <td>0.1</td>\n",
       "      <td>0.25</td>\n",
       "    </tr>\n",
       "    <tr>\n",
       "      <th>225</th>\n",
       "      <td>3</td>\n",
       "      <td>1</td>\n",
       "      <td>8000</td>\n",
       "      <td>additive</td>\n",
       "      <td>logistic</td>\n",
       "      <td>0.0</td>\n",
       "      <td>0.10</td>\n",
       "      <td>0.1</td>\n",
       "      <td>0.5</td>\n",
       "      <td>0.25</td>\n",
       "    </tr>\n",
       "    <tr>\n",
       "      <th>336</th>\n",
       "      <td>4</td>\n",
       "      <td>1</td>\n",
       "      <td>8000</td>\n",
       "      <td>additive</td>\n",
       "      <td>logistic</td>\n",
       "      <td>0.0</td>\n",
       "      <td>0.25</td>\n",
       "      <td>0.1</td>\n",
       "      <td>0.5</td>\n",
       "      <td>0.25</td>\n",
       "    </tr>\n",
       "  </tbody>\n",
       "</table>\n",
       "</div>"
      ],
      "text/plain": [
       "     iteration  replicate  init_pop fertility_type mating_type  \\\n",
       "0            0          1      8000       additive    logistic   \n",
       "3            1          1      8000       additive    logistic   \n",
       "114          2          1      8000       additive    logistic   \n",
       "225          3          1      8000       additive    logistic   \n",
       "336          4          1      8000       additive    logistic   \n",
       "\n",
       "     p_genetic_variance  p_vertical_trans_variance  p_leakage  \\\n",
       "0                   0.0                       0.10        0.1   \n",
       "3                   0.0                       0.25        0.1   \n",
       "114                 0.0                       0.50        0.1   \n",
       "225                 0.0                       0.10        0.1   \n",
       "336                 0.0                       0.25        0.1   \n",
       "\n",
       "     p_random_mating  p_fertility_factor  \n",
       "0                0.1                0.25  \n",
       "3                0.1                0.25  \n",
       "114              0.1                0.25  \n",
       "225              0.5                0.25  \n",
       "336              0.5                0.25  "
      ]
     },
     "execution_count": 16,
     "metadata": {},
     "output_type": "execute_result"
    }
   ],
   "source": [
    "params.head()"
   ]
  },
  {
   "cell_type": "code",
   "execution_count": 15,
   "metadata": {},
   "outputs": [
    {
     "data": {
      "text/html": [
       "<div>\n",
       "<style scoped>\n",
       "    .dataframe tbody tr th:only-of-type {\n",
       "        vertical-align: middle;\n",
       "    }\n",
       "\n",
       "    .dataframe tbody tr th {\n",
       "        vertical-align: top;\n",
       "    }\n",
       "\n",
       "    .dataframe thead th {\n",
       "        text-align: right;\n",
       "    }\n",
       "</style>\n",
       "<table border=\"1\" class=\"dataframe\">\n",
       "  <thead>\n",
       "    <tr style=\"text-align: right;\">\n",
       "      <th></th>\n",
       "      <th>iteration</th>\n",
       "      <th>iteration_exp</th>\n",
       "      <th>replicate</th>\n",
       "      <th>init_pop</th>\n",
       "      <th>fertility_type</th>\n",
       "      <th>mating_type</th>\n",
       "      <th>p_genetic_variance</th>\n",
       "      <th>p_vertical_trans_variance</th>\n",
       "      <th>p_leakage</th>\n",
       "      <th>p_random_mating</th>\n",
       "      <th>p_fertility_factor</th>\n",
       "    </tr>\n",
       "  </thead>\n",
       "  <tbody>\n",
       "    <tr>\n",
       "      <th>0</th>\n",
       "      <td>0</td>\n",
       "      <td>1</td>\n",
       "      <td>1</td>\n",
       "      <td>8000</td>\n",
       "      <td>additive</td>\n",
       "      <td>logistic</td>\n",
       "      <td>0.0</td>\n",
       "      <td>0.00</td>\n",
       "      <td>0.1</td>\n",
       "      <td>0.1</td>\n",
       "      <td>0.25</td>\n",
       "    </tr>\n",
       "    <tr>\n",
       "      <th>2</th>\n",
       "      <td>9</td>\n",
       "      <td>100</td>\n",
       "      <td>1</td>\n",
       "      <td>8000</td>\n",
       "      <td>additive</td>\n",
       "      <td>logistic</td>\n",
       "      <td>0.1</td>\n",
       "      <td>0.05</td>\n",
       "      <td>0.1</td>\n",
       "      <td>0.1</td>\n",
       "      <td>0.25</td>\n",
       "    </tr>\n",
       "    <tr>\n",
       "      <th>3</th>\n",
       "      <td>10</td>\n",
       "      <td>101</td>\n",
       "      <td>1</td>\n",
       "      <td>8000</td>\n",
       "      <td>additive</td>\n",
       "      <td>logistic</td>\n",
       "      <td>0.1</td>\n",
       "      <td>0.25</td>\n",
       "      <td>0.1</td>\n",
       "      <td>0.1</td>\n",
       "      <td>0.25</td>\n",
       "    </tr>\n",
       "    <tr>\n",
       "      <th>12</th>\n",
       "      <td>1</td>\n",
       "      <td>11</td>\n",
       "      <td>1</td>\n",
       "      <td>8000</td>\n",
       "      <td>additive</td>\n",
       "      <td>logistic</td>\n",
       "      <td>0.0</td>\n",
       "      <td>0.05</td>\n",
       "      <td>0.1</td>\n",
       "      <td>0.1</td>\n",
       "      <td>0.25</td>\n",
       "    </tr>\n",
       "    <tr>\n",
       "      <th>14</th>\n",
       "      <td>11</td>\n",
       "      <td>111</td>\n",
       "      <td>1</td>\n",
       "      <td>8000</td>\n",
       "      <td>additive</td>\n",
       "      <td>logistic</td>\n",
       "      <td>0.1</td>\n",
       "      <td>0.50</td>\n",
       "      <td>0.1</td>\n",
       "      <td>0.1</td>\n",
       "      <td>0.25</td>\n",
       "    </tr>\n",
       "  </tbody>\n",
       "</table>\n",
       "</div>"
      ],
      "text/plain": [
       "    iteration  iteration_exp  replicate  init_pop fertility_type mating_type  \\\n",
       "0           0              1          1      8000       additive    logistic   \n",
       "2           9            100          1      8000       additive    logistic   \n",
       "3          10            101          1      8000       additive    logistic   \n",
       "12          1             11          1      8000       additive    logistic   \n",
       "14         11            111          1      8000       additive    logistic   \n",
       "\n",
       "    p_genetic_variance  p_vertical_trans_variance  p_leakage  p_random_mating  \\\n",
       "0                  0.0                       0.00        0.1              0.1   \n",
       "2                  0.1                       0.05        0.1              0.1   \n",
       "3                  0.1                       0.25        0.1              0.1   \n",
       "12                 0.0                       0.05        0.1              0.1   \n",
       "14                 0.1                       0.50        0.1              0.1   \n",
       "\n",
       "    p_fertility_factor  \n",
       "0                 0.25  \n",
       "2                 0.25  \n",
       "3                 0.25  \n",
       "12                0.25  \n",
       "14                0.25  "
      ]
     },
     "execution_count": 15,
     "metadata": {},
     "output_type": "execute_result"
    }
   ],
   "source": [
    "params.head()"
   ]
  },
  {
   "cell_type": "markdown",
   "metadata": {},
   "source": []
  },
  {
   "cell_type": "code",
   "execution_count": 4,
   "metadata": {},
   "outputs": [
    {
     "name": "stdout",
     "output_type": "stream",
     "text": [
      "[0.1, 0.0, 0.2, 0.05]\n"
     ]
    },
    {
     "data": {
      "image/png": "[encoded data removed]",
      "text/plain": [
       "<Figure size 432x288 with 1 Axes>"
      ]
     },
     "metadata": {
      "needs_background": "light"
     },
     "output_type": "display_data"
    },
    {
     "data": {
      "image/png": "[encoded data removed]",
      "text/plain": [
       "<Figure size 432x288 with 1 Axes>"
      ]
     },
     "metadata": {
      "needs_background": "light"
     },
     "output_type": "display_data"
    },
    {
     "data": {
      "image/png": "[encoded data removed]",
      "text/plain": [
       "<Figure size 432x288 with 1 Axes>"
      ]
     },
     "metadata": {
      "needs_background": "light"
     },
     "output_type": "display_data"
    },
    {
     "data": {
      "image/png": "[encoded data removed]",
      "text/plain": [
       "<Figure size 432x288 with 1 Axes>"
      ]
     },
     "metadata": {
      "needs_background": "light"
     },
     "output_type": "display_data"
    }
   ],
   "source": [
    "s = df.loc[df.p_vertical_trans_variance != 0].copy()\n",
    "v = list(s.p_genetic_variance.unique())\n",
    "print(v)\n",
    "for i in v:\n",
    "    p = sns.barplot(y='g4', x='p_random_mating', hue='p_vertical_trans_variance',\n",
    "    data=s[s.p_genetic_variance==i], estimator=np.median);\n",
    "    p.set_ylabel(\"propotion obese\", fontsize = 10)\n",
    "    p.set_xlabel(\"random mating\", fontsize = 10)\n",
    "    p.set(title =\"genetic variance = \" + str(i))\n",
    "    p.set_ylim(0, 0.9)\n",
    "    plt.legend(title='vertical trans variance', bbox_to_anchor=(1.05, 1), loc=2, borderaxespad=0.)\n",
    "    plt.savefig(plots_path + \"prop-bmi-vertical-trans-genes-\" + str(i).replace('.', '-') + \".pdf\", bbox_inches='tight')\n",
    "    shutil.copy(plots_path + \"prop-bmi-vertical-trans-genes-\" + str(i).replace('.', '-') + \".pdf\", plot_manuscript)\n",
    "    plt.show()"
   ]
  },
  {
   "cell_type": "code",
   "execution_count": 5,
   "metadata": {},
   "outputs": [
    {
     "data": {
      "image/png": "[encoded data removed]",
      "text/plain": [
       "<Figure size 432x288 with 1 Axes>"
      ]
     },
     "metadata": {
      "needs_background": "light"
     },
     "output_type": "display_data"
    }
   ],
   "source": [
    "# vertical transmission = 0\n",
    "s = df.loc[(df.p_vertical_trans_variance == 0) & (df.p_genetic_variance>0)].copy()\n",
    "p = sns.barplot(y='g4', x='p_random_mating', hue='p_genetic_variance',\n",
    "data=s, estimator=np.median);\n",
    "p.set_ylabel(\"propotion obese\", fontsize = 10)\n",
    "p.set_xlabel(\"random mating\", fontsize = 10)\n",
    "p.set(title =\"vertical transmission = \" + str(0))\n",
    "p.set_ylim(0, 0.9)\n",
    "plt.legend(title='genetic variance', bbox_to_anchor=(1.05, 1), loc=2, borderaxespad=0.)\n",
    "plt.savefig(plots_path + \"prop-bmi-genes-vertical-trans-\" + str(0) + \".pdf\", bbox_inches='tight')\n",
    "shutil.copy(plots_path + \"prop-bmi-genes-vertical-trans-\" + str(0) + \".pdf\", plot_manuscript)\n",
    "plt.show()"
   ]
  },
  {
   "cell_type": "markdown",
   "metadata": {},
   "source": [
    "# Genes + Vertical transmission + Fertiliy"
   ]
  },
  {
   "cell_type": "code",
   "execution_count": 3,
   "metadata": {},
   "outputs": [
    {
     "data": {
      "text/plain": [
       "(6400, 4)"
      ]
     },
     "execution_count": 3,
     "metadata": {},
     "output_type": "execute_result"
    }
   ],
   "source": [
    "# scenarios genes + vertical transmission\n",
    "d = {'fertility' :  [0.0, .10, 0.20, 0.30],\n",
    "    'genes' : [0.0, 0.05, 0.10, 0.20],\n",
    "    'vertical-trans' : [0.0, 0.05, 0.25, 0.50]}\n",
    "\n",
    "df = pd.DataFrame(product_dict(**d))\n",
    "df['iteration'] = df.groupby(list(d)).ngroup()\n",
    "df = df.loc[df.index.repeat(100)]\n",
    "vars = ['iteration', 'fertility', 'genes', 'vertical-trans']\n",
    "df.loc[:,vars].to_csv(model_path + \"data/param-bmi-fertility-genes-vertical-trans.csv\", index=False)\n",
    "df.loc[:,vars].shape"
   ]
  },
  {
   "cell_type": "code",
   "execution_count": 9,
   "metadata": {},
   "outputs": [
    {
     "data": {
      "text/plain": [
       "Index(['fertility', 'genes', 'vertical-trans', 'iteration'], dtype='object')"
      ]
     },
     "execution_count": 9,
     "metadata": {},
     "output_type": "execute_result"
    }
   ],
   "source": [
    "df.columns"
   ]
  }
 ],
 "metadata": {
  "kernelspec": {
   "display_name": "Python 3.8.3 ('base')",
   "language": "python",
   "name": "python3"
  },
  "language_info": {
   "codemirror_mode": {
    "name": "ipython",
    "version": 3
   },
   "file_extension": ".py",
   "mimetype": "text/x-python",
   "name": "python",
   "nbconvert_exporter": "python",
   "pygments_lexer": "ipython3",
   "version": "3.8.3"
  },
  "vscode": {
   "interpreter": {
    "hash": "19d1d53a962d236aa061289c2ac16dc8e6d9648c89fe79f459ae9a3493bc67b4"
   }
  }
 },
 "nbformat": 4,
 "nbformat_minor": 2
}
