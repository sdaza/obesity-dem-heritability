{
 "cells": [
  {
   "cell_type": "markdown",
   "metadata": {},
   "source": [
    "# Vertical transmission: sensitivity analysis"
   ]
  },
  {
   "cell_type": "code",
   "execution_count": 87,
   "metadata": {},
   "outputs": [],
   "source": [
    "from matplotlib import pyplot as plt\n",
    "import seaborn as sns\n",
    "import pandas as pd\n",
    "import numpy as np\n",
    "import shutil\n",
    "\n",
    "model_path = \"../models/BMI-SNP/\"\n",
    "output_path = \"../output/data/\"\n",
    "plots_path = \"../output/plots/\"\n",
    "plot_manuscript = \"../manuscript/plots/\""
   ]
  },
  {
   "cell_type": "markdown",
   "metadata": {},
   "source": [
    "# Genes"
   ]
  },
  {
   "cell_type": "code",
   "execution_count": 38,
   "metadata": {},
   "outputs": [
    {
     "name": "stderr",
     "output_type": "stream",
     "text": [
      "<ipython-input-38-baf6db00dad0>:7: FutureWarning: The default value of regex will change from True to False in a future version.\n",
      "  cols = df.bmi_category_prop.str.replace(r'\\[|\\]', '').str.split(\",\", n=4, expand=True)\n"
     ]
    }
   ],
   "source": [
    "vars = ['iteration', 'p_genetic_variance', 'p_vertical_trans_variance', \n",
    "    'p_random_mating', 'p_fertility_factor']\n",
    "df = pd.read_csv(output_path + \"results-bmi-mating-genes.csv\", sep = \";\")\n",
    "params = pd.read_csv(output_path + \"param-bmi-mating-genes.csv\", sep = \";\")\n",
    "params = params. drop_duplicates(subset=vars)\n",
    "\n",
    "cols = df.bmi_category_prop.str.replace(r'\\[|\\]', '').str.split(\",\", n=4, expand=True)\n",
    "colnames = ['g'+str(i+1) for i in range(4)]\n",
    "cols.columns = colnames\n",
    "cols = cols[colnames].apply(pd.to_numeric)\n",
    "df = pd.concat([df, cols], axis=1, ignore_index=False)\n",
    "df = df.merge(params, on = [\"iteration\"])"
   ]
  },
  {
   "cell_type": "code",
   "execution_count": 98,
   "metadata": {},
   "outputs": [
    {
     "data": {
      "text/plain": [
       "0.10564504018133328"
      ]
     },
     "execution_count": 98,
     "metadata": {},
     "output_type": "execute_result"
    }
   ],
   "source": [
    "df.loc[(df.p_genetic_variance == 0.05)  & (df.p_random_mating == 0.1),['iteration', 'average_bmi']].average_bmi.std()"
   ]
  },
  {
   "cell_type": "code",
   "execution_count": 88,
   "metadata": {},
   "outputs": [
    {
     "data": {
      "text/plain": [
       "'../manuscript/plots/prop-bmi-genes.pdf'"
      ]
     },
     "execution_count": 88,
     "metadata": {},
     "output_type": "execute_result"
    },
    {
     "data": {
      "image/png": "[encoded data removed]",
      "text/plain": [
       "<Figure size 432x288 with 1 Axes>"
      ]
     },
     "metadata": {
      "needs_background": "light"
     },
     "output_type": "display_data"
    }
   ],
   "source": [
    "p = sns.barplot(y='g4', x='p_random_mating', hue='p_genetic_variance',data=df, estimator=np.median);\n",
    "p.set_ylabel(\"propotion obese\", fontsize = 10)\n",
    "p.set_xlabel(\"random mating\", fontsize = 10)\n",
    "plt.legend(title='genetic variance', bbox_to_anchor=(1.05, 1), loc=2, borderaxespad=0.)\n",
    "plt.savefig(plots_path + \"prop-bmi-genes.pdf\", bbox_inches='tight')\n",
    "shutil.copy(plots_path + \"prop-bmi-genes.pdf\", plot_manuscript)"
   ]
  },
  {
   "cell_type": "code",
   "execution_count": 102,
   "metadata": {},
   "outputs": [
    {
     "data": {
      "text/plain": [
       "'../manuscript/plots/average-bmi-genes.pdf'"
      ]
     },
     "execution_count": 102,
     "metadata": {},
     "output_type": "execute_result"
    },
    {
     "data": {
      "image/png": "[encoded data removed]",
      "text/plain": [
       "<Figure size 432x288 with 1 Axes>"
      ]
     },
     "metadata": {
      "needs_background": "light"
     },
     "output_type": "display_data"
    }
   ],
   "source": [
    "p = sns.barplot(y='average_bmi', x='p_random_mating', hue='p_genetic_variance',data=df, estimator=np.median, ci=95);\n",
    "p.set_ylabel(\"propotion obese\", fontsize = 10)\n",
    "p.set_xlabel(\"random mating\", fontsize = 10)\n",
    "plt.legend(title='genetic variance', bbox_to_anchor=(1.05, 1), loc=2, borderaxespad=0.)\n",
    "plt.savefig(plots_path + \"average-bmi-genes.pdf\", bbox_inches='tight')\n",
    "shutil.copy(plots_path + \"average-bmi-genes.pdf\", plot_manuscript)"
   ]
  },
  {
   "cell_type": "code",
   "execution_count": null,
   "metadata": {},
   "outputs": [],
   "source": []
  }
 ],
 "metadata": {
  "interpreter": {
   "hash": "949777d72b0d2535278d3dc13498b2535136f6dfe0678499012e853ee9abcab1"
  },
  "kernelspec": {
   "display_name": "Python 3.9.2 64-bit",
   "language": "python",
   "name": "python3"
  },
  "language_info": {
   "codemirror_mode": {
    "name": "ipython",
    "version": 3
   },
   "file_extension": ".py",
   "mimetype": "text/x-python",
   "name": "python",
   "nbconvert_exporter": "python",
   "pygments_lexer": "ipython3",
   "version": "3.9.2"
  }
 },
 "nbformat": 4,
 "nbformat_minor": 2
}
