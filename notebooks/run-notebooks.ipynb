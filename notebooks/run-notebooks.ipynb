{
 "cells": [
  {
   "cell_type": "markdown",
   "metadata": {},
   "source": [
    "# Create tables\n",
    "\n",
    "## efast"
   ]
  },
  {
   "cell_type": "code",
   "execution_count": 24,
   "metadata": {},
   "outputs": [],
   "source": [
    "import nbformat\n",
    "from nbconvert.preprocessors import ExecutePreprocessor\n",
    "from Sensitivity import Sensitivity\n",
    "import joblib\n",
    "import shutil"
   ]
  },
  {
   "cell_type": "code",
   "execution_count": 8,
   "metadata": {},
   "outputs": [],
   "source": [
    "def run_notebook(notebook, timeout=600, kernel_name='python3')\n",
    "    with open(notebook) as f:\n",
    "        nb = nbformat.read(f, as_version=4)\n",
    "    ep = ExecutePreprocessor(timeout=timeout, kernel_name=kernel_name)\n",
    "    ep.preprocess(nb)\n",
    "    with open(notebook, 'w', encoding='utf-8') as f:\n",
    "        nbformat.write(nb, f)"
   ]
  },
  {
   "cell_type": "code",
   "execution_count": 21,
   "metadata": {},
   "outputs": [],
   "source": [
    "nbs = ['snp-sensitivity.ipynb', 'snp-vertical-trans-sensitivity.ipynb', 'vertical-trans-sensitivity.ipynb']\n",
    "for i in nbs:\n",
    "    run_notebook(i)"
   ]
  },
  {
   "cell_type": "code",
   "execution_count": 22,
   "metadata": {},
   "outputs": [],
   "source": []
  },
  {
   "cell_type": "code",
   "execution_count": 32,
   "metadata": {},
   "outputs": [
    {
     "data": {
      "text/plain": [
       "'../manuscript/tables/efast.tex'"
      ]
     },
     "execution_count": 32,
     "metadata": {},
     "output_type": "execute_result"
    }
   ],
   "source": [
    "# create efast table\n",
    "\n",
    "snp = joblib.load('efast-snp.pkl')\n",
    "vt = joblib.load('efast-vt.pkl')\n",
    "snp_vt = joblib.load('efast-snp-vt.pkl')\n",
    "\n",
    "with open(\"../output/tables/efast.tex\", \"w\") as f:\n",
    "    f.write('''\n",
    "\\\\begin{table}[htp]\n",
    "\\\\renewcommand{\\\\arraystretch}{1.3}\n",
    "\\\\setlength{\\\\tabcolsep}{5pt}\n",
    "\\\\caption{Efast sensitivity results (N = 6000 per scenario)}\n",
    "\\\\label{tab:efast}\n",
    "\\\\footnotesize\n",
    "\\\\centering\n",
    "\\\\begin{threeparttable}\n",
    "\\\\begin{tabular}{lccc}\n",
    "\\\\hline\n",
    "\\\\addlinespace\n",
    "& Proportion Obese & Average BMI & SD BMI \\\\\\\\\n",
    "\\\\addlinespace\n",
    "\\\\hline\n",
    "\\\\addlinespace\n",
    "\\\\multicolumn{4}{l}{\\\\textbf{Scenario 1 (only genes)}} \\\\\\\\\n",
    "\\\\addlinespace[6pt]\n",
    "\\\\multicolumn{4}{l}{\\\\hspace{1em} S1} \\\\\\\\\\n''')\n",
    "    f.write(snp['s1'])\n",
    "    f.write('''\\\\\\\\\n",
    "\\\\addlinespace[12pt]\n",
    "\\\\multicolumn{4}{l}{\\hspace{1em} ST} \\\\\\\\ \\n''')\n",
    "    f.write(snp['st'])\n",
    "    f.write('''\\\\\\\\ \n",
    "\\\\addlinespace[12pt]\n",
    "    \\\\multicolumn{4}{l}{\\\\textbf{Scenario 2 (only vertical transmission)}} \\\\\\\\\n",
    "    \\\\addlinespace[6pt]\n",
    "    \\\\multicolumn{4}{l}{\\\\hspace{1em} S1} \\\\\\\\\\n''')\n",
    "    f.write(vt['s1'])\n",
    "    f.write('''\\\\\\\\\n",
    "\\\\addlinespace[12pt]\n",
    "\\\\multicolumn{4}{l}{\\hspace{1em} ST} \\\\\\\\ \\n''')\n",
    "    f.write(vt['st'])\n",
    "    f.write('''\\\\\\\\ \n",
    "\\\\addlinespace[12pt]\n",
    "    \\\\multicolumn{4}{l}{\\\\textbf{Scenario 3 (genes and vertical transmission)}} \\\\\\\\\n",
    "    \\\\addlinespace[6pt]\n",
    "    \\\\multicolumn{4}{l}{\\\\hspace{1em} S1} \\\\\\\\\\n''')\n",
    "    f.write(snp_vt['s1'])\n",
    "    f.write('''\\\\\\\\\n",
    "\\\\addlinespace[12pt]\n",
    "\\\\multicolumn{4}{l}{\\hspace{1em} ST} \\\\\\\\ \\n''')\n",
    "    f.write(snp_vt['st'])\n",
    "    f.write('''\\\\\\\\\n",
    "\\\\addlinespace\n",
    "\\\\hline\n",
    "\\\\end{tabular}\n",
    "\\\\begin{tablenotes}\n",
    "\\\\scriptsize\n",
    "\\\\item 95\\\\% confidence interval in brackets.\n",
    "\\\\item S1 = First-order indices,  measures the contribution to the output variance by a single model input alone.\n",
    "\\\\item ST = Total-order index, measures the contribution to the output variance caused by a model input, including both its first-order effects (the input varying alone) and all higher-order interactions.\n",
    "\\\\end{tablenotes}\n",
    "\\\\end{threeparttable}\n",
    "\\\\end{table}''')\n",
    "\n",
    "\n",
    "shutil.copy(\"../output/tables/efast.tex\",'../manuscript/tables')"
   ]
  },
  {
   "cell_type": "code",
   "execution_count": null,
   "metadata": {},
   "outputs": [],
   "source": [
    "# create sobol table\n",
    "\n",
    "snp = joblib.load('sobol-snp.pkl')\n",
    "vt = joblib.load('sobol-vt.pkl')\n",
    "snp_vt = joblib.load('sobol-snp-vt.pkl')\n",
    "\n",
    "with open(\"../output/tables/sobol.tex\", \"w\") as f:\n",
    "    f.write('''\n",
    "\\\\begin{table}[htp]\n",
    "\\\\renewcommand{\\\\arraystretch}{1.3}\n",
    "\\\\setlength{\\\\tabcolsep}{5pt}\n",
    "\\\\caption{Sobol sensitivity results (N = 16384 per scenario)}\n",
    "\\\\label{tab:sensitivity}\n",
    "\\\\footnotesize\n",
    "\\\\centering\n",
    "\\\\begin{threeparttable}\n",
    "\\\\begin{tabular}{lccc}\n",
    "\\\\hline\n",
    "\\\\addlinespace\n",
    "& Proportion Obese & Average BMI & SD BMI \\\\\\\\\n",
    "\\\\addlinespace\n",
    "\\\\hline\n",
    "\\\\addlinespace\n",
    "\\\\multicolumn{4}{l}{\\\\textbf{Scenario 1 (only genes)}} \\\\\\\\\n",
    "\\\\addlinespace[6pt]\n",
    "\\\\multicolumn{4}{l}{\\\\hspace{1em} S1} \\\\\\\\\\n''')\n",
    "    f.write(snp['s1'])\n",
    "    f.write('''\\\\\\\\\n",
    "\\\\addlinespace[12pt]\n",
    "\\\\multicolumn{4}{l}{\\hspace{1em} ST} \\\\\\\\ \\n''')\n",
    "    f.write(snp['s2'])\n",
    "    f.write('''\\\\\\\\ \n",
    "\\\\addlinespace[12pt]\n",
    "    \\\\multicolumn{4}{l}{\\\\textbf{Scenario 2 (only vertical transmission)}} \\\\\\\\\n",
    "    \\\\addlinespace[6pt]\n",
    "    \\\\multicolumn{4}{l}{\\\\hspace{1em} S1} \\\\\\\\\\n''')\n",
    "    f.write(vt['s1'])\n",
    "    f.write('''\\\\\\\\\n",
    "\\\\addlinespace[12pt]\n",
    "\\\\multicolumn{4}{l}{\\hspace{1em} ST} \\\\\\\\ \\n''')\n",
    "    f.write(vt['st'])\n",
    "    f.write('''\\\\\\\\ \n",
    "\\\\addlinespace[12pt]\n",
    "    \\\\multicolumn{4}{l}{\\\\textbf{Scenario 3 (genes and vertical transmission)}} \\\\\\\\\n",
    "    \\\\addlinespace[6pt]\n",
    "    \\\\multicolumn{4}{l}{\\\\hspace{1em} S1} \\\\\\\\\\n''')\n",
    "    f.write(snp_vt['s1'])\n",
    "    f.write('''\\\\\\\\\n",
    "\\\\addlinespace[12pt]\n",
    "\\\\multicolumn{4}{l}{\\hspace{1em} ST} \\\\\\\\ \\n''')\n",
    "    f.write(snp_vt['st'])\n",
    "    f.write('''\\\\\\\\\n",
    "\\\\addlinespace\n",
    "\\\\hline\n",
    "\\\\end{tabular}\n",
    "\\begin{tablenotes}\n",
    "\\\\scriptsize\n",
    "\\\\item $^*$ Null hypothesis value outside the 95\\% confidence interval.\n",
    "\\\\item Each coefficient comes from random-effects model pooling 100 replicate estimates.\n",
    "\\\\item GLM = generalized linear model. LE = Life expectancy.\n",
    "\\\\end{tablenotes}\n",
    "\\\\end{threeparttable}\n",
    "\\\\end{table}''')\n",
    "\n",
    "shutil.copy(\"../output/tables/efast.tex\",'../manuscript/tables')"
   ]
  }
 ],
 "metadata": {
  "kernelspec": {
   "display_name": "Python 3.9.2 64-bit",
   "language": "python",
   "name": "python3"
  },
  "language_info": {
   "codemirror_mode": {
    "name": "ipython",
    "version": 3
   },
   "file_extension": ".py",
   "mimetype": "text/x-python",
   "name": "python",
   "nbconvert_exporter": "python",
   "pygments_lexer": "ipython3",
   "version": "3.9.2"
  },
  "orig_nbformat": 4,
  "vscode": {
   "interpreter": {
    "hash": "949777d72b0d2535278d3dc13498b2535136f6dfe0678499012e853ee9abcab1"
   }
  }
 },
 "nbformat": 4,
 "nbformat_minor": 2
}
