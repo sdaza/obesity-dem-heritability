{
 "cells": [
  {
   "cell_type": "markdown",
   "metadata": {},
   "source": [
    "# Vertical transmission: sensitivity analysis"
   ]
  },
  {
   "cell_type": "code",
   "execution_count": 18,
   "metadata": {},
   "outputs": [],
   "source": [
    "import pandas as pd\n",
    "import itertools\n",
    "\n",
    "model_path = \"../models/BMI-SNP/\"\n",
    "output_path = \"../output/data/\"\n",
    "plots_path = \"../output/plots/\""
   ]
  },
  {
   "cell_type": "code",
   "execution_count": 20,
   "metadata": {},
   "outputs": [],
   "source": [
    "def expandgrid(*itrs):\n",
    "    product = list(itertools.product(*reversed(itrs)))\n",
    "    return [[x[i] for x in product] for i in range(len(itrs))][::-1]"
   ]
  },
  {
   "cell_type": "code",
   "execution_count": 35,
   "metadata": {},
   "outputs": [
    {
     "data": {
      "text/plain": [
       "{'random-mating': [0.1, 0.5, 0.9], 'genes': [0.05, 0.1, 0.2]}"
      ]
     },
     "execution_count": 35,
     "metadata": {},
     "output_type": "execute_result"
    }
   ],
   "source": [
    "d"
   ]
  },
  {
   "cell_type": "code",
   "execution_count": 55,
   "metadata": {},
   "outputs": [],
   "source": [
    "def product_dict(**kwargs):\n",
    "    keys = kwargs.keys()\n",
    "    vals = kwargs.values()\n",
    "    for instance in itertools.product(*vals):\n",
    "        yield dict(zip(keys, instance))"
   ]
  },
  {
   "cell_type": "code",
   "execution_count": 56,
   "metadata": {},
   "outputs": [],
   "source": [
    "d = {'random-mating' :  [0.10, 0.5, 0.90],\n",
    "    'genes' : [0.05, 0.10, 0.20]}\n",
    "\n",
    "df = pd.DataFrame(product_dict(**d))\n",
    "df['iteration'] = df.groupby(['random-mating', 'genes']).ngroup()\n",
    "df = df.loc[df.index.repeat(100)]\n",
    "vars = ['iteration', 'random-mating', 'genes']\n",
    "df.loc[:,vars].to_csv(model_path + \"data/param-bmi-mating-genes.csv\", index=False)"
   ]
  },
  {
   "cell_type": "code",
   "execution_count": 57,
   "metadata": {},
   "outputs": [],
   "source": [
    "d = {'random-mating' :  [0.10, 0.5, 0.90],\n",
    "    'vertical-trans' : [0.05, 0.10, 0.20]}\n",
    "\n",
    "df = pd.DataFrame(product_dict(**d))\n",
    "df['iteration'] = df.groupby(['random-mating', 'vertical-trans']).ngroup()\n",
    "df = df.loc[df.index.repeat(100)]\n",
    "vars = ['iteration', 'random-mating', 'vertical-trans']\n",
    "df.loc[:,vars].to_csv(model_path + \"data/param-bmi-mating-vertical-trans.csv\", index=False)"
   ]
  }
 ],
 "metadata": {
  "interpreter": {
   "hash": "949777d72b0d2535278d3dc13498b2535136f6dfe0678499012e853ee9abcab1"
  },
  "kernelspec": {
   "display_name": "Python 3.9.2 64-bit",
   "language": "python",
   "name": "python3"
  },
  "language_info": {
   "codemirror_mode": {
    "name": "ipython",
    "version": 3
   },
   "file_extension": ".py",
   "mimetype": "text/x-python",
   "name": "python",
   "nbconvert_exporter": "python",
   "pygments_lexer": "ipython3",
   "version": "3.9.2"
  }
 },
 "nbformat": 4,
 "nbformat_minor": 2
}
