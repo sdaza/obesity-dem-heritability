{
 "cells": [
  {
   "cell_type": "markdown",
   "metadata": {},
   "source": [
    "# Vertical transmission: sensitivity analysis"
   ]
  },
  {
   "cell_type": "code",
   "execution_count": 4,
   "metadata": {},
   "outputs": [],
   "source": [
    "import pandas as pd\n",
    "import itertools\n",
    "\n",
    "model_path = \"../models/BMI-SNP/\"\n",
    "output_path = \"../output/data/\"\n",
    "plots_path = \"../output/plots/\"\n",
    "\n",
    "def product_dict(**kwargs):\n",
    "    keys = kwargs.keys()\n",
    "    vals = kwargs.values()\n",
    "    for instance in itertools.product(*vals):\n",
    "        yield dict(zip(keys, instance))"
   ]
  },
  {
   "cell_type": "code",
   "execution_count": null,
   "metadata": {},
   "outputs": [],
   "source": [
    "d = {'random-mating' :  [0.10, 0.5, 0.90],\n",
    "    'genes' : [0.05, 0.10, 0.20]}\n",
    "\n",
    "df = pd.DataFrame(product_dict(**d))\n",
    "df['iteration'] = df.groupby(['random-mating', 'genes']).ngroup()\n",
    "df = df.loc[df.index.repeat(100)]\n",
    "vars = ['iteration', 'random-mating', 'genes']\n",
    "df.loc[:,vars].to_csv(model_path + \"data/param-bmi-mating-genes.csv\", index=False)"
   ]
  },
  {
   "cell_type": "code",
   "execution_count": null,
   "metadata": {},
   "outputs": [],
   "source": [
    "d = {'random-mating' :  [0.10, 0.5, 0.90],\n",
    "    'vertical-trans' : [0.10, 0.25, 0.50]}\n",
    "\n",
    "df = pd.DataFrame(product_dict(**d))\n",
    "df['iteration'] = df.groupby(['random-mating', 'vertical-trans']).ngroup()\n",
    "df = df.loc[df.index.repeat(100)]\n",
    "vars = ['iteration', 'random-mating', 'vertical-trans']\n",
    "df.loc[:,vars].to_csv(model_path + \"data/param-bmi-mating-vertical-trans.csv\", index=False)"
   ]
  },
  {
   "cell_type": "code",
   "execution_count": 5,
   "metadata": {
    "tags": []
   },
   "outputs": [
    {
     "data": {
      "text/html": [
       "<div>\n",
       "<style scoped>\n",
       "    .dataframe tbody tr th:only-of-type {\n",
       "        vertical-align: middle;\n",
       "    }\n",
       "\n",
       "    .dataframe tbody tr th {\n",
       "        vertical-align: top;\n",
       "    }\n",
       "\n",
       "    .dataframe thead th {\n",
       "        text-align: right;\n",
       "    }\n",
       "</style>\n",
       "<table border=\"1\" class=\"dataframe\">\n",
       "  <thead>\n",
       "    <tr style=\"text-align: right;\">\n",
       "      <th></th>\n",
       "      <th>iteration</th>\n",
       "      <th>random-mating</th>\n",
       "      <th>genes</th>\n",
       "      <th>vertical-trans</th>\n",
       "    </tr>\n",
       "  </thead>\n",
       "  <tbody>\n",
       "    <tr>\n",
       "      <th>0</th>\n",
       "      <td>0</td>\n",
       "      <td>0.1</td>\n",
       "      <td>0.05</td>\n",
       "      <td>0.1</td>\n",
       "    </tr>\n",
       "    <tr>\n",
       "      <th>0</th>\n",
       "      <td>0</td>\n",
       "      <td>0.1</td>\n",
       "      <td>0.05</td>\n",
       "      <td>0.1</td>\n",
       "    </tr>\n",
       "    <tr>\n",
       "      <th>0</th>\n",
       "      <td>0</td>\n",
       "      <td>0.1</td>\n",
       "      <td>0.05</td>\n",
       "      <td>0.1</td>\n",
       "    </tr>\n",
       "    <tr>\n",
       "      <th>0</th>\n",
       "      <td>0</td>\n",
       "      <td>0.1</td>\n",
       "      <td>0.05</td>\n",
       "      <td>0.1</td>\n",
       "    </tr>\n",
       "    <tr>\n",
       "      <th>0</th>\n",
       "      <td>0</td>\n",
       "      <td>0.1</td>\n",
       "      <td>0.05</td>\n",
       "      <td>0.1</td>\n",
       "    </tr>\n",
       "    <tr>\n",
       "      <th>...</th>\n",
       "      <td>...</td>\n",
       "      <td>...</td>\n",
       "      <td>...</td>\n",
       "      <td>...</td>\n",
       "    </tr>\n",
       "    <tr>\n",
       "      <th>26</th>\n",
       "      <td>8</td>\n",
       "      <td>0.9</td>\n",
       "      <td>0.20</td>\n",
       "      <td>0.5</td>\n",
       "    </tr>\n",
       "    <tr>\n",
       "      <th>26</th>\n",
       "      <td>8</td>\n",
       "      <td>0.9</td>\n",
       "      <td>0.20</td>\n",
       "      <td>0.5</td>\n",
       "    </tr>\n",
       "    <tr>\n",
       "      <th>26</th>\n",
       "      <td>8</td>\n",
       "      <td>0.9</td>\n",
       "      <td>0.20</td>\n",
       "      <td>0.5</td>\n",
       "    </tr>\n",
       "    <tr>\n",
       "      <th>26</th>\n",
       "      <td>8</td>\n",
       "      <td>0.9</td>\n",
       "      <td>0.20</td>\n",
       "      <td>0.5</td>\n",
       "    </tr>\n",
       "    <tr>\n",
       "      <th>26</th>\n",
       "      <td>8</td>\n",
       "      <td>0.9</td>\n",
       "      <td>0.20</td>\n",
       "      <td>0.5</td>\n",
       "    </tr>\n",
       "  </tbody>\n",
       "</table>\n",
       "<p>2700 rows × 4 columns</p>\n",
       "</div>"
      ],
      "text/plain": [
       "    iteration  random-mating  genes  vertical-trans\n",
       "0           0            0.1   0.05             0.1\n",
       "0           0            0.1   0.05             0.1\n",
       "0           0            0.1   0.05             0.1\n",
       "0           0            0.1   0.05             0.1\n",
       "0           0            0.1   0.05             0.1\n",
       "..        ...            ...    ...             ...\n",
       "26          8            0.9   0.20             0.5\n",
       "26          8            0.9   0.20             0.5\n",
       "26          8            0.9   0.20             0.5\n",
       "26          8            0.9   0.20             0.5\n",
       "26          8            0.9   0.20             0.5\n",
       "\n",
       "[2700 rows x 4 columns]"
      ]
     },
     "execution_count": 5,
     "metadata": {},
     "output_type": "execute_result"
    }
   ],
   "source": [
    "d = {'random-mating' :  [0.10, 0.5, 0.90],\n",
    "    'genes' : [0.05, 0.10, 0.20],\n",
    "    'vertical-trans' : [0.10, 0.25, 0.50]}\n",
    "\n",
    "df = pd.DataFrame(product_dict(**d))\n",
    "df['iteration'] = df.groupby(['random-mating', 'vertical-trans']).ngroup()\n",
    "\n",
    "# s = ((df.genes == 0.05) & (df['vertical-trans'] == 0.10)) | ((df.genes == 0.10) & (df['vertical-trans'] == 0.25)) | ((df.genes == 0.20) & (df['vertical-trans'] == 0.50))\n",
    "# df = df[s]\n",
    "df = df.loc[df.index.repeat(100)]\n",
    "vars = ['iteration', 'random-mating', 'genes', 'vertical-trans']\n",
    "df.loc[:,vars].to_csv(model_path + \"data/param-bmi-mating-genes-vertical-trans.csv\", index=False)\n",
    "df.loc[:,vars]"
   ]
  }
 ],
 "metadata": {
  "kernelspec": {
   "display_name": "Python 3.8.3 ('base')",
   "language": "python",
   "name": "python3"
  },
  "language_info": {
   "codemirror_mode": {
    "name": "ipython",
    "version": 3
   },
   "file_extension": ".py",
   "mimetype": "text/x-python",
   "name": "python",
   "nbconvert_exporter": "python",
   "pygments_lexer": "ipython3",
   "version": "3.8.3"
  },
  "vscode": {
   "interpreter": {
    "hash": "19d1d53a962d236aa061289c2ac16dc8e6d9648c89fe79f459ae9a3493bc67b4"
   }
  }
 },
 "nbformat": 4,
 "nbformat_minor": 4
}
