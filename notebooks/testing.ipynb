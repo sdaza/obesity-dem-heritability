{
 "cells": [
  {
   "cell_type": "code",
   "execution_count": 1,
   "metadata": {},
   "outputs": [],
   "source": [
    "# python testing\n",
    "import pandas as pd"
   ]
  },
  {
   "cell_type": "code",
   "execution_count": 4,
   "metadata": {},
   "outputs": [],
   "source": [
    "test = pd.read_csv(\"../models/fertility-BMI/output/groups-0-0.csv\", sep = \";\")"
   ]
  },
  {
   "cell_type": "code",
   "execution_count": 6,
   "metadata": {},
   "outputs": [
    {
     "data": {
      "text/html": [
       "<div>\n",
       "<style scoped>\n",
       "    .dataframe tbody tr th:only-of-type {\n",
       "        vertical-align: middle;\n",
       "    }\n",
       "\n",
       "    .dataframe tbody tr th {\n",
       "        vertical-align: top;\n",
       "    }\n",
       "\n",
       "    .dataframe thead th {\n",
       "        text-align: right;\n",
       "    }\n",
       "</style>\n",
       "<table border=\"1\" class=\"dataframe\">\n",
       "  <thead>\n",
       "    <tr style=\"text-align: right;\">\n",
       "      <th></th>\n",
       "      <th>iteration</th>\n",
       "      <th>replicate</th>\n",
       "      <th>time</th>\n",
       "      <th>population</th>\n",
       "      <th>bmi_group_prop</th>\n",
       "      <th>mating</th>\n",
       "      <th>kid-father-cor</th>\n",
       "      <th>kid-mother-cor</th>\n",
       "      <th>g1</th>\n",
       "      <th>g2</th>\n",
       "      <th>g3</th>\n",
       "      <th>g4</th>\n",
       "    </tr>\n",
       "  </thead>\n",
       "  <tbody>\n",
       "    <tr>\n",
       "      <th>0</th>\n",
       "      <td>0</td>\n",
       "      <td>0</td>\n",
       "      <td>231.0</td>\n",
       "      <td>2027</td>\n",
       "      <td>[0.2138364779874214, 0.29529799341120094, 0.31...</td>\n",
       "      <td>0.673496</td>\n",
       "      <td>0.72593</td>\n",
       "      <td>0.722975</td>\n",
       "      <td>0.2138364779874214</td>\n",
       "      <td>0.29529799341120094</td>\n",
       "      <td>0.31746031746031744</td>\n",
       "      <td>0.1734052111410602</td>\n",
       "    </tr>\n",
       "  </tbody>\n",
       "</table>\n",
       "</div>"
      ],
      "text/plain": [
       "   iteration  replicate   time  population  \\\n",
       "0          0          0  231.0        2027   \n",
       "\n",
       "                                      bmi_group_prop    mating  \\\n",
       "0  [0.2138364779874214, 0.29529799341120094, 0.31...  0.673496   \n",
       "\n",
       "   kid-father-cor  kid-mother-cor                  g1                    g2  \\\n",
       "0         0.72593        0.722975  0.2138364779874214   0.29529799341120094   \n",
       "\n",
       "                     g3                   g4  \n",
       "0   0.31746031746031744   0.1734052111410602  "
      ]
     },
     "execution_count": 6,
     "metadata": {},
     "output_type": "execute_result"
    }
   ],
   "source": [
    "cols = test.bmi_group_prop.str.replace(r'\\[|\\]', '').str.split(\",\", n=4, expand=True)\n",
    "cols.columns = ['g'+str(i+1) for i in range(4)]\n",
    "ff = pd.concat([test, cols], axis=1, ignore_index=False)\n",
    "ff"
   ]
  }
 ],
 "metadata": {
  "interpreter": {
   "hash": "e2e428ab9c127afb68bd4bd6fa54439dcad71a6972a08f78f80f785dd2e6f6bf"
  },
  "kernelspec": {
   "display_name": "Python 3.8.3 64-bit (conda)",
   "language": "python",
   "name": "python3"
  },
  "language_info": {
   "codemirror_mode": {
    "name": "ipython",
    "version": 3
   },
   "file_extension": ".py",
   "mimetype": "text/x-python",
   "name": "python",
   "nbconvert_exporter": "python",
   "pygments_lexer": "ipython3",
   "version": "3.8.3"
  },
  "orig_nbformat": 4
 },
 "nbformat": 4,
 "nbformat_minor": 2
}
