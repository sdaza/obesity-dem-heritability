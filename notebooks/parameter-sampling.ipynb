{
 "cells": [
  {
   "cell_type": "markdown",
   "metadata": {},
   "source": []
  },
  {
   "cell_type": "markdown",
   "metadata": {},
   "source": [
    "# Sensitivity analysis"
   ]
  },
  {
   "cell_type": "code",
   "execution_count": 1,
   "metadata": {},
   "outputs": [],
   "source": [
    "from SALib.sample import saltelli, fast_sampler\n",
    "from SALib.sample import ff as ffs\n",
    "from SALib.analyze import sobol, fast, ff\n",
    "from SALib.plotting.bar import plot as barplot\n",
    "import numpy as np\n",
    "import pandas as pd\n",
    "import shutil\n",
    "import matplotlib.pyplot as plt\n",
    "import plotly.graph_objects as go\n",
    "import plotly.express as px"
   ]
  },
  {
   "cell_type": "code",
   "execution_count": 1,
   "metadata": {},
   "outputs": [],
   "source": [
    "# parameter dictionary\n",
    "problem = {\n",
    "    'num_vars': 3,\n",
    "    'names': ['random-mating', 'leakage', 'fertility'],\n",
    "    'bounds': [[0, 0.75],\n",
    "               [0, 0.50],\n",
    "               [0, 0.30]]\n",
    "}"
   ]
  },
  {
   "cell_type": "markdown",
   "metadata": {},
   "source": [
    "# Sobol"
   ]
  },
  {
   "cell_type": "code",
   "execution_count": null,
   "metadata": {},
   "outputs": [],
   "source": [
    "sample_parameters = False\n",
    "if (sample_parameters):\n",
    "    param_values = saltelli.sample(problem, 2**12)\n",
    "    t = pd.DataFrame(param_values)\n",
    "    t.columns = [\"random-mating\", \"leakage\", \"fertility\"]\n",
    "    t.to_csv(\"../models/fertility-BMI/data/param-sobol.csv\", index=False)\n",
    "else:\n",
    "    t = pd.read_csv(\"../models/fertility-BMI/data/param-sobol.csv\")\n",
    "len(t)"
   ]
  },
  {
   "cell_type": "code",
   "execution_count": null,
   "metadata": {},
   "outputs": [],
   "source": [
    "df = pd.read_csv(\"../output/data/results-sobol.csv\", sep = \";\")\n",
    "params = pd.read_csv(\"../output/data/param-sobol.csv\", sep = \";\")\n",
    "df = df.merge(params, on = [\"iteration\", \"replicate\"])\n",
    "df[\"iteration\"] = pd.to_numeric(df[\"iteration\"])\n",
    "df = df.sort_values(by=['iteration'])\n",
    "df = df.loc[df[\"iteration\"] <= len(t),:]\n",
    "Y = df[\"g4\"].to_numpy()\n",
    "len(Y)"
   ]
  },
  {
   "cell_type": "code",
   "execution_count": null,
   "metadata": {},
   "outputs": [],
   "source": [
    "Si = sobol.analyze(problem, Y, print_to_console=True)"
   ]
  },
  {
   "cell_type": "code",
   "execution_count": null,
   "metadata": {},
   "outputs": [],
   "source": [
    "total, first, second = Si.to_df()"
   ]
  },
  {
   "cell_type": "code",
   "execution_count": null,
   "metadata": {},
   "outputs": [],
   "source": [
    "st = barplot(total)\n",
    "plt.savefig(\"../output/plots/sobol-st.pdf\", bbox_inches='tight')\n",
    "s1 = barplot(first)\n",
    "plt.savefig(\"../output/plots/sobol-s1.pdf\", bbox_inches='tight')\n",
    "s2 = barplot(second)\n",
    "plt.savefig(\"../output/plots/sobol-s2.pdf\", bbox_inches='tight')\n",
    "\n",
    "shutil.copy(\"../output/plots/sobol-st.pdf\", \"../manuscript/plots/\")\n",
    "shutil.copy(\"../output/plots/sobol-s1.pdf\", \"../manuscript/plots/\")\n",
    "shutil.copy(\"../output/plots/sobol-s2.pdf\", \"../manuscript/plots/\")"
   ]
  },
  {
   "cell_type": "code",
   "execution_count": null,
   "metadata": {},
   "outputs": [],
   "source": [
    "fig = px.scatter_3d(df, x='random_mating', y='fertility_factor', z='leakage',\n",
    "              color='g4', color_continuous_scale = px.colors.sequential.OrRd)\n",
    "\n",
    "fig.update_traces(marker=dict(size=4, opacity = 0.4),\n",
    "                  selector=dict(mode='markers'))\n",
    "fig.update_layout(scene = dict(\n",
    "                    xaxis_title='random mating',\n",
    "                    yaxis_title='fertility',\n",
    "                    zaxis_title='leakage'),\n",
    "                    width=700,\n",
    "                    margin=dict(r=10, b=10, l=10, t=10), \n",
    "                    coloraxis_colorbar=dict(title=\"Obese\")\n",
    "                    )\n",
    "fig.show()"
   ]
  },
  {
   "cell_type": "code",
   "execution_count": null,
   "metadata": {},
   "outputs": [],
   "source": [
    "# fig.write_image(\"../output/plots/3D-scatter-sobol.pdf\")\n",
    "shutil.copy(\"../output/plots/3D-scatter-sobol.png\", \"../manuscript/plots/\")"
   ]
  },
  {
   "cell_type": "markdown",
   "metadata": {},
   "source": [
    "# EFast"
   ]
  },
  {
   "cell_type": "code",
   "execution_count": null,
   "metadata": {},
   "outputs": [],
   "source": [
    "\n",
    "sample_parameters = False\n",
    "\n",
    "if (sample_parameters):\n",
    "    param_values = fast_sampler.sample(problem, 2000)\n",
    "    t = pd.DataFrame(param_values)\n",
    "    t.columns = [\"random-mating\", \"leakage\", \"fertility\"]\n",
    "    t.to_csv(\"../models/fertility-BMI/data/param-efast.csv\", index=False)\n",
    "else:\n",
    "    t = pd.read_csv(\"../models/fertility-BMI/data/param-efast.csv\")\n",
    "t.shape"
   ]
  },
  {
   "cell_type": "code",
   "execution_count": null,
   "metadata": {},
   "outputs": [],
   "source": [
    "df = pd.read_csv(\"../output/data/results-efast.csv\", sep = \";\")\n",
    "params = pd.read_csv(\"../output/data/param-efast.csv\", sep = \";\")\n",
    "df = df.merge(params, on = [\"iteration\", \"replicate\"])\n",
    "df[\"iteration\"] = pd.to_numeric(df[\"iteration\"])\n",
    "df = df.sort_values(by=['iteration'])\n",
    "df = df.loc[df[\"iteration\"] <= len(t),:]\n",
    "Y = df[\"g4\"].to_numpy()\n",
    "len(Y)"
   ]
  },
  {
   "cell_type": "code",
   "execution_count": null,
   "metadata": {},
   "outputs": [],
   "source": [
    "df.g4.describe()"
   ]
  },
  {
   "cell_type": "code",
   "execution_count": null,
   "metadata": {},
   "outputs": [],
   "source": [
    "Sif = fast.analyze(problem, Y, print_to_console=True)"
   ]
  },
  {
   "cell_type": "code",
   "execution_count": null,
   "metadata": {},
   "outputs": [],
   "source": [
    "Sif.plot()\n",
    "plt.savefig(\"../output/plots/efast.pdf\", bbox_inches='tight')"
   ]
  },
  {
   "cell_type": "code",
   "execution_count": null,
   "metadata": {},
   "outputs": [],
   "source": [
    "shutil.copy(\"../output/plots/efast.pdf\", \"../manuscript/plots/\")"
   ]
  },
  {
   "cell_type": "code",
   "execution_count": null,
   "metadata": {},
   "outputs": [],
   "source": [
    "fig = px.scatter_3d(df, x='random_mating', y='fertility_factor', z='leakage',\n",
    "              color='g4', color_continuous_scale = px.colors.sequential.OrRd)\n",
    "\n",
    "fig.update_traces(marker=dict(size=4, opacity = 0.7),\n",
    "                  selector=dict(mode='markers'))\n",
    "fig.update_layout(scene = dict(\n",
    "                    xaxis_title='random mating',\n",
    "                    yaxis_title='fertility',\n",
    "                    zaxis_title='leakage'),\n",
    "                    width=700,\n",
    "                    margin=dict(r=20, b=10, l=10, t=10), \n",
    "                    coloraxis_colorbar=dict(title=\"Obese\")\n",
    "                    )\n",
    "fig.show()"
   ]
  },
  {
   "cell_type": "code",
   "execution_count": null,
   "metadata": {},
   "outputs": [],
   "source": [
    "#fig.write_image(\"../output/plots/3D-scatter-efast.pdf\")\n",
    "shutil.copy(\"../output/plots/3D-scatter-efast.png\", \"../manuscript/plots/\")"
   ]
  },
  {
   "cell_type": "markdown",
   "metadata": {},
   "source": [
    "# eFast with replicates"
   ]
  },
  {
   "cell_type": "code",
   "execution_count": 4,
   "metadata": {},
   "outputs": [
    {
     "data": {
      "text/plain": [
       "(1500, 3)"
      ]
     },
     "execution_count": 4,
     "metadata": {},
     "output_type": "execute_result"
    }
   ],
   "source": [
    "\n",
    "sample_parameters = False\n",
    "\n",
    "if (sample_parameters):\n",
    "    param_values = fast_sampler.sample(problem, 500)\n",
    "    \n",
    "    t = pd.DataFrame(param_values)\n",
    "    t.columns = [\"random-mating\", \"leakage\", \"fertility\"]\n",
    "    t.to_csv(\"../models/fertility-BMI/data/param-rep-efast.csv\", index=False)\n",
    "else:\n",
    "    t = pd.read_csv(\"../models/fertility-BMI/data/param-rep-efast.csv\")\n",
    "t.shape"
   ]
  },
  {
   "cell_type": "code",
   "execution_count": 5,
   "metadata": {},
   "outputs": [],
   "source": [
    "df = pd.read_csv(\"../output/data/results-rep-efast.csv\", sep = \";\")\n",
    "params = pd.read_csv(\"../output/data/param-rep-efast.csv\", sep = \";\")\n",
    "df = df.merge(params, on = [\"iteration\", \"replicate\"])\n",
    "df[\"iteration\"] = pd.to_numeric(df[\"iteration\"])\n",
    "df[\"replicate\"] = pd.to_numeric(df[\"replicate\"])\n",
    "df = df.sort_values(by=['iteration'])\n",
    "df = df.loc[df[\"iteration\"] <= len(t),:]"
   ]
  },
  {
   "cell_type": "code",
   "execution_count": 8,
   "metadata": {},
   "outputs": [],
   "source": [
    "replicates = df.replicate.sort_values().unique()\n",
    "Y = {}\n",
    "for i in replicates:\n",
    "    tY = df.loc[df[\"replicate\"] == i].g4.to_numpy()\n",
    "    Y[i] = fast.analyze(problem, tY, print_to_console=False)"
   ]
  },
  {
   "cell_type": "code",
   "execution_count": 9,
   "metadata": {},
   "outputs": [
    {
     "name": "stdout",
     "output_type": "stream",
     "text": [
      "                     S1        ST   S1_conf   ST_conf\n",
      "random-mating  0.003605  0.289156  0.017053  0.033964\n",
      "leakage        0.444692  0.781835  0.017987  0.036907\n",
      "fertility      0.181110  0.456463  0.015730  0.040940\n"
     ]
    }
   ],
   "source": [
    "# testing\n",
    "a = df.loc[df[\"replicate\"] == 3].g4.to_numpy()\n",
    "tsif = fast.analyze(problem, a, print_to_console=True)"
   ]
  },
  {
   "cell_type": "code",
   "execution_count": 10,
   "metadata": {},
   "outputs": [],
   "source": [
    "# create dataset\n",
    "columns = Y[1][\"names\"]\n",
    "S1 = []\n",
    "ST = []\n",
    "\n",
    "for value in Y.values():\n",
    "    S1.append(value[\"S1\"])\n",
    "    ST.append(value[\"ST\"])\n",
    "\n",
    "S1 = pd.DataFrame(np.row_stack(S1))\n",
    "S1.columns = columns\n",
    "ST = pd.DataFrame(np.row_stack(ST))\n",
    "ST.columns = columns"
   ]
  },
  {
   "cell_type": "code",
   "execution_count": 11,
   "metadata": {},
   "outputs": [
    {
     "data": {
      "text/html": [
       "<div>\n",
       "<style scoped>\n",
       "    .dataframe tbody tr th:only-of-type {\n",
       "        vertical-align: middle;\n",
       "    }\n",
       "\n",
       "    .dataframe tbody tr th {\n",
       "        vertical-align: top;\n",
       "    }\n",
       "\n",
       "    .dataframe thead th {\n",
       "        text-align: right;\n",
       "    }\n",
       "</style>\n",
       "<table border=\"1\" class=\"dataframe\">\n",
       "  <thead>\n",
       "    <tr style=\"text-align: right;\">\n",
       "      <th></th>\n",
       "      <th>random-mating</th>\n",
       "      <th>leakage</th>\n",
       "      <th>fertility</th>\n",
       "    </tr>\n",
       "  </thead>\n",
       "  <tbody>\n",
       "    <tr>\n",
       "      <th>count</th>\n",
       "      <td>30.000000</td>\n",
       "      <td>30.000000</td>\n",
       "      <td>30.000000</td>\n",
       "    </tr>\n",
       "    <tr>\n",
       "      <th>mean</th>\n",
       "      <td>0.003953</td>\n",
       "      <td>0.482336</td>\n",
       "      <td>0.198723</td>\n",
       "    </tr>\n",
       "    <tr>\n",
       "      <th>std</th>\n",
       "      <td>0.001941</td>\n",
       "      <td>0.034053</td>\n",
       "      <td>0.022490</td>\n",
       "    </tr>\n",
       "    <tr>\n",
       "      <th>min</th>\n",
       "      <td>0.001023</td>\n",
       "      <td>0.410207</td>\n",
       "      <td>0.142722</td>\n",
       "    </tr>\n",
       "    <tr>\n",
       "      <th>25%</th>\n",
       "      <td>0.002597</td>\n",
       "      <td>0.454800</td>\n",
       "      <td>0.188906</td>\n",
       "    </tr>\n",
       "    <tr>\n",
       "      <th>50%</th>\n",
       "      <td>0.003735</td>\n",
       "      <td>0.490393</td>\n",
       "      <td>0.199509</td>\n",
       "    </tr>\n",
       "    <tr>\n",
       "      <th>75%</th>\n",
       "      <td>0.005271</td>\n",
       "      <td>0.497370</td>\n",
       "      <td>0.212532</td>\n",
       "    </tr>\n",
       "    <tr>\n",
       "      <th>max</th>\n",
       "      <td>0.008254</td>\n",
       "      <td>0.546634</td>\n",
       "      <td>0.253188</td>\n",
       "    </tr>\n",
       "  </tbody>\n",
       "</table>\n",
       "</div>"
      ],
      "text/plain": [
       "       random-mating    leakage  fertility\n",
       "count      30.000000  30.000000  30.000000\n",
       "mean        0.003953   0.482336   0.198723\n",
       "std         0.001941   0.034053   0.022490\n",
       "min         0.001023   0.410207   0.142722\n",
       "25%         0.002597   0.454800   0.188906\n",
       "50%         0.003735   0.490393   0.199509\n",
       "75%         0.005271   0.497370   0.212532\n",
       "max         0.008254   0.546634   0.253188"
      ]
     },
     "execution_count": 11,
     "metadata": {},
     "output_type": "execute_result"
    }
   ],
   "source": [
    "S1.describe()"
   ]
  },
  {
   "cell_type": "code",
   "execution_count": 32,
   "metadata": {},
   "outputs": [
    {
     "data": {
      "image/png": "[encoded data removed]",
      "text/plain": [
       "<Figure size 432x288 with 1 Axes>"
      ]
     },
     "metadata": {
      "needs_background": "light"
     },
     "output_type": "display_data"
    },
    {
     "data": {
      "text/plain": [
       "'../manuscript/plots/efast-rep.pdf'"
      ]
     },
     "execution_count": 32,
     "metadata": {},
     "output_type": "execute_result"
    }
   ],
   "source": [
    "# create plot\n",
    "labels = columns\n",
    "s1_means = S1.describe().loc[\"mean\",].to_numpy()\n",
    "st_means = ST.describe().loc[\"mean\",].to_numpy()\n",
    "s1_errors = S1.describe().loc[\"std\",].to_numpy()\n",
    "st_errors= ST.describe().loc[\"std\",].to_numpy()\n",
    "\n",
    "\n",
    "width = 0.35  # the width of the bars\n",
    "fig, ax = plt.subplots()\n",
    "rects1 = ax.bar(x - width/2, s1_means, width, label='S1', yerr=s1_errors)\n",
    "rects2 = ax.bar(x + width/2, st_means, width, label='ST', yerr=st_errors)\n",
    "\n",
    "# Add some text for labels, title and custom x-axis tick labels, etc.\n",
    "\n",
    "# ax.set_ylabel('Scores')\n",
    "# ax.set_title('Scores by group and gender')\n",
    "ax.set_xticks(np.arange(len(labels))  )\n",
    "ax.set_xticklabels(labels)\n",
    "ax.legend()\n",
    "\n",
    "fig.tight_layout()\n",
    "plt.show()\n",
    "\n",
    "fig.savefig(\"../output/plots/efast-rep.pdf\", bbox_inches='tight')\n",
    "shutil.copy(\"../output/plots/efast-rep.pdf\", \"../manuscript/plots/\")"
   ]
  },
  {
   "cell_type": "code",
   "execution_count": null,
   "metadata": {},
   "outputs": [],
   "source": []
  }
 ],
 "metadata": {
  "interpreter": {
   "hash": "949777d72b0d2535278d3dc13498b2535136f6dfe0678499012e853ee9abcab1"
  },
  "kernelspec": {
   "display_name": "Python 3.9.2 64-bit",
   "language": "python",
   "name": "python3"
  },
  "language_info": {
   "codemirror_mode": {
    "name": "ipython",
    "version": 3
   },
   "file_extension": ".py",
   "mimetype": "text/x-python",
   "name": "python",
   "nbconvert_exporter": "python",
   "pygments_lexer": "ipython3",
   "version": "3.8.3"
  },
  "orig_nbformat": 4
 },
 "nbformat": 4,
 "nbformat_minor": 2
}
