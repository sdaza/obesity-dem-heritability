{
 "cells": [
  {
   "cell_type": "markdown",
   "metadata": {},
   "source": []
  },
  {
   "cell_type": "markdown",
   "metadata": {},
   "source": [
    "# Sensitivity analysis"
   ]
  },
  {
   "cell_type": "code",
   "execution_count": 1,
   "metadata": {},
   "outputs": [],
   "source": [
    "from SALib.sample import saltelli, fast_sampler\n",
    "from SALib.sample import ff as ffs\n",
    "from SALib.analyze import sobol, fast, ff\n",
    "from SALib.plotting.bar import plot as barplot\n",
    "import numpy as np\n",
    "import pandas as pd\n",
    "import shutil\n",
    "import matplotlib.pyplot as plt\n",
    "import plotly.graph_objects as go\n",
    "import plotly.express as px"
   ]
  },
  {
   "cell_type": "code",
   "execution_count": 44,
   "metadata": {},
   "outputs": [],
   "source": [
    "# parameter dictionary\n",
    "problem = {\n",
    "    'num_vars': 3,\n",
    "    'names': ['random-mating', 'leakage', 'fertility'],\n",
    "    'bounds': [[0, 0.75],\n",
    "               [0, 0.50],\n",
    "               [0, 0.30]]\n",
    "}"
   ]
  },
  {
   "cell_type": "markdown",
   "metadata": {},
   "source": [
    "# Sobol"
   ]
  },
  {
   "cell_type": "code",
   "execution_count": null,
   "metadata": {},
   "outputs": [],
   "source": [
    "sample_parameters = False\n",
    "if (sample_parameters):\n",
    "    param_values = saltelli.sample(problem, 2**12)\n",
    "    t = pd.DataFrame(param_values)\n",
    "    t.columns = [\"random-mating\", \"leakage\", \"fertility\"]\n",
    "    t.to_csv(\"../models/fertility-BMI/data/param-sobol.csv\", index=False)\n",
    "else:\n",
    "    t = pd.read_csv(\"../models/fertility-BMI/data/param-sobol.csv\")\n",
    "len(t)"
   ]
  },
  {
   "cell_type": "code",
   "execution_count": null,
   "metadata": {},
   "outputs": [],
   "source": [
    "df = pd.read_csv(\"../output/data/results-sobol.csv\", sep = \";\")\n",
    "params = pd.read_csv(\"../output/data/param-sobol.csv\", sep = \";\")\n",
    "df = df.merge(params, on = [\"iteration\", \"replicate\"])\n",
    "df[\"iteration\"] = pd.to_numeric(df[\"iteration\"])\n",
    "df = df.sort_values(by=['iteration'])\n",
    "df = df.loc[df[\"iteration\"] <= len(t),:]\n",
    "Y = df[\"g4\"].to_numpy()\n",
    "len(Y)"
   ]
  },
  {
   "cell_type": "code",
   "execution_count": null,
   "metadata": {},
   "outputs": [],
   "source": [
    "Si = sobol.analyze(problem, Y, print_to_console=True)"
   ]
  },
  {
   "cell_type": "code",
   "execution_count": null,
   "metadata": {},
   "outputs": [],
   "source": [
    "total, first, second = Si.to_df()"
   ]
  },
  {
   "cell_type": "code",
   "execution_count": null,
   "metadata": {},
   "outputs": [],
   "source": [
    "st = barplot(total)\n",
    "plt.savefig(\"../output/plots/sobol-st.pdf\", bbox_inches='tight')\n",
    "s1 = barplot(first)\n",
    "plt.savefig(\"../output/plots/sobol-s1.pdf\", bbox_inches='tight')\n",
    "s2 = barplot(second)\n",
    "plt.savefig(\"../output/plots/sobol-s2.pdf\", bbox_inches='tight')\n",
    "\n",
    "shutil.copy(\"../output/plots/sobol-st.pdf\", \"../manuscript/plots/\")\n",
    "shutil.copy(\"../output/plots/sobol-s1.pdf\", \"../manuscript/plots/\")\n",
    "shutil.copy(\"../output/plots/sobol-s2.pdf\", \"../manuscript/plots/\")"
   ]
  },
  {
   "cell_type": "code",
   "execution_count": null,
   "metadata": {},
   "outputs": [],
   "source": [
    "fig = px.scatter_3d(df, x='random_mating', y='fertility_factor', z='leakage',\n",
    "              color='g4', color_continuous_scale = px.colors.sequential.OrRd)\n",
    "\n",
    "fig.update_traces(marker=dict(size=4, opacity = 0.4),\n",
    "                  selector=dict(mode='markers'))\n",
    "fig.update_layout(scene = dict(\n",
    "                    xaxis_title='random mating',\n",
    "                    yaxis_title='fertility',\n",
    "                    zaxis_title='leakage'),\n",
    "                    width=700,\n",
    "                    margin=dict(r=10, b=10, l=10, t=10), \n",
    "                    coloraxis_colorbar=dict(title=\"Obese\")\n",
    "                    )\n",
    "fig.show()"
   ]
  },
  {
   "cell_type": "code",
   "execution_count": null,
   "metadata": {},
   "outputs": [],
   "source": [
    "# fig.write_image(\"../output/plots/3D-scatter-sobol.pdf\")\n",
    "shutil.copy(\"../output/plots/3D-scatter-sobol.png\", \"../manuscript/plots/\")"
   ]
  },
  {
   "cell_type": "markdown",
   "metadata": {},
   "source": [
    "# EFast"
   ]
  },
  {
   "cell_type": "code",
   "execution_count": null,
   "metadata": {},
   "outputs": [],
   "source": [
    "\n",
    "sample_parameters = False\n",
    "\n",
    "if (sample_parameters):\n",
    "    param_values = fast_sampler.sample(problem, 2000)\n",
    "    t = pd.DataFrame(param_values)\n",
    "    t.columns = [\"random-mating\", \"leakage\", \"fertility\"]\n",
    "    t.to_csv(\"../models/fertility-BMI/data/param-efast.csv\", index=False)\n",
    "else:\n",
    "    t = pd.read_csv(\"../models/fertility-BMI/data/param-efast.csv\")\n",
    "t.shape"
   ]
  },
  {
   "cell_type": "code",
   "execution_count": null,
   "metadata": {},
   "outputs": [],
   "source": [
    "df = pd.read_csv(\"../output/data/results-efast.csv\", sep = \";\")\n",
    "params = pd.read_csv(\"../output/data/param-efast.csv\", sep = \";\")\n",
    "df = df.merge(params, on = [\"iteration\", \"replicate\"])\n",
    "df[\"iteration\"] = pd.to_numeric(df[\"iteration\"])\n",
    "df = df.sort_values(by=['iteration'])\n",
    "df = df.loc[df[\"iteration\"] <= len(t),:]\n",
    "Y = df[\"g4\"].to_numpy()\n",
    "len(Y)"
   ]
  },
  {
   "cell_type": "code",
   "execution_count": null,
   "metadata": {},
   "outputs": [],
   "source": [
    "df.g4.describe()"
   ]
  },
  {
   "cell_type": "code",
   "execution_count": null,
   "metadata": {},
   "outputs": [],
   "source": [
    "Sif = fast.analyze(problem, Y, print_to_console=True)"
   ]
  },
  {
   "cell_type": "code",
   "execution_count": null,
   "metadata": {},
   "outputs": [],
   "source": [
    "Sif.plot()\n",
    "plt.savefig(\"../output/plots/efast.pdf\", bbox_inches='tight')"
   ]
  },
  {
   "cell_type": "code",
   "execution_count": null,
   "metadata": {},
   "outputs": [],
   "source": [
    "shutil.copy(\"../output/plots/efast.pdf\", \"../manuscript/plots/\")"
   ]
  },
  {
   "cell_type": "code",
   "execution_count": null,
   "metadata": {},
   "outputs": [],
   "source": [
    "fig = px.scatter_3d(df, x='random_mating', y='fertility_factor', z='leakage',\n",
    "              color='g4', color_continuous_scale = px.colors.sequential.OrRd)\n",
    "\n",
    "fig.update_traces(marker=dict(size=4, opacity = 0.7),\n",
    "                  selector=dict(mode='markers'))\n",
    "fig.update_layout(scene = dict(\n",
    "                    xaxis_title='random mating',\n",
    "                    yaxis_title='fertility',\n",
    "                    zaxis_title='leakage'),\n",
    "                    width=700,\n",
    "                    margin=dict(r=20, b=10, l=10, t=10), \n",
    "                    coloraxis_colorbar=dict(title=\"Obese\")\n",
    "                    )\n",
    "fig.show()"
   ]
  },
  {
   "cell_type": "code",
   "execution_count": null,
   "metadata": {},
   "outputs": [],
   "source": [
    "#fig.write_image(\"../output/plots/3D-scatter-efast.pdf\")\n",
    "shutil.copy(\"../output/plots/3D-scatter-efast.png\", \"../manuscript/plots/\")"
   ]
  },
  {
   "cell_type": "markdown",
   "metadata": {},
   "source": [
    "# eFast replicates"
   ]
  },
  {
   "cell_type": "code",
   "execution_count": 54,
   "metadata": {},
   "outputs": [
    {
     "data": {
      "text/plain": [
       "(1500, 3)"
      ]
     },
     "execution_count": 54,
     "metadata": {},
     "output_type": "execute_result"
    }
   ],
   "source": [
    "\n",
    "sample_parameters = True\n",
    "\n",
    "if (sample_parameters):\n",
    "    param_values = fast_sampler.sample(problem, 500)\n",
    "    \n",
    "    t = pd.DataFrame(param_values)\n",
    "    t.columns = [\"random-mating\", \"leakage\", \"fertility\"]\n",
    "    t.to_csv(\"../models/fertility-BMI/data/param-rep-efast.csv\", index=False)\n",
    "else:\n",
    "    t = pd.read_csv(\"../models/fertility-BMI/data/param-rep-efast.csv\")\n",
    "t.shape"
   ]
  },
  {
   "cell_type": "code",
   "execution_count": 45,
   "metadata": {},
   "outputs": [],
   "source": [
    "df = pd.read_csv(\"../output/data/results-rep-efast.csv\", sep = \";\")\n",
    "params = pd.read_csv(\"../output/data/param-rep-efast.csv\", sep = \";\")\n",
    "df = df.merge(params, on = [\"iteration\", \"replicate\"])\n",
    "df[\"iteration\"] = pd.to_numeric(df[\"iteration\"])\n",
    "df[\"replicate\"] = pd.to_numeric(df[\"replicate\"])\n",
    "df = df.sort_values(by=['iteration'])\n",
    "df = df.loc[df[\"iteration\"] <= len(t),:]"
   ]
  },
  {
   "cell_type": "code",
   "execution_count": 46,
   "metadata": {},
   "outputs": [],
   "source": [
    "replicates = df.replicate.sort_values().unique()\n",
    "Y = {}\n",
    "for i in replicates:\n",
    "    tY = df.loc[df[\"replicate\"] == i].g4.to_numpy()\n",
    "    Y[i] = fast.analyze(problem, tY, print_to_console=False)"
   ]
  },
  {
   "cell_type": "code",
   "execution_count": 58,
   "metadata": {},
   "outputs": [
    {
     "name": "stdout",
     "output_type": "stream",
     "text": [
      "                     S1        ST   S1_conf   ST_conf\n",
      "random-mating  0.002703  0.188205  0.013305  0.032870\n",
      "leakage        0.171588  0.564932  0.014168  0.040110\n",
      "fertility      0.020447  0.842152  0.015333  0.038622\n"
     ]
    },
    {
     "data": {
      "text/plain": [
       "{'S1': [0.002703358634055152, 0.1715883182255363, 0.02044736212530417],\n",
       " 'ST': [0.1882053640551078, 0.5649321292003946, 0.8421521666383727],\n",
       " 'S1_conf': [0.013304969885468676, 0.01416756647697069, 0.015333401502273877],\n",
       " 'ST_conf': [0.03287032755328449, 0.04010963959753077, 0.038622387448406674],\n",
       " 'names': ['random-mating', 'leakage', 'fertility']}"
      ]
     },
     "execution_count": 58,
     "metadata": {},
     "output_type": "execute_result"
    }
   ],
   "source": [
    "a = df.loc[df[\"replicate\"] == 3].g4.to_numpy()\n",
    "tsif = fast.analyze(problem, a, print_to_console=True)\n",
    "tsif"
   ]
  },
  {
   "cell_type": "code",
   "execution_count": 59,
   "metadata": {},
   "outputs": [
    {
     "data": {
      "text/plain": [
       "['random-mating', 'leakage', 'fertility']"
      ]
     },
     "execution_count": 59,
     "metadata": {},
     "output_type": "execute_result"
    }
   ],
   "source": [
    "Y[1][\"names\"]"
   ]
  },
  {
   "cell_type": "code",
   "execution_count": 60,
   "metadata": {},
   "outputs": [],
   "source": [
    "\n",
    "columns = Y[1][\"names\"]\n",
    "S1 = []\n",
    "ST = []\n",
    "\n",
    "for value in Y.values():\n",
    "    S1.append(value[\"S1\"])\n",
    "    ST.append(value[\"ST\"])"
   ]
  },
  {
   "cell_type": "code",
   "execution_count": 61,
   "metadata": {},
   "outputs": [],
   "source": [
    "S1 = pd.DataFrame(np.row_stack(S1))\n",
    "S1.columns = columns\n",
    "ST = pd.DataFrame(np.row_stack(ST))\n",
    "ST.columns = columns"
   ]
  },
  {
   "cell_type": "code",
   "execution_count": 62,
   "metadata": {},
   "outputs": [
    {
     "data": {
      "text/html": [
       "<div>\n",
       "<style scoped>\n",
       "    .dataframe tbody tr th:only-of-type {\n",
       "        vertical-align: middle;\n",
       "    }\n",
       "\n",
       "    .dataframe tbody tr th {\n",
       "        vertical-align: top;\n",
       "    }\n",
       "\n",
       "    .dataframe thead th {\n",
       "        text-align: right;\n",
       "    }\n",
       "</style>\n",
       "<table border=\"1\" class=\"dataframe\">\n",
       "  <thead>\n",
       "    <tr style=\"text-align: right;\">\n",
       "      <th></th>\n",
       "      <th>random-mating</th>\n",
       "      <th>leakage</th>\n",
       "      <th>fertility</th>\n",
       "    </tr>\n",
       "  </thead>\n",
       "  <tbody>\n",
       "    <tr>\n",
       "      <th>count</th>\n",
       "      <td>30.000000</td>\n",
       "      <td>30.000000</td>\n",
       "      <td>30.000000</td>\n",
       "    </tr>\n",
       "    <tr>\n",
       "      <th>mean</th>\n",
       "      <td>0.002579</td>\n",
       "      <td>0.152408</td>\n",
       "      <td>0.016757</td>\n",
       "    </tr>\n",
       "    <tr>\n",
       "      <th>std</th>\n",
       "      <td>0.001447</td>\n",
       "      <td>0.019487</td>\n",
       "      <td>0.009988</td>\n",
       "    </tr>\n",
       "    <tr>\n",
       "      <th>min</th>\n",
       "      <td>0.000613</td>\n",
       "      <td>0.122621</td>\n",
       "      <td>0.003499</td>\n",
       "    </tr>\n",
       "    <tr>\n",
       "      <th>25%</th>\n",
       "      <td>0.001590</td>\n",
       "      <td>0.140918</td>\n",
       "      <td>0.008607</td>\n",
       "    </tr>\n",
       "    <tr>\n",
       "      <th>50%</th>\n",
       "      <td>0.002538</td>\n",
       "      <td>0.151518</td>\n",
       "      <td>0.014552</td>\n",
       "    </tr>\n",
       "    <tr>\n",
       "      <th>75%</th>\n",
       "      <td>0.002862</td>\n",
       "      <td>0.161634</td>\n",
       "      <td>0.023527</td>\n",
       "    </tr>\n",
       "    <tr>\n",
       "      <th>max</th>\n",
       "      <td>0.007554</td>\n",
       "      <td>0.221078</td>\n",
       "      <td>0.035767</td>\n",
       "    </tr>\n",
       "  </tbody>\n",
       "</table>\n",
       "</div>"
      ],
      "text/plain": [
       "       random-mating    leakage  fertility\n",
       "count      30.000000  30.000000  30.000000\n",
       "mean        0.002579   0.152408   0.016757\n",
       "std         0.001447   0.019487   0.009988\n",
       "min         0.000613   0.122621   0.003499\n",
       "25%         0.001590   0.140918   0.008607\n",
       "50%         0.002538   0.151518   0.014552\n",
       "75%         0.002862   0.161634   0.023527\n",
       "max         0.007554   0.221078   0.035767"
      ]
     },
     "execution_count": 62,
     "metadata": {},
     "output_type": "execute_result"
    }
   ],
   "source": [
    "S1.describe()"
   ]
  },
  {
   "cell_type": "code",
   "execution_count": 63,
   "metadata": {},
   "outputs": [
    {
     "data": {
      "text/html": [
       "<div>\n",
       "<style scoped>\n",
       "    .dataframe tbody tr th:only-of-type {\n",
       "        vertical-align: middle;\n",
       "    }\n",
       "\n",
       "    .dataframe tbody tr th {\n",
       "        vertical-align: top;\n",
       "    }\n",
       "\n",
       "    .dataframe thead th {\n",
       "        text-align: right;\n",
       "    }\n",
       "</style>\n",
       "<table border=\"1\" class=\"dataframe\">\n",
       "  <thead>\n",
       "    <tr style=\"text-align: right;\">\n",
       "      <th></th>\n",
       "      <th>random-mating</th>\n",
       "      <th>leakage</th>\n",
       "      <th>fertility</th>\n",
       "    </tr>\n",
       "  </thead>\n",
       "  <tbody>\n",
       "    <tr>\n",
       "      <th>count</th>\n",
       "      <td>30.000000</td>\n",
       "      <td>30.000000</td>\n",
       "      <td>30.000000</td>\n",
       "    </tr>\n",
       "    <tr>\n",
       "      <th>mean</th>\n",
       "      <td>0.202531</td>\n",
       "      <td>0.530228</td>\n",
       "      <td>0.869335</td>\n",
       "    </tr>\n",
       "    <tr>\n",
       "      <th>std</th>\n",
       "      <td>0.012184</td>\n",
       "      <td>0.019337</td>\n",
       "      <td>0.018003</td>\n",
       "    </tr>\n",
       "    <tr>\n",
       "      <th>min</th>\n",
       "      <td>0.182863</td>\n",
       "      <td>0.496486</td>\n",
       "      <td>0.826141</td>\n",
       "    </tr>\n",
       "    <tr>\n",
       "      <th>25%</th>\n",
       "      <td>0.192890</td>\n",
       "      <td>0.518205</td>\n",
       "      <td>0.859247</td>\n",
       "    </tr>\n",
       "    <tr>\n",
       "      <th>50%</th>\n",
       "      <td>0.201479</td>\n",
       "      <td>0.526604</td>\n",
       "      <td>0.869667</td>\n",
       "    </tr>\n",
       "    <tr>\n",
       "      <th>75%</th>\n",
       "      <td>0.212559</td>\n",
       "      <td>0.540596</td>\n",
       "      <td>0.881739</td>\n",
       "    </tr>\n",
       "    <tr>\n",
       "      <th>max</th>\n",
       "      <td>0.231200</td>\n",
       "      <td>0.573341</td>\n",
       "      <td>0.911103</td>\n",
       "    </tr>\n",
       "  </tbody>\n",
       "</table>\n",
       "</div>"
      ],
      "text/plain": [
       "       random-mating    leakage  fertility\n",
       "count      30.000000  30.000000  30.000000\n",
       "mean        0.202531   0.530228   0.869335\n",
       "std         0.012184   0.019337   0.018003\n",
       "min         0.182863   0.496486   0.826141\n",
       "25%         0.192890   0.518205   0.859247\n",
       "50%         0.201479   0.526604   0.869667\n",
       "75%         0.212559   0.540596   0.881739\n",
       "max         0.231200   0.573341   0.911103"
      ]
     },
     "execution_count": 63,
     "metadata": {},
     "output_type": "execute_result"
    }
   ],
   "source": [
    "ST.describe()"
   ]
  }
 ],
 "metadata": {
  "interpreter": {
   "hash": "949777d72b0d2535278d3dc13498b2535136f6dfe0678499012e853ee9abcab1"
  },
  "kernelspec": {
   "display_name": "Python 3.9.2 64-bit",
   "language": "python",
   "name": "python3"
  },
  "language_info": {
   "codemirror_mode": {
    "name": "ipython",
    "version": 3
   },
   "file_extension": ".py",
   "mimetype": "text/x-python",
   "name": "python",
   "nbconvert_exporter": "python",
   "pygments_lexer": "ipython3",
   "version": "3.9.2"
  },
  "orig_nbformat": 4
 },
 "nbformat": 4,
 "nbformat_minor": 2
}
