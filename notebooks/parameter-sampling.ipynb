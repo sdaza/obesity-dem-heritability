{
 "cells": [
  {
   "cell_type": "markdown",
   "metadata": {},
   "source": []
  },
  {
   "cell_type": "markdown",
   "metadata": {},
   "source": [
    "# Sensitivity analysis"
   ]
  },
  {
   "cell_type": "code",
   "execution_count": 140,
   "metadata": {},
   "outputs": [],
   "source": [
    "from SALib.sample import saltelli, fast_sampler\n",
    "from SALib.analyze import sobol, fast\n",
    "from SALib.plotting.bar import plot as barplot\n",
    "import numpy as np\n",
    "import pandas as pd\n",
    "import os\n",
    "import glob\n",
    "import matplotlib.pyplot as plt\n",
    "\n",
    "# function for reading csv files\n",
    "def pd_read_pattern(pattern, sep):\n",
    "    files = glob.glob(pattern)\n",
    "    df = pd.DataFrame()\n",
    "    for f in files:\n",
    "        df = df.append(pd.read_csv(f, sep=sep))\n",
    "    return df.reset_index(drop=True)\n",
    "\n",
    "# function to remove files\n",
    "def removeFiles(pattern):\n",
    "    files = glob.glob(pattern)\n",
    "    for file in files:\n",
    "        try:\n",
    "            os.remove(file)\n",
    "        except:\n",
    "            print(\"Error while deleting file : \", file)\n",
    "\n",
    "# read output files\n",
    "def readOutput(read_raw_files, path, output_path, result_file_name, parameter_file_name):\n",
    "    if (read_raw_files):\n",
    "        df = pd_read_pattern(path + \"group*.csv\", sep=\";\")\n",
    "        params = pd_read_pattern(path + \"par*.csv\", sep=\";\")\n",
    "        df.iteration = df.iteration.astype(float)\n",
    "        df = df.sort_values(by=['iteration'])\n",
    "        df.to_csv(output_path + result_file_name + \".csv\", index=False)\n",
    "        params.to_csv(output_path + parameter_file_name + \".csv\", index=False)\n",
    "    else:\n",
    "        df = pd.read_csv(output_path + result_file_name + \".csv\")\n",
    "    \n",
    "    return df\n",
    "        "
   ]
  },
  {
   "cell_type": "code",
   "execution_count": 16,
   "metadata": {},
   "outputs": [],
   "source": [
    "# parameter dictionary\n",
    "problem = {\n",
    "    'num_vars': 3,\n",
    "    'names': ['random-mating', 'leakage', 'fertility'],\n",
    "    'bounds': [[0, 1],\n",
    "               [0, 0.60],\n",
    "               [0, 0.30]]\n",
    "}"
   ]
  },
  {
   "cell_type": "markdown",
   "metadata": {},
   "source": [
    "# Sobol"
   ]
  },
  {
   "cell_type": "code",
   "execution_count": 104,
   "metadata": {},
   "outputs": [
    {
     "data": {
      "text/plain": [
       "8192"
      ]
     },
     "execution_count": 104,
     "metadata": {},
     "output_type": "execute_result"
    }
   ],
   "source": [
    "param_values = saltelli.sample(problem, 2**10)\n",
    "t = pd.DataFrame(param_values)\n",
    "t.columns = [\"random-mating\", \"leakage\", \"fertility\"]\n",
    "t.to_csv(\"../models/fertility-BMI/data/param-sobol.csv\", index=False)\n",
    "len(t)"
   ]
  },
  {
   "cell_type": "code",
   "execution_count": 127,
   "metadata": {},
   "outputs": [
    {
     "data": {
      "text/plain": [
       "2048"
      ]
     },
     "execution_count": 127,
     "metadata": {},
     "output_type": "execute_result"
    }
   ],
   "source": [
    "df = readOutput(False, \"../models/fertility-BMI/output/\", \"../output/data/\", \n",
    "    \"results-sobol\", \"param-anylogic-sobol\")\n",
    "Y = df.g4.to_numpy()\n",
    "len(Y)"
   ]
  },
  {
   "cell_type": "code",
   "execution_count": 128,
   "metadata": {},
   "outputs": [
    {
     "name": "stdout",
     "output_type": "stream",
     "text": [
      "                     ST   ST_conf\n",
      "random-mating  0.338787  0.114160\n",
      "leakage        0.703862  0.169493\n",
      "fertility      0.499390  0.212333\n",
      "                     S1   S1_conf\n",
      "random-mating -0.020798  0.091502\n",
      "leakage        0.387229  0.191287\n",
      "fertility      0.241893  0.112536\n",
      "                                  S2   S2_conf\n",
      "(random-mating, leakage)    0.252645  0.252436\n",
      "(random-mating, fertility)  0.068665  0.145133\n",
      "(leakage, fertility)       -0.057559  0.245586\n"
     ]
    }
   ],
   "source": [
    "Si = sobol.analyze(problem, Y, print_to_console=True)"
   ]
  },
  {
   "cell_type": "code",
   "execution_count": 133,
   "metadata": {},
   "outputs": [],
   "source": [
    "total, first, second = Si.to_df()"
   ]
  },
  {
   "cell_type": "code",
   "execution_count": 145,
   "metadata": {},
   "outputs": [
    {
     "data": {
      "image/png": "[encoded data removed]",
      "text/plain": [
       "<Figure size 432x288 with 1 Axes>"
      ]
     },
     "metadata": {
      "needs_background": "light"
     },
     "output_type": "display_data"
    },
    {
     "data": {
      "image/png": "[encoded data removed]",
      "text/plain": [
       "<Figure size 432x288 with 1 Axes>"
      ]
     },
     "metadata": {
      "needs_background": "light"
     },
     "output_type": "display_data"
    },
    {
     "data": {
      "image/png": "[encoded data removed]",
      "text/plain": [
       "<Figure size 432x288 with 1 Axes>"
      ]
     },
     "metadata": {
      "needs_background": "light"
     },
     "output_type": "display_data"
    }
   ],
   "source": [
    "st = barplot(total)\n",
    "plt.savefig(\"../output/plots/sobol-st.pdf\", bbox_inches='tight')\n",
    "s1 = barplot(first)\n",
    "plt.savefig(\"../output/plots/sobol-s1.pdf\", bbox_inches='tight')\n",
    "s2 = barplot(second)\n",
    "plt.savefig(\"../output/plots/sobol-s2.pdf\", bbox_inches='tight')"
   ]
  },
  {
   "cell_type": "markdown",
   "metadata": {},
   "source": [
    "# EFast"
   ]
  },
  {
   "cell_type": "code",
   "execution_count": 87,
   "metadata": {},
   "outputs": [],
   "source": [
    "param_values = fast_sampler.sample(problem, 1000)"
   ]
  },
  {
   "cell_type": "code",
   "execution_count": 89,
   "metadata": {},
   "outputs": [
    {
     "data": {
      "text/plain": [
       "3000"
      ]
     },
     "execution_count": 89,
     "metadata": {},
     "output_type": "execute_result"
    }
   ],
   "source": [
    "t = pd.DataFrame(param_values)\n",
    "t.columns = [\"random-mating\", \"leakage\", \"fertility\"]\n",
    "t.to_csv(\"../models/fertility-BMI/data/param-efast.csv\", index=False)\n",
    "len(t)"
   ]
  },
  {
   "cell_type": "code",
   "execution_count": 92,
   "metadata": {},
   "outputs": [],
   "source": [
    "df = pd_read_pattern('../models/fertility-BMI/output/group*.csv', sep=\";\")\n",
    "params = pd_read_pattern('../models/fertility-BMI/output/par*.csv', sep=\";\")\n",
    "df.iteration = df.iteration.astype(float)\n",
    "df = df.sort_values(by=['iteration'])\n",
    "df.to_csv(\"../output/data/results-efast.csv\", index=False)\n",
    "Y = df.g4.to_numpy()"
   ]
  },
  {
   "cell_type": "code",
   "execution_count": 97,
   "metadata": {},
   "outputs": [
    {
     "data": {
      "text/plain": [
       "3000"
      ]
     },
     "execution_count": 97,
     "metadata": {},
     "output_type": "execute_result"
    }
   ],
   "source": [
    "len(Y)"
   ]
  },
  {
   "cell_type": "code",
   "execution_count": 98,
   "metadata": {},
   "outputs": [
    {
     "name": "stdout",
     "output_type": "stream",
     "text": [
      "                     S1        ST   S1_conf   ST_conf\n",
      "random-mating  0.066447  0.356710  0.007989  0.029383\n",
      "leakage        0.395304  0.714124  0.007835  0.025784\n",
      "fertility      0.209558  0.424719  0.008097  0.027309\n"
     ]
    }
   ],
   "source": [
    "Sif = fast.analyze(problem, Y, print_to_console=True)"
   ]
  },
  {
   "cell_type": "code",
   "execution_count": 102,
   "metadata": {},
   "outputs": [
    {
     "data": {
      "text/plain": [
       "<AxesSubplot:>"
      ]
     },
     "execution_count": 102,
     "metadata": {},
     "output_type": "execute_result"
    },
    {
     "data": {
      "image/png": "[encoded data removed]",
      "text/plain": [
       "<Figure size 432x288 with 1 Axes>"
      ]
     },
     "metadata": {
      "needs_background": "light"
     },
     "output_type": "display_data"
    }
   ],
   "source": [
    "Sif.plot()"
   ]
  }
 ],
 "metadata": {
  "interpreter": {
   "hash": "949777d72b0d2535278d3dc13498b2535136f6dfe0678499012e853ee9abcab1"
  },
  "kernelspec": {
   "display_name": "Python 3.9.2 64-bit",
   "language": "python",
   "name": "python3"
  },
  "language_info": {
   "codemirror_mode": {
    "name": "ipython",
    "version": 3
   },
   "file_extension": ".py",
   "mimetype": "text/x-python",
   "name": "python",
   "nbconvert_exporter": "python",
   "pygments_lexer": "ipython3",
   "version": "3.8.3"
  },
  "orig_nbformat": 4
 },
 "nbformat": 4,
 "nbformat_minor": 2
}
