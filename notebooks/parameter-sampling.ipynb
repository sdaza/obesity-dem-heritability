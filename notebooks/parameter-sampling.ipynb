{
 "cells": [
  {
   "cell_type": "markdown",
   "metadata": {},
   "source": []
  },
  {
   "cell_type": "markdown",
   "metadata": {},
   "source": [
    "# Sensitivity analysis"
   ]
  },
  {
   "cell_type": "code",
   "execution_count": 2,
   "metadata": {},
   "outputs": [],
   "source": [
    "from SALib.sample import saltelli, fast_sampler\n",
    "from SALib.sample import ff as ffs\n",
    "from SALib.analyze import sobol, fast, ff\n",
    "from SALib.plotting.bar import plot as barplot\n",
    "import numpy as np\n",
    "import pandas as pd\n",
    "import shutil\n",
    "import matplotlib.pyplot as plt\n",
    "import plotly.graph_objects as go\n",
    "import plotly.express as px"
   ]
  },
  {
   "cell_type": "code",
   "execution_count": 3,
   "metadata": {},
   "outputs": [],
   "source": [
    "# parameter dictionary\n",
    "problem = {\n",
    "    'num_vars': 3,\n",
    "    'names': ['random-mating', 'leakage', 'fertility'],\n",
    "    'bounds': [[0, 0.75],\n",
    "               [0, 0.50],\n",
    "               [0, 0.30]]\n",
    "}"
   ]
  },
  {
   "cell_type": "markdown",
   "metadata": {},
   "source": [
    "# Sobol"
   ]
  },
  {
   "cell_type": "code",
   "execution_count": null,
   "metadata": {},
   "outputs": [],
   "source": [
    "sample_parameters = False\n",
    "if (sample_parameters):\n",
    "    param_values = saltelli.sample(problem, 2**12)\n",
    "    t = pd.DataFrame(param_values)\n",
    "    t.columns = [\"random-mating\", \"leakage\", \"fertility\"]\n",
    "    t.to_csv(\"../models/fertility-BMI/data/param-sobol.csv\", index=False)\n",
    "else:\n",
    "    t = pd.read_csv(\"../models/fertility-BMI/data/param-sobol.csv\")\n",
    "len(t)"
   ]
  },
  {
   "cell_type": "code",
   "execution_count": null,
   "metadata": {},
   "outputs": [],
   "source": [
    "df = pd.read_csv(\"../output/data/results-sobol.csv\", sep = \";\")\n",
    "params = pd.read_csv(\"../output/data/param-sobol.csv\", sep = \";\")\n",
    "df = df.merge(params, on = [\"iteration\", \"replicate\"])\n",
    "df[\"iteration\"] = pd.to_numeric(df[\"iteration\"])\n",
    "df = df.sort_values(by=['iteration'])\n",
    "df = df.loc[df[\"iteration\"] <= len(t),:]\n",
    "Y = df[\"g4\"].to_numpy()\n",
    "len(Y)"
   ]
  },
  {
   "cell_type": "code",
   "execution_count": null,
   "metadata": {},
   "outputs": [],
   "source": [
    "Si = sobol.analyze(problem, Y, print_to_console=True)"
   ]
  },
  {
   "cell_type": "code",
   "execution_count": null,
   "metadata": {},
   "outputs": [],
   "source": [
    "total, first, second = Si.to_df()"
   ]
  },
  {
   "cell_type": "code",
   "execution_count": null,
   "metadata": {},
   "outputs": [],
   "source": [
    "st = barplot(total)\n",
    "plt.savefig(\"../output/plots/sobol-st.pdf\", bbox_inches='tight')\n",
    "s1 = barplot(first)\n",
    "plt.savefig(\"../output/plots/sobol-s1.pdf\", bbox_inches='tight')\n",
    "s2 = barplot(second)\n",
    "plt.savefig(\"../output/plots/sobol-s2.pdf\", bbox_inches='tight')\n",
    "\n",
    "shutil.copy(\"../output/plots/sobol-st.pdf\", \"../manuscript/plots/\")\n",
    "shutil.copy(\"../output/plots/sobol-s1.pdf\", \"../manuscript/plots/\")\n",
    "shutil.copy(\"../output/plots/sobol-s2.pdf\", \"../manuscript/plots/\")"
   ]
  },
  {
   "cell_type": "code",
   "execution_count": null,
   "metadata": {},
   "outputs": [],
   "source": [
    "fig = px.scatter_3d(df, x='random_mating', y='fertility_factor', z='leakage',\n",
    "              color='g4', color_continuous_scale = px.colors.sequential.OrRd)\n",
    "\n",
    "fig.update_traces(marker=dict(size=4, opacity = 0.4),\n",
    "                  selector=dict(mode='markers'))\n",
    "fig.update_layout(scene = dict(\n",
    "                    xaxis_title='random mating',\n",
    "                    yaxis_title='fertility',\n",
    "                    zaxis_title='leakage'),\n",
    "                    width=700,\n",
    "                    margin=dict(r=10, b=10, l=10, t=10), \n",
    "                    coloraxis_colorbar=dict(title=\"Obese\")\n",
    "                    )\n",
    "fig.show()"
   ]
  },
  {
   "cell_type": "code",
   "execution_count": null,
   "metadata": {},
   "outputs": [],
   "source": [
    "# fig.write_image(\"../output/plots/3D-scatter-sobol.pdf\")\n",
    "shutil.copy(\"../output/plots/3D-scatter-sobol.png\", \"../manuscript/plots/\")"
   ]
  },
  {
   "cell_type": "markdown",
   "metadata": {},
   "source": [
    "# EFast"
   ]
  },
  {
   "cell_type": "code",
   "execution_count": null,
   "metadata": {},
   "outputs": [],
   "source": [
    "\n",
    "sample_parameters = False\n",
    "\n",
    "if (sample_parameters):\n",
    "    param_values = fast_sampler.sample(problem, 2000)\n",
    "    t = pd.DataFrame(param_values)\n",
    "    t.columns = [\"random-mating\", \"leakage\", \"fertility\"]\n",
    "    t.to_csv(\"../models/fertility-BMI/data/param-efast.csv\", index=False)\n",
    "else:\n",
    "    t = pd.read_csv(\"../models/fertility-BMI/data/param-efast.csv\")\n",
    "t.shape"
   ]
  },
  {
   "cell_type": "code",
   "execution_count": null,
   "metadata": {},
   "outputs": [],
   "source": [
    "df = pd.read_csv(\"../output/data/results-efast.csv\", sep = \";\")\n",
    "params = pd.read_csv(\"../output/data/param-efast.csv\", sep = \";\")\n",
    "df = df.merge(params, on = [\"iteration\", \"replicate\"])\n",
    "df[\"iteration\"] = pd.to_numeric(df[\"iteration\"])\n",
    "df = df.sort_values(by=['iteration'])\n",
    "df = df.loc[df[\"iteration\"] <= len(t),:]\n",
    "Y = df[\"g4\"].to_numpy()\n",
    "len(Y)"
   ]
  },
  {
   "cell_type": "code",
   "execution_count": null,
   "metadata": {},
   "outputs": [],
   "source": [
    "df.g4.describe()"
   ]
  },
  {
   "cell_type": "code",
   "execution_count": null,
   "metadata": {},
   "outputs": [],
   "source": [
    "Sif = fast.analyze(problem, Y, print_to_console=True)"
   ]
  },
  {
   "cell_type": "code",
   "execution_count": null,
   "metadata": {},
   "outputs": [],
   "source": [
    "Sif.plot()\n",
    "plt.savefig(\"../output/plots/efast.pdf\", bbox_inches='tight')"
   ]
  },
  {
   "cell_type": "code",
   "execution_count": null,
   "metadata": {},
   "outputs": [],
   "source": [
    "shutil.copy(\"../output/plots/efast.pdf\", \"../manuscript/plots/\")"
   ]
  },
  {
   "cell_type": "code",
   "execution_count": null,
   "metadata": {},
   "outputs": [],
   "source": [
    "fig = px.scatter_3d(df, x='random_mating', y='fertility_factor', z='leakage',\n",
    "              color='g4', color_continuous_scale = px.colors.sequential.OrRd)\n",
    "\n",
    "fig.update_traces(marker=dict(size=4, opacity = 0.7),\n",
    "                  selector=dict(mode='markers'))\n",
    "fig.update_layout(scene = dict(\n",
    "                    xaxis_title='random mating',\n",
    "                    yaxis_title='fertility',\n",
    "                    zaxis_title='leakage'),\n",
    "                    width=700,\n",
    "                    margin=dict(r=20, b=10, l=10, t=10), \n",
    "                    coloraxis_colorbar=dict(title=\"Obese\")\n",
    "                    )\n",
    "fig.show()"
   ]
  },
  {
   "cell_type": "code",
   "execution_count": null,
   "metadata": {},
   "outputs": [],
   "source": [
    "#fig.write_image(\"../output/plots/3D-scatter-efast.pdf\")\n",
    "shutil.copy(\"../output/plots/3D-scatter-efast.png\", \"../manuscript/plots/\")"
   ]
  },
  {
   "cell_type": "markdown",
   "metadata": {},
   "source": [
    "# eFast replicates"
   ]
  },
  {
   "cell_type": "code",
   "execution_count": 4,
   "metadata": {},
   "outputs": [
    {
     "data": {
      "text/plain": [
       "(1500, 3)"
      ]
     },
     "execution_count": 4,
     "metadata": {},
     "output_type": "execute_result"
    }
   ],
   "source": [
    "\n",
    "sample_parameters = False\n",
    "\n",
    "if (sample_parameters):\n",
    "    param_values = fast_sampler.sample(problem, 500)\n",
    "    \n",
    "    t = pd.DataFrame(param_values)\n",
    "    t.columns = [\"random-mating\", \"leakage\", \"fertility\"]\n",
    "    t.to_csv(\"../models/fertility-BMI/data/param-rep-efast.csv\", index=False)\n",
    "else:\n",
    "    t = pd.read_csv(\"../models/fertility-BMI/data/param-rep-efast.csv\")\n",
    "t.shape"
   ]
  },
  {
   "cell_type": "code",
   "execution_count": 6,
   "metadata": {},
   "outputs": [
    {
     "data": {
      "text/plain": [
       "3000"
      ]
     },
     "execution_count": 6,
     "metadata": {},
     "output_type": "execute_result"
    }
   ],
   "source": [
    "df = pd.read_csv(\"../output/data/results-rep-efast.csv\", sep = \";\")\n",
    "params = pd.read_csv(\"../output/data/param-rep-efast.csv\", sep = \";\")\n",
    "df = df.merge(params, on = [\"iteration\", \"replicate\"])\n",
    "df[\"iteration\"] = pd.to_numeric(df[\"iteration\"])\n",
    "df[\"replicate\"] = pd.to_numeric(df[\"replicate\"])\n",
    "df = df.sort_values(by=['iteration'])\n",
    "df = df.loc[df[\"iteration\"] <= len(t),:]\n",
    "Y = df[\"g4\"].to_numpy()\n",
    "len(Y)"
   ]
  },
  {
   "cell_type": "code",
   "execution_count": 11,
   "metadata": {},
   "outputs": [
    {
     "data": {
      "text/plain": [
       "1500"
      ]
     },
     "execution_count": 11,
     "metadata": {},
     "output_type": "execute_result"
    }
   ],
   "source": [
    "df.iteration.max()"
   ]
  }
 ],
 "metadata": {
  "interpreter": {
   "hash": "949777d72b0d2535278d3dc13498b2535136f6dfe0678499012e853ee9abcab1"
  },
  "kernelspec": {
   "display_name": "Python 3.9.2 64-bit",
   "language": "python",
   "name": "python3"
  },
  "language_info": {
   "codemirror_mode": {
    "name": "ipython",
    "version": 3
   },
   "file_extension": ".py",
   "mimetype": "text/x-python",
   "name": "python",
   "nbconvert_exporter": "python",
   "pygments_lexer": "ipython3",
   "version": "3.8.3"
  },
  "orig_nbformat": 4
 },
 "nbformat": 4,
 "nbformat_minor": 2
}
