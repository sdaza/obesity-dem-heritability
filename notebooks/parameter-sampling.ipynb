{
 "cells": [
  {
   "cell_type": "markdown",
   "metadata": {},
   "source": []
  },
  {
   "cell_type": "markdown",
   "metadata": {},
   "source": [
    "# Sensitivity analysis"
   ]
  },
  {
   "cell_type": "code",
   "execution_count": 59,
   "metadata": {},
   "outputs": [],
   "source": [
    "from SALib.sample import saltelli, fast_sampler\n",
    "from SALib.analyze import sobol, fast\n",
    "from SALib.plotting.bar import plot as barplot\n",
    "import numpy as np\n",
    "import pandas as pd\n",
    "import os\n",
    "import glob\n",
    "import matplotlib.pyplot as plt\n",
    "\n",
    "import plotly.graph_objects as go\n",
    "import plotly.express as px\n",
    "\n",
    "# function for reading csv files\n",
    "def pd_read_pattern(pattern, sep):\n",
    "    files = glob.glob(pattern)\n",
    "    df = pd.DataFrame()\n",
    "    for f in files:\n",
    "        df = df.append(pd.read_csv(f, sep=sep))\n",
    "    return df.reset_index(drop=True)\n",
    "\n",
    "# function to remove files\n",
    "def removeFiles(pattern):\n",
    "    files = glob.glob(pattern)\n",
    "    for file in files:\n",
    "        try:\n",
    "            os.remove(file)\n",
    "        except:\n",
    "            print(\"Error while deleting file : \", file)\n",
    "\n",
    "# read output files\n",
    "def readOutput(read_raw_files, path, output_path, result_file_name):\n",
    "    if (read_raw_files):\n",
    "        df = pd_read_pattern(path + \"group*.csv\", sep=\";\")\n",
    "        params = pd_read_pattern(path + \"par*.csv\", sep=\";\")\n",
    "        params = params.drop(columns=[\"replicate\"])\n",
    "        df.iteration = df.iteration.astype(float)\n",
    "        df = df.sort_values(by=['iteration'])\n",
    "        df = pd.merge(df, params, on=\"iteration\")\n",
    "        df.to_csv(output_path + result_file_name + \".csv\", index=False)\n",
    "    else:\n",
    "        df = pd.read_csv(output_path + result_file_name + \".csv\")\n",
    "    \n",
    "    return df\n",
    "        "
   ]
  },
  {
   "cell_type": "code",
   "execution_count": 28,
   "metadata": {},
   "outputs": [],
   "source": [
    "# parameter dictionary\n",
    "problem = {\n",
    "    'num_vars': 3,\n",
    "    'names': ['random-mating', 'leakage', 'fertility'],\n",
    "    'bounds': [[0, 1],\n",
    "               [0, 0.60],\n",
    "               [0, 0.30]]\n",
    "}"
   ]
  },
  {
   "cell_type": "markdown",
   "metadata": {},
   "source": [
    "# Sobol"
   ]
  },
  {
   "cell_type": "code",
   "execution_count": 49,
   "metadata": {},
   "outputs": [
    {
     "data": {
      "text/plain": [
       "64"
      ]
     },
     "execution_count": 49,
     "metadata": {},
     "output_type": "execute_result"
    }
   ],
   "source": [
    "sample_parameters = False\n",
    "if (sample_parameters):\n",
    "    param_values = saltelli.sample(problem, 2**3)\n",
    "    t = pd.DataFrame(param_values)\n",
    "    t.columns = [\"random-mating\", \"leakage\", \"fertility\"]\n",
    "    t.to_csv(\"../models/fertility-BMI/data/param-sobol.csv\", index=False)\n",
    "else:\n",
    "    t = pd.read_csv(\"../models/fertility-BMI/data/param-sobol.csv\")\n",
    "len(t)"
   ]
  },
  {
   "cell_type": "code",
   "execution_count": 60,
   "metadata": {},
   "outputs": [
    {
     "data": {
      "text/plain": [
       "64"
      ]
     },
     "execution_count": 60,
     "metadata": {},
     "output_type": "execute_result"
    }
   ],
   "source": [
    "df = readOutput(True, \"../models/fertility-BMI/output/\", \"../output/data/\", \n",
    "    \"results-sobol\")\n",
    "# select valid iterations\n",
    "df = df.loc[df[\"iteration\"] <= len(t),:]\n",
    "# define outcome\n",
    "Y = df.g4.to_numpy()\n",
    "len(Y)"
   ]
  },
  {
   "cell_type": "code",
   "execution_count": 61,
   "metadata": {},
   "outputs": [
    {
     "data": {
      "text/html": [
       "<div>\n",
       "<style scoped>\n",
       "    .dataframe tbody tr th:only-of-type {\n",
       "        vertical-align: middle;\n",
       "    }\n",
       "\n",
       "    .dataframe tbody tr th {\n",
       "        vertical-align: top;\n",
       "    }\n",
       "\n",
       "    .dataframe thead th {\n",
       "        text-align: right;\n",
       "    }\n",
       "</style>\n",
       "<table border=\"1\" class=\"dataframe\">\n",
       "  <thead>\n",
       "    <tr style=\"text-align: right;\">\n",
       "      <th></th>\n",
       "      <th>iteration</th>\n",
       "      <th>replicate</th>\n",
       "      <th>time</th>\n",
       "      <th>population_x</th>\n",
       "      <th>g1</th>\n",
       "      <th>g2</th>\n",
       "      <th>g3</th>\n",
       "      <th>g4</th>\n",
       "      <th>mating</th>\n",
       "      <th>kid-father-cor</th>\n",
       "      <th>kid-mother-cor</th>\n",
       "      <th>population_y</th>\n",
       "      <th>fertility_type</th>\n",
       "      <th>heritability_type</th>\n",
       "      <th>mating_type</th>\n",
       "      <th>random_mating</th>\n",
       "      <th>leakage</th>\n",
       "      <th>fertility_factor</th>\n",
       "    </tr>\n",
       "  </thead>\n",
       "  <tbody>\n",
       "    <tr>\n",
       "      <th>0</th>\n",
       "      <td>1.0</td>\n",
       "      <td>1</td>\n",
       "      <td>100.0</td>\n",
       "      <td>2911</td>\n",
       "      <td>0.069735</td>\n",
       "      <td>0.160769</td>\n",
       "      <td>0.325318</td>\n",
       "      <td>0.444177</td>\n",
       "      <td>0.873025</td>\n",
       "      <td>0.778171</td>\n",
       "      <td>0.777423</td>\n",
       "      <td>1000</td>\n",
       "      <td>additive</td>\n",
       "      <td>preston</td>\n",
       "      <td>defined</td>\n",
       "      <td>0.09375</td>\n",
       "      <td>0.28125</td>\n",
       "      <td>0.140625</td>\n",
       "    </tr>\n",
       "    <tr>\n",
       "      <th>1</th>\n",
       "      <td>2.0</td>\n",
       "      <td>1</td>\n",
       "      <td>100.0</td>\n",
       "      <td>2258</td>\n",
       "      <td>0.139504</td>\n",
       "      <td>0.177591</td>\n",
       "      <td>0.332595</td>\n",
       "      <td>0.350310</td>\n",
       "      <td>0.169754</td>\n",
       "      <td>0.498390</td>\n",
       "      <td>0.487822</td>\n",
       "      <td>1000</td>\n",
       "      <td>additive</td>\n",
       "      <td>preston</td>\n",
       "      <td>defined</td>\n",
       "      <td>0.65625</td>\n",
       "      <td>0.28125</td>\n",
       "      <td>0.140625</td>\n",
       "    </tr>\n",
       "    <tr>\n",
       "      <th>2</th>\n",
       "      <td>3.0</td>\n",
       "      <td>1</td>\n",
       "      <td>100.0</td>\n",
       "      <td>3289</td>\n",
       "      <td>0.071450</td>\n",
       "      <td>0.125570</td>\n",
       "      <td>0.291578</td>\n",
       "      <td>0.511402</td>\n",
       "      <td>0.864743</td>\n",
       "      <td>0.826163</td>\n",
       "      <td>0.827519</td>\n",
       "      <td>1000</td>\n",
       "      <td>additive</td>\n",
       "      <td>preston</td>\n",
       "      <td>defined</td>\n",
       "      <td>0.09375</td>\n",
       "      <td>0.16875</td>\n",
       "      <td>0.140625</td>\n",
       "    </tr>\n",
       "    <tr>\n",
       "      <th>3</th>\n",
       "      <td>4.0</td>\n",
       "      <td>1</td>\n",
       "      <td>100.0</td>\n",
       "      <td>2923</td>\n",
       "      <td>0.071502</td>\n",
       "      <td>0.182689</td>\n",
       "      <td>0.344851</td>\n",
       "      <td>0.400958</td>\n",
       "      <td>0.869412</td>\n",
       "      <td>0.750500</td>\n",
       "      <td>0.749032</td>\n",
       "      <td>1000</td>\n",
       "      <td>additive</td>\n",
       "      <td>preston</td>\n",
       "      <td>defined</td>\n",
       "      <td>0.09375</td>\n",
       "      <td>0.28125</td>\n",
       "      <td>0.290625</td>\n",
       "    </tr>\n",
       "    <tr>\n",
       "      <th>4</th>\n",
       "      <td>5.0</td>\n",
       "      <td>1</td>\n",
       "      <td>100.0</td>\n",
       "      <td>2236</td>\n",
       "      <td>0.047406</td>\n",
       "      <td>0.133721</td>\n",
       "      <td>0.269231</td>\n",
       "      <td>0.549642</td>\n",
       "      <td>0.848296</td>\n",
       "      <td>0.797243</td>\n",
       "      <td>0.795026</td>\n",
       "      <td>1000</td>\n",
       "      <td>additive</td>\n",
       "      <td>preston</td>\n",
       "      <td>defined</td>\n",
       "      <td>0.09375</td>\n",
       "      <td>0.16875</td>\n",
       "      <td>0.290625</td>\n",
       "    </tr>\n",
       "    <tr>\n",
       "      <th>...</th>\n",
       "      <td>...</td>\n",
       "      <td>...</td>\n",
       "      <td>...</td>\n",
       "      <td>...</td>\n",
       "      <td>...</td>\n",
       "      <td>...</td>\n",
       "      <td>...</td>\n",
       "      <td>...</td>\n",
       "      <td>...</td>\n",
       "      <td>...</td>\n",
       "      <td>...</td>\n",
       "      <td>...</td>\n",
       "      <td>...</td>\n",
       "      <td>...</td>\n",
       "      <td>...</td>\n",
       "      <td>...</td>\n",
       "      <td>...</td>\n",
       "      <td>...</td>\n",
       "    </tr>\n",
       "    <tr>\n",
       "      <th>59</th>\n",
       "      <td>60.0</td>\n",
       "      <td>1</td>\n",
       "      <td>100.0</td>\n",
       "      <td>2656</td>\n",
       "      <td>0.115587</td>\n",
       "      <td>0.207831</td>\n",
       "      <td>0.342997</td>\n",
       "      <td>0.333584</td>\n",
       "      <td>0.722242</td>\n",
       "      <td>0.626189</td>\n",
       "      <td>0.624120</td>\n",
       "      <td>1000</td>\n",
       "      <td>additive</td>\n",
       "      <td>preston</td>\n",
       "      <td>defined</td>\n",
       "      <td>0.21875</td>\n",
       "      <td>0.50625</td>\n",
       "      <td>0.178125</td>\n",
       "    </tr>\n",
       "    <tr>\n",
       "      <th>60</th>\n",
       "      <td>61.0</td>\n",
       "      <td>1</td>\n",
       "      <td>100.0</td>\n",
       "      <td>3312</td>\n",
       "      <td>0.061896</td>\n",
       "      <td>0.138889</td>\n",
       "      <td>0.344203</td>\n",
       "      <td>0.455012</td>\n",
       "      <td>0.708020</td>\n",
       "      <td>0.728940</td>\n",
       "      <td>0.726666</td>\n",
       "      <td>1000</td>\n",
       "      <td>additive</td>\n",
       "      <td>preston</td>\n",
       "      <td>defined</td>\n",
       "      <td>0.21875</td>\n",
       "      <td>0.24375</td>\n",
       "      <td>0.178125</td>\n",
       "    </tr>\n",
       "    <tr>\n",
       "      <th>61</th>\n",
       "      <td>62.0</td>\n",
       "      <td>1</td>\n",
       "      <td>100.0</td>\n",
       "      <td>2673</td>\n",
       "      <td>0.142536</td>\n",
       "      <td>0.202768</td>\n",
       "      <td>0.315376</td>\n",
       "      <td>0.339319</td>\n",
       "      <td>0.325283</td>\n",
       "      <td>0.506705</td>\n",
       "      <td>0.498242</td>\n",
       "      <td>1000</td>\n",
       "      <td>additive</td>\n",
       "      <td>preston</td>\n",
       "      <td>defined</td>\n",
       "      <td>0.53125</td>\n",
       "      <td>0.50625</td>\n",
       "      <td>0.178125</td>\n",
       "    </tr>\n",
       "    <tr>\n",
       "      <th>62</th>\n",
       "      <td>63.0</td>\n",
       "      <td>1</td>\n",
       "      <td>100.0</td>\n",
       "      <td>2682</td>\n",
       "      <td>0.225578</td>\n",
       "      <td>0.268084</td>\n",
       "      <td>0.257644</td>\n",
       "      <td>0.248695</td>\n",
       "      <td>0.341626</td>\n",
       "      <td>0.597480</td>\n",
       "      <td>0.594252</td>\n",
       "      <td>1000</td>\n",
       "      <td>additive</td>\n",
       "      <td>preston</td>\n",
       "      <td>defined</td>\n",
       "      <td>0.53125</td>\n",
       "      <td>0.24375</td>\n",
       "      <td>0.028125</td>\n",
       "    </tr>\n",
       "    <tr>\n",
       "      <th>63</th>\n",
       "      <td>64.0</td>\n",
       "      <td>1</td>\n",
       "      <td>100.0</td>\n",
       "      <td>2306</td>\n",
       "      <td>0.084128</td>\n",
       "      <td>0.176062</td>\n",
       "      <td>0.315265</td>\n",
       "      <td>0.424545</td>\n",
       "      <td>0.315365</td>\n",
       "      <td>0.576048</td>\n",
       "      <td>0.563135</td>\n",
       "      <td>1000</td>\n",
       "      <td>additive</td>\n",
       "      <td>preston</td>\n",
       "      <td>defined</td>\n",
       "      <td>0.53125</td>\n",
       "      <td>0.24375</td>\n",
       "      <td>0.178125</td>\n",
       "    </tr>\n",
       "  </tbody>\n",
       "</table>\n",
       "<p>64 rows × 18 columns</p>\n",
       "</div>"
      ],
      "text/plain": [
       "    iteration  replicate   time  population_x        g1        g2        g3  \\\n",
       "0         1.0          1  100.0          2911  0.069735  0.160769  0.325318   \n",
       "1         2.0          1  100.0          2258  0.139504  0.177591  0.332595   \n",
       "2         3.0          1  100.0          3289  0.071450  0.125570  0.291578   \n",
       "3         4.0          1  100.0          2923  0.071502  0.182689  0.344851   \n",
       "4         5.0          1  100.0          2236  0.047406  0.133721  0.269231   \n",
       "..        ...        ...    ...           ...       ...       ...       ...   \n",
       "59       60.0          1  100.0          2656  0.115587  0.207831  0.342997   \n",
       "60       61.0          1  100.0          3312  0.061896  0.138889  0.344203   \n",
       "61       62.0          1  100.0          2673  0.142536  0.202768  0.315376   \n",
       "62       63.0          1  100.0          2682  0.225578  0.268084  0.257644   \n",
       "63       64.0          1  100.0          2306  0.084128  0.176062  0.315265   \n",
       "\n",
       "          g4    mating  kid-father-cor  kid-mother-cor  population_y  \\\n",
       "0   0.444177  0.873025        0.778171        0.777423          1000   \n",
       "1   0.350310  0.169754        0.498390        0.487822          1000   \n",
       "2   0.511402  0.864743        0.826163        0.827519          1000   \n",
       "3   0.400958  0.869412        0.750500        0.749032          1000   \n",
       "4   0.549642  0.848296        0.797243        0.795026          1000   \n",
       "..       ...       ...             ...             ...           ...   \n",
       "59  0.333584  0.722242        0.626189        0.624120          1000   \n",
       "60  0.455012  0.708020        0.728940        0.726666          1000   \n",
       "61  0.339319  0.325283        0.506705        0.498242          1000   \n",
       "62  0.248695  0.341626        0.597480        0.594252          1000   \n",
       "63  0.424545  0.315365        0.576048        0.563135          1000   \n",
       "\n",
       "   fertility_type heritability_type mating_type  random_mating  leakage  \\\n",
       "0        additive           preston     defined        0.09375  0.28125   \n",
       "1        additive           preston     defined        0.65625  0.28125   \n",
       "2        additive           preston     defined        0.09375  0.16875   \n",
       "3        additive           preston     defined        0.09375  0.28125   \n",
       "4        additive           preston     defined        0.09375  0.16875   \n",
       "..            ...               ...         ...            ...      ...   \n",
       "59       additive           preston     defined        0.21875  0.50625   \n",
       "60       additive           preston     defined        0.21875  0.24375   \n",
       "61       additive           preston     defined        0.53125  0.50625   \n",
       "62       additive           preston     defined        0.53125  0.24375   \n",
       "63       additive           preston     defined        0.53125  0.24375   \n",
       "\n",
       "    fertility_factor  \n",
       "0           0.140625  \n",
       "1           0.140625  \n",
       "2           0.140625  \n",
       "3           0.290625  \n",
       "4           0.290625  \n",
       "..               ...  \n",
       "59          0.178125  \n",
       "60          0.178125  \n",
       "61          0.178125  \n",
       "62          0.028125  \n",
       "63          0.178125  \n",
       "\n",
       "[64 rows x 18 columns]"
      ]
     },
     "execution_count": 61,
     "metadata": {},
     "output_type": "execute_result"
    }
   ],
   "source": [
    "df"
   ]
  },
  {
   "cell_type": "code",
   "execution_count": 63,
   "metadata": {},
   "outputs": [
    {
     "name": "stdout",
     "output_type": "stream",
     "text": [
      "                     ST   ST_conf\n",
      "random-mating  0.139694  0.325629\n",
      "leakage        0.430321  0.409685\n",
      "fertility      0.167171  0.408093\n",
      "                     S1   S1_conf\n",
      "random-mating -0.185930  0.313299\n",
      "leakage        0.553196  0.927573\n",
      "fertility     -0.030197  0.289359\n",
      "                                  S2   S2_conf\n",
      "(random-mating, leakage)    0.078256  0.559728\n",
      "(random-mating, fertility) -0.000851  0.454337\n",
      "(leakage, fertility)       -0.392409  0.962251\n"
     ]
    }
   ],
   "source": [
    "Si = sobol.analyze(problem, Y, print_to_console=True)"
   ]
  },
  {
   "cell_type": "code",
   "execution_count": 43,
   "metadata": {},
   "outputs": [],
   "source": [
    "total, first, second = Si.to_df()"
   ]
  },
  {
   "cell_type": "code",
   "execution_count": 44,
   "metadata": {},
   "outputs": [
    {
     "data": {
      "image/png": "[encoded data removed]",
      "text/plain": [
       "<Figure size 432x288 with 1 Axes>"
      ]
     },
     "metadata": {
      "needs_background": "light"
     },
     "output_type": "display_data"
    },
    {
     "data": {
      "image/png": "[encoded data removed]",
      "text/plain": [
       "<Figure size 432x288 with 1 Axes>"
      ]
     },
     "metadata": {
      "needs_background": "light"
     },
     "output_type": "display_data"
    },
    {
     "data": {
      "image/png": "[encoded data removed]",
      "text/plain": [
       "<Figure size 432x288 with 1 Axes>"
      ]
     },
     "metadata": {
      "needs_background": "light"
     },
     "output_type": "display_data"
    }
   ],
   "source": [
    "st = barplot(total)\n",
    "plt.savefig(\"../output/plots/sobol-st.pdf\", bbox_inches='tight')\n",
    "s1 = barplot(first)\n",
    "plt.savefig(\"../output/plots/sobol-s1.pdf\", bbox_inches='tight')\n",
    "s2 = barplot(second)\n",
    "plt.savefig(\"../output/plots/sobol-s2.pdf\", bbox_inches='tight')"
   ]
  },
  {
   "cell_type": "markdown",
   "metadata": {},
   "source": [
    "# EFast"
   ]
  },
  {
   "cell_type": "code",
   "execution_count": 64,
   "metadata": {},
   "outputs": [],
   "source": [
    "\n",
    "sample_parameters = True\n",
    "\n",
    "if (sample_parameters):\n",
    "    param_values = fast_sampler.sample(problem, 1000)\n",
    "    t = pd.DataFrame(param_values)\n",
    "    t.columns = [\"random-mating\", \"leakage\", \"fertility\"]\n",
    "    t.to_csv(\"../models/fertility-BMI/data/param-efast.csv\", index=False)\n",
    "else:\n",
    "    t = pd.read_csv(\"../models/fertility-BMI/data/param-efast.csv\")"
   ]
  },
  {
   "cell_type": "code",
   "execution_count": 20,
   "metadata": {},
   "outputs": [
    {
     "data": {
      "text/plain": [
       "3000"
      ]
     },
     "execution_count": 20,
     "metadata": {},
     "output_type": "execute_result"
    }
   ],
   "source": [
    "df = readOutput(True, \"../models/fertility-BMI/output/\", \"../output/data/\", \n",
    "    \"results-efast\")\n",
    "df = df.loc[df[\"iteration\"] <= len(t),:]\n",
    "Y = df[\"g4\"].to_numpy()\n",
    "len(Y)"
   ]
  },
  {
   "cell_type": "code",
   "execution_count": 21,
   "metadata": {},
   "outputs": [
    {
     "data": {
      "text/plain": [
       "count    3000.000000\n",
       "mean        0.376931\n",
       "std         0.126163\n",
       "min         0.000000\n",
       "25%         0.297823\n",
       "50%         0.349927\n",
       "75%         0.422917\n",
       "max         0.977778\n",
       "Name: g4, dtype: float64"
      ]
     },
     "execution_count": 21,
     "metadata": {},
     "output_type": "execute_result"
    }
   ],
   "source": [
    "df.g4.describe()"
   ]
  },
  {
   "cell_type": "code",
   "execution_count": 22,
   "metadata": {},
   "outputs": [
    {
     "name": "stdout",
     "output_type": "stream",
     "text": [
      "                     S1        ST   S1_conf   ST_conf\n",
      "random-mating  0.066447  0.356710  0.006237  0.029444\n",
      "leakage        0.395304  0.714124  0.007467  0.028034\n",
      "fertility      0.209558  0.424719  0.007934  0.027591\n"
     ]
    }
   ],
   "source": [
    "Sif = fast.analyze(problem, Y, print_to_console=True)"
   ]
  },
  {
   "cell_type": "code",
   "execution_count": 8,
   "metadata": {},
   "outputs": [
    {
     "data": {
      "text/plain": [
       "<AxesSubplot:>"
      ]
     },
     "execution_count": 8,
     "metadata": {},
     "output_type": "execute_result"
    },
    {
     "data": {
      "image/png": "[encoded data removed]",
      "text/plain": [
       "<Figure size 432x288 with 1 Axes>"
      ]
     },
     "metadata": {
      "needs_background": "light"
     },
     "output_type": "display_data"
    }
   ],
   "source": [
    "Sif.plot()"
   ]
  },
  {
   "cell_type": "code",
   "execution_count": 88,
   "metadata": {},
   "outputs": [
    {
     "data": {
      "application/vnd.plotly.v1+json": {
       "config": {
        "plotlyServerURL": "https://plot.ly"
       },
       "data": [
        {
         "hovertemplate": "random_mating=%{x}<br>fertility_factor=%{y}<br>leakage=%{z}<br>g4=%{marker.color}<extra></extra>",
         "legendgroup": "",
         "marker": {
          "color": [
           0.4441772586739952,
           0.3503100088573959,
           0.5114016418364244,
           0.4009579199452617,
           0.5496422182468694,
           0.4511941848390446,
           0.4269202087994034,
           0.4458921462178791,
           0.3359601824968892,
           0.2810831426392067,
           0.3420621931260229,
           0.265177065767285,
           0.3231326094109905,
           0.2788104089219331,
           0.3014285714285714,
           0.3081761006289308,
           0.1219931271477663,
           0.3266666666666666,
           0.3344947735191638,
           0.3561430793157076,
           0.3027027027027027,
           0.3423814694173,
           0.3188031030661248,
           0.3620452985586822,
           0.3493344090359015,
           0.3047970479704797,
           0.7183942480527262,
           0.3809693513898788,
           0.7682875264270613,
           0.3530655391120507,
           0.7794725135049253,
           0.7730782141658274,
           0.6804995970991137,
           0.6627475247524752,
           0.6283215607130844,
           0.6675758608932834,
           0.5393038717246773,
           0.7479289940828402,
           0.6841571609632446,
           0.6751804553026096,
           0.3085244482907832,
           0.3064250411861614,
           0.3187357197258187,
           0.3342816500711237,
           0.3672182821118991,
           0.3099472990777339,
           0.3049522154648132,
           0.2818860244233379,
           0.3656934306569343,
           0.4632224168126094,
           0.2784724569111186,
           0.4259329061439879,
           0.222947440742013,
           0.2460050462573591,
           0.2916188289322617,
           0.2448979591836734,
           0.2273510161901481,
           0.2325268817204301,
           0.3021025451862781,
           0.3335843373493976,
           0.455012077294686,
           0.3393191170968949,
           0.2486950037285607,
           0.4245446660884648
          ],
          "coloraxis": "coloraxis",
          "opacity": 0.7,
          "size": 4,
          "symbol": "circle"
         },
         "mode": "markers",
         "name": "",
         "scene": "scene",
         "showlegend": false,
         "type": "scatter3d",
         "x": [
          0.09375,
          0.65625,
          0.09375,
          0.09375,
          0.09375,
          0.65625,
          0.65625,
          0.65625,
          0.59375,
          0.15625,
          0.59375,
          0.59375,
          0.59375,
          0.15625,
          0.15625,
          0.15625,
          0.84375,
          0.90625,
          0.84375,
          0.84375,
          0.84375,
          0.90625,
          0.90625,
          0.90625,
          0.34375,
          0.40625,
          0.34375,
          0.34375,
          0.34375,
          0.40625,
          0.40625,
          0.40625,
          0.46875,
          0.28125,
          0.46875,
          0.46875,
          0.46875,
          0.28125,
          0.28125,
          0.28125,
          0.96875,
          0.78125,
          0.96875,
          0.96875,
          0.96875,
          0.78125,
          0.78125,
          0.78125,
          0.71875,
          0.03125,
          0.71875,
          0.71875,
          0.71875,
          0.03125,
          0.03125,
          0.03125,
          0.21875,
          0.53125,
          0.21875,
          0.21875,
          0.21875,
          0.53125,
          0.53125,
          0.53125
         ],
         "y": [
          0.140625,
          0.140625,
          0.140625,
          0.2906249999999999,
          0.2906249999999999,
          0.2906249999999999,
          0.140625,
          0.2906249999999999,
          0.2906249999999999,
          0.2906249999999999,
          0.2906249999999999,
          0.140625,
          0.140625,
          0.140625,
          0.2906249999999999,
          0.140625,
          0.065625,
          0.065625,
          0.065625,
          0.065625,
          0.065625,
          0.065625,
          0.065625,
          0.065625,
          0.2156249999999999,
          0.2156249999999999,
          0.2156249999999999,
          0.2156249999999999,
          0.2156249999999999,
          0.2156249999999999,
          0.2156249999999999,
          0.2156249999999999,
          0.253125,
          0.253125,
          0.253125,
          0.253125,
          0.253125,
          0.253125,
          0.253125,
          0.253125,
          0.103125,
          0.103125,
          0.103125,
          0.103125,
          0.103125,
          0.103125,
          0.103125,
          0.103125,
          0.178125,
          0.178125,
          0.178125,
          0.0281249999999999,
          0.0281249999999999,
          0.0281249999999999,
          0.178125,
          0.0281249999999999,
          0.0281249999999999,
          0.0281249999999999,
          0.0281249999999999,
          0.178125,
          0.178125,
          0.178125,
          0.0281249999999999,
          0.178125
         ],
         "z": [
          0.28125,
          0.28125,
          0.1687499999999999,
          0.28125,
          0.1687499999999999,
          0.28125,
          0.1687499999999999,
          0.1687499999999999,
          0.5812499999999999,
          0.5812499999999999,
          0.46875,
          0.5812499999999999,
          0.46875,
          0.5812499999999999,
          0.46875,
          0.46875,
          0.13125,
          0.13125,
          0.31875,
          0.13125,
          0.31875,
          0.13125,
          0.31875,
          0.31875,
          0.4312499999999999,
          0.4312499999999999,
          0.01875,
          0.4312499999999999,
          0.01875,
          0.4312499999999999,
          0.01875,
          0.01875,
          0.0562499999999999,
          0.0562499999999999,
          0.09375,
          0.0562499999999999,
          0.09375,
          0.0562499999999999,
          0.09375,
          0.09375,
          0.35625,
          0.35625,
          0.39375,
          0.35625,
          0.39375,
          0.35625,
          0.39375,
          0.39375,
          0.20625,
          0.20625,
          0.54375,
          0.20625,
          0.54375,
          0.20625,
          0.54375,
          0.54375,
          0.50625,
          0.50625,
          0.24375,
          0.50625,
          0.24375,
          0.50625,
          0.24375,
          0.24375
         ]
        }
       ],
       "layout": {
        "coloraxis": {
         "colorbar": {
          "title": {
           "text": "Obese"
          }
         },
         "colorscale": [
          [
           0,
           "rgb(255,247,236)"
          ],
          [
           0.125,
           "rgb(254,232,200)"
          ],
          [
           0.25,
           "rgb(253,212,158)"
          ],
          [
           0.375,
           "rgb(253,187,132)"
          ],
          [
           0.5,
           "rgb(252,141,89)"
          ],
          [
           0.625,
           "rgb(239,101,72)"
          ],
          [
           0.75,
           "rgb(215,48,31)"
          ],
          [
           0.875,
           "rgb(179,0,0)"
          ],
          [
           1,
           "rgb(127,0,0)"
          ]
         ]
        },
        "legend": {
         "tracegroupgap": 0
        },
        "margin": {
         "b": 10,
         "l": 10,
         "r": 20,
         "t": 10
        },
        "scene": {
         "domain": {
          "x": [
           0,
           1
          ],
          "y": [
           0,
           1
          ]
         },
         "xaxis": {
          "title": {
           "text": "random mating"
          }
         },
         "yaxis": {
          "title": {
           "text": "fertility"
          }
         },
         "zaxis": {
          "title": {
           "text": "leakage"
          }
         }
        },
        "template": {
         "data": {
          "bar": [
           {
            "error_x": {
             "color": "#2a3f5f"
            },
            "error_y": {
             "color": "#2a3f5f"
            },
            "marker": {
             "line": {
              "color": "#E5ECF6",
              "width": 0.5
             },
             "pattern": {
              "fillmode": "overlay",
              "size": 10,
              "solidity": 0.2
             }
            },
            "type": "bar"
           }
          ],
          "barpolar": [
           {
            "marker": {
             "line": {
              "color": "#E5ECF6",
              "width": 0.5
             },
             "pattern": {
              "fillmode": "overlay",
              "size": 10,
              "solidity": 0.2
             }
            },
            "type": "barpolar"
           }
          ],
          "carpet": [
           {
            "aaxis": {
             "endlinecolor": "#2a3f5f",
             "gridcolor": "white",
             "linecolor": "white",
             "minorgridcolor": "white",
             "startlinecolor": "#2a3f5f"
            },
            "baxis": {
             "endlinecolor": "#2a3f5f",
             "gridcolor": "white",
             "linecolor": "white",
             "minorgridcolor": "white",
             "startlinecolor": "#2a3f5f"
            },
            "type": "carpet"
           }
          ],
          "choropleth": [
           {
            "colorbar": {
             "outlinewidth": 0,
             "ticks": ""
            },
            "type": "choropleth"
           }
          ],
          "contour": [
           {
            "colorbar": {
             "outlinewidth": 0,
             "ticks": ""
            },
            "colorscale": [
             [
              0,
              "#0d0887"
             ],
             [
              0.1111111111111111,
              "#46039f"
             ],
             [
              0.2222222222222222,
              "#7201a8"
             ],
             [
              0.3333333333333333,
              "#9c179e"
             ],
             [
              0.4444444444444444,
              "#bd3786"
             ],
             [
              0.5555555555555556,
              "#d8576b"
             ],
             [
              0.6666666666666666,
              "#ed7953"
             ],
             [
              0.7777777777777778,
              "#fb9f3a"
             ],
             [
              0.8888888888888888,
              "#fdca26"
             ],
             [
              1,
              "#f0f921"
             ]
            ],
            "type": "contour"
           }
          ],
          "contourcarpet": [
           {
            "colorbar": {
             "outlinewidth": 0,
             "ticks": ""
            },
            "type": "contourcarpet"
           }
          ],
          "heatmap": [
           {
            "colorbar": {
             "outlinewidth": 0,
             "ticks": ""
            },
            "colorscale": [
             [
              0,
              "#0d0887"
             ],
             [
              0.1111111111111111,
              "#46039f"
             ],
             [
              0.2222222222222222,
              "#7201a8"
             ],
             [
              0.3333333333333333,
              "#9c179e"
             ],
             [
              0.4444444444444444,
              "#bd3786"
             ],
             [
              0.5555555555555556,
              "#d8576b"
             ],
             [
              0.6666666666666666,
              "#ed7953"
             ],
             [
              0.7777777777777778,
              "#fb9f3a"
             ],
             [
              0.8888888888888888,
              "#fdca26"
             ],
             [
              1,
              "#f0f921"
             ]
            ],
            "type": "heatmap"
           }
          ],
          "heatmapgl": [
           {
            "colorbar": {
             "outlinewidth": 0,
             "ticks": ""
            },
            "colorscale": [
             [
              0,
              "#0d0887"
             ],
             [
              0.1111111111111111,
              "#46039f"
             ],
             [
              0.2222222222222222,
              "#7201a8"
             ],
             [
              0.3333333333333333,
              "#9c179e"
             ],
             [
              0.4444444444444444,
              "#bd3786"
             ],
             [
              0.5555555555555556,
              "#d8576b"
             ],
             [
              0.6666666666666666,
              "#ed7953"
             ],
             [
              0.7777777777777778,
              "#fb9f3a"
             ],
             [
              0.8888888888888888,
              "#fdca26"
             ],
             [
              1,
              "#f0f921"
             ]
            ],
            "type": "heatmapgl"
           }
          ],
          "histogram": [
           {
            "marker": {
             "pattern": {
              "fillmode": "overlay",
              "size": 10,
              "solidity": 0.2
             }
            },
            "type": "histogram"
           }
          ],
          "histogram2d": [
           {
            "colorbar": {
             "outlinewidth": 0,
             "ticks": ""
            },
            "colorscale": [
             [
              0,
              "#0d0887"
             ],
             [
              0.1111111111111111,
              "#46039f"
             ],
             [
              0.2222222222222222,
              "#7201a8"
             ],
             [
              0.3333333333333333,
              "#9c179e"
             ],
             [
              0.4444444444444444,
              "#bd3786"
             ],
             [
              0.5555555555555556,
              "#d8576b"
             ],
             [
              0.6666666666666666,
              "#ed7953"
             ],
             [
              0.7777777777777778,
              "#fb9f3a"
             ],
             [
              0.8888888888888888,
              "#fdca26"
             ],
             [
              1,
              "#f0f921"
             ]
            ],
            "type": "histogram2d"
           }
          ],
          "histogram2dcontour": [
           {
            "colorbar": {
             "outlinewidth": 0,
             "ticks": ""
            },
            "colorscale": [
             [
              0,
              "#0d0887"
             ],
             [
              0.1111111111111111,
              "#46039f"
             ],
             [
              0.2222222222222222,
              "#7201a8"
             ],
             [
              0.3333333333333333,
              "#9c179e"
             ],
             [
              0.4444444444444444,
              "#bd3786"
             ],
             [
              0.5555555555555556,
              "#d8576b"
             ],
             [
              0.6666666666666666,
              "#ed7953"
             ],
             [
              0.7777777777777778,
              "#fb9f3a"
             ],
             [
              0.8888888888888888,
              "#fdca26"
             ],
             [
              1,
              "#f0f921"
             ]
            ],
            "type": "histogram2dcontour"
           }
          ],
          "mesh3d": [
           {
            "colorbar": {
             "outlinewidth": 0,
             "ticks": ""
            },
            "type": "mesh3d"
           }
          ],
          "parcoords": [
           {
            "line": {
             "colorbar": {
              "outlinewidth": 0,
              "ticks": ""
             }
            },
            "type": "parcoords"
           }
          ],
          "pie": [
           {
            "automargin": true,
            "type": "pie"
           }
          ],
          "scatter": [
           {
            "marker": {
             "colorbar": {
              "outlinewidth": 0,
              "ticks": ""
             }
            },
            "type": "scatter"
           }
          ],
          "scatter3d": [
           {
            "line": {
             "colorbar": {
              "outlinewidth": 0,
              "ticks": ""
             }
            },
            "marker": {
             "colorbar": {
              "outlinewidth": 0,
              "ticks": ""
             }
            },
            "type": "scatter3d"
           }
          ],
          "scattercarpet": [
           {
            "marker": {
             "colorbar": {
              "outlinewidth": 0,
              "ticks": ""
             }
            },
            "type": "scattercarpet"
           }
          ],
          "scattergeo": [
           {
            "marker": {
             "colorbar": {
              "outlinewidth": 0,
              "ticks": ""
             }
            },
            "type": "scattergeo"
           }
          ],
          "scattergl": [
           {
            "marker": {
             "colorbar": {
              "outlinewidth": 0,
              "ticks": ""
             }
            },
            "type": "scattergl"
           }
          ],
          "scattermapbox": [
           {
            "marker": {
             "colorbar": {
              "outlinewidth": 0,
              "ticks": ""
             }
            },
            "type": "scattermapbox"
           }
          ],
          "scatterpolar": [
           {
            "marker": {
             "colorbar": {
              "outlinewidth": 0,
              "ticks": ""
             }
            },
            "type": "scatterpolar"
           }
          ],
          "scatterpolargl": [
           {
            "marker": {
             "colorbar": {
              "outlinewidth": 0,
              "ticks": ""
             }
            },
            "type": "scatterpolargl"
           }
          ],
          "scatterternary": [
           {
            "marker": {
             "colorbar": {
              "outlinewidth": 0,
              "ticks": ""
             }
            },
            "type": "scatterternary"
           }
          ],
          "surface": [
           {
            "colorbar": {
             "outlinewidth": 0,
             "ticks": ""
            },
            "colorscale": [
             [
              0,
              "#0d0887"
             ],
             [
              0.1111111111111111,
              "#46039f"
             ],
             [
              0.2222222222222222,
              "#7201a8"
             ],
             [
              0.3333333333333333,
              "#9c179e"
             ],
             [
              0.4444444444444444,
              "#bd3786"
             ],
             [
              0.5555555555555556,
              "#d8576b"
             ],
             [
              0.6666666666666666,
              "#ed7953"
             ],
             [
              0.7777777777777778,
              "#fb9f3a"
             ],
             [
              0.8888888888888888,
              "#fdca26"
             ],
             [
              1,
              "#f0f921"
             ]
            ],
            "type": "surface"
           }
          ],
          "table": [
           {
            "cells": {
             "fill": {
              "color": "#EBF0F8"
             },
             "line": {
              "color": "white"
             }
            },
            "header": {
             "fill": {
              "color": "#C8D4E3"
             },
             "line": {
              "color": "white"
             }
            },
            "type": "table"
           }
          ]
         },
         "layout": {
          "annotationdefaults": {
           "arrowcolor": "#2a3f5f",
           "arrowhead": 0,
           "arrowwidth": 1
          },
          "autotypenumbers": "strict",
          "coloraxis": {
           "colorbar": {
            "outlinewidth": 0,
            "ticks": ""
           }
          },
          "colorscale": {
           "diverging": [
            [
             0,
             "#8e0152"
            ],
            [
             0.1,
             "#c51b7d"
            ],
            [
             0.2,
             "#de77ae"
            ],
            [
             0.3,
             "#f1b6da"
            ],
            [
             0.4,
             "#fde0ef"
            ],
            [
             0.5,
             "#f7f7f7"
            ],
            [
             0.6,
             "#e6f5d0"
            ],
            [
             0.7,
             "#b8e186"
            ],
            [
             0.8,
             "#7fbc41"
            ],
            [
             0.9,
             "#4d9221"
            ],
            [
             1,
             "#276419"
            ]
           ],
           "sequential": [
            [
             0,
             "#0d0887"
            ],
            [
             0.1111111111111111,
             "#46039f"
            ],
            [
             0.2222222222222222,
             "#7201a8"
            ],
            [
             0.3333333333333333,
             "#9c179e"
            ],
            [
             0.4444444444444444,
             "#bd3786"
            ],
            [
             0.5555555555555556,
             "#d8576b"
            ],
            [
             0.6666666666666666,
             "#ed7953"
            ],
            [
             0.7777777777777778,
             "#fb9f3a"
            ],
            [
             0.8888888888888888,
             "#fdca26"
            ],
            [
             1,
             "#f0f921"
            ]
           ],
           "sequentialminus": [
            [
             0,
             "#0d0887"
            ],
            [
             0.1111111111111111,
             "#46039f"
            ],
            [
             0.2222222222222222,
             "#7201a8"
            ],
            [
             0.3333333333333333,
             "#9c179e"
            ],
            [
             0.4444444444444444,
             "#bd3786"
            ],
            [
             0.5555555555555556,
             "#d8576b"
            ],
            [
             0.6666666666666666,
             "#ed7953"
            ],
            [
             0.7777777777777778,
             "#fb9f3a"
            ],
            [
             0.8888888888888888,
             "#fdca26"
            ],
            [
             1,
             "#f0f921"
            ]
           ]
          },
          "colorway": [
           "#636efa",
           "#EF553B",
           "#00cc96",
           "#ab63fa",
           "#FFA15A",
           "#19d3f3",
           "#FF6692",
           "#B6E880",
           "#FF97FF",
           "#FECB52"
          ],
          "font": {
           "color": "#2a3f5f"
          },
          "geo": {
           "bgcolor": "white",
           "lakecolor": "white",
           "landcolor": "#E5ECF6",
           "showlakes": true,
           "showland": true,
           "subunitcolor": "white"
          },
          "hoverlabel": {
           "align": "left"
          },
          "hovermode": "closest",
          "mapbox": {
           "style": "light"
          },
          "paper_bgcolor": "white",
          "plot_bgcolor": "#E5ECF6",
          "polar": {
           "angularaxis": {
            "gridcolor": "white",
            "linecolor": "white",
            "ticks": ""
           },
           "bgcolor": "#E5ECF6",
           "radialaxis": {
            "gridcolor": "white",
            "linecolor": "white",
            "ticks": ""
           }
          },
          "scene": {
           "xaxis": {
            "backgroundcolor": "#E5ECF6",
            "gridcolor": "white",
            "gridwidth": 2,
            "linecolor": "white",
            "showbackground": true,
            "ticks": "",
            "zerolinecolor": "white"
           },
           "yaxis": {
            "backgroundcolor": "#E5ECF6",
            "gridcolor": "white",
            "gridwidth": 2,
            "linecolor": "white",
            "showbackground": true,
            "ticks": "",
            "zerolinecolor": "white"
           },
           "zaxis": {
            "backgroundcolor": "#E5ECF6",
            "gridcolor": "white",
            "gridwidth": 2,
            "linecolor": "white",
            "showbackground": true,
            "ticks": "",
            "zerolinecolor": "white"
           }
          },
          "shapedefaults": {
           "line": {
            "color": "#2a3f5f"
           }
          },
          "ternary": {
           "aaxis": {
            "gridcolor": "white",
            "linecolor": "white",
            "ticks": ""
           },
           "baxis": {
            "gridcolor": "white",
            "linecolor": "white",
            "ticks": ""
           },
           "bgcolor": "#E5ECF6",
           "caxis": {
            "gridcolor": "white",
            "linecolor": "white",
            "ticks": ""
           }
          },
          "title": {
           "x": 0.05
          },
          "xaxis": {
           "automargin": true,
           "gridcolor": "white",
           "linecolor": "white",
           "ticks": "",
           "title": {
            "standoff": 15
           },
           "zerolinecolor": "white",
           "zerolinewidth": 2
          },
          "yaxis": {
           "automargin": true,
           "gridcolor": "white",
           "linecolor": "white",
           "ticks": "",
           "title": {
            "standoff": 15
           },
           "zerolinecolor": "white",
           "zerolinewidth": 2
          }
         }
        },
        "width": 700
       }
      }
     },
     "metadata": {},
     "output_type": "display_data"
    }
   ],
   "source": [
    "fig = px.scatter_3d(df, x='random_mating', y='fertility_factor', z='leakage',\n",
    "              color='g4', color_continuous_scale = px.colors.sequential.OrRd)\n",
    "\n",
    "fig.update_traces(marker=dict(size=4, opacity = 0.7),\n",
    "                  selector=dict(mode='markers'))\n",
    "fig.update_layout(scene = dict(\n",
    "                    xaxis_title='random mating',\n",
    "                    yaxis_title='fertility',\n",
    "                    zaxis_title='leakage'),\n",
    "                    width=700,\n",
    "                    margin=dict(r=20, b=10, l=10, t=10), \n",
    "                    coloraxis_colorbar=dict(title=\"Obese\")\n",
    "                    )\n",
    "fig.show()"
   ]
  },
  {
   "cell_type": "code",
   "execution_count": 89,
   "metadata": {},
   "outputs": [],
   "source": [
    "fig.write_image(\"../output/plots/3D-scatter-efast.pdf\")"
   ]
  },
  {
   "cell_type": "code",
   "execution_count": null,
   "metadata": {},
   "outputs": [],
   "source": []
  },
  {
   "cell_type": "markdown",
   "metadata": {},
   "source": []
  }
 ],
 "metadata": {
  "interpreter": {
   "hash": "949777d72b0d2535278d3dc13498b2535136f6dfe0678499012e853ee9abcab1"
  },
  "kernelspec": {
   "display_name": "Python 3.9.2 64-bit",
   "language": "python",
   "name": "python3"
  },
  "language_info": {
   "codemirror_mode": {
    "name": "ipython",
    "version": 3
   },
   "file_extension": ".py",
   "mimetype": "text/x-python",
   "name": "python",
   "nbconvert_exporter": "python",
   "pygments_lexer": "ipython3",
   "version": "3.8.3"
  },
  "orig_nbformat": 4
 },
 "nbformat": 4,
 "nbformat_minor": 2
}
