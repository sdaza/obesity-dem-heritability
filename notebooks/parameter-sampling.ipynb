{
 "cells": [
  {
   "cell_type": "markdown",
   "metadata": {},
   "source": []
  },
  {
   "cell_type": "markdown",
   "metadata": {},
   "source": [
    "# Sensitivity analysis"
   ]
  },
  {
   "cell_type": "code",
   "execution_count": 41,
   "metadata": {},
   "outputs": [],
   "source": [
    "from SALib.sample import saltelli\n",
    "from SALib.sample import fast_sampler\n",
    "from SALib.analyze import sobol\n",
    "import numpy as np\n",
    "import pandas as pd\n",
    "import os\n",
    "import glob\n",
    "\n",
    "# function for reading csv files\n",
    "def pd_read_pattern(pattern, sep):\n",
    "    files = glob.glob(pattern)\n",
    "    df = pd.DataFrame()\n",
    "    for f in files:\n",
    "        df = df.append(pd.read_csv(f, sep=sep))\n",
    "    return df.reset_index(drop=True)\n",
    "\n",
    "# function to remove files\n",
    "def removeFiles(pattern):\n",
    "    files = glob.glob(pattern)\n",
    "    for file in files:\n",
    "        try:\n",
    "            os.remove(file)\n",
    "        except:\n",
    "            print(\"Error while deleting file : \", file)\n",
    "        "
   ]
  },
  {
   "cell_type": "code",
   "execution_count": 16,
   "metadata": {},
   "outputs": [],
   "source": [
    "# parameter dictionary\n",
    "problem = {\n",
    "    'num_vars': 3,\n",
    "    'names': ['random-mating', 'leakage', 'fertility'],\n",
    "    'bounds': [[0, 1],\n",
    "               [0, 0.60],\n",
    "               [0, 0.30]]\n",
    "}"
   ]
  },
  {
   "cell_type": "markdown",
   "metadata": {},
   "source": [
    "# Sobol"
   ]
  },
  {
   "cell_type": "code",
   "execution_count": 17,
   "metadata": {},
   "outputs": [
    {
     "data": {
      "text/plain": [
       "2048"
      ]
     },
     "execution_count": 17,
     "metadata": {},
     "output_type": "execute_result"
    }
   ],
   "source": [
    "param_values = saltelli.sample(problem, 2**10)\n",
    "t = pd.DataFrame(param_values)\n",
    "t.columns = [\"random-mating\", \"leakage\", \"fertility\"]\n",
    "t.to_csv(\"../models/fertility-BMI/data/param-sobol.csv\", index=False)\n",
    "len(t)"
   ]
  },
  {
   "cell_type": "code",
   "execution_count": 71,
   "metadata": {},
   "outputs": [],
   "source": [
    "df = pd_read_pattern('../models/fertility-BMI/output/group*.csv', sep=\";\")\n",
    "params = pd_read_pattern('../models/fertility-BMI/output/par*.csv', sep=\";\")\n",
    "df.iteration = df.iteration.astype(float)\n",
    "df = df.sort_values(by=['iteration'])\n",
    "df.to_csv(\"../output/data/results-sobol.csv\", index=False)\n",
    "Y = df.g4.to_numpy()"
   ]
  },
  {
   "cell_type": "code",
   "execution_count": 72,
   "metadata": {},
   "outputs": [
    {
     "name": "stdout",
     "output_type": "stream",
     "text": [
      "                     ST   ST_conf\n",
      "random-mating  0.338787  0.105018\n",
      "leakage        0.703862  0.132659\n",
      "fertility      0.499390  0.193034\n",
      "                     S1   S1_conf\n",
      "random-mating -0.020798  0.095583\n",
      "leakage        0.387229  0.183701\n",
      "fertility      0.241893  0.116106\n",
      "                                  S2   S2_conf\n",
      "(random-mating, leakage)    0.252645  0.277094\n",
      "(random-mating, fertility)  0.068665  0.165005\n",
      "(leakage, fertility)       -0.057559  0.225275\n"
     ]
    }
   ],
   "source": [
    "Si = sobol.analyze(problem, Y, print_to_console=True)"
   ]
  },
  {
   "cell_type": "code",
   "execution_count": 91,
   "metadata": {},
   "outputs": [
    {
     "data": {
      "text/plain": [
       "array([<AxesSubplot:>, <AxesSubplot:>, <AxesSubplot:>], dtype=object)"
      ]
     },
     "execution_count": 91,
     "metadata": {},
     "output_type": "execute_result"
    },
    {
     "data": {
      "image/png": "[encoded data removed]",
      "text/plain": [
       "<Figure size 432x288 with 3 Axes>"
      ]
     },
     "metadata": {
      "needs_background": "light"
     },
     "output_type": "display_data"
    }
   ],
   "source": [
    "Si.plot()"
   ]
  },
  {
   "cell_type": "markdown",
   "metadata": {},
   "source": [
    "# EFast"
   ]
  },
  {
   "cell_type": "code",
   "execution_count": 87,
   "metadata": {},
   "outputs": [],
   "source": [
    "param_values = fast_sampler.sample(problem, 1000)"
   ]
  },
  {
   "cell_type": "code",
   "execution_count": 89,
   "metadata": {},
   "outputs": [
    {
     "data": {
      "text/plain": [
       "3000"
      ]
     },
     "execution_count": 89,
     "metadata": {},
     "output_type": "execute_result"
    }
   ],
   "source": [
    "t = pd.DataFrame(param_values)\n",
    "t.columns = [\"random-mating\", \"leakage\", \"fertility\"]\n",
    "t.to_csv(\"../models/fertility-BMI/data/param-efast.csv\", index=False)\n",
    "len(t)"
   ]
  },
  {
   "cell_type": "code",
   "execution_count": null,
   "metadata": {},
   "outputs": [],
   "source": [
    "df = pd_read_pattern('../models/fertility-BMI/output/group*.csv', sep=\";\")\n",
    "params = pd_read_pattern('../models/fertility-BMI/output/par*.csv', sep=\";\")\n",
    "df.iteration = df.iteration.astype(float)\n",
    "df = df.sort_values(by=['iteration'])\n",
    "df.to_csv(\"../output/data/results-efast.csv\", index=False)\n",
    "Y = df.g4.to_numpy()"
   ]
  },
  {
   "cell_type": "code",
   "execution_count": null,
   "metadata": {},
   "outputs": [],
   "source": [
    "Sif = fast.analyze(problem, Y, print_to_console=True)"
   ]
  }
 ],
 "metadata": {
  "interpreter": {
   "hash": "949777d72b0d2535278d3dc13498b2535136f6dfe0678499012e853ee9abcab1"
  },
  "kernelspec": {
   "display_name": "Python 3.9.2 64-bit",
   "language": "python",
   "name": "python3"
  },
  "language_info": {
   "codemirror_mode": {
    "name": "ipython",
    "version": 3
   },
   "file_extension": ".py",
   "mimetype": "text/x-python",
   "name": "python",
   "nbconvert_exporter": "python",
   "pygments_lexer": "ipython3",
   "version": "3.8.3"
  },
  "orig_nbformat": 4
 },
 "nbformat": 4,
 "nbformat_minor": 2
}
