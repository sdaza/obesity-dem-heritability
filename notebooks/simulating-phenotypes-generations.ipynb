{
 "cells": [
  {
   "cell_type": "markdown",
   "metadata": {},
   "source": [
    "# Simulating phenotypes\n",
    "\n",
    "- Mock example with very small sample size and number of SNPs\n",
    "- Simple example using 2 components (genetic and noise), and bi-allelic SNPs\n",
    "- Frequencies to sample alleles: 0.1, 0.2, 0.3"
   ]
  },
  {
   "cell_type": "code",
   "execution_count": 42,
   "metadata": {},
   "outputs": [],
   "source": [
    "# load libraries\n",
    "library(data.table)"
   ]
  },
  {
   "cell_type": "markdown",
   "metadata": {},
   "source": [
    "# Functions"
   ]
  },
  {
   "cell_type": "code",
   "execution_count": 43,
   "metadata": {},
   "outputs": [],
   "source": [
    "simGenotype = function(N = 50, nSNP = 30, frequencies = c(0.1, 0.2, 0.4)) {\n",
    "    sps = paste0(\"%0\", nchar(as.character(N)), \"d\")\n",
    "    spsn = paste0(\"%0\", nchar(as.character(nSNP)), \"d\")\n",
    "    \n",
    "    samples = paste0(\"ID_\", sprintf(sps, 1:N))\n",
    "    snps = paste0(\"SNP_\", sprintf(spsn, 1:nSNP))\n",
    "    freq = sample(frequencies, nSNP, replace = TRUE)\n",
    "    X <- sapply(1:nSNP, function(x) rbinom(N, 2, freq[x]))\n",
    "    colnames(X) <- snps\n",
    "    rownames(X) <- samples\n",
    "    return(X)\n",
    "}\n",
    "\n",
    "\n",
    "geneticEffects = function (genotype, causalSNP = 10, mBeta = 0, sdBeta = 1) \n",
    "{\n",
    "    cSNP = sort(sample(colnames(genotype), causalSNP, replace = FALSE))\n",
    "    betas = rnorm(causalSNP, mBeta, sdBeta)\n",
    "    g = colnames(genotype)\n",
    "    effects = rep(0, length(g))\n",
    "    effects[g %in% cSNP] = betas\n",
    "    names(effects) = g\n",
    "    return(effects)\n",
    "}\n",
    "\n",
    "\n",
    "createCouples = function(genotype) {\n",
    "    temp = rownames(genotype)\n",
    "    ids = temp\n",
    "    pairs = NULL\n",
    "        for (i in seq_along(ids)) {\n",
    "            if (length(temp) > 0) {\n",
    "            e = sample(temp, 1)\n",
    "            temp = temp[!temp %in% e]\n",
    "            a = sample(temp, 1)\n",
    "            temp = temp[!temp %in% a]\n",
    "            pairs = rbind(pairs, c(e, a))\n",
    "        } else {\n",
    "            break\n",
    "        }\n",
    "    }\n",
    "\n",
    "    couples = list()\n",
    "    snps = colnames(genotype)\n",
    "    for (i in 1:nrow(pairs)) {\n",
    "        temp = data.table(t(genotype[pairs[i,], ]))\n",
    "        rownames(temp) = snps \n",
    "        couples[[i]] = temp\n",
    "    }\n",
    "    return(couples)\n",
    "}\n",
    "\n",
    "\n",
    "reproduce = function(couples, nkids = 2) {\n",
    "\n",
    "    # mendelian rules\n",
    "    m = matrix(c(1, 0, 0, 0.5, 0.5, 0, 0, 1, 0, 0.25, 0.50, 0.25, 0, 0.50, 0.5, 0, 0, 1), \n",
    "        nrow = 6, ncol = 3, byrow  = TRUE\n",
    "    )       \n",
    "    colnames(m) = c(0, 1, 2)\n",
    "    rownames(m) = c(\"00\", \"01\", \"02\", \"11\", \"12\", \"22\")\n",
    "    \n",
    "    kids = list()\n",
    "    \n",
    "    family = data.table()\n",
    "    j = 1\n",
    "\n",
    "    for (i in seq_along(couples)) {\n",
    "        for (ii in 1:nkids) {\n",
    "            temp = couples[[i]]\n",
    "            fids = colnames(temp)\n",
    "            temp$k = temp[, apply(.SD, 1, getKidGenotype, matrix = m)]\n",
    "            temp = temp[, .(k)]\n",
    "            setnames(temp, \"k\", paste0(\"ID_\", j))\n",
    "            temp[, snp := rownames(couples[[1]])]\n",
    "            kids[[paste0(i, ii)]] = temp\n",
    "\n",
    "            family = rbind(family, data.table(father = fids[1], mother = fids[2], kid = paste0(\"ID_\", j)))\n",
    "            j = j+1\n",
    "        }\n",
    "}\n",
    "    kk = Reduce(function(...) merge(...,  by = \"snp\"), kids)\n",
    "    kk[, snp := NULL]\n",
    "    kk = as.matrix(t(kk))\n",
    "    colnames(kk) = rownames(couples[[1]])\n",
    "    return(list(kk, family))\n",
    "\n",
    "}\n",
    "\n",
    "\n",
    "# function to get offspring genotype\n",
    "getKidGenotype = function(values, matrix) {\n",
    "    comba = paste0(values, collapse = \"\")\n",
    "    combb = paste0(rev(values), collapse = \"\")\n",
    "    s = grep(paste0(comba, \"|\", combb), rownames(matrix))\n",
    "    prob = as.vector(matrix[s, ])\n",
    "    return(sample(0:2, size = 1, prob = prob))\n",
    "}\n",
    "\n",
    "\n",
    "simKidTrait = function(kids, ge) {\n",
    "    return(kids[[1]] %*% ge)\n",
    "}\n",
    "\n",
    "\n",
    "getNoiseComponent = function(genotype, mNoise = 0, sdNoise = 1) {\n",
    "    n = nrow(genotype)\n",
    "    return(rnorm(n, mNoise, sdNoise))\n",
    "}\n",
    "\n",
    "\n",
    "rescaleVar = function(component, prop) {\n",
    "    component = as.vector(component) \n",
    "    var_component = var(component)\n",
    "    scale_factor = sqrt(prop/var_component)\n",
    "    return(component * scale_factor)\n",
    "}\n",
    "\n",
    "\n",
    "scalingFactor = function(component, prop) {\n",
    "    component = as.vector(component) \n",
    "    var_component = var(component)\n",
    "    return(sqrt(prop/var_component))\n",
    "}"
   ]
  },
  {
   "cell_type": "markdown",
   "metadata": {},
   "source": [
    "# Initial example\n",
    "- 1000 people\n",
    "- 100 snps\n",
    "- 50 causal"
   ]
  },
  {
   "cell_type": "code",
   "execution_count": 84,
   "metadata": {},
   "outputs": [],
   "source": [
    "gen = 0.3\n",
    "noise = 1 - gen\n",
    "\n",
    "genotype = simGenotype(1000, 300)\n",
    "ge = geneticEffects(genotype, 100)\n",
    "parentGComp = genotype %*% ge\n",
    "parentNComp = getNoiseComponent(genotype)\n",
    "\n",
    "pgsf = scalingFactor(parentGComp, gen)\n",
    "pnsf = scalingFactor(parentNComp, noise)\n",
    "parentTrait = parentGComp * pgsf + parentNComp * pnsf\n",
    "dparentTrait = data.table(id = rownames(parentTrait), trait = parentTrait[, 1])"
   ]
  },
  {
   "cell_type": "code",
   "execution_count": 85,
   "metadata": {},
   "outputs": [
    {
     "data": {
      "text/html": [
       "<table class=\"dataframe\">\n",
       "<caption>A matrix: 6 × 300 of type int</caption>\n",
       "<thead>\n",
       "\t<tr><th></th><th scope=col>SNP_001</th><th scope=col>SNP_002</th><th scope=col>SNP_003</th><th scope=col>SNP_004</th><th scope=col>SNP_005</th><th scope=col>SNP_006</th><th scope=col>SNP_007</th><th scope=col>SNP_008</th><th scope=col>SNP_009</th><th scope=col>SNP_010</th><th scope=col>⋯</th><th scope=col>SNP_291</th><th scope=col>SNP_292</th><th scope=col>SNP_293</th><th scope=col>SNP_294</th><th scope=col>SNP_295</th><th scope=col>SNP_296</th><th scope=col>SNP_297</th><th scope=col>SNP_298</th><th scope=col>SNP_299</th><th scope=col>SNP_300</th></tr>\n",
       "</thead>\n",
       "<tbody>\n",
       "\t<tr><th scope=row>ID_0001</th><td>0</td><td>0</td><td>0</td><td>1</td><td>1</td><td>0</td><td>0</td><td>0</td><td>0</td><td>1</td><td>⋯</td><td>0</td><td>1</td><td>0</td><td>0</td><td>0</td><td>0</td><td>0</td><td>0</td><td>0</td><td>1</td></tr>\n",
       "\t<tr><th scope=row>ID_0002</th><td>1</td><td>0</td><td>0</td><td>1</td><td>0</td><td>1</td><td>0</td><td>0</td><td>0</td><td>1</td><td>⋯</td><td>0</td><td>0</td><td>1</td><td>0</td><td>0</td><td>0</td><td>0</td><td>0</td><td>0</td><td>2</td></tr>\n",
       "\t<tr><th scope=row>ID_0003</th><td>1</td><td>0</td><td>0</td><td>1</td><td>0</td><td>1</td><td>0</td><td>0</td><td>0</td><td>1</td><td>⋯</td><td>1</td><td>1</td><td>0</td><td>0</td><td>1</td><td>0</td><td>0</td><td>0</td><td>2</td><td>0</td></tr>\n",
       "\t<tr><th scope=row>ID_0004</th><td>1</td><td>1</td><td>0</td><td>1</td><td>1</td><td>0</td><td>0</td><td>0</td><td>1</td><td>1</td><td>⋯</td><td>0</td><td>0</td><td>0</td><td>1</td><td>0</td><td>0</td><td>0</td><td>0</td><td>1</td><td>1</td></tr>\n",
       "\t<tr><th scope=row>ID_0005</th><td>2</td><td>1</td><td>0</td><td>2</td><td>1</td><td>2</td><td>1</td><td>0</td><td>1</td><td>0</td><td>⋯</td><td>1</td><td>1</td><td>0</td><td>0</td><td>0</td><td>1</td><td>0</td><td>0</td><td>1</td><td>0</td></tr>\n",
       "\t<tr><th scope=row>ID_0006</th><td>0</td><td>1</td><td>1</td><td>1</td><td>0</td><td>0</td><td>0</td><td>0</td><td>0</td><td>1</td><td>⋯</td><td>0</td><td>2</td><td>0</td><td>0</td><td>0</td><td>0</td><td>1</td><td>0</td><td>1</td><td>1</td></tr>\n",
       "</tbody>\n",
       "</table>\n"
      ],
      "text/latex": [
       "A matrix: 6 × 300 of type int\n",
       "\\begin{tabular}{r|lllllllllllllllllllll}\n",
       "  & SNP\\_001 & SNP\\_002 & SNP\\_003 & SNP\\_004 & SNP\\_005 & SNP\\_006 & SNP\\_007 & SNP\\_008 & SNP\\_009 & SNP\\_010 & ⋯ & SNP\\_291 & SNP\\_292 & SNP\\_293 & SNP\\_294 & SNP\\_295 & SNP\\_296 & SNP\\_297 & SNP\\_298 & SNP\\_299 & SNP\\_300\\\\\n",
       "\\hline\n",
       "\tID\\_0001 & 0 & 0 & 0 & 1 & 1 & 0 & 0 & 0 & 0 & 1 & ⋯ & 0 & 1 & 0 & 0 & 0 & 0 & 0 & 0 & 0 & 1\\\\\n",
       "\tID\\_0002 & 1 & 0 & 0 & 1 & 0 & 1 & 0 & 0 & 0 & 1 & ⋯ & 0 & 0 & 1 & 0 & 0 & 0 & 0 & 0 & 0 & 2\\\\\n",
       "\tID\\_0003 & 1 & 0 & 0 & 1 & 0 & 1 & 0 & 0 & 0 & 1 & ⋯ & 1 & 1 & 0 & 0 & 1 & 0 & 0 & 0 & 2 & 0\\\\\n",
       "\tID\\_0004 & 1 & 1 & 0 & 1 & 1 & 0 & 0 & 0 & 1 & 1 & ⋯ & 0 & 0 & 0 & 1 & 0 & 0 & 0 & 0 & 1 & 1\\\\\n",
       "\tID\\_0005 & 2 & 1 & 0 & 2 & 1 & 2 & 1 & 0 & 1 & 0 & ⋯ & 1 & 1 & 0 & 0 & 0 & 1 & 0 & 0 & 1 & 0\\\\\n",
       "\tID\\_0006 & 0 & 1 & 1 & 1 & 0 & 0 & 0 & 0 & 0 & 1 & ⋯ & 0 & 2 & 0 & 0 & 0 & 0 & 1 & 0 & 1 & 1\\\\\n",
       "\\end{tabular}\n"
      ],
      "text/markdown": [
       "\n",
       "A matrix: 6 × 300 of type int\n",
       "\n",
       "| <!--/--> | SNP_001 | SNP_002 | SNP_003 | SNP_004 | SNP_005 | SNP_006 | SNP_007 | SNP_008 | SNP_009 | SNP_010 | ⋯ | SNP_291 | SNP_292 | SNP_293 | SNP_294 | SNP_295 | SNP_296 | SNP_297 | SNP_298 | SNP_299 | SNP_300 |\n",
       "|---|---|---|---|---|---|---|---|---|---|---|---|---|---|---|---|---|---|---|---|---|---|\n",
       "| ID_0001 | 0 | 0 | 0 | 1 | 1 | 0 | 0 | 0 | 0 | 1 | ⋯ | 0 | 1 | 0 | 0 | 0 | 0 | 0 | 0 | 0 | 1 |\n",
       "| ID_0002 | 1 | 0 | 0 | 1 | 0 | 1 | 0 | 0 | 0 | 1 | ⋯ | 0 | 0 | 1 | 0 | 0 | 0 | 0 | 0 | 0 | 2 |\n",
       "| ID_0003 | 1 | 0 | 0 | 1 | 0 | 1 | 0 | 0 | 0 | 1 | ⋯ | 1 | 1 | 0 | 0 | 1 | 0 | 0 | 0 | 2 | 0 |\n",
       "| ID_0004 | 1 | 1 | 0 | 1 | 1 | 0 | 0 | 0 | 1 | 1 | ⋯ | 0 | 0 | 0 | 1 | 0 | 0 | 0 | 0 | 1 | 1 |\n",
       "| ID_0005 | 2 | 1 | 0 | 2 | 1 | 2 | 1 | 0 | 1 | 0 | ⋯ | 1 | 1 | 0 | 0 | 0 | 1 | 0 | 0 | 1 | 0 |\n",
       "| ID_0006 | 0 | 1 | 1 | 1 | 0 | 0 | 0 | 0 | 0 | 1 | ⋯ | 0 | 2 | 0 | 0 | 0 | 0 | 1 | 0 | 1 | 1 |\n",
       "\n"
      ],
      "text/plain": [
       "        SNP_001 SNP_002 SNP_003 SNP_004 SNP_005 SNP_006 SNP_007 SNP_008 SNP_009\n",
       "ID_0001 0       0       0       1       1       0       0       0       0      \n",
       "ID_0002 1       0       0       1       0       1       0       0       0      \n",
       "ID_0003 1       0       0       1       0       1       0       0       0      \n",
       "ID_0004 1       1       0       1       1       0       0       0       1      \n",
       "ID_0005 2       1       0       2       1       2       1       0       1      \n",
       "ID_0006 0       1       1       1       0       0       0       0       0      \n",
       "        SNP_010 ⋯ SNP_291 SNP_292 SNP_293 SNP_294 SNP_295 SNP_296 SNP_297\n",
       "ID_0001 1       ⋯ 0       1       0       0       0       0       0      \n",
       "ID_0002 1       ⋯ 0       0       1       0       0       0       0      \n",
       "ID_0003 1       ⋯ 1       1       0       0       1       0       0      \n",
       "ID_0004 1       ⋯ 0       0       0       1       0       0       0      \n",
       "ID_0005 0       ⋯ 1       1       0       0       0       1       0      \n",
       "ID_0006 1       ⋯ 0       2       0       0       0       0       1      \n",
       "        SNP_298 SNP_299 SNP_300\n",
       "ID_0001 0       0       1      \n",
       "ID_0002 0       0       2      \n",
       "ID_0003 0       2       0      \n",
       "ID_0004 0       1       1      \n",
       "ID_0005 0       1       0      \n",
       "ID_0006 0       1       1      "
      ]
     },
     "metadata": {},
     "output_type": "display_data"
    }
   ],
   "source": [
    "head(genotype)"
   ]
  },
  {
   "cell_type": "code",
   "execution_count": 86,
   "metadata": {},
   "outputs": [],
   "source": [
    "# random couples (not efficient code)\n",
    "couples = createCouples(genotype)\n",
    "kids = reproduce(couples)"
   ]
  },
  {
   "cell_type": "code",
   "execution_count": 87,
   "metadata": {},
   "outputs": [],
   "source": [
    "kidGComp = kids[[1]] %*%  ge\n",
    "kidNComp = getNoiseComponent(kids[[1]])\n",
    "kidTrait = kidGComp * pgsf + kidNComp * pnsf\n"
   ]
  },
  {
   "cell_type": "code",
   "execution_count": 88,
   "metadata": {},
   "outputs": [
    {
     "data": {
      "text/html": [
       "<table class=\"dataframe\">\n",
       "<caption>A matrix: 6 × 300 of type int</caption>\n",
       "<thead>\n",
       "\t<tr><th></th><th scope=col>SNP_001</th><th scope=col>SNP_002</th><th scope=col>SNP_003</th><th scope=col>SNP_004</th><th scope=col>SNP_005</th><th scope=col>SNP_006</th><th scope=col>SNP_007</th><th scope=col>SNP_008</th><th scope=col>SNP_009</th><th scope=col>SNP_010</th><th scope=col>⋯</th><th scope=col>SNP_291</th><th scope=col>SNP_292</th><th scope=col>SNP_293</th><th scope=col>SNP_294</th><th scope=col>SNP_295</th><th scope=col>SNP_296</th><th scope=col>SNP_297</th><th scope=col>SNP_298</th><th scope=col>SNP_299</th><th scope=col>SNP_300</th></tr>\n",
       "</thead>\n",
       "<tbody>\n",
       "\t<tr><th scope=row>ID_1</th><td>0</td><td>0</td><td>0</td><td>0</td><td>2</td><td>1</td><td>1</td><td>0</td><td>0</td><td>0</td><td>⋯</td><td>1</td><td>0</td><td>1</td><td>0</td><td>0</td><td>1</td><td>0</td><td>0</td><td>1</td><td>1</td></tr>\n",
       "\t<tr><th scope=row>ID_2</th><td>0</td><td>0</td><td>0</td><td>1</td><td>2</td><td>1</td><td>1</td><td>1</td><td>0</td><td>0</td><td>⋯</td><td>1</td><td>1</td><td>1</td><td>0</td><td>1</td><td>0</td><td>1</td><td>0</td><td>1</td><td>0</td></tr>\n",
       "\t<tr><th scope=row>ID_3</th><td>1</td><td>0</td><td>0</td><td>0</td><td>0</td><td>0</td><td>0</td><td>0</td><td>0</td><td>1</td><td>⋯</td><td>1</td><td>1</td><td>1</td><td>0</td><td>0</td><td>0</td><td>0</td><td>0</td><td>2</td><td>0</td></tr>\n",
       "\t<tr><th scope=row>ID_4</th><td>1</td><td>0</td><td>0</td><td>0</td><td>1</td><td>0</td><td>1</td><td>0</td><td>0</td><td>0</td><td>⋯</td><td>0</td><td>1</td><td>1</td><td>0</td><td>0</td><td>0</td><td>0</td><td>0</td><td>1</td><td>1</td></tr>\n",
       "\t<tr><th scope=row>ID_5</th><td>1</td><td>0</td><td>0</td><td>2</td><td>1</td><td>2</td><td>0</td><td>1</td><td>0</td><td>0</td><td>⋯</td><td>1</td><td>1</td><td>0</td><td>0</td><td>0</td><td>1</td><td>1</td><td>0</td><td>1</td><td>0</td></tr>\n",
       "\t<tr><th scope=row>ID_6</th><td>1</td><td>1</td><td>0</td><td>0</td><td>1</td><td>2</td><td>0</td><td>2</td><td>1</td><td>0</td><td>⋯</td><td>1</td><td>2</td><td>0</td><td>2</td><td>0</td><td>1</td><td>0</td><td>0</td><td>1</td><td>1</td></tr>\n",
       "</tbody>\n",
       "</table>\n"
      ],
      "text/latex": [
       "A matrix: 6 × 300 of type int\n",
       "\\begin{tabular}{r|lllllllllllllllllllll}\n",
       "  & SNP\\_001 & SNP\\_002 & SNP\\_003 & SNP\\_004 & SNP\\_005 & SNP\\_006 & SNP\\_007 & SNP\\_008 & SNP\\_009 & SNP\\_010 & ⋯ & SNP\\_291 & SNP\\_292 & SNP\\_293 & SNP\\_294 & SNP\\_295 & SNP\\_296 & SNP\\_297 & SNP\\_298 & SNP\\_299 & SNP\\_300\\\\\n",
       "\\hline\n",
       "\tID\\_1 & 0 & 0 & 0 & 0 & 2 & 1 & 1 & 0 & 0 & 0 & ⋯ & 1 & 0 & 1 & 0 & 0 & 1 & 0 & 0 & 1 & 1\\\\\n",
       "\tID\\_2 & 0 & 0 & 0 & 1 & 2 & 1 & 1 & 1 & 0 & 0 & ⋯ & 1 & 1 & 1 & 0 & 1 & 0 & 1 & 0 & 1 & 0\\\\\n",
       "\tID\\_3 & 1 & 0 & 0 & 0 & 0 & 0 & 0 & 0 & 0 & 1 & ⋯ & 1 & 1 & 1 & 0 & 0 & 0 & 0 & 0 & 2 & 0\\\\\n",
       "\tID\\_4 & 1 & 0 & 0 & 0 & 1 & 0 & 1 & 0 & 0 & 0 & ⋯ & 0 & 1 & 1 & 0 & 0 & 0 & 0 & 0 & 1 & 1\\\\\n",
       "\tID\\_5 & 1 & 0 & 0 & 2 & 1 & 2 & 0 & 1 & 0 & 0 & ⋯ & 1 & 1 & 0 & 0 & 0 & 1 & 1 & 0 & 1 & 0\\\\\n",
       "\tID\\_6 & 1 & 1 & 0 & 0 & 1 & 2 & 0 & 2 & 1 & 0 & ⋯ & 1 & 2 & 0 & 2 & 0 & 1 & 0 & 0 & 1 & 1\\\\\n",
       "\\end{tabular}\n"
      ],
      "text/markdown": [
       "\n",
       "A matrix: 6 × 300 of type int\n",
       "\n",
       "| <!--/--> | SNP_001 | SNP_002 | SNP_003 | SNP_004 | SNP_005 | SNP_006 | SNP_007 | SNP_008 | SNP_009 | SNP_010 | ⋯ | SNP_291 | SNP_292 | SNP_293 | SNP_294 | SNP_295 | SNP_296 | SNP_297 | SNP_298 | SNP_299 | SNP_300 |\n",
       "|---|---|---|---|---|---|---|---|---|---|---|---|---|---|---|---|---|---|---|---|---|---|\n",
       "| ID_1 | 0 | 0 | 0 | 0 | 2 | 1 | 1 | 0 | 0 | 0 | ⋯ | 1 | 0 | 1 | 0 | 0 | 1 | 0 | 0 | 1 | 1 |\n",
       "| ID_2 | 0 | 0 | 0 | 1 | 2 | 1 | 1 | 1 | 0 | 0 | ⋯ | 1 | 1 | 1 | 0 | 1 | 0 | 1 | 0 | 1 | 0 |\n",
       "| ID_3 | 1 | 0 | 0 | 0 | 0 | 0 | 0 | 0 | 0 | 1 | ⋯ | 1 | 1 | 1 | 0 | 0 | 0 | 0 | 0 | 2 | 0 |\n",
       "| ID_4 | 1 | 0 | 0 | 0 | 1 | 0 | 1 | 0 | 0 | 0 | ⋯ | 0 | 1 | 1 | 0 | 0 | 0 | 0 | 0 | 1 | 1 |\n",
       "| ID_5 | 1 | 0 | 0 | 2 | 1 | 2 | 0 | 1 | 0 | 0 | ⋯ | 1 | 1 | 0 | 0 | 0 | 1 | 1 | 0 | 1 | 0 |\n",
       "| ID_6 | 1 | 1 | 0 | 0 | 1 | 2 | 0 | 2 | 1 | 0 | ⋯ | 1 | 2 | 0 | 2 | 0 | 1 | 0 | 0 | 1 | 1 |\n",
       "\n"
      ],
      "text/plain": [
       "     SNP_001 SNP_002 SNP_003 SNP_004 SNP_005 SNP_006 SNP_007 SNP_008 SNP_009\n",
       "ID_1 0       0       0       0       2       1       1       0       0      \n",
       "ID_2 0       0       0       1       2       1       1       1       0      \n",
       "ID_3 1       0       0       0       0       0       0       0       0      \n",
       "ID_4 1       0       0       0       1       0       1       0       0      \n",
       "ID_5 1       0       0       2       1       2       0       1       0      \n",
       "ID_6 1       1       0       0       1       2       0       2       1      \n",
       "     SNP_010 ⋯ SNP_291 SNP_292 SNP_293 SNP_294 SNP_295 SNP_296 SNP_297 SNP_298\n",
       "ID_1 0       ⋯ 1       0       1       0       0       1       0       0      \n",
       "ID_2 0       ⋯ 1       1       1       0       1       0       1       0      \n",
       "ID_3 1       ⋯ 1       1       1       0       0       0       0       0      \n",
       "ID_4 0       ⋯ 0       1       1       0       0       0       0       0      \n",
       "ID_5 0       ⋯ 1       1       0       0       0       1       1       0      \n",
       "ID_6 0       ⋯ 1       2       0       2       0       1       0       0      \n",
       "     SNP_299 SNP_300\n",
       "ID_1 1       1      \n",
       "ID_2 1       0      \n",
       "ID_3 2       0      \n",
       "ID_4 1       1      \n",
       "ID_5 1       0      \n",
       "ID_6 1       1      "
      ]
     },
     "metadata": {},
     "output_type": "display_data"
    }
   ],
   "source": [
    "head(kids[[1]])"
   ]
  },
  {
   "cell_type": "code",
   "execution_count": 89,
   "metadata": {},
   "outputs": [],
   "source": [
    "dkidTrait = data.table(id = rownames(kidTrait), trait = kidTrait[, 1])\n",
    "family = kids[[2]]\n",
    "dkidTrait = merge(dkidTrait, family, by.x = \"id\", by.y = \"kid\")\n",
    "dkidTrait = merge(dkidTrait, dparentTrait[, .(id, tfather = trait)], by.x = \"father\", by.y = \"id\", all.x = TRUE)\n",
    "dkidTrait = merge(dkidTrait, dparentTrait[, .(id, tmother = trait)], by.x = \"mother\", by.y = \"id\", all.x = TRUE)"
   ]
  },
  {
   "cell_type": "code",
   "execution_count": 90,
   "metadata": {},
   "outputs": [
    {
     "data": {
      "text/html": [
       "<table class=\"dataframe\">\n",
       "<caption>A matrix: 3 × 3 of type dbl</caption>\n",
       "<thead>\n",
       "\t<tr><th></th><th scope=col>trait</th><th scope=col>tfather</th><th scope=col>tmother</th></tr>\n",
       "</thead>\n",
       "<tbody>\n",
       "\t<tr><th scope=row>trait</th><td>1.0000000</td><td>0.18313253</td><td>0.15145904</td></tr>\n",
       "\t<tr><th scope=row>tfather</th><td>0.1831325</td><td>1.00000000</td><td>0.01713349</td></tr>\n",
       "\t<tr><th scope=row>tmother</th><td>0.1514590</td><td>0.01713349</td><td>1.00000000</td></tr>\n",
       "</tbody>\n",
       "</table>\n"
      ],
      "text/latex": [
       "A matrix: 3 × 3 of type dbl\n",
       "\\begin{tabular}{r|lll}\n",
       "  & trait & tfather & tmother\\\\\n",
       "\\hline\n",
       "\ttrait & 1.0000000 & 0.18313253 & 0.15145904\\\\\n",
       "\ttfather & 0.1831325 & 1.00000000 & 0.01713349\\\\\n",
       "\ttmother & 0.1514590 & 0.01713349 & 1.00000000\\\\\n",
       "\\end{tabular}\n"
      ],
      "text/markdown": [
       "\n",
       "A matrix: 3 × 3 of type dbl\n",
       "\n",
       "| <!--/--> | trait | tfather | tmother |\n",
       "|---|---|---|---|\n",
       "| trait | 1.0000000 | 0.18313253 | 0.15145904 |\n",
       "| tfather | 0.1831325 | 1.00000000 | 0.01713349 |\n",
       "| tmother | 0.1514590 | 0.01713349 | 1.00000000 |\n",
       "\n"
      ],
      "text/plain": [
       "        trait     tfather    tmother   \n",
       "trait   1.0000000 0.18313253 0.15145904\n",
       "tfather 0.1831325 1.00000000 0.01713349\n",
       "tmother 0.1514590 0.01713349 1.00000000"
      ]
     },
     "metadata": {},
     "output_type": "display_data"
    }
   ],
   "source": [
    "# correlation between phenotypes\n",
    "cor(dkidTrait[, .(trait, tfather, tmother)])"
   ]
  },
  {
   "cell_type": "code",
   "execution_count": 91,
   "metadata": {},
   "outputs": [
    {
     "data": {
      "text/html": [
       "'Genetic part: 0.29'"
      ],
      "text/latex": [
       "'Genetic part: 0.29'"
      ],
      "text/markdown": [
       "'Genetic part: 0.29'"
      ],
      "text/plain": [
       "[1] \"Genetic part: 0.29\""
      ]
     },
     "metadata": {},
     "output_type": "display_data"
    },
    {
     "data": {
      "text/html": [
       "'Noise part: 0.68'"
      ],
      "text/latex": [
       "'Noise part: 0.68'"
      ],
      "text/markdown": [
       "'Noise part: 0.68'"
      ],
      "text/plain": [
       "[1] \"Noise part: 0.68\""
      ]
     },
     "metadata": {},
     "output_type": "display_data"
    }
   ],
   "source": [
    "# variance composition parents\n",
    "paste0(\"Genetic part: \", round(var(parentGComp[, 1] * pgsf)/var(parentTrait[, 1]), 2))\n",
    "paste0(\"Noise part: \", round(var(parentNComp * pnsf) /var(parentTrait[, 1]), 2))"
   ]
  },
  {
   "cell_type": "code",
   "execution_count": 92,
   "metadata": {},
   "outputs": [
    {
     "data": {
      "text/html": [
       "'Genetic part: 0.27'"
      ],
      "text/latex": [
       "'Genetic part: 0.27'"
      ],
      "text/markdown": [
       "'Genetic part: 0.27'"
      ],
      "text/plain": [
       "[1] \"Genetic part: 0.27\""
      ]
     },
     "metadata": {},
     "output_type": "display_data"
    },
    {
     "data": {
      "text/html": [
       "'Noise part: 0.7'"
      ],
      "text/latex": [
       "'Noise part: 0.7'"
      ],
      "text/markdown": [
       "'Noise part: 0.7'"
      ],
      "text/plain": [
       "[1] \"Noise part: 0.7\""
      ]
     },
     "metadata": {},
     "output_type": "display_data"
    }
   ],
   "source": [
    "# variance composition kids\n",
    "paste0(\"Genetic part: \", round(var(kidGComp[, 1] * pgsf)/var(kidTrait[, 1]), 2))\n",
    "paste0(\"Noise part: \", round(var(kidNComp * pnsf) /var(kidTrait[, 1]), 2))"
   ]
  }
 ],
 "metadata": {
  "interpreter": {
   "hash": "e2e428ab9c127afb68bd4bd6fa54439dcad71a6972a08f78f80f785dd2e6f6bf"
  },
  "kernelspec": {
   "display_name": "R",
   "language": "R",
   "name": "ir"
  },
  "language_info": {
   "codemirror_mode": "r",
   "file_extension": ".r",
   "mimetype": "text/x-r-source",
   "name": "R",
   "pygments_lexer": "r",
   "version": "4.1.2"
  },
  "orig_nbformat": 4
 },
 "nbformat": 4,
 "nbformat_minor": 2
}
