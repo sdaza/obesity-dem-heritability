{
 "cells": [
  {
   "cell_type": "markdown",
   "metadata": {},
   "source": [
    "# Simulating phenotypes\n",
    "\n",
    "- Mock example with very small sample size and number of SNPs\n",
    "- Simple example using 2 components (genetic and noise), and bi-allelic SNPs\n",
    "- Frequencies to sample alleles: 0.1, 0.2, 0.3"
   ]
  },
  {
   "cell_type": "markdown",
   "metadata": {},
   "source": [
    "# Functions"
   ]
  },
  {
   "cell_type": "code",
   "execution_count": 388,
   "metadata": {},
   "outputs": [],
   "source": [
    "library(data.table)\n",
    "\n",
    "simGenotype = function(N = 50, nSNP = 30, frequencies = c(0.1, 0.2, 0.4)) {\n",
    "    sps = paste0(\"%0\", nchar(as.character(N)), \"d\")\n",
    "    spsn = paste0(\"%0\", nchar(as.character(nSNP)), \"d\")\n",
    "    \n",
    "    samples = paste0(\"ID_\", sprintf(sps, 1:N))\n",
    "    snps = paste0(\"SNP_\", sprintf(spsn, 1:nSNP))\n",
    "    freq = sample(frequencies, nSNP, replace = TRUE)\n",
    "    X <- sapply(1:nSNP, function(x) rbinom(N, 2, freq[x]))\n",
    "    colnames(X) <- snps\n",
    "    rownames(X) <- samples\n",
    "    return(X)\n",
    "}\n",
    "\n",
    "\n",
    "geneticEffects = function (genotype, causalSNP = 10, mBeta = 0, sdBeta = 1) {\n",
    "    cSNP = sort(sample(colnames(genotype), causalSNP, replace = FALSE))\n",
    "    betas = rnorm(causalSNP, mBeta, sdBeta)\n",
    "    g = colnames(genotype)\n",
    "    effects = rep(0, length(g))\n",
    "    effects[g %in% cSNP] = betas\n",
    "    names(effects) = g\n",
    "    return(effects)\n",
    "}\n",
    "\n",
    "createPairs = function(trait, random_mating = 0.5, groups = 10) {\n",
    "    tt = trait[, .(id, trait)]\n",
    "    tt[, g := cut(trait , quantile(trait, probs = (0:groups)/groups),\n",
    "        labels = FALSE, include.lowest = TRUE)]\n",
    "\n",
    "    pairs = NULL\n",
    "    for (i in 1:nrow(tt)) {\n",
    "        if (nrow(tt) >= 2) {\n",
    "            if (runif(1) < random_mating) {\n",
    "                cc = tt[sample(.N, 2)]$id\n",
    "                tt = tt[!id %in% cc]\n",
    "                pairs = rbind(pairs, as.vector(cc))}\n",
    "            else {\n",
    "                sid = tt[sample(.N, 1)]$id\n",
    "                sg = tt[id == sid]$g\n",
    "                tt = tt[!id %in% sid]\n",
    "                aid = tt[g == sg][sample(.N, 1)]$id\n",
    "                if (length(aid) == 0) { aid = tt[sample(.N, 1)]$id }\n",
    "                tt = tt[!id %in% aid]\n",
    "                pairs = rbind(pairs, c(sid, aid))\n",
    "            }\n",
    "        }\n",
    "    }\n",
    "    return(pairs)\n",
    "}\n",
    "\n",
    "\n",
    "createCouples = function(genotype, trait, random_mating = 0.5) {\n",
    "    temp = rownames(genotype)\n",
    "    pairs = createPairs(trait, random_mating = random_mating)\n",
    "    couples = list()\n",
    "    snps = colnames(genotype)\n",
    "    for (i in 1:nrow(pairs)) {\n",
    "        temp = data.table(t(genotype[pairs[i,], ]))\n",
    "        rownames(temp) = snps \n",
    "        couples[[i]] = temp\n",
    "    }\n",
    "    return(couples)\n",
    "}\n",
    "\n",
    "\n",
    "reproduce = function(couples, nkids = 2) {\n",
    "\n",
    "    # mendelian rules (very important)\n",
    "    m = matrix(c(1, 0, 0, 0.5, 0.5, 0, 0, 1, 0, 0.25, 0.50, 0.25, 0, 0.50, 0.5, 0, 0, 1), \n",
    "        nrow = 6, ncol = 3, byrow  = TRUE)       \n",
    "    colnames(m) = c(0, 1, 2)\n",
    "    rownames(m) = c(\"00\", \"01\", \"02\", \"11\", \"12\", \"22\")\n",
    "    \n",
    "    kids = list()\n",
    "    \n",
    "    family = data.table()\n",
    "    j = 1\n",
    "\n",
    "    for (i in seq_along(couples)) {\n",
    "        for (ii in 1:nkids) {\n",
    "            temp = couples[[i]]\n",
    "            fids = colnames(temp)\n",
    "            temp$k = temp[, apply(.SD, 1, getKidGenotype, matrix = m)]\n",
    "            temp = temp[, .(k)]\n",
    "            setnames(temp, \"k\", paste0(\"ID_\", j))\n",
    "            temp[, snp := rownames(couples[[1]])]\n",
    "            kids[[paste0(i, ii)]] = temp\n",
    "\n",
    "            family = rbind(family, data.table(father = fids[1], mother = fids[2], kid = paste0(\"ID_\", j)))\n",
    "            j = j+1\n",
    "        }\n",
    "    }\n",
    "\n",
    "    kk = Reduce(function(...) merge(...,  by = \"snp\"), kids)\n",
    "    kk[, snp := NULL]\n",
    "    kk = as.matrix(t(kk))\n",
    "    colnames(kk) = rownames(couples[[1]])\n",
    "    return(list(kk, family))\n",
    "}\n",
    "\n",
    "\n",
    "# function to get offspring genotype\n",
    "getKidGenotype = function(values, matrix) {\n",
    "    comba = paste0(values, collapse = \"\")\n",
    "    combb = paste0(rev(values), collapse = \"\")\n",
    "    s = grep(paste0(comba, \"|\", combb), rownames(matrix))\n",
    "    prob = as.vector(matrix[s, ])\n",
    "    return(sample(0:2, size = 1, prob = prob))\n",
    "}\n",
    "\n",
    "\n",
    "simKidTrait = function(kids, ge) {\n",
    "    return(kids[[1]] %*% ge)\n",
    "}\n",
    "\n",
    "\n",
    "getNoiseComponent = function(genotype, mNoise = 0, sdNoise = 1) {\n",
    "    n = nrow(genotype)\n",
    "    return(rnorm(n, mNoise, sdNoise))\n",
    "}\n",
    "\n",
    "\n",
    "rescaleVar = function(component, prop) {\n",
    "    component = as.vector(component) \n",
    "    var_component = var(component)\n",
    "    scale_factor = sqrt(prop/var_component)\n",
    "    return(component * scale_factor)\n",
    "}\n",
    "\n",
    "\n",
    "scalingFactor = function(component, prop) {\n",
    "    component = as.vector(component) \n",
    "    var_component = var(component)\n",
    "    return(sqrt(prop/var_component))\n",
    "}"
   ]
  },
  {
   "cell_type": "markdown",
   "metadata": {},
   "source": [
    "# Initial example\n",
    "- 1000 people\n",
    "- 100 snps\n",
    "- 50 causal"
   ]
  },
  {
   "cell_type": "code",
   "execution_count": 379,
   "metadata": {},
   "outputs": [],
   "source": [
    "gen = 0.3\n",
    "noise = 1 - gen\n",
    "genotype = simGenotype(3000, 300)\n",
    "ge = geneticEffects(genotype, 50, sdBeta = 0.175)\n"
   ]
  },
  {
   "cell_type": "code",
   "execution_count": 383,
   "metadata": {},
   "outputs": [],
   "source": [
    "# print(as.vector(ge))"
   ]
  },
  {
   "cell_type": "code",
   "execution_count": 384,
   "metadata": {},
   "outputs": [],
   "source": [
    "parentGComp = (genotype %*% ge)\n",
    "parentNComp = getNoiseComponent(genotype)"
   ]
  },
  {
   "cell_type": "code",
   "execution_count": 385,
   "metadata": {},
   "outputs": [
    {
     "data": {
      "text/html": [
       "<table class=\"dataframe\">\n",
       "<caption>A matrix: 1 × 1 of type dbl</caption>\n",
       "<tbody>\n",
       "\t<tr><td>0.3192659</td></tr>\n",
       "</tbody>\n",
       "</table>\n"
      ],
      "text/latex": [
       "A matrix: 1 × 1 of type dbl\n",
       "\\begin{tabular}{l}\n",
       "\t 0.3192659\\\\\n",
       "\\end{tabular}\n"
      ],
      "text/markdown": [
       "\n",
       "A matrix: 1 × 1 of type dbl\n",
       "\n",
       "| 0.3192659 |\n",
       "\n"
      ],
      "text/plain": [
       "     [,1]     \n",
       "[1,] 0.3192659"
      ]
     },
     "metadata": {},
     "output_type": "display_data"
    },
    {
     "data": {
      "text/html": [
       "<table class=\"dataframe\">\n",
       "<caption>A matrix: 1 × 1 of type dbl</caption>\n",
       "<tbody>\n",
       "\t<tr><td>0.713052</td></tr>\n",
       "</tbody>\n",
       "</table>\n"
      ],
      "text/latex": [
       "A matrix: 1 × 1 of type dbl\n",
       "\\begin{tabular}{l}\n",
       "\t 0.713052\\\\\n",
       "\\end{tabular}\n"
      ],
      "text/markdown": [
       "\n",
       "A matrix: 1 × 1 of type dbl\n",
       "\n",
       "| 0.713052 |\n",
       "\n"
      ],
      "text/plain": [
       "     [,1]    \n",
       "[1,] 0.713052"
      ]
     },
     "metadata": {},
     "output_type": "display_data"
    }
   ],
   "source": [
    "var(parentGComp) / var(parentGComp + parentNComp)\n",
    "var(parentNComp) / var(parentGComp + parentNComp)"
   ]
  },
  {
   "cell_type": "code",
   "execution_count": null,
   "metadata": {},
   "outputs": [],
   "source": [
    "parentGComp = genotype %*% ge\n",
    "pgsf = scalingFactor(parentGComp, gen)\n",
    "pnsf = scalingFactor(parentNComp, noise)\n",
    "parentTrait = parentGComp * pgsf + parentNComp * pnsf\n",
    "dparentTrait = data.table(id = rownames(parentTrait), trait = parentTrait[, 1])"
   ]
  },
  {
   "cell_type": "code",
   "execution_count": 85,
   "metadata": {},
   "outputs": [
    {
     "data": {
      "text/html": [
       "<table class=\"dataframe\">\n",
       "<caption>A matrix: 6 × 300 of type int</caption>\n",
       "<thead>\n",
       "\t<tr><th></th><th scope=col>SNP_001</th><th scope=col>SNP_002</th><th scope=col>SNP_003</th><th scope=col>SNP_004</th><th scope=col>SNP_005</th><th scope=col>SNP_006</th><th scope=col>SNP_007</th><th scope=col>SNP_008</th><th scope=col>SNP_009</th><th scope=col>SNP_010</th><th scope=col>⋯</th><th scope=col>SNP_291</th><th scope=col>SNP_292</th><th scope=col>SNP_293</th><th scope=col>SNP_294</th><th scope=col>SNP_295</th><th scope=col>SNP_296</th><th scope=col>SNP_297</th><th scope=col>SNP_298</th><th scope=col>SNP_299</th><th scope=col>SNP_300</th></tr>\n",
       "</thead>\n",
       "<tbody>\n",
       "\t<tr><th scope=row>ID_0001</th><td>0</td><td>0</td><td>0</td><td>1</td><td>1</td><td>0</td><td>0</td><td>0</td><td>0</td><td>1</td><td>⋯</td><td>0</td><td>1</td><td>0</td><td>0</td><td>0</td><td>0</td><td>0</td><td>0</td><td>0</td><td>1</td></tr>\n",
       "\t<tr><th scope=row>ID_0002</th><td>1</td><td>0</td><td>0</td><td>1</td><td>0</td><td>1</td><td>0</td><td>0</td><td>0</td><td>1</td><td>⋯</td><td>0</td><td>0</td><td>1</td><td>0</td><td>0</td><td>0</td><td>0</td><td>0</td><td>0</td><td>2</td></tr>\n",
       "\t<tr><th scope=row>ID_0003</th><td>1</td><td>0</td><td>0</td><td>1</td><td>0</td><td>1</td><td>0</td><td>0</td><td>0</td><td>1</td><td>⋯</td><td>1</td><td>1</td><td>0</td><td>0</td><td>1</td><td>0</td><td>0</td><td>0</td><td>2</td><td>0</td></tr>\n",
       "\t<tr><th scope=row>ID_0004</th><td>1</td><td>1</td><td>0</td><td>1</td><td>1</td><td>0</td><td>0</td><td>0</td><td>1</td><td>1</td><td>⋯</td><td>0</td><td>0</td><td>0</td><td>1</td><td>0</td><td>0</td><td>0</td><td>0</td><td>1</td><td>1</td></tr>\n",
       "\t<tr><th scope=row>ID_0005</th><td>2</td><td>1</td><td>0</td><td>2</td><td>1</td><td>2</td><td>1</td><td>0</td><td>1</td><td>0</td><td>⋯</td><td>1</td><td>1</td><td>0</td><td>0</td><td>0</td><td>1</td><td>0</td><td>0</td><td>1</td><td>0</td></tr>\n",
       "\t<tr><th scope=row>ID_0006</th><td>0</td><td>1</td><td>1</td><td>1</td><td>0</td><td>0</td><td>0</td><td>0</td><td>0</td><td>1</td><td>⋯</td><td>0</td><td>2</td><td>0</td><td>0</td><td>0</td><td>0</td><td>1</td><td>0</td><td>1</td><td>1</td></tr>\n",
       "</tbody>\n",
       "</table>\n"
      ],
      "text/latex": [
       "A matrix: 6 × 300 of type int\n",
       "\\begin{tabular}{r|lllllllllllllllllllll}\n",
       "  & SNP\\_001 & SNP\\_002 & SNP\\_003 & SNP\\_004 & SNP\\_005 & SNP\\_006 & SNP\\_007 & SNP\\_008 & SNP\\_009 & SNP\\_010 & ⋯ & SNP\\_291 & SNP\\_292 & SNP\\_293 & SNP\\_294 & SNP\\_295 & SNP\\_296 & SNP\\_297 & SNP\\_298 & SNP\\_299 & SNP\\_300\\\\\n",
       "\\hline\n",
       "\tID\\_0001 & 0 & 0 & 0 & 1 & 1 & 0 & 0 & 0 & 0 & 1 & ⋯ & 0 & 1 & 0 & 0 & 0 & 0 & 0 & 0 & 0 & 1\\\\\n",
       "\tID\\_0002 & 1 & 0 & 0 & 1 & 0 & 1 & 0 & 0 & 0 & 1 & ⋯ & 0 & 0 & 1 & 0 & 0 & 0 & 0 & 0 & 0 & 2\\\\\n",
       "\tID\\_0003 & 1 & 0 & 0 & 1 & 0 & 1 & 0 & 0 & 0 & 1 & ⋯ & 1 & 1 & 0 & 0 & 1 & 0 & 0 & 0 & 2 & 0\\\\\n",
       "\tID\\_0004 & 1 & 1 & 0 & 1 & 1 & 0 & 0 & 0 & 1 & 1 & ⋯ & 0 & 0 & 0 & 1 & 0 & 0 & 0 & 0 & 1 & 1\\\\\n",
       "\tID\\_0005 & 2 & 1 & 0 & 2 & 1 & 2 & 1 & 0 & 1 & 0 & ⋯ & 1 & 1 & 0 & 0 & 0 & 1 & 0 & 0 & 1 & 0\\\\\n",
       "\tID\\_0006 & 0 & 1 & 1 & 1 & 0 & 0 & 0 & 0 & 0 & 1 & ⋯ & 0 & 2 & 0 & 0 & 0 & 0 & 1 & 0 & 1 & 1\\\\\n",
       "\\end{tabular}\n"
      ],
      "text/markdown": [
       "\n",
       "A matrix: 6 × 300 of type int\n",
       "\n",
       "| <!--/--> | SNP_001 | SNP_002 | SNP_003 | SNP_004 | SNP_005 | SNP_006 | SNP_007 | SNP_008 | SNP_009 | SNP_010 | ⋯ | SNP_291 | SNP_292 | SNP_293 | SNP_294 | SNP_295 | SNP_296 | SNP_297 | SNP_298 | SNP_299 | SNP_300 |\n",
       "|---|---|---|---|---|---|---|---|---|---|---|---|---|---|---|---|---|---|---|---|---|---|\n",
       "| ID_0001 | 0 | 0 | 0 | 1 | 1 | 0 | 0 | 0 | 0 | 1 | ⋯ | 0 | 1 | 0 | 0 | 0 | 0 | 0 | 0 | 0 | 1 |\n",
       "| ID_0002 | 1 | 0 | 0 | 1 | 0 | 1 | 0 | 0 | 0 | 1 | ⋯ | 0 | 0 | 1 | 0 | 0 | 0 | 0 | 0 | 0 | 2 |\n",
       "| ID_0003 | 1 | 0 | 0 | 1 | 0 | 1 | 0 | 0 | 0 | 1 | ⋯ | 1 | 1 | 0 | 0 | 1 | 0 | 0 | 0 | 2 | 0 |\n",
       "| ID_0004 | 1 | 1 | 0 | 1 | 1 | 0 | 0 | 0 | 1 | 1 | ⋯ | 0 | 0 | 0 | 1 | 0 | 0 | 0 | 0 | 1 | 1 |\n",
       "| ID_0005 | 2 | 1 | 0 | 2 | 1 | 2 | 1 | 0 | 1 | 0 | ⋯ | 1 | 1 | 0 | 0 | 0 | 1 | 0 | 0 | 1 | 0 |\n",
       "| ID_0006 | 0 | 1 | 1 | 1 | 0 | 0 | 0 | 0 | 0 | 1 | ⋯ | 0 | 2 | 0 | 0 | 0 | 0 | 1 | 0 | 1 | 1 |\n",
       "\n"
      ],
      "text/plain": [
       "        SNP_001 SNP_002 SNP_003 SNP_004 SNP_005 SNP_006 SNP_007 SNP_008 SNP_009\n",
       "ID_0001 0       0       0       1       1       0       0       0       0      \n",
       "ID_0002 1       0       0       1       0       1       0       0       0      \n",
       "ID_0003 1       0       0       1       0       1       0       0       0      \n",
       "ID_0004 1       1       0       1       1       0       0       0       1      \n",
       "ID_0005 2       1       0       2       1       2       1       0       1      \n",
       "ID_0006 0       1       1       1       0       0       0       0       0      \n",
       "        SNP_010 ⋯ SNP_291 SNP_292 SNP_293 SNP_294 SNP_295 SNP_296 SNP_297\n",
       "ID_0001 1       ⋯ 0       1       0       0       0       0       0      \n",
       "ID_0002 1       ⋯ 0       0       1       0       0       0       0      \n",
       "ID_0003 1       ⋯ 1       1       0       0       1       0       0      \n",
       "ID_0004 1       ⋯ 0       0       0       1       0       0       0      \n",
       "ID_0005 0       ⋯ 1       1       0       0       0       1       0      \n",
       "ID_0006 1       ⋯ 0       2       0       0       0       0       1      \n",
       "        SNP_298 SNP_299 SNP_300\n",
       "ID_0001 0       0       1      \n",
       "ID_0002 0       0       2      \n",
       "ID_0003 0       2       0      \n",
       "ID_0004 0       1       1      \n",
       "ID_0005 0       1       0      \n",
       "ID_0006 0       1       1      "
      ]
     },
     "metadata": {},
     "output_type": "display_data"
    }
   ],
   "source": [
    "head(genotype)"
   ]
  },
  {
   "cell_type": "code",
   "execution_count": 88,
   "metadata": {},
   "outputs": [
    {
     "data": {
      "text/html": [
       "<table class=\"dataframe\">\n",
       "<caption>A matrix: 6 × 300 of type int</caption>\n",
       "<thead>\n",
       "\t<tr><th></th><th scope=col>SNP_001</th><th scope=col>SNP_002</th><th scope=col>SNP_003</th><th scope=col>SNP_004</th><th scope=col>SNP_005</th><th scope=col>SNP_006</th><th scope=col>SNP_007</th><th scope=col>SNP_008</th><th scope=col>SNP_009</th><th scope=col>SNP_010</th><th scope=col>⋯</th><th scope=col>SNP_291</th><th scope=col>SNP_292</th><th scope=col>SNP_293</th><th scope=col>SNP_294</th><th scope=col>SNP_295</th><th scope=col>SNP_296</th><th scope=col>SNP_297</th><th scope=col>SNP_298</th><th scope=col>SNP_299</th><th scope=col>SNP_300</th></tr>\n",
       "</thead>\n",
       "<tbody>\n",
       "\t<tr><th scope=row>ID_1</th><td>0</td><td>0</td><td>0</td><td>0</td><td>2</td><td>1</td><td>1</td><td>0</td><td>0</td><td>0</td><td>⋯</td><td>1</td><td>0</td><td>1</td><td>0</td><td>0</td><td>1</td><td>0</td><td>0</td><td>1</td><td>1</td></tr>\n",
       "\t<tr><th scope=row>ID_2</th><td>0</td><td>0</td><td>0</td><td>1</td><td>2</td><td>1</td><td>1</td><td>1</td><td>0</td><td>0</td><td>⋯</td><td>1</td><td>1</td><td>1</td><td>0</td><td>1</td><td>0</td><td>1</td><td>0</td><td>1</td><td>0</td></tr>\n",
       "\t<tr><th scope=row>ID_3</th><td>1</td><td>0</td><td>0</td><td>0</td><td>0</td><td>0</td><td>0</td><td>0</td><td>0</td><td>1</td><td>⋯</td><td>1</td><td>1</td><td>1</td><td>0</td><td>0</td><td>0</td><td>0</td><td>0</td><td>2</td><td>0</td></tr>\n",
       "\t<tr><th scope=row>ID_4</th><td>1</td><td>0</td><td>0</td><td>0</td><td>1</td><td>0</td><td>1</td><td>0</td><td>0</td><td>0</td><td>⋯</td><td>0</td><td>1</td><td>1</td><td>0</td><td>0</td><td>0</td><td>0</td><td>0</td><td>1</td><td>1</td></tr>\n",
       "\t<tr><th scope=row>ID_5</th><td>1</td><td>0</td><td>0</td><td>2</td><td>1</td><td>2</td><td>0</td><td>1</td><td>0</td><td>0</td><td>⋯</td><td>1</td><td>1</td><td>0</td><td>0</td><td>0</td><td>1</td><td>1</td><td>0</td><td>1</td><td>0</td></tr>\n",
       "\t<tr><th scope=row>ID_6</th><td>1</td><td>1</td><td>0</td><td>0</td><td>1</td><td>2</td><td>0</td><td>2</td><td>1</td><td>0</td><td>⋯</td><td>1</td><td>2</td><td>0</td><td>2</td><td>0</td><td>1</td><td>0</td><td>0</td><td>1</td><td>1</td></tr>\n",
       "</tbody>\n",
       "</table>\n"
      ],
      "text/latex": [
       "A matrix: 6 × 300 of type int\n",
       "\\begin{tabular}{r|lllllllllllllllllllll}\n",
       "  & SNP\\_001 & SNP\\_002 & SNP\\_003 & SNP\\_004 & SNP\\_005 & SNP\\_006 & SNP\\_007 & SNP\\_008 & SNP\\_009 & SNP\\_010 & ⋯ & SNP\\_291 & SNP\\_292 & SNP\\_293 & SNP\\_294 & SNP\\_295 & SNP\\_296 & SNP\\_297 & SNP\\_298 & SNP\\_299 & SNP\\_300\\\\\n",
       "\\hline\n",
       "\tID\\_1 & 0 & 0 & 0 & 0 & 2 & 1 & 1 & 0 & 0 & 0 & ⋯ & 1 & 0 & 1 & 0 & 0 & 1 & 0 & 0 & 1 & 1\\\\\n",
       "\tID\\_2 & 0 & 0 & 0 & 1 & 2 & 1 & 1 & 1 & 0 & 0 & ⋯ & 1 & 1 & 1 & 0 & 1 & 0 & 1 & 0 & 1 & 0\\\\\n",
       "\tID\\_3 & 1 & 0 & 0 & 0 & 0 & 0 & 0 & 0 & 0 & 1 & ⋯ & 1 & 1 & 1 & 0 & 0 & 0 & 0 & 0 & 2 & 0\\\\\n",
       "\tID\\_4 & 1 & 0 & 0 & 0 & 1 & 0 & 1 & 0 & 0 & 0 & ⋯ & 0 & 1 & 1 & 0 & 0 & 0 & 0 & 0 & 1 & 1\\\\\n",
       "\tID\\_5 & 1 & 0 & 0 & 2 & 1 & 2 & 0 & 1 & 0 & 0 & ⋯ & 1 & 1 & 0 & 0 & 0 & 1 & 1 & 0 & 1 & 0\\\\\n",
       "\tID\\_6 & 1 & 1 & 0 & 0 & 1 & 2 & 0 & 2 & 1 & 0 & ⋯ & 1 & 2 & 0 & 2 & 0 & 1 & 0 & 0 & 1 & 1\\\\\n",
       "\\end{tabular}\n"
      ],
      "text/markdown": [
       "\n",
       "A matrix: 6 × 300 of type int\n",
       "\n",
       "| <!--/--> | SNP_001 | SNP_002 | SNP_003 | SNP_004 | SNP_005 | SNP_006 | SNP_007 | SNP_008 | SNP_009 | SNP_010 | ⋯ | SNP_291 | SNP_292 | SNP_293 | SNP_294 | SNP_295 | SNP_296 | SNP_297 | SNP_298 | SNP_299 | SNP_300 |\n",
       "|---|---|---|---|---|---|---|---|---|---|---|---|---|---|---|---|---|---|---|---|---|---|\n",
       "| ID_1 | 0 | 0 | 0 | 0 | 2 | 1 | 1 | 0 | 0 | 0 | ⋯ | 1 | 0 | 1 | 0 | 0 | 1 | 0 | 0 | 1 | 1 |\n",
       "| ID_2 | 0 | 0 | 0 | 1 | 2 | 1 | 1 | 1 | 0 | 0 | ⋯ | 1 | 1 | 1 | 0 | 1 | 0 | 1 | 0 | 1 | 0 |\n",
       "| ID_3 | 1 | 0 | 0 | 0 | 0 | 0 | 0 | 0 | 0 | 1 | ⋯ | 1 | 1 | 1 | 0 | 0 | 0 | 0 | 0 | 2 | 0 |\n",
       "| ID_4 | 1 | 0 | 0 | 0 | 1 | 0 | 1 | 0 | 0 | 0 | ⋯ | 0 | 1 | 1 | 0 | 0 | 0 | 0 | 0 | 1 | 1 |\n",
       "| ID_5 | 1 | 0 | 0 | 2 | 1 | 2 | 0 | 1 | 0 | 0 | ⋯ | 1 | 1 | 0 | 0 | 0 | 1 | 1 | 0 | 1 | 0 |\n",
       "| ID_6 | 1 | 1 | 0 | 0 | 1 | 2 | 0 | 2 | 1 | 0 | ⋯ | 1 | 2 | 0 | 2 | 0 | 1 | 0 | 0 | 1 | 1 |\n",
       "\n"
      ],
      "text/plain": [
       "     SNP_001 SNP_002 SNP_003 SNP_004 SNP_005 SNP_006 SNP_007 SNP_008 SNP_009\n",
       "ID_1 0       0       0       0       2       1       1       0       0      \n",
       "ID_2 0       0       0       1       2       1       1       1       0      \n",
       "ID_3 1       0       0       0       0       0       0       0       0      \n",
       "ID_4 1       0       0       0       1       0       1       0       0      \n",
       "ID_5 1       0       0       2       1       2       0       1       0      \n",
       "ID_6 1       1       0       0       1       2       0       2       1      \n",
       "     SNP_010 ⋯ SNP_291 SNP_292 SNP_293 SNP_294 SNP_295 SNP_296 SNP_297 SNP_298\n",
       "ID_1 0       ⋯ 1       0       1       0       0       1       0       0      \n",
       "ID_2 0       ⋯ 1       1       1       0       1       0       1       0      \n",
       "ID_3 1       ⋯ 1       1       1       0       0       0       0       0      \n",
       "ID_4 0       ⋯ 0       1       1       0       0       0       0       0      \n",
       "ID_5 0       ⋯ 1       1       0       0       0       1       1       0      \n",
       "ID_6 0       ⋯ 1       2       0       2       0       1       0       0      \n",
       "     SNP_299 SNP_300\n",
       "ID_1 1       1      \n",
       "ID_2 1       0      \n",
       "ID_3 2       0      \n",
       "ID_4 1       1      \n",
       "ID_5 1       0      \n",
       "ID_6 1       1      "
      ]
     },
     "metadata": {},
     "output_type": "display_data"
    }
   ],
   "source": [
    "head(kids[[1]])"
   ]
  },
  {
   "cell_type": "code",
   "execution_count": 90,
   "metadata": {},
   "outputs": [
    {
     "data": {
      "text/html": [
       "<table class=\"dataframe\">\n",
       "<caption>A matrix: 3 × 3 of type dbl</caption>\n",
       "<thead>\n",
       "\t<tr><th></th><th scope=col>trait</th><th scope=col>tfather</th><th scope=col>tmother</th></tr>\n",
       "</thead>\n",
       "<tbody>\n",
       "\t<tr><th scope=row>trait</th><td>1.0000000</td><td>0.18313253</td><td>0.15145904</td></tr>\n",
       "\t<tr><th scope=row>tfather</th><td>0.1831325</td><td>1.00000000</td><td>0.01713349</td></tr>\n",
       "\t<tr><th scope=row>tmother</th><td>0.1514590</td><td>0.01713349</td><td>1.00000000</td></tr>\n",
       "</tbody>\n",
       "</table>\n"
      ],
      "text/latex": [
       "A matrix: 3 × 3 of type dbl\n",
       "\\begin{tabular}{r|lll}\n",
       "  & trait & tfather & tmother\\\\\n",
       "\\hline\n",
       "\ttrait & 1.0000000 & 0.18313253 & 0.15145904\\\\\n",
       "\ttfather & 0.1831325 & 1.00000000 & 0.01713349\\\\\n",
       "\ttmother & 0.1514590 & 0.01713349 & 1.00000000\\\\\n",
       "\\end{tabular}\n"
      ],
      "text/markdown": [
       "\n",
       "A matrix: 3 × 3 of type dbl\n",
       "\n",
       "| <!--/--> | trait | tfather | tmother |\n",
       "|---|---|---|---|\n",
       "| trait | 1.0000000 | 0.18313253 | 0.15145904 |\n",
       "| tfather | 0.1831325 | 1.00000000 | 0.01713349 |\n",
       "| tmother | 0.1514590 | 0.01713349 | 1.00000000 |\n",
       "\n"
      ],
      "text/plain": [
       "        trait     tfather    tmother   \n",
       "trait   1.0000000 0.18313253 0.15145904\n",
       "tfather 0.1831325 1.00000000 0.01713349\n",
       "tmother 0.1514590 0.01713349 1.00000000"
      ]
     },
     "metadata": {},
     "output_type": "display_data"
    }
   ],
   "source": [
    "# correlation between phenotypes\n",
    "cor(dkidTrait[, .(trait, tfather, tmother)])"
   ]
  },
  {
   "cell_type": "code",
   "execution_count": 91,
   "metadata": {},
   "outputs": [
    {
     "data": {
      "text/html": [
       "'Genetic part: 0.29'"
      ],
      "text/latex": [
       "'Genetic part: 0.29'"
      ],
      "text/markdown": [
       "'Genetic part: 0.29'"
      ],
      "text/plain": [
       "[1] \"Genetic part: 0.29\""
      ]
     },
     "metadata": {},
     "output_type": "display_data"
    },
    {
     "data": {
      "text/html": [
       "'Noise part: 0.68'"
      ],
      "text/latex": [
       "'Noise part: 0.68'"
      ],
      "text/markdown": [
       "'Noise part: 0.68'"
      ],
      "text/plain": [
       "[1] \"Noise part: 0.68\""
      ]
     },
     "metadata": {},
     "output_type": "display_data"
    }
   ],
   "source": [
    "# variance composition parents\n",
    "paste0(\"Genetic part: \", round(var(parentGComp[, 1] * pgsf)/var(parentTrait[, 1]), 2))\n",
    "paste0(\"Noise part: \", round(var(parentNComp * pnsf) /var(parentTrait[, 1]), 2))"
   ]
  },
  {
   "cell_type": "code",
   "execution_count": 92,
   "metadata": {},
   "outputs": [
    {
     "data": {
      "text/html": [
       "'Genetic part: 0.27'"
      ],
      "text/latex": [
       "'Genetic part: 0.27'"
      ],
      "text/markdown": [
       "'Genetic part: 0.27'"
      ],
      "text/plain": [
       "[1] \"Genetic part: 0.27\""
      ]
     },
     "metadata": {},
     "output_type": "display_data"
    },
    {
     "data": {
      "text/html": [
       "'Noise part: 0.7'"
      ],
      "text/latex": [
       "'Noise part: 0.7'"
      ],
      "text/markdown": [
       "'Noise part: 0.7'"
      ],
      "text/plain": [
       "[1] \"Noise part: 0.7\""
      ]
     },
     "metadata": {},
     "output_type": "display_data"
    }
   ],
   "source": [
    "# variance composition kids\n",
    "paste0(\"Genetic part: \", round(var(kidGComp[, 1] * pgsf)/var(kidTrait[, 1]), 2))\n",
    "paste0(\"Noise part: \", round(var(kidNComp * pnsf) /var(kidTrait[, 1]), 2))"
   ]
  },
  {
   "cell_type": "markdown",
   "metadata": {},
   "source": [
    "# Several generations"
   ]
  },
  {
   "cell_type": "code",
   "execution_count": 414,
   "metadata": {},
   "outputs": [],
   "source": [
    "# function to create several generations\n",
    "# very inefficient function\n",
    "createGenerations = function(nGen = 3, N = 1000, nSNP = 100, causalSNP = 50, genVar = 0.3, \n",
    "    genotype = NULL, effects = NULL, random_mating = 1) {\n",
    "    noise = 1 - genVar\n",
    "    if (is.null(genotype)) { genotype = simGenotype(N, nSNP) }\n",
    "    if (is.null(effects)) { effects = geneticEffects(genotype, causalSNP, sdBeta = 0.175) }\n",
    "    print(table(ge[ge != 0] > 0))\n",
    "    traits = list()\n",
    "\n",
    "    parentGComp = genotype %*% effects\n",
    "    parentNComp = getNoiseComponent(genotype)\n",
    "\n",
    "    #pgsf = scalingFactor(parentGComp, gen)\n",
    "    #pnsf = scalingFactor(parentNComp, noise)\n",
    "    # parentTrait = parentGComp * pgsf + parentNComp * pnsf\n",
    "    parentTrait = parentGComp + parentNComp \n",
    "    dparentTrait = data.table(id = rownames(parentTrait), trait = parentTrait[, 1])\n",
    "    \n",
    "    kids = NULL\n",
    "    for (i in 1:nGen) {\n",
    "        print(paste0(\"::::::: creating generation: \", i))\n",
    "        if (i == 1) {\n",
    "            couples = createCouples(genotype, dparentTrait, random_mating = random_mating)\n",
    "            kids = reproduce(couples)\n",
    "            # genetic part\n",
    "            kidGComp = kids[[1]] %*%  effects\n",
    "            # noise part\n",
    "            kidNComp = getNoiseComponent(kids[[1]])\n",
    "            # trait\n",
    "            #kidTrait = kidGComp * pgsf + kidNComp * pnsf\n",
    "            kidTrait = kidGComp + kidNComp\n",
    "            dkidTrait = data.table(id = rownames(kidTrait), trait = kidTrait[, 1])\n",
    "            # merge traits\n",
    "            family = kids[[2]]\n",
    "            dkidTrait = merge(dkidTrait, family, by.x = \"id\", by.y = \"kid\")\n",
    "            dkidTrait = merge(dkidTrait, dparentTrait[, .(id, father_trait = trait)], by.x = \"father\", by.y = \"id\", all.x = TRUE)\n",
    "            dkidTrait = merge(dkidTrait, dparentTrait[, .(id, mother_trait = trait)], by.x = \"mother\", by.y = \"id\", all.x = TRUE)\n",
    "            traits[[i]] = dkidTrait\n",
    "        } else {\n",
    "            couples = createCouples(kids[[1]], dkidTrait, random_mating = random_mating)\n",
    "            kids = reproduce(couples)\n",
    "            dparentTrait = dkidTrait\n",
    "            # genetic part\n",
    "            kidGComp = kids[[1]] %*%  effects\n",
    "            # noise part\n",
    "            kidNComp = getNoiseComponent(kids[[1]])\n",
    "            # trait\n",
    "            #kidTrait = kidGComp * pgsf + kidNComp * pnsf\n",
    "            kidTrait = kidGComp + kidNComp\n",
    "            dkidTrait = data.table(id = rownames(kidTrait), trait = kidTrait[, 1])\n",
    "            # merge traits\n",
    "            family = kids[[2]]\n",
    "            dkidTrait = merge(dkidTrait, family, by.x = \"id\", by.y = \"kid\")\n",
    "            dkidTrait = merge(dkidTrait, dparentTrait[, .(id, father_trait = trait)], by.x = \"father\", by.y = \"id\", all.x = TRUE)\n",
    "            dkidTrait = merge(dkidTrait, dparentTrait[, .(id, mother_trait = trait)], by.x = \"mother\", by.y = \"id\", all.x = TRUE)\n",
    "            traits[[i]] = dkidTrait\n",
    "        }   \n",
    "    }\n",
    "    return(rbindlist(traits, idcol = \"generation\"))\n",
    "}"
   ]
  },
  {
   "cell_type": "markdown",
   "metadata": {},
   "source": [
    "# Some assortative mating"
   ]
  },
  {
   "cell_type": "code",
   "execution_count": 430,
   "metadata": {},
   "outputs": [],
   "source": [
    "gen = 0.3\n",
    "noise = 1 - gen\n",
    "genotype = simGenotype(1000, 200)\n",
    "ge = geneticEffects(genotype, 50, sdBeta = 0.175)"
   ]
  },
  {
   "cell_type": "code",
   "execution_count": 431,
   "metadata": {},
   "outputs": [
    {
     "data": {
      "text/plain": [
       "\n",
       "FALSE  TRUE \n",
       "  0.4   0.6 "
      ]
     },
     "metadata": {},
     "output_type": "display_data"
    }
   ],
   "source": [
    "prop.table(table(ge[ge != 0] > 0))"
   ]
  },
  {
   "cell_type": "code",
   "execution_count": 441,
   "metadata": {},
   "outputs": [
    {
     "name": "stdout",
     "output_type": "stream",
     "text": [
      "\n",
      "FALSE  TRUE \n",
      "   20    30 \n",
      "[1] \"::::::: creating generation: 1\"\n",
      "[1] \"::::::: creating generation: 2\"\n",
      "[1] \"::::::: creating generation: 3\"\n",
      "[1] \"::::::: creating generation: 4\"\n",
      "[1] \"::::::: creating generation: 5\"\n",
      "[1] \"::::::: creating generation: 6\"\n",
      "[1] \"::::::: creating generation: 7\"\n",
      "[1] \"::::::: creating generation: 8\"\n",
      "[1] \"::::::: creating generation: 9\"\n",
      "[1] \"::::::: creating generation: 10\"\n",
      "[1] \"::::::: creating generation: 11\"\n",
      "[1] \"::::::: creating generation: 12\"\n",
      "[1] \"::::::: creating generation: 13\"\n",
      "[1] \"::::::: creating generation: 14\"\n",
      "[1] \"::::::: creating generation: 15\"\n",
      "[1] \"::::::: creating generation: 16\"\n",
      "[1] \"::::::: creating generation: 17\"\n",
      "[1] \"::::::: creating generation: 18\"\n",
      "[1] \"::::::: creating generation: 19\"\n",
      "[1] \"::::::: creating generation: 20\"\n",
      "[1] \"::::::: creating generation: 21\"\n",
      "[1] \"::::::: creating generation: 22\"\n",
      "[1] \"::::::: creating generation: 23\"\n",
      "[1] \"::::::: creating generation: 24\"\n",
      "[1] \"::::::: creating generation: 25\"\n",
      "[1] \"::::::: creating generation: 26\"\n",
      "[1] \"::::::: creating generation: 27\"\n",
      "[1] \"::::::: creating generation: 28\"\n",
      "[1] \"::::::: creating generation: 29\"\n",
      "[1] \"::::::: creating generation: 30\"\n"
     ]
    }
   ],
   "source": [
    "tt = createGenerations(nGen = 30, genotype = genotype, effects = ge, random_mating = 0.80)"
   ]
  },
  {
   "cell_type": "code",
   "execution_count": 442,
   "metadata": {},
   "outputs": [
    {
     "data": {
      "text/html": [
       "<table class=\"dataframe\">\n",
       "<caption>A data.table: 30 × 6</caption>\n",
       "<thead>\n",
       "\t<tr><th scope=col>generation</th><th scope=col>average</th><th scope=col>sd</th><th scope=col>cor_kid_father</th><th scope=col>cor_kid_mother</th><th scope=col>cor_father_mother</th></tr>\n",
       "\t<tr><th scope=col>&lt;int&gt;</th><th scope=col>&lt;dbl&gt;</th><th scope=col>&lt;dbl&gt;</th><th scope=col>&lt;dbl&gt;</th><th scope=col>&lt;dbl&gt;</th><th scope=col>&lt;dbl&gt;</th></tr>\n",
       "</thead>\n",
       "<tbody>\n",
       "\t<tr><td> 1</td><td>1.155146</td><td>1.282206</td><td>0.2457442</td><td>0.2423351</td><td>0.31084228</td></tr>\n",
       "\t<tr><td> 2</td><td>1.160075</td><td>1.307275</td><td>0.2882298</td><td>0.2138097</td><td>0.13983862</td></tr>\n",
       "\t<tr><td> 3</td><td>1.154918</td><td>1.294242</td><td>0.2219991</td><td>0.2679698</td><td>0.15652406</td></tr>\n",
       "\t<tr><td> 4</td><td>1.116471</td><td>1.277785</td><td>0.3008681</td><td>0.2668567</td><td>0.30452406</td></tr>\n",
       "\t<tr><td> 5</td><td>1.141831</td><td>1.292848</td><td>0.1969512</td><td>0.1692692</td><td>0.19844335</td></tr>\n",
       "\t<tr><td> 6</td><td>1.233925</td><td>1.285306</td><td>0.2350891</td><td>0.2510906</td><td>0.08398452</td></tr>\n",
       "\t<tr><td> 7</td><td>1.263636</td><td>1.280787</td><td>0.2784071</td><td>0.2555901</td><td>0.23733049</td></tr>\n",
       "\t<tr><td> 8</td><td>1.277833</td><td>1.264917</td><td>0.2365755</td><td>0.2252336</td><td>0.15794876</td></tr>\n",
       "\t<tr><td> 9</td><td>1.197425</td><td>1.293795</td><td>0.2091419</td><td>0.1763515</td><td>0.14318484</td></tr>\n",
       "\t<tr><td>10</td><td>1.207784</td><td>1.270801</td><td>0.1913731</td><td>0.2569558</td><td>0.23075811</td></tr>\n",
       "\t<tr><td>11</td><td>1.246729</td><td>1.260222</td><td>0.1698046</td><td>0.2032403</td><td>0.09735780</td></tr>\n",
       "\t<tr><td>12</td><td>1.240337</td><td>1.217868</td><td>0.2366773</td><td>0.2088764</td><td>0.18928213</td></tr>\n",
       "\t<tr><td>13</td><td>1.256589</td><td>1.264789</td><td>0.2445534</td><td>0.2214516</td><td>0.27404915</td></tr>\n",
       "\t<tr><td>14</td><td>1.191987</td><td>1.330077</td><td>0.2362494</td><td>0.3048616</td><td>0.18004747</td></tr>\n",
       "\t<tr><td>15</td><td>1.179843</td><td>1.316848</td><td>0.2270652</td><td>0.2844513</td><td>0.13370718</td></tr>\n",
       "\t<tr><td>16</td><td>1.234860</td><td>1.312766</td><td>0.2539941</td><td>0.2038140</td><td>0.18171978</td></tr>\n",
       "\t<tr><td>17</td><td>1.248017</td><td>1.248083</td><td>0.3148937</td><td>0.2238388</td><td>0.14593621</td></tr>\n",
       "\t<tr><td>18</td><td>1.180005</td><td>1.292343</td><td>0.2470157</td><td>0.2577332</td><td>0.20814838</td></tr>\n",
       "\t<tr><td>19</td><td>1.239188</td><td>1.251518</td><td>0.2927685</td><td>0.2381625</td><td>0.21627916</td></tr>\n",
       "\t<tr><td>20</td><td>1.209984</td><td>1.329725</td><td>0.2339807</td><td>0.2495516</td><td>0.19792202</td></tr>\n",
       "\t<tr><td>21</td><td>1.144580</td><td>1.295561</td><td>0.2485788</td><td>0.2177068</td><td>0.13605012</td></tr>\n",
       "\t<tr><td>22</td><td>1.160240</td><td>1.232287</td><td>0.1879068</td><td>0.2461271</td><td>0.11338595</td></tr>\n",
       "\t<tr><td>23</td><td>1.138585</td><td>1.239141</td><td>0.2070005</td><td>0.2339301</td><td>0.20656209</td></tr>\n",
       "\t<tr><td>24</td><td>1.161578</td><td>1.256597</td><td>0.2256017</td><td>0.2566328</td><td>0.15384393</td></tr>\n",
       "\t<tr><td>25</td><td>1.198233</td><td>1.271872</td><td>0.1960855</td><td>0.1680725</td><td>0.21329955</td></tr>\n",
       "\t<tr><td>26</td><td>1.217713</td><td>1.278267</td><td>0.1769137</td><td>0.2460079</td><td>0.16591505</td></tr>\n",
       "\t<tr><td>27</td><td>1.235564</td><td>1.273834</td><td>0.2615982</td><td>0.1918205</td><td>0.13227362</td></tr>\n",
       "\t<tr><td>28</td><td>1.225127</td><td>1.250606</td><td>0.2313918</td><td>0.2370521</td><td>0.19525881</td></tr>\n",
       "\t<tr><td>29</td><td>1.126303</td><td>1.342388</td><td>0.2003143</td><td>0.2206397</td><td>0.12900034</td></tr>\n",
       "\t<tr><td>30</td><td>1.235132</td><td>1.303766</td><td>0.2827831</td><td>0.2365564</td><td>0.13178207</td></tr>\n",
       "</tbody>\n",
       "</table>\n"
      ],
      "text/latex": [
       "A data.table: 30 × 6\n",
       "\\begin{tabular}{llllll}\n",
       " generation & average & sd & cor\\_kid\\_father & cor\\_kid\\_mother & cor\\_father\\_mother\\\\\n",
       " <int> & <dbl> & <dbl> & <dbl> & <dbl> & <dbl>\\\\\n",
       "\\hline\n",
       "\t  1 & 1.155146 & 1.282206 & 0.2457442 & 0.2423351 & 0.31084228\\\\\n",
       "\t  2 & 1.160075 & 1.307275 & 0.2882298 & 0.2138097 & 0.13983862\\\\\n",
       "\t  3 & 1.154918 & 1.294242 & 0.2219991 & 0.2679698 & 0.15652406\\\\\n",
       "\t  4 & 1.116471 & 1.277785 & 0.3008681 & 0.2668567 & 0.30452406\\\\\n",
       "\t  5 & 1.141831 & 1.292848 & 0.1969512 & 0.1692692 & 0.19844335\\\\\n",
       "\t  6 & 1.233925 & 1.285306 & 0.2350891 & 0.2510906 & 0.08398452\\\\\n",
       "\t  7 & 1.263636 & 1.280787 & 0.2784071 & 0.2555901 & 0.23733049\\\\\n",
       "\t  8 & 1.277833 & 1.264917 & 0.2365755 & 0.2252336 & 0.15794876\\\\\n",
       "\t  9 & 1.197425 & 1.293795 & 0.2091419 & 0.1763515 & 0.14318484\\\\\n",
       "\t 10 & 1.207784 & 1.270801 & 0.1913731 & 0.2569558 & 0.23075811\\\\\n",
       "\t 11 & 1.246729 & 1.260222 & 0.1698046 & 0.2032403 & 0.09735780\\\\\n",
       "\t 12 & 1.240337 & 1.217868 & 0.2366773 & 0.2088764 & 0.18928213\\\\\n",
       "\t 13 & 1.256589 & 1.264789 & 0.2445534 & 0.2214516 & 0.27404915\\\\\n",
       "\t 14 & 1.191987 & 1.330077 & 0.2362494 & 0.3048616 & 0.18004747\\\\\n",
       "\t 15 & 1.179843 & 1.316848 & 0.2270652 & 0.2844513 & 0.13370718\\\\\n",
       "\t 16 & 1.234860 & 1.312766 & 0.2539941 & 0.2038140 & 0.18171978\\\\\n",
       "\t 17 & 1.248017 & 1.248083 & 0.3148937 & 0.2238388 & 0.14593621\\\\\n",
       "\t 18 & 1.180005 & 1.292343 & 0.2470157 & 0.2577332 & 0.20814838\\\\\n",
       "\t 19 & 1.239188 & 1.251518 & 0.2927685 & 0.2381625 & 0.21627916\\\\\n",
       "\t 20 & 1.209984 & 1.329725 & 0.2339807 & 0.2495516 & 0.19792202\\\\\n",
       "\t 21 & 1.144580 & 1.295561 & 0.2485788 & 0.2177068 & 0.13605012\\\\\n",
       "\t 22 & 1.160240 & 1.232287 & 0.1879068 & 0.2461271 & 0.11338595\\\\\n",
       "\t 23 & 1.138585 & 1.239141 & 0.2070005 & 0.2339301 & 0.20656209\\\\\n",
       "\t 24 & 1.161578 & 1.256597 & 0.2256017 & 0.2566328 & 0.15384393\\\\\n",
       "\t 25 & 1.198233 & 1.271872 & 0.1960855 & 0.1680725 & 0.21329955\\\\\n",
       "\t 26 & 1.217713 & 1.278267 & 0.1769137 & 0.2460079 & 0.16591505\\\\\n",
       "\t 27 & 1.235564 & 1.273834 & 0.2615982 & 0.1918205 & 0.13227362\\\\\n",
       "\t 28 & 1.225127 & 1.250606 & 0.2313918 & 0.2370521 & 0.19525881\\\\\n",
       "\t 29 & 1.126303 & 1.342388 & 0.2003143 & 0.2206397 & 0.12900034\\\\\n",
       "\t 30 & 1.235132 & 1.303766 & 0.2827831 & 0.2365564 & 0.13178207\\\\\n",
       "\\end{tabular}\n"
      ],
      "text/markdown": [
       "\n",
       "A data.table: 30 × 6\n",
       "\n",
       "| generation &lt;int&gt; | average &lt;dbl&gt; | sd &lt;dbl&gt; | cor_kid_father &lt;dbl&gt; | cor_kid_mother &lt;dbl&gt; | cor_father_mother &lt;dbl&gt; |\n",
       "|---|---|---|---|---|---|\n",
       "|  1 | 1.155146 | 1.282206 | 0.2457442 | 0.2423351 | 0.31084228 |\n",
       "|  2 | 1.160075 | 1.307275 | 0.2882298 | 0.2138097 | 0.13983862 |\n",
       "|  3 | 1.154918 | 1.294242 | 0.2219991 | 0.2679698 | 0.15652406 |\n",
       "|  4 | 1.116471 | 1.277785 | 0.3008681 | 0.2668567 | 0.30452406 |\n",
       "|  5 | 1.141831 | 1.292848 | 0.1969512 | 0.1692692 | 0.19844335 |\n",
       "|  6 | 1.233925 | 1.285306 | 0.2350891 | 0.2510906 | 0.08398452 |\n",
       "|  7 | 1.263636 | 1.280787 | 0.2784071 | 0.2555901 | 0.23733049 |\n",
       "|  8 | 1.277833 | 1.264917 | 0.2365755 | 0.2252336 | 0.15794876 |\n",
       "|  9 | 1.197425 | 1.293795 | 0.2091419 | 0.1763515 | 0.14318484 |\n",
       "| 10 | 1.207784 | 1.270801 | 0.1913731 | 0.2569558 | 0.23075811 |\n",
       "| 11 | 1.246729 | 1.260222 | 0.1698046 | 0.2032403 | 0.09735780 |\n",
       "| 12 | 1.240337 | 1.217868 | 0.2366773 | 0.2088764 | 0.18928213 |\n",
       "| 13 | 1.256589 | 1.264789 | 0.2445534 | 0.2214516 | 0.27404915 |\n",
       "| 14 | 1.191987 | 1.330077 | 0.2362494 | 0.3048616 | 0.18004747 |\n",
       "| 15 | 1.179843 | 1.316848 | 0.2270652 | 0.2844513 | 0.13370718 |\n",
       "| 16 | 1.234860 | 1.312766 | 0.2539941 | 0.2038140 | 0.18171978 |\n",
       "| 17 | 1.248017 | 1.248083 | 0.3148937 | 0.2238388 | 0.14593621 |\n",
       "| 18 | 1.180005 | 1.292343 | 0.2470157 | 0.2577332 | 0.20814838 |\n",
       "| 19 | 1.239188 | 1.251518 | 0.2927685 | 0.2381625 | 0.21627916 |\n",
       "| 20 | 1.209984 | 1.329725 | 0.2339807 | 0.2495516 | 0.19792202 |\n",
       "| 21 | 1.144580 | 1.295561 | 0.2485788 | 0.2177068 | 0.13605012 |\n",
       "| 22 | 1.160240 | 1.232287 | 0.1879068 | 0.2461271 | 0.11338595 |\n",
       "| 23 | 1.138585 | 1.239141 | 0.2070005 | 0.2339301 | 0.20656209 |\n",
       "| 24 | 1.161578 | 1.256597 | 0.2256017 | 0.2566328 | 0.15384393 |\n",
       "| 25 | 1.198233 | 1.271872 | 0.1960855 | 0.1680725 | 0.21329955 |\n",
       "| 26 | 1.217713 | 1.278267 | 0.1769137 | 0.2460079 | 0.16591505 |\n",
       "| 27 | 1.235564 | 1.273834 | 0.2615982 | 0.1918205 | 0.13227362 |\n",
       "| 28 | 1.225127 | 1.250606 | 0.2313918 | 0.2370521 | 0.19525881 |\n",
       "| 29 | 1.126303 | 1.342388 | 0.2003143 | 0.2206397 | 0.12900034 |\n",
       "| 30 | 1.235132 | 1.303766 | 0.2827831 | 0.2365564 | 0.13178207 |\n",
       "\n"
      ],
      "text/plain": [
       "   generation average  sd       cor_kid_father cor_kid_mother cor_father_mother\n",
       "1   1         1.155146 1.282206 0.2457442      0.2423351      0.31084228       \n",
       "2   2         1.160075 1.307275 0.2882298      0.2138097      0.13983862       \n",
       "3   3         1.154918 1.294242 0.2219991      0.2679698      0.15652406       \n",
       "4   4         1.116471 1.277785 0.3008681      0.2668567      0.30452406       \n",
       "5   5         1.141831 1.292848 0.1969512      0.1692692      0.19844335       \n",
       "6   6         1.233925 1.285306 0.2350891      0.2510906      0.08398452       \n",
       "7   7         1.263636 1.280787 0.2784071      0.2555901      0.23733049       \n",
       "8   8         1.277833 1.264917 0.2365755      0.2252336      0.15794876       \n",
       "9   9         1.197425 1.293795 0.2091419      0.1763515      0.14318484       \n",
       "10 10         1.207784 1.270801 0.1913731      0.2569558      0.23075811       \n",
       "11 11         1.246729 1.260222 0.1698046      0.2032403      0.09735780       \n",
       "12 12         1.240337 1.217868 0.2366773      0.2088764      0.18928213       \n",
       "13 13         1.256589 1.264789 0.2445534      0.2214516      0.27404915       \n",
       "14 14         1.191987 1.330077 0.2362494      0.3048616      0.18004747       \n",
       "15 15         1.179843 1.316848 0.2270652      0.2844513      0.13370718       \n",
       "16 16         1.234860 1.312766 0.2539941      0.2038140      0.18171978       \n",
       "17 17         1.248017 1.248083 0.3148937      0.2238388      0.14593621       \n",
       "18 18         1.180005 1.292343 0.2470157      0.2577332      0.20814838       \n",
       "19 19         1.239188 1.251518 0.2927685      0.2381625      0.21627916       \n",
       "20 20         1.209984 1.329725 0.2339807      0.2495516      0.19792202       \n",
       "21 21         1.144580 1.295561 0.2485788      0.2177068      0.13605012       \n",
       "22 22         1.160240 1.232287 0.1879068      0.2461271      0.11338595       \n",
       "23 23         1.138585 1.239141 0.2070005      0.2339301      0.20656209       \n",
       "24 24         1.161578 1.256597 0.2256017      0.2566328      0.15384393       \n",
       "25 25         1.198233 1.271872 0.1960855      0.1680725      0.21329955       \n",
       "26 26         1.217713 1.278267 0.1769137      0.2460079      0.16591505       \n",
       "27 27         1.235564 1.273834 0.2615982      0.1918205      0.13227362       \n",
       "28 28         1.225127 1.250606 0.2313918      0.2370521      0.19525881       \n",
       "29 29         1.126303 1.342388 0.2003143      0.2206397      0.12900034       \n",
       "30 30         1.235132 1.303766 0.2827831      0.2365564      0.13178207       "
      ]
     },
     "metadata": {},
     "output_type": "display_data"
    }
   ],
   "source": [
    "dtt = tt[, .(average = mean(trait), \n",
    "    sd = sd(trait),\n",
    "    cor_kid_father = cor(trait, father_trait), \n",
    "    cor_kid_mother = cor(trait, mother_trait), \n",
    "    cor_father_mother = cor(father_trait, mother_trait)), generation]\n",
    "dtt"
   ]
  },
  {
   "cell_type": "code",
   "execution_count": 443,
   "metadata": {},
   "outputs": [
    {
     "data": {
      "image/png": "[encoded data removed]",
      "text/plain": [
       "Plot with title “Histogram of tt$trait”"
      ]
     },
     "metadata": {
      "image/png": {
       "height": 420,
       "width": 420
      }
     },
     "output_type": "display_data"
    }
   ],
   "source": [
    "hist(tt$trait)"
   ]
  },
  {
   "cell_type": "markdown",
   "metadata": {},
   "source": [
    "# Random mating\n",
    "\n",
    "There seems to be issues with the scaling."
   ]
  },
  {
   "cell_type": "code",
   "execution_count": 444,
   "metadata": {},
   "outputs": [
    {
     "name": "stdout",
     "output_type": "stream",
     "text": [
      "\n",
      "FALSE  TRUE \n",
      "   20    30 \n",
      "[1] \"::::::: creating generation: 1\"\n",
      "[1] \"::::::: creating generation: 2\"\n",
      "[1] \"::::::: creating generation: 3\"\n",
      "[1] \"::::::: creating generation: 4\"\n",
      "[1] \"::::::: creating generation: 5\"\n",
      "[1] \"::::::: creating generation: 6\"\n",
      "[1] \"::::::: creating generation: 7\"\n",
      "[1] \"::::::: creating generation: 8\"\n",
      "[1] \"::::::: creating generation: 9\"\n",
      "[1] \"::::::: creating generation: 10\"\n",
      "[1] \"::::::: creating generation: 11\"\n",
      "[1] \"::::::: creating generation: 12\"\n",
      "[1] \"::::::: creating generation: 13\"\n",
      "[1] \"::::::: creating generation: 14\"\n",
      "[1] \"::::::: creating generation: 15\"\n",
      "[1] \"::::::: creating generation: 16\"\n",
      "[1] \"::::::: creating generation: 17\"\n",
      "[1] \"::::::: creating generation: 18\"\n",
      "[1] \"::::::: creating generation: 19\"\n",
      "[1] \"::::::: creating generation: 20\"\n",
      "[1] \"::::::: creating generation: 21\"\n",
      "[1] \"::::::: creating generation: 22\"\n",
      "[1] \"::::::: creating generation: 23\"\n",
      "[1] \"::::::: creating generation: 24\"\n",
      "[1] \"::::::: creating generation: 25\"\n",
      "[1] \"::::::: creating generation: 26\"\n",
      "[1] \"::::::: creating generation: 27\"\n",
      "[1] \"::::::: creating generation: 28\"\n",
      "[1] \"::::::: creating generation: 29\"\n",
      "[1] \"::::::: creating generation: 30\"\n"
     ]
    }
   ],
   "source": [
    "cc = createGenerations(nGen = 30, genotype = genotype, effects = ge, random_mating = 1.0)"
   ]
  },
  {
   "cell_type": "code",
   "execution_count": 445,
   "metadata": {},
   "outputs": [
    {
     "data": {
      "text/html": [
       "<table class=\"dataframe\">\n",
       "<caption>A data.table: 30 × 6</caption>\n",
       "<thead>\n",
       "\t<tr><th scope=col>generation</th><th scope=col>average</th><th scope=col>sd</th><th scope=col>cor_kid_father</th><th scope=col>cor_kid_mother</th><th scope=col>cor_father_mother</th></tr>\n",
       "\t<tr><th scope=col>&lt;int&gt;</th><th scope=col>&lt;dbl&gt;</th><th scope=col>&lt;dbl&gt;</th><th scope=col>&lt;dbl&gt;</th><th scope=col>&lt;dbl&gt;</th><th scope=col>&lt;dbl&gt;</th></tr>\n",
       "</thead>\n",
       "<tbody>\n",
       "\t<tr><td> 1</td><td>1.133469</td><td>1.280992</td><td>0.2094650</td><td>0.1767724</td><td> 0.0077005045</td></tr>\n",
       "\t<tr><td> 2</td><td>1.159201</td><td>1.259338</td><td>0.2208825</td><td>0.2168109</td><td>-0.0597746167</td></tr>\n",
       "\t<tr><td> 3</td><td>1.128385</td><td>1.284331</td><td>0.1554042</td><td>0.2098005</td><td>-0.0127529152</td></tr>\n",
       "\t<tr><td> 4</td><td>1.092859</td><td>1.315847</td><td>0.2122855</td><td>0.2643635</td><td>-0.0195151114</td></tr>\n",
       "\t<tr><td> 5</td><td>1.045543</td><td>1.275029</td><td>0.2133591</td><td>0.2088947</td><td> 0.0157504448</td></tr>\n",
       "\t<tr><td> 6</td><td>1.091707</td><td>1.294651</td><td>0.1546631</td><td>0.1905424</td><td>-0.0849780122</td></tr>\n",
       "\t<tr><td> 7</td><td>1.101938</td><td>1.281856</td><td>0.1949146</td><td>0.2037451</td><td> 0.0026857017</td></tr>\n",
       "\t<tr><td> 8</td><td>1.080910</td><td>1.293322</td><td>0.1922613</td><td>0.2044802</td><td>-0.0589101351</td></tr>\n",
       "\t<tr><td> 9</td><td>1.074337</td><td>1.252413</td><td>0.2022943</td><td>0.2882389</td><td> 0.0211631843</td></tr>\n",
       "\t<tr><td>10</td><td>1.092926</td><td>1.289385</td><td>0.1264158</td><td>0.1927892</td><td>-0.0861791076</td></tr>\n",
       "\t<tr><td>11</td><td>1.147452</td><td>1.237712</td><td>0.1909383</td><td>0.1902882</td><td>-0.0696522051</td></tr>\n",
       "\t<tr><td>12</td><td>1.081272</td><td>1.293140</td><td>0.2179401</td><td>0.1388911</td><td>-0.0659401544</td></tr>\n",
       "\t<tr><td>13</td><td>1.084242</td><td>1.272917</td><td>0.1655479</td><td>0.1659498</td><td> 0.0044086431</td></tr>\n",
       "\t<tr><td>14</td><td>1.050202</td><td>1.274043</td><td>0.2160766</td><td>0.1093846</td><td> 0.0322057260</td></tr>\n",
       "\t<tr><td>15</td><td>1.041536</td><td>1.254288</td><td>0.1802609</td><td>0.2002455</td><td>-0.0382497363</td></tr>\n",
       "\t<tr><td>16</td><td>1.118065</td><td>1.239602</td><td>0.2198426</td><td>0.1480195</td><td> 0.0651588095</td></tr>\n",
       "\t<tr><td>17</td><td>1.080328</td><td>1.294988</td><td>0.1850586</td><td>0.1512726</td><td>-0.0609920349</td></tr>\n",
       "\t<tr><td>18</td><td>1.134225</td><td>1.315509</td><td>0.1899859</td><td>0.2001359</td><td>-0.0030994215</td></tr>\n",
       "\t<tr><td>19</td><td>1.125877</td><td>1.278321</td><td>0.1742421</td><td>0.1904243</td><td>-0.0245811622</td></tr>\n",
       "\t<tr><td>20</td><td>1.189021</td><td>1.279119</td><td>0.2275661</td><td>0.2140317</td><td> 0.0670050438</td></tr>\n",
       "\t<tr><td>21</td><td>1.152868</td><td>1.288073</td><td>0.2174512</td><td>0.2005115</td><td>-0.0006144365</td></tr>\n",
       "\t<tr><td>22</td><td>1.059361</td><td>1.243580</td><td>0.1941164</td><td>0.1636140</td><td>-0.0606132140</td></tr>\n",
       "\t<tr><td>23</td><td>1.112248</td><td>1.255215</td><td>0.1884922</td><td>0.2345794</td><td>-0.0070806415</td></tr>\n",
       "\t<tr><td>24</td><td>1.099668</td><td>1.286845</td><td>0.1488313</td><td>0.1634080</td><td>-0.0273356652</td></tr>\n",
       "\t<tr><td>25</td><td>1.138299</td><td>1.296411</td><td>0.1595907</td><td>0.2176112</td><td>-0.0389423129</td></tr>\n",
       "\t<tr><td>26</td><td>1.140085</td><td>1.271477</td><td>0.1607543</td><td>0.1809390</td><td> 0.0185270145</td></tr>\n",
       "\t<tr><td>27</td><td>1.118663</td><td>1.253816</td><td>0.1721561</td><td>0.1632208</td><td> 0.0097131505</td></tr>\n",
       "\t<tr><td>28</td><td>1.099612</td><td>1.189135</td><td>0.1632312</td><td>0.2144976</td><td> 0.0074870976</td></tr>\n",
       "\t<tr><td>29</td><td>1.132249</td><td>1.244784</td><td>0.2055688</td><td>0.1869252</td><td> 0.0722537581</td></tr>\n",
       "\t<tr><td>30</td><td>1.111142</td><td>1.257585</td><td>0.1850322</td><td>0.2039400</td><td>-0.0087843833</td></tr>\n",
       "</tbody>\n",
       "</table>\n"
      ],
      "text/latex": [
       "A data.table: 30 × 6\n",
       "\\begin{tabular}{llllll}\n",
       " generation & average & sd & cor\\_kid\\_father & cor\\_kid\\_mother & cor\\_father\\_mother\\\\\n",
       " <int> & <dbl> & <dbl> & <dbl> & <dbl> & <dbl>\\\\\n",
       "\\hline\n",
       "\t  1 & 1.133469 & 1.280992 & 0.2094650 & 0.1767724 &  0.0077005045\\\\\n",
       "\t  2 & 1.159201 & 1.259338 & 0.2208825 & 0.2168109 & -0.0597746167\\\\\n",
       "\t  3 & 1.128385 & 1.284331 & 0.1554042 & 0.2098005 & -0.0127529152\\\\\n",
       "\t  4 & 1.092859 & 1.315847 & 0.2122855 & 0.2643635 & -0.0195151114\\\\\n",
       "\t  5 & 1.045543 & 1.275029 & 0.2133591 & 0.2088947 &  0.0157504448\\\\\n",
       "\t  6 & 1.091707 & 1.294651 & 0.1546631 & 0.1905424 & -0.0849780122\\\\\n",
       "\t  7 & 1.101938 & 1.281856 & 0.1949146 & 0.2037451 &  0.0026857017\\\\\n",
       "\t  8 & 1.080910 & 1.293322 & 0.1922613 & 0.2044802 & -0.0589101351\\\\\n",
       "\t  9 & 1.074337 & 1.252413 & 0.2022943 & 0.2882389 &  0.0211631843\\\\\n",
       "\t 10 & 1.092926 & 1.289385 & 0.1264158 & 0.1927892 & -0.0861791076\\\\\n",
       "\t 11 & 1.147452 & 1.237712 & 0.1909383 & 0.1902882 & -0.0696522051\\\\\n",
       "\t 12 & 1.081272 & 1.293140 & 0.2179401 & 0.1388911 & -0.0659401544\\\\\n",
       "\t 13 & 1.084242 & 1.272917 & 0.1655479 & 0.1659498 &  0.0044086431\\\\\n",
       "\t 14 & 1.050202 & 1.274043 & 0.2160766 & 0.1093846 &  0.0322057260\\\\\n",
       "\t 15 & 1.041536 & 1.254288 & 0.1802609 & 0.2002455 & -0.0382497363\\\\\n",
       "\t 16 & 1.118065 & 1.239602 & 0.2198426 & 0.1480195 &  0.0651588095\\\\\n",
       "\t 17 & 1.080328 & 1.294988 & 0.1850586 & 0.1512726 & -0.0609920349\\\\\n",
       "\t 18 & 1.134225 & 1.315509 & 0.1899859 & 0.2001359 & -0.0030994215\\\\\n",
       "\t 19 & 1.125877 & 1.278321 & 0.1742421 & 0.1904243 & -0.0245811622\\\\\n",
       "\t 20 & 1.189021 & 1.279119 & 0.2275661 & 0.2140317 &  0.0670050438\\\\\n",
       "\t 21 & 1.152868 & 1.288073 & 0.2174512 & 0.2005115 & -0.0006144365\\\\\n",
       "\t 22 & 1.059361 & 1.243580 & 0.1941164 & 0.1636140 & -0.0606132140\\\\\n",
       "\t 23 & 1.112248 & 1.255215 & 0.1884922 & 0.2345794 & -0.0070806415\\\\\n",
       "\t 24 & 1.099668 & 1.286845 & 0.1488313 & 0.1634080 & -0.0273356652\\\\\n",
       "\t 25 & 1.138299 & 1.296411 & 0.1595907 & 0.2176112 & -0.0389423129\\\\\n",
       "\t 26 & 1.140085 & 1.271477 & 0.1607543 & 0.1809390 &  0.0185270145\\\\\n",
       "\t 27 & 1.118663 & 1.253816 & 0.1721561 & 0.1632208 &  0.0097131505\\\\\n",
       "\t 28 & 1.099612 & 1.189135 & 0.1632312 & 0.2144976 &  0.0074870976\\\\\n",
       "\t 29 & 1.132249 & 1.244784 & 0.2055688 & 0.1869252 &  0.0722537581\\\\\n",
       "\t 30 & 1.111142 & 1.257585 & 0.1850322 & 0.2039400 & -0.0087843833\\\\\n",
       "\\end{tabular}\n"
      ],
      "text/markdown": [
       "\n",
       "A data.table: 30 × 6\n",
       "\n",
       "| generation &lt;int&gt; | average &lt;dbl&gt; | sd &lt;dbl&gt; | cor_kid_father &lt;dbl&gt; | cor_kid_mother &lt;dbl&gt; | cor_father_mother &lt;dbl&gt; |\n",
       "|---|---|---|---|---|---|\n",
       "|  1 | 1.133469 | 1.280992 | 0.2094650 | 0.1767724 |  0.0077005045 |\n",
       "|  2 | 1.159201 | 1.259338 | 0.2208825 | 0.2168109 | -0.0597746167 |\n",
       "|  3 | 1.128385 | 1.284331 | 0.1554042 | 0.2098005 | -0.0127529152 |\n",
       "|  4 | 1.092859 | 1.315847 | 0.2122855 | 0.2643635 | -0.0195151114 |\n",
       "|  5 | 1.045543 | 1.275029 | 0.2133591 | 0.2088947 |  0.0157504448 |\n",
       "|  6 | 1.091707 | 1.294651 | 0.1546631 | 0.1905424 | -0.0849780122 |\n",
       "|  7 | 1.101938 | 1.281856 | 0.1949146 | 0.2037451 |  0.0026857017 |\n",
       "|  8 | 1.080910 | 1.293322 | 0.1922613 | 0.2044802 | -0.0589101351 |\n",
       "|  9 | 1.074337 | 1.252413 | 0.2022943 | 0.2882389 |  0.0211631843 |\n",
       "| 10 | 1.092926 | 1.289385 | 0.1264158 | 0.1927892 | -0.0861791076 |\n",
       "| 11 | 1.147452 | 1.237712 | 0.1909383 | 0.1902882 | -0.0696522051 |\n",
       "| 12 | 1.081272 | 1.293140 | 0.2179401 | 0.1388911 | -0.0659401544 |\n",
       "| 13 | 1.084242 | 1.272917 | 0.1655479 | 0.1659498 |  0.0044086431 |\n",
       "| 14 | 1.050202 | 1.274043 | 0.2160766 | 0.1093846 |  0.0322057260 |\n",
       "| 15 | 1.041536 | 1.254288 | 0.1802609 | 0.2002455 | -0.0382497363 |\n",
       "| 16 | 1.118065 | 1.239602 | 0.2198426 | 0.1480195 |  0.0651588095 |\n",
       "| 17 | 1.080328 | 1.294988 | 0.1850586 | 0.1512726 | -0.0609920349 |\n",
       "| 18 | 1.134225 | 1.315509 | 0.1899859 | 0.2001359 | -0.0030994215 |\n",
       "| 19 | 1.125877 | 1.278321 | 0.1742421 | 0.1904243 | -0.0245811622 |\n",
       "| 20 | 1.189021 | 1.279119 | 0.2275661 | 0.2140317 |  0.0670050438 |\n",
       "| 21 | 1.152868 | 1.288073 | 0.2174512 | 0.2005115 | -0.0006144365 |\n",
       "| 22 | 1.059361 | 1.243580 | 0.1941164 | 0.1636140 | -0.0606132140 |\n",
       "| 23 | 1.112248 | 1.255215 | 0.1884922 | 0.2345794 | -0.0070806415 |\n",
       "| 24 | 1.099668 | 1.286845 | 0.1488313 | 0.1634080 | -0.0273356652 |\n",
       "| 25 | 1.138299 | 1.296411 | 0.1595907 | 0.2176112 | -0.0389423129 |\n",
       "| 26 | 1.140085 | 1.271477 | 0.1607543 | 0.1809390 |  0.0185270145 |\n",
       "| 27 | 1.118663 | 1.253816 | 0.1721561 | 0.1632208 |  0.0097131505 |\n",
       "| 28 | 1.099612 | 1.189135 | 0.1632312 | 0.2144976 |  0.0074870976 |\n",
       "| 29 | 1.132249 | 1.244784 | 0.2055688 | 0.1869252 |  0.0722537581 |\n",
       "| 30 | 1.111142 | 1.257585 | 0.1850322 | 0.2039400 | -0.0087843833 |\n",
       "\n"
      ],
      "text/plain": [
       "   generation average  sd       cor_kid_father cor_kid_mother cor_father_mother\n",
       "1   1         1.133469 1.280992 0.2094650      0.1767724       0.0077005045    \n",
       "2   2         1.159201 1.259338 0.2208825      0.2168109      -0.0597746167    \n",
       "3   3         1.128385 1.284331 0.1554042      0.2098005      -0.0127529152    \n",
       "4   4         1.092859 1.315847 0.2122855      0.2643635      -0.0195151114    \n",
       "5   5         1.045543 1.275029 0.2133591      0.2088947       0.0157504448    \n",
       "6   6         1.091707 1.294651 0.1546631      0.1905424      -0.0849780122    \n",
       "7   7         1.101938 1.281856 0.1949146      0.2037451       0.0026857017    \n",
       "8   8         1.080910 1.293322 0.1922613      0.2044802      -0.0589101351    \n",
       "9   9         1.074337 1.252413 0.2022943      0.2882389       0.0211631843    \n",
       "10 10         1.092926 1.289385 0.1264158      0.1927892      -0.0861791076    \n",
       "11 11         1.147452 1.237712 0.1909383      0.1902882      -0.0696522051    \n",
       "12 12         1.081272 1.293140 0.2179401      0.1388911      -0.0659401544    \n",
       "13 13         1.084242 1.272917 0.1655479      0.1659498       0.0044086431    \n",
       "14 14         1.050202 1.274043 0.2160766      0.1093846       0.0322057260    \n",
       "15 15         1.041536 1.254288 0.1802609      0.2002455      -0.0382497363    \n",
       "16 16         1.118065 1.239602 0.2198426      0.1480195       0.0651588095    \n",
       "17 17         1.080328 1.294988 0.1850586      0.1512726      -0.0609920349    \n",
       "18 18         1.134225 1.315509 0.1899859      0.2001359      -0.0030994215    \n",
       "19 19         1.125877 1.278321 0.1742421      0.1904243      -0.0245811622    \n",
       "20 20         1.189021 1.279119 0.2275661      0.2140317       0.0670050438    \n",
       "21 21         1.152868 1.288073 0.2174512      0.2005115      -0.0006144365    \n",
       "22 22         1.059361 1.243580 0.1941164      0.1636140      -0.0606132140    \n",
       "23 23         1.112248 1.255215 0.1884922      0.2345794      -0.0070806415    \n",
       "24 24         1.099668 1.286845 0.1488313      0.1634080      -0.0273356652    \n",
       "25 25         1.138299 1.296411 0.1595907      0.2176112      -0.0389423129    \n",
       "26 26         1.140085 1.271477 0.1607543      0.1809390       0.0185270145    \n",
       "27 27         1.118663 1.253816 0.1721561      0.1632208       0.0097131505    \n",
       "28 28         1.099612 1.189135 0.1632312      0.2144976       0.0074870976    \n",
       "29 29         1.132249 1.244784 0.2055688      0.1869252       0.0722537581    \n",
       "30 30         1.111142 1.257585 0.1850322      0.2039400      -0.0087843833    "
      ]
     },
     "metadata": {},
     "output_type": "display_data"
    }
   ],
   "source": [
    "dcc = cc[, .(average = mean(trait), \n",
    "    sd = sd(trait),\n",
    "    cor_kid_father = cor(trait, father_trait), \n",
    "    cor_kid_mother = cor(trait, mother_trait), \n",
    "    cor_father_mother = cor(father_trait, mother_trait)), generation]\n",
    "dcc"
   ]
  },
  {
   "cell_type": "code",
   "execution_count": 450,
   "metadata": {},
   "outputs": [
    {
     "data": {
      "image/png": "[encoded data removed]",
      "text/plain": [
       "Plot with title “Histogram of cc$trait”"
      ]
     },
     "metadata": {
      "image/png": {
       "height": 420,
       "width": 420
      }
     },
     "output_type": "display_data"
    }
   ],
   "source": [
    "hist(cc$trait)"
   ]
  },
  {
   "cell_type": "code",
   "execution_count": 447,
   "metadata": {},
   "outputs": [
    {
     "data": {
      "text/html": [
       "1.25758489515648"
      ],
      "text/latex": [
       "1.25758489515648"
      ],
      "text/markdown": [
       "1.25758489515648"
      ],
      "text/plain": [
       "[1] 1.257585"
      ]
     },
     "metadata": {},
     "output_type": "display_data"
    },
    {
     "data": {
      "text/html": [
       "1.30376614490514"
      ],
      "text/latex": [
       "1.30376614490514"
      ],
      "text/markdown": [
       "1.30376614490514"
      ],
      "text/plain": [
       "[1] 1.303766"
      ]
     },
     "metadata": {},
     "output_type": "display_data"
    }
   ],
   "source": [
    "sd(cc[generation == 30, trait])\n",
    "sd(tt[generation == 30, trait])"
   ]
  },
  {
   "cell_type": "code",
   "execution_count": 449,
   "metadata": {},
   "outputs": [
    {
     "data": {
      "text/plain": [
       "   Min. 1st Qu.  Median    Mean 3rd Qu.    Max. \n",
       "-3.4628  0.3096  1.0736  1.1111  1.9668  4.8060 "
      ]
     },
     "metadata": {},
     "output_type": "display_data"
    },
    {
     "data": {
      "text/plain": [
       "   Min. 1st Qu.  Median    Mean 3rd Qu.    Max. \n",
       " -2.546   0.375   1.246   1.235   2.107   6.590 "
      ]
     },
     "metadata": {},
     "output_type": "display_data"
    }
   ],
   "source": [
    "summary(cc[generation == 30, trait])\n",
    "summary(tt[generation == 30, trait])"
   ]
  }
 ],
 "metadata": {
  "interpreter": {
   "hash": "e2e428ab9c127afb68bd4bd6fa54439dcad71a6972a08f78f80f785dd2e6f6bf"
  },
  "kernelspec": {
   "display_name": "R",
   "language": "R",
   "name": "ir"
  },
  "language_info": {
   "codemirror_mode": "r",
   "file_extension": ".r",
   "mimetype": "text/x-r-source",
   "name": "R",
   "pygments_lexer": "r",
   "version": "4.1.2"
  },
  "orig_nbformat": 4
 },
 "nbformat": 4,
 "nbformat_minor": 2
}
