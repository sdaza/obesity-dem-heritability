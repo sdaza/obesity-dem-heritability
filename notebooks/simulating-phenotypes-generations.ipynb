{
 "cells": [
  {
   "cell_type": "markdown",
   "metadata": {},
   "source": [
    "# Simulating phenotypes\n",
    "\n",
    "- Mock example with very small sample size and number of SNPs\n",
    "- Simple example using 2 components (genetic and noise), and bi-allelic SNPs\n",
    "- Frequencies to sample alleles: 0.1, 0.2, 0.3"
   ]
  },
  {
   "cell_type": "code",
   "execution_count": 168,
   "metadata": {},
   "outputs": [],
   "source": [
    "# load libraries\n",
    "library(data.table)"
   ]
  },
  {
   "cell_type": "code",
   "execution_count": 344,
   "metadata": {},
   "outputs": [],
   "source": []
  },
  {
   "cell_type": "code",
   "execution_count": 345,
   "metadata": {},
   "outputs": [],
   "source": [
    "simGenotype = function(N = 50, nSNP = 30, frequencies = c(0.1, 0.2, 0.4)) {\n",
    "    sps = paste0(\"%0\", nchar(as.character(N)), \"d\")\n",
    "    spsn = paste0(\"%0\", nchar(as.character(nSNP)), \"d\")\n",
    "    \n",
    "    samples = paste0(\"ID_\", sprintf(sps, 1:N))\n",
    "    snps = paste0(\"SNP_\", sprintf(spsn, 1:nSNP))\n",
    "    freq = sample(frequencies, nSNP, replace = TRUE)\n",
    "    X <- sapply(1:nSNP, function(x) rbinom(N, 2, freq[x]))\n",
    "    colnames(X) <- snps\n",
    "    rownames(X) <- samples\n",
    "    return(X)\n",
    "}\n",
    "\n",
    "\n",
    "geneticEffects = function (genotype, causalSNP = 10, mBeta = 0, sdBeta = 1) \n",
    "{\n",
    "    cSNP = sort(sample(colnames(genotype), causalSNP, replace = FALSE))\n",
    "    betas = rnorm(causalSNP, mBeta, sdBeta)\n",
    "    g = colnames(genotype)\n",
    "    effects = rep(0, length(g))\n",
    "    effects[g %in% cSNP] = betas\n",
    "    names(effects) = g\n",
    "    return(effects)\n",
    "}\n",
    "\n",
    "\n",
    "createCouples = function(genotype) {\n",
    "    temp = rownames(genotype)\n",
    "    pairs = NULL\n",
    "        for (i in seq_along(ids)) {\n",
    "            if (length(temp) > 0) {\n",
    "            e = sample(temp, 1)\n",
    "            temp = temp[!temp %in% e]\n",
    "            a = sample(temp, 1)\n",
    "            temp = temp[!temp %in% a]\n",
    "            pairs = rbind(pairs, c(e, a))\n",
    "        } else {\n",
    "            break\n",
    "        }\n",
    "    }\n",
    "\n",
    "    couples = list()\n",
    "    snps = colnames(genotype)\n",
    "    for (i in 1:nrow(pairs)) {\n",
    "        temp = data.table(t(genotype[pairs[i,], ]))\n",
    "        rownames(temp) = snps \n",
    "        couples[[i]] = temp\n",
    "    }\n",
    "    return(couples)\n",
    "}\n",
    "\n",
    "reproduce = function(couples, nkids = 2) {\n",
    "\n",
    "    # mendelian rules\n",
    "    m = matrix(c(1, 0, 0, 0.5, 0.5, 0, 0, 1, 0, 0.25, 0.50, 0.25, 0, 0.50, 0.5, 0, 0, 1), \n",
    "        nrow = 6, ncol = 3, byrow  = TRUE\n",
    "    )       \n",
    "    colnames(m) = c(0, 1, 2)\n",
    "    rownames(m) = c(\"00\", \"01\", \"02\", \"11\", \"12\", \"22\")\n",
    "    \n",
    "    kids = list()\n",
    "    \n",
    "    family = data.table()\n",
    "    j = 1\n",
    "\n",
    "    for (i in seq_along(couples)) {\n",
    "        for (ii in 1:nkids) {\n",
    "            temp = couples[[i]]\n",
    "            fids = colnames(temp)\n",
    "            temp$k = temp[, apply(.SD, 1, getKidGenotype, matrix = m)]\n",
    "            temp = temp[, .(k)]\n",
    "            setnames(temp, \"k\", paste0(\"ID_\", j))\n",
    "            temp[, snp := rownames(couples[[1]])]\n",
    "            kids[[paste0(i, ii)]] = temp\n",
    "\n",
    "            family = rbind(family, data.table(father = fids[1], mother = fids[2], kid = paste0(\"ID_\", j)))\n",
    "            j = j+1\n",
    "        }\n",
    "}\n",
    "    kk = Reduce(function(...) merge(...,  by = \"snp\"), kids)\n",
    "    kk[, snp := NULL]\n",
    "    kk = as.matrix(t(kk))\n",
    "    colnames(kk) = rownames(couples[[1]])\n",
    "    return(list(kk, family))\n",
    "\n",
    "}\n",
    "\n",
    "\n",
    "# function to get offspring genotype\n",
    "getKidGenotype = function(values, matrix) {\n",
    "    comba = paste0(values, collapse = \"\")\n",
    "    combb = paste0(rev(values), collapse = \"\")\n",
    "    s = grep(paste0(comba, \"|\", combb), rownames(matrix))\n",
    "    prob = as.vector(matrix[s, ])\n",
    "    return(sample(0:2, size = 1, prob = prob))\n",
    "}\n",
    "\n",
    "simKidTrait = function(kids, ge) {\n",
    "    return(kids[[1]] %*% ge)\n",
    "}\n",
    "\n",
    "getNoiseComponent = function(genotype, mNoise = 0, sdNoise = 1) {\n",
    "    n = nrow(genotype)\n",
    "    return(rnorm(n, mNoise, sdNoise))\n",
    "}\n",
    "\n",
    "rescaleVar = function(component, prop) {\n",
    "    component = as.vector(component) \n",
    "    var_component = var(component)\n",
    "    scale_factor = sqrt(prop/var_component)\n",
    "    return(component * scale_factor)\n",
    "}\n",
    "\n",
    "scalingFactor = function(component, prop) {\n",
    "    component = as.vector(component) \n",
    "    var_component = var(component)\n",
    "    return(sqrt(prop/var_component))\n",
    "}\n"
   ]
  },
  {
   "cell_type": "code",
   "execution_count": 361,
   "metadata": {},
   "outputs": [],
   "source": [
    "gen = 0.3\n",
    "noise = 1 - gen\n",
    "\n",
    "genotype = simGenotype(1000, 50)\n",
    "ge = geneticEffects(genotype)\n",
    "parentGComp = genotype %*% ge\n",
    "parentNComp = getNoiseComponent(genotype)\n",
    "\n",
    "pgsf = scalingFactor(parentGComp, gen)\n",
    "pnsf = scalingFactor(parentNComp, noise)\n",
    "parentTrait = parentGComp * pgsf + parentNComp * pnsf\n"
   ]
  },
  {
   "cell_type": "code",
   "execution_count": 379,
   "metadata": {},
   "outputs": [],
   "source": [
    "dparentTrait = data.table(id = rownames(parentTrait), trait = parentTrait[, 1])"
   ]
  },
  {
   "cell_type": "code",
   "execution_count": 372,
   "metadata": {},
   "outputs": [],
   "source": [
    "couples = createCouples(genotype)\n",
    "kids = reproduce(couples)"
   ]
  },
  {
   "cell_type": "code",
   "execution_count": 373,
   "metadata": {},
   "outputs": [],
   "source": [
    "kidGComp = kids[[1]] %*%  ge\n",
    "kidNComp = getNoiseComponent(kids[[1]])\n",
    "kidTrait = kidGComp * pgsf + kidNComp * pnsf"
   ]
  },
  {
   "cell_type": "code",
   "execution_count": 409,
   "metadata": {},
   "outputs": [],
   "source": [
    "dkidTrait = data.table(id = rownames(kidTrait), trait = kidTrait[, 1])"
   ]
  },
  {
   "cell_type": "code",
   "execution_count": 410,
   "metadata": {},
   "outputs": [
    {
     "data": {
      "text/html": [
       "<table class=\"dataframe\">\n",
       "<caption>A data.table: 6 × 2</caption>\n",
       "<thead>\n",
       "\t<tr><th scope=col>id</th><th scope=col>trait</th></tr>\n",
       "\t<tr><th scope=col>&lt;chr&gt;</th><th scope=col>&lt;dbl&gt;</th></tr>\n",
       "</thead>\n",
       "<tbody>\n",
       "\t<tr><td>ID_1</td><td>0.10013859</td></tr>\n",
       "\t<tr><td>ID_2</td><td>0.25888747</td></tr>\n",
       "\t<tr><td>ID_3</td><td>0.75735890</td></tr>\n",
       "\t<tr><td>ID_4</td><td>0.01589459</td></tr>\n",
       "\t<tr><td>ID_5</td><td>1.18199695</td></tr>\n",
       "\t<tr><td>ID_6</td><td>0.32450443</td></tr>\n",
       "</tbody>\n",
       "</table>\n"
      ],
      "text/latex": [
       "A data.table: 6 × 2\n",
       "\\begin{tabular}{ll}\n",
       " id & trait\\\\\n",
       " <chr> & <dbl>\\\\\n",
       "\\hline\n",
       "\t ID\\_1 & 0.10013859\\\\\n",
       "\t ID\\_2 & 0.25888747\\\\\n",
       "\t ID\\_3 & 0.75735890\\\\\n",
       "\t ID\\_4 & 0.01589459\\\\\n",
       "\t ID\\_5 & 1.18199695\\\\\n",
       "\t ID\\_6 & 0.32450443\\\\\n",
       "\\end{tabular}\n"
      ],
      "text/markdown": [
       "\n",
       "A data.table: 6 × 2\n",
       "\n",
       "| id &lt;chr&gt; | trait &lt;dbl&gt; |\n",
       "|---|---|\n",
       "| ID_1 | 0.10013859 |\n",
       "| ID_2 | 0.25888747 |\n",
       "| ID_3 | 0.75735890 |\n",
       "| ID_4 | 0.01589459 |\n",
       "| ID_5 | 1.18199695 |\n",
       "| ID_6 | 0.32450443 |\n",
       "\n"
      ],
      "text/plain": [
       "  id   trait     \n",
       "1 ID_1 0.10013859\n",
       "2 ID_2 0.25888747\n",
       "3 ID_3 0.75735890\n",
       "4 ID_4 0.01589459\n",
       "5 ID_5 1.18199695\n",
       "6 ID_6 0.32450443"
      ]
     },
     "metadata": {},
     "output_type": "display_data"
    }
   ],
   "source": [
    "head(dkidTrait)"
   ]
  },
  {
   "cell_type": "code",
   "execution_count": 411,
   "metadata": {},
   "outputs": [],
   "source": [
    "family = kids[[2]]"
   ]
  },
  {
   "cell_type": "code",
   "execution_count": 412,
   "metadata": {},
   "outputs": [],
   "source": [
    "dkidTrait = merge(dkidTrait, family, by.x = \"id\", by.y = \"kid\")"
   ]
  },
  {
   "cell_type": "code",
   "execution_count": 413,
   "metadata": {},
   "outputs": [],
   "source": [
    "dkidTrait = merge(dkidTrait, dparentTrait[, .(id, tfather = trait)], by.x = \"father\", by.y = \"id\", all.x = TRUE)\n",
    "dkidTrait = merge(dkidTrait, dparentTrait[, .(id, tmother = trait)], by.x = \"mother\", by.y = \"id\", all.x = TRUE)"
   ]
  },
  {
   "cell_type": "code",
   "execution_count": 415,
   "metadata": {},
   "outputs": [
    {
     "data": {
      "text/html": [
       "<table class=\"dataframe\">\n",
       "<caption>A matrix: 3 × 3 of type dbl</caption>\n",
       "<thead>\n",
       "\t<tr><th></th><th scope=col>trait</th><th scope=col>tfather</th><th scope=col>tmother</th></tr>\n",
       "</thead>\n",
       "<tbody>\n",
       "\t<tr><th scope=row>trait</th><td>1.0000000</td><td>0.14539667</td><td>0.12722615</td></tr>\n",
       "\t<tr><th scope=row>tfather</th><td>0.1453967</td><td>1.00000000</td><td>0.03631034</td></tr>\n",
       "\t<tr><th scope=row>tmother</th><td>0.1272261</td><td>0.03631034</td><td>1.00000000</td></tr>\n",
       "</tbody>\n",
       "</table>\n"
      ],
      "text/latex": [
       "A matrix: 3 × 3 of type dbl\n",
       "\\begin{tabular}{r|lll}\n",
       "  & trait & tfather & tmother\\\\\n",
       "\\hline\n",
       "\ttrait & 1.0000000 & 0.14539667 & 0.12722615\\\\\n",
       "\ttfather & 0.1453967 & 1.00000000 & 0.03631034\\\\\n",
       "\ttmother & 0.1272261 & 0.03631034 & 1.00000000\\\\\n",
       "\\end{tabular}\n"
      ],
      "text/markdown": [
       "\n",
       "A matrix: 3 × 3 of type dbl\n",
       "\n",
       "| <!--/--> | trait | tfather | tmother |\n",
       "|---|---|---|---|\n",
       "| trait | 1.0000000 | 0.14539667 | 0.12722615 |\n",
       "| tfather | 0.1453967 | 1.00000000 | 0.03631034 |\n",
       "| tmother | 0.1272261 | 0.03631034 | 1.00000000 |\n",
       "\n"
      ],
      "text/plain": [
       "        trait     tfather    tmother   \n",
       "trait   1.0000000 0.14539667 0.12722615\n",
       "tfather 0.1453967 1.00000000 0.03631034\n",
       "tmother 0.1272261 0.03631034 1.00000000"
      ]
     },
     "metadata": {},
     "output_type": "display_data"
    }
   ],
   "source": [
    "cor(dkidTrait[, .(trait, tfather, tmother)])"
   ]
  },
  {
   "cell_type": "code",
   "execution_count": 349,
   "metadata": {},
   "outputs": [
    {
     "data": {
      "text/html": [
       "<table class=\"dataframe\">\n",
       "<caption>A matrix: 1 × 1 of type dbl</caption>\n",
       "<tbody>\n",
       "\t<tr><td>0.3005956</td></tr>\n",
       "</tbody>\n",
       "</table>\n"
      ],
      "text/latex": [
       "A matrix: 1 × 1 of type dbl\n",
       "\\begin{tabular}{l}\n",
       "\t 0.3005956\\\\\n",
       "\\end{tabular}\n"
      ],
      "text/markdown": [
       "\n",
       "A matrix: 1 × 1 of type dbl\n",
       "\n",
       "| 0.3005956 |\n",
       "\n"
      ],
      "text/plain": [
       "     [,1]     \n",
       "[1,] 0.3005956"
      ]
     },
     "metadata": {},
     "output_type": "display_data"
    },
    {
     "data": {
      "text/html": [
       "<table class=\"dataframe\">\n",
       "<caption>A matrix: 1 × 1 of type dbl</caption>\n",
       "<tbody>\n",
       "\t<tr><td>0.7013897</td></tr>\n",
       "</tbody>\n",
       "</table>\n"
      ],
      "text/latex": [
       "A matrix: 1 × 1 of type dbl\n",
       "\\begin{tabular}{l}\n",
       "\t 0.7013897\\\\\n",
       "\\end{tabular}\n"
      ],
      "text/markdown": [
       "\n",
       "A matrix: 1 × 1 of type dbl\n",
       "\n",
       "| 0.7013897 |\n",
       "\n"
      ],
      "text/plain": [
       "     [,1]     \n",
       "[1,] 0.7013897"
      ]
     },
     "metadata": {},
     "output_type": "display_data"
    }
   ],
   "source": [
    "var(parentGComp * pgsf) /var(parentTrait)\n",
    "var(parentNComp * pnsf) /var(parentTrait)"
   ]
  },
  {
   "cell_type": "code",
   "execution_count": 343,
   "metadata": {},
   "outputs": [
    {
     "data": {
      "text/html": [
       "<table class=\"dataframe\">\n",
       "<caption>A matrix: 1 × 1 of type dbl</caption>\n",
       "<tbody>\n",
       "\t<tr><td>0.289476</td></tr>\n",
       "</tbody>\n",
       "</table>\n"
      ],
      "text/latex": [
       "A matrix: 1 × 1 of type dbl\n",
       "\\begin{tabular}{l}\n",
       "\t 0.289476\\\\\n",
       "\\end{tabular}\n"
      ],
      "text/markdown": [
       "\n",
       "A matrix: 1 × 1 of type dbl\n",
       "\n",
       "| 0.289476 |\n",
       "\n"
      ],
      "text/plain": [
       "     [,1]    \n",
       "[1,] 0.289476"
      ]
     },
     "metadata": {},
     "output_type": "display_data"
    },
    {
     "data": {
      "text/html": [
       "<table class=\"dataframe\">\n",
       "<caption>A matrix: 1 × 1 of type dbl</caption>\n",
       "<tbody>\n",
       "\t<tr><td>0.7550101</td></tr>\n",
       "</tbody>\n",
       "</table>\n"
      ],
      "text/latex": [
       "A matrix: 1 × 1 of type dbl\n",
       "\\begin{tabular}{l}\n",
       "\t 0.7550101\\\\\n",
       "\\end{tabular}\n"
      ],
      "text/markdown": [
       "\n",
       "A matrix: 1 × 1 of type dbl\n",
       "\n",
       "| 0.7550101 |\n",
       "\n"
      ],
      "text/plain": [
       "     [,1]     \n",
       "[1,] 0.7550101"
      ]
     },
     "metadata": {},
     "output_type": "display_data"
    }
   ],
   "source": [
    "var(kidGComp * pgsf) /var(kidTrait)\n",
    "var(kidNComp * pnsf) /var(kidTrait)"
   ]
  }
 ],
 "metadata": {
  "interpreter": {
   "hash": "e2e428ab9c127afb68bd4bd6fa54439dcad71a6972a08f78f80f785dd2e6f6bf"
  },
  "kernelspec": {
   "display_name": "R",
   "language": "R",
   "name": "ir"
  },
  "language_info": {
   "codemirror_mode": "r",
   "file_extension": ".r",
   "mimetype": "text/x-r-source",
   "name": "R",
   "pygments_lexer": "r",
   "version": "4.1.2"
  },
  "orig_nbformat": 4
 },
 "nbformat": 4,
 "nbformat_minor": 2
}
