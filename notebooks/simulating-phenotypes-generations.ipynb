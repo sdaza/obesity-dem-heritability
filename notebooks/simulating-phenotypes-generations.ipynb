{
 "cells": [
  {
   "cell_type": "markdown",
   "metadata": {},
   "source": [
    "# Simulating phenotypes\n",
    "\n",
    "- Mock example with very small sample size and number of SNPs\n",
    "- Simple example using 2 components (genetic and noise), and bi-allelic SNPs\n",
    "- Frequencies to sample alleles: 0.1, 0.2, 0.3"
   ]
  },
  {
   "cell_type": "markdown",
   "metadata": {},
   "source": [
    "# Functions"
   ]
  },
  {
   "cell_type": "code",
   "execution_count": 212,
   "metadata": {},
   "outputs": [],
   "source": [
    "library(data.table)\n",
    "\n",
    "simGenotype = function(N = 50, nSNP = 30, frequencies = c(0.1, 0.2, 0.4)) {\n",
    "    sps = paste0(\"%0\", nchar(as.character(N)), \"d\")\n",
    "    spsn = paste0(\"%0\", nchar(as.character(nSNP)), \"d\")\n",
    "    \n",
    "    samples = paste0(\"ID_\", sprintf(sps, 1:N))\n",
    "    snps = paste0(\"SNP_\", sprintf(spsn, 1:nSNP))\n",
    "    freq = sample(frequencies, nSNP, replace = TRUE)\n",
    "    X <- sapply(1:nSNP, function(x) rbinom(N, 2, freq[x]))\n",
    "    colnames(X) <- snps\n",
    "    rownames(X) <- samples\n",
    "    return(X)\n",
    "}\n",
    "\n",
    "\n",
    "geneticEffects = function (genotype, causalSNP = 10, mBeta = 0, sdBeta = 1) {\n",
    "    cSNP = sort(sample(colnames(genotype), causalSNP, replace = FALSE))\n",
    "    betas = rnorm(causalSNP, mBeta, sdBeta)\n",
    "    g = colnames(genotype)\n",
    "    effects = rep(0, length(g))\n",
    "    effects[g %in% cSNP] = betas\n",
    "    names(effects) = g\n",
    "    return(effects)\n",
    "}\n",
    "\n",
    "createPairs = function(trait, random_mating = 0.5, groups = 10) {\n",
    "    tt = trait[, .(id, trait)]\n",
    "    tt[, g := cut(trait , quantile(trait, probs = (0:groups)/groups),\n",
    "        labels = FALSE, include.lowest = TRUE)]\n",
    "\n",
    "    pairs = NULL\n",
    "    for (i in 1:nrow(tt)) {\n",
    "        if (nrow(tt) >= 2) {\n",
    "            if (runif(1) < random_mating) {\n",
    "                cc = tt[sample(.N, 2)]$id\n",
    "                tt = tt[!id %in% cc]\n",
    "                pairs = rbind(pairs, as.vector(cc))}\n",
    "            else {\n",
    "                sid = tt[sample(.N, 1)]$id\n",
    "                sg = tt[id == sid]$g\n",
    "                tt = tt[!id %in% sid]\n",
    "                aid = tt[g == sg][sample(.N, 1)]$id\n",
    "                if (length(aid) == 0) { aid = tt[sample(.N, 1)]$id }\n",
    "                tt = tt[!id %in% aid]\n",
    "                pairs = rbind(pairs, c(sid, aid))\n",
    "            }\n",
    "        }\n",
    "    }\n",
    "    return(pairs)\n",
    "}\n",
    "\n",
    "\n",
    "createCouples = function(genotype, trait, random_mating = 0.5) {\n",
    "    \n",
    "    temp = rownames(genotype)\n",
    "    pairs = createPairs(trait, random_mating = random_mating)\n",
    "    couples = list()\n",
    "    snps = colnames(genotype)\n",
    "    for (i in 1:nrow(pairs)) {\n",
    "        temp = data.table(t(genotype[pairs[i,], ]))\n",
    "        rownames(temp) = snps \n",
    "        couples[[i]] = temp\n",
    "    }\n",
    "    return(couples)\n",
    "}\n",
    "\n",
    "\n",
    "reproduce = function(couples, nkids = 2) {\n",
    "\n",
    "    # mendelian rules (very important)\n",
    "    m = matrix(c(1, 0, 0, 0.5, 0.5, 0, 0, 1, 0, 0.25, 0.50, 0.25, 0, 0.50, 0.5, 0, 0, 1), \n",
    "        nrow = 6, ncol = 3, byrow  = TRUE)       \n",
    "    colnames(m) = c(0, 1, 2)\n",
    "    rownames(m) = c(\"00\", \"01\", \"02\", \"11\", \"12\", \"22\")\n",
    "    \n",
    "    kids = list()\n",
    "    \n",
    "    family = data.table()\n",
    "    j = 1\n",
    "\n",
    "    for (i in seq_along(couples)) {\n",
    "        for (ii in 1:nkids) {\n",
    "            temp = couples[[i]]\n",
    "            fids = colnames(temp)\n",
    "            temp$k = temp[, apply(.SD, 1, getKidGenotype, matrix = m)]\n",
    "            temp = temp[, .(k)]\n",
    "            setnames(temp, \"k\", paste0(\"ID_\", j))\n",
    "            temp[, snp := rownames(couples[[1]])]\n",
    "            kids[[paste0(i, ii)]] = temp\n",
    "\n",
    "            family = rbind(family, data.table(father = fids[1], mother = fids[2], kid = paste0(\"ID_\", j)))\n",
    "            j = j+1\n",
    "        }\n",
    "    }\n",
    "\n",
    "    kk = Reduce(function(...) merge(...,  by = \"snp\"), kids)\n",
    "    kk[, snp := NULL]\n",
    "    kk = as.matrix(t(kk))\n",
    "    colnames(kk) = rownames(couples[[1]])\n",
    "    return(list(kk, family))\n",
    "}\n",
    "\n",
    "\n",
    "# function to get offspring genotype\n",
    "getKidGenotype = function(values, matrix) {\n",
    "    comba = paste0(values, collapse = \"\")\n",
    "    combb = paste0(rev(values), collapse = \"\")\n",
    "    s = grep(paste0(comba, \"|\", combb), rownames(matrix))\n",
    "    prob = as.vector(matrix[s, ])\n",
    "    return(sample(0:2, size = 1, prob = prob))\n",
    "}\n",
    "\n",
    "\n",
    "simKidTrait = function(kids, ge) {\n",
    "    return(kids[[1]] %*% ge)\n",
    "}\n",
    "\n",
    "\n",
    "getNoiseComponent = function(genotype, mNoise = 0, sdNoise = 1) {\n",
    "    n = nrow(genotype)\n",
    "    return(rnorm(n, mNoise, sdNoise))\n",
    "}\n",
    "\n",
    "\n",
    "rescaleVar = function(component, prop) {\n",
    "    component = as.vector(component) \n",
    "    var_component = var(component)\n",
    "    scale_factor = sqrt(prop/var_component)\n",
    "    return(component * scale_factor)\n",
    "}\n",
    "\n",
    "\n",
    "scalingFactor = function(component, prop) {\n",
    "    component = as.vector(component) \n",
    "    var_component = var(component)\n",
    "    return(sqrt(prop/var_component))\n",
    "}"
   ]
  },
  {
   "cell_type": "markdown",
   "metadata": {},
   "source": [
    "# Initial example\n",
    "- 1000 people\n",
    "- 100 snps\n",
    "- 50 causal"
   ]
  },
  {
   "cell_type": "code",
   "execution_count": 84,
   "metadata": {},
   "outputs": [],
   "source": [
    "gen = 0.3\n",
    "noise = 1 - gen\n",
    "\n",
    "genotype = simGenotype(1000, 300)\n",
    "ge = geneticEffects(genotype, 100)\n",
    "parentGComp = genotype %*% ge\n",
    "parentNComp = getNoiseComponent(genotype)\n",
    "\n",
    "pgsf = scalingFactor(parentGComp, gen)\n",
    "pnsf = scalingFactor(parentNComp, noise)\n",
    "parentTrait = parentGComp * pgsf + parentNComp * pnsf\n",
    "dparentTrait = data.table(id = rownames(parentTrait), trait = parentTrait[, 1])"
   ]
  },
  {
   "cell_type": "code",
   "execution_count": 85,
   "metadata": {},
   "outputs": [
    {
     "data": {
      "text/html": [
       "<table class=\"dataframe\">\n",
       "<caption>A matrix: 6 × 300 of type int</caption>\n",
       "<thead>\n",
       "\t<tr><th></th><th scope=col>SNP_001</th><th scope=col>SNP_002</th><th scope=col>SNP_003</th><th scope=col>SNP_004</th><th scope=col>SNP_005</th><th scope=col>SNP_006</th><th scope=col>SNP_007</th><th scope=col>SNP_008</th><th scope=col>SNP_009</th><th scope=col>SNP_010</th><th scope=col>⋯</th><th scope=col>SNP_291</th><th scope=col>SNP_292</th><th scope=col>SNP_293</th><th scope=col>SNP_294</th><th scope=col>SNP_295</th><th scope=col>SNP_296</th><th scope=col>SNP_297</th><th scope=col>SNP_298</th><th scope=col>SNP_299</th><th scope=col>SNP_300</th></tr>\n",
       "</thead>\n",
       "<tbody>\n",
       "\t<tr><th scope=row>ID_0001</th><td>0</td><td>0</td><td>0</td><td>1</td><td>1</td><td>0</td><td>0</td><td>0</td><td>0</td><td>1</td><td>⋯</td><td>0</td><td>1</td><td>0</td><td>0</td><td>0</td><td>0</td><td>0</td><td>0</td><td>0</td><td>1</td></tr>\n",
       "\t<tr><th scope=row>ID_0002</th><td>1</td><td>0</td><td>0</td><td>1</td><td>0</td><td>1</td><td>0</td><td>0</td><td>0</td><td>1</td><td>⋯</td><td>0</td><td>0</td><td>1</td><td>0</td><td>0</td><td>0</td><td>0</td><td>0</td><td>0</td><td>2</td></tr>\n",
       "\t<tr><th scope=row>ID_0003</th><td>1</td><td>0</td><td>0</td><td>1</td><td>0</td><td>1</td><td>0</td><td>0</td><td>0</td><td>1</td><td>⋯</td><td>1</td><td>1</td><td>0</td><td>0</td><td>1</td><td>0</td><td>0</td><td>0</td><td>2</td><td>0</td></tr>\n",
       "\t<tr><th scope=row>ID_0004</th><td>1</td><td>1</td><td>0</td><td>1</td><td>1</td><td>0</td><td>0</td><td>0</td><td>1</td><td>1</td><td>⋯</td><td>0</td><td>0</td><td>0</td><td>1</td><td>0</td><td>0</td><td>0</td><td>0</td><td>1</td><td>1</td></tr>\n",
       "\t<tr><th scope=row>ID_0005</th><td>2</td><td>1</td><td>0</td><td>2</td><td>1</td><td>2</td><td>1</td><td>0</td><td>1</td><td>0</td><td>⋯</td><td>1</td><td>1</td><td>0</td><td>0</td><td>0</td><td>1</td><td>0</td><td>0</td><td>1</td><td>0</td></tr>\n",
       "\t<tr><th scope=row>ID_0006</th><td>0</td><td>1</td><td>1</td><td>1</td><td>0</td><td>0</td><td>0</td><td>0</td><td>0</td><td>1</td><td>⋯</td><td>0</td><td>2</td><td>0</td><td>0</td><td>0</td><td>0</td><td>1</td><td>0</td><td>1</td><td>1</td></tr>\n",
       "</tbody>\n",
       "</table>\n"
      ],
      "text/latex": [
       "A matrix: 6 × 300 of type int\n",
       "\\begin{tabular}{r|lllllllllllllllllllll}\n",
       "  & SNP\\_001 & SNP\\_002 & SNP\\_003 & SNP\\_004 & SNP\\_005 & SNP\\_006 & SNP\\_007 & SNP\\_008 & SNP\\_009 & SNP\\_010 & ⋯ & SNP\\_291 & SNP\\_292 & SNP\\_293 & SNP\\_294 & SNP\\_295 & SNP\\_296 & SNP\\_297 & SNP\\_298 & SNP\\_299 & SNP\\_300\\\\\n",
       "\\hline\n",
       "\tID\\_0001 & 0 & 0 & 0 & 1 & 1 & 0 & 0 & 0 & 0 & 1 & ⋯ & 0 & 1 & 0 & 0 & 0 & 0 & 0 & 0 & 0 & 1\\\\\n",
       "\tID\\_0002 & 1 & 0 & 0 & 1 & 0 & 1 & 0 & 0 & 0 & 1 & ⋯ & 0 & 0 & 1 & 0 & 0 & 0 & 0 & 0 & 0 & 2\\\\\n",
       "\tID\\_0003 & 1 & 0 & 0 & 1 & 0 & 1 & 0 & 0 & 0 & 1 & ⋯ & 1 & 1 & 0 & 0 & 1 & 0 & 0 & 0 & 2 & 0\\\\\n",
       "\tID\\_0004 & 1 & 1 & 0 & 1 & 1 & 0 & 0 & 0 & 1 & 1 & ⋯ & 0 & 0 & 0 & 1 & 0 & 0 & 0 & 0 & 1 & 1\\\\\n",
       "\tID\\_0005 & 2 & 1 & 0 & 2 & 1 & 2 & 1 & 0 & 1 & 0 & ⋯ & 1 & 1 & 0 & 0 & 0 & 1 & 0 & 0 & 1 & 0\\\\\n",
       "\tID\\_0006 & 0 & 1 & 1 & 1 & 0 & 0 & 0 & 0 & 0 & 1 & ⋯ & 0 & 2 & 0 & 0 & 0 & 0 & 1 & 0 & 1 & 1\\\\\n",
       "\\end{tabular}\n"
      ],
      "text/markdown": [
       "\n",
       "A matrix: 6 × 300 of type int\n",
       "\n",
       "| <!--/--> | SNP_001 | SNP_002 | SNP_003 | SNP_004 | SNP_005 | SNP_006 | SNP_007 | SNP_008 | SNP_009 | SNP_010 | ⋯ | SNP_291 | SNP_292 | SNP_293 | SNP_294 | SNP_295 | SNP_296 | SNP_297 | SNP_298 | SNP_299 | SNP_300 |\n",
       "|---|---|---|---|---|---|---|---|---|---|---|---|---|---|---|---|---|---|---|---|---|---|\n",
       "| ID_0001 | 0 | 0 | 0 | 1 | 1 | 0 | 0 | 0 | 0 | 1 | ⋯ | 0 | 1 | 0 | 0 | 0 | 0 | 0 | 0 | 0 | 1 |\n",
       "| ID_0002 | 1 | 0 | 0 | 1 | 0 | 1 | 0 | 0 | 0 | 1 | ⋯ | 0 | 0 | 1 | 0 | 0 | 0 | 0 | 0 | 0 | 2 |\n",
       "| ID_0003 | 1 | 0 | 0 | 1 | 0 | 1 | 0 | 0 | 0 | 1 | ⋯ | 1 | 1 | 0 | 0 | 1 | 0 | 0 | 0 | 2 | 0 |\n",
       "| ID_0004 | 1 | 1 | 0 | 1 | 1 | 0 | 0 | 0 | 1 | 1 | ⋯ | 0 | 0 | 0 | 1 | 0 | 0 | 0 | 0 | 1 | 1 |\n",
       "| ID_0005 | 2 | 1 | 0 | 2 | 1 | 2 | 1 | 0 | 1 | 0 | ⋯ | 1 | 1 | 0 | 0 | 0 | 1 | 0 | 0 | 1 | 0 |\n",
       "| ID_0006 | 0 | 1 | 1 | 1 | 0 | 0 | 0 | 0 | 0 | 1 | ⋯ | 0 | 2 | 0 | 0 | 0 | 0 | 1 | 0 | 1 | 1 |\n",
       "\n"
      ],
      "text/plain": [
       "        SNP_001 SNP_002 SNP_003 SNP_004 SNP_005 SNP_006 SNP_007 SNP_008 SNP_009\n",
       "ID_0001 0       0       0       1       1       0       0       0       0      \n",
       "ID_0002 1       0       0       1       0       1       0       0       0      \n",
       "ID_0003 1       0       0       1       0       1       0       0       0      \n",
       "ID_0004 1       1       0       1       1       0       0       0       1      \n",
       "ID_0005 2       1       0       2       1       2       1       0       1      \n",
       "ID_0006 0       1       1       1       0       0       0       0       0      \n",
       "        SNP_010 ⋯ SNP_291 SNP_292 SNP_293 SNP_294 SNP_295 SNP_296 SNP_297\n",
       "ID_0001 1       ⋯ 0       1       0       0       0       0       0      \n",
       "ID_0002 1       ⋯ 0       0       1       0       0       0       0      \n",
       "ID_0003 1       ⋯ 1       1       0       0       1       0       0      \n",
       "ID_0004 1       ⋯ 0       0       0       1       0       0       0      \n",
       "ID_0005 0       ⋯ 1       1       0       0       0       1       0      \n",
       "ID_0006 1       ⋯ 0       2       0       0       0       0       1      \n",
       "        SNP_298 SNP_299 SNP_300\n",
       "ID_0001 0       0       1      \n",
       "ID_0002 0       0       2      \n",
       "ID_0003 0       2       0      \n",
       "ID_0004 0       1       1      \n",
       "ID_0005 0       1       0      \n",
       "ID_0006 0       1       1      "
      ]
     },
     "metadata": {},
     "output_type": "display_data"
    }
   ],
   "source": [
    "head(genotype)"
   ]
  },
  {
   "cell_type": "code",
   "execution_count": 88,
   "metadata": {},
   "outputs": [
    {
     "data": {
      "text/html": [
       "<table class=\"dataframe\">\n",
       "<caption>A matrix: 6 × 300 of type int</caption>\n",
       "<thead>\n",
       "\t<tr><th></th><th scope=col>SNP_001</th><th scope=col>SNP_002</th><th scope=col>SNP_003</th><th scope=col>SNP_004</th><th scope=col>SNP_005</th><th scope=col>SNP_006</th><th scope=col>SNP_007</th><th scope=col>SNP_008</th><th scope=col>SNP_009</th><th scope=col>SNP_010</th><th scope=col>⋯</th><th scope=col>SNP_291</th><th scope=col>SNP_292</th><th scope=col>SNP_293</th><th scope=col>SNP_294</th><th scope=col>SNP_295</th><th scope=col>SNP_296</th><th scope=col>SNP_297</th><th scope=col>SNP_298</th><th scope=col>SNP_299</th><th scope=col>SNP_300</th></tr>\n",
       "</thead>\n",
       "<tbody>\n",
       "\t<tr><th scope=row>ID_1</th><td>0</td><td>0</td><td>0</td><td>0</td><td>2</td><td>1</td><td>1</td><td>0</td><td>0</td><td>0</td><td>⋯</td><td>1</td><td>0</td><td>1</td><td>0</td><td>0</td><td>1</td><td>0</td><td>0</td><td>1</td><td>1</td></tr>\n",
       "\t<tr><th scope=row>ID_2</th><td>0</td><td>0</td><td>0</td><td>1</td><td>2</td><td>1</td><td>1</td><td>1</td><td>0</td><td>0</td><td>⋯</td><td>1</td><td>1</td><td>1</td><td>0</td><td>1</td><td>0</td><td>1</td><td>0</td><td>1</td><td>0</td></tr>\n",
       "\t<tr><th scope=row>ID_3</th><td>1</td><td>0</td><td>0</td><td>0</td><td>0</td><td>0</td><td>0</td><td>0</td><td>0</td><td>1</td><td>⋯</td><td>1</td><td>1</td><td>1</td><td>0</td><td>0</td><td>0</td><td>0</td><td>0</td><td>2</td><td>0</td></tr>\n",
       "\t<tr><th scope=row>ID_4</th><td>1</td><td>0</td><td>0</td><td>0</td><td>1</td><td>0</td><td>1</td><td>0</td><td>0</td><td>0</td><td>⋯</td><td>0</td><td>1</td><td>1</td><td>0</td><td>0</td><td>0</td><td>0</td><td>0</td><td>1</td><td>1</td></tr>\n",
       "\t<tr><th scope=row>ID_5</th><td>1</td><td>0</td><td>0</td><td>2</td><td>1</td><td>2</td><td>0</td><td>1</td><td>0</td><td>0</td><td>⋯</td><td>1</td><td>1</td><td>0</td><td>0</td><td>0</td><td>1</td><td>1</td><td>0</td><td>1</td><td>0</td></tr>\n",
       "\t<tr><th scope=row>ID_6</th><td>1</td><td>1</td><td>0</td><td>0</td><td>1</td><td>2</td><td>0</td><td>2</td><td>1</td><td>0</td><td>⋯</td><td>1</td><td>2</td><td>0</td><td>2</td><td>0</td><td>1</td><td>0</td><td>0</td><td>1</td><td>1</td></tr>\n",
       "</tbody>\n",
       "</table>\n"
      ],
      "text/latex": [
       "A matrix: 6 × 300 of type int\n",
       "\\begin{tabular}{r|lllllllllllllllllllll}\n",
       "  & SNP\\_001 & SNP\\_002 & SNP\\_003 & SNP\\_004 & SNP\\_005 & SNP\\_006 & SNP\\_007 & SNP\\_008 & SNP\\_009 & SNP\\_010 & ⋯ & SNP\\_291 & SNP\\_292 & SNP\\_293 & SNP\\_294 & SNP\\_295 & SNP\\_296 & SNP\\_297 & SNP\\_298 & SNP\\_299 & SNP\\_300\\\\\n",
       "\\hline\n",
       "\tID\\_1 & 0 & 0 & 0 & 0 & 2 & 1 & 1 & 0 & 0 & 0 & ⋯ & 1 & 0 & 1 & 0 & 0 & 1 & 0 & 0 & 1 & 1\\\\\n",
       "\tID\\_2 & 0 & 0 & 0 & 1 & 2 & 1 & 1 & 1 & 0 & 0 & ⋯ & 1 & 1 & 1 & 0 & 1 & 0 & 1 & 0 & 1 & 0\\\\\n",
       "\tID\\_3 & 1 & 0 & 0 & 0 & 0 & 0 & 0 & 0 & 0 & 1 & ⋯ & 1 & 1 & 1 & 0 & 0 & 0 & 0 & 0 & 2 & 0\\\\\n",
       "\tID\\_4 & 1 & 0 & 0 & 0 & 1 & 0 & 1 & 0 & 0 & 0 & ⋯ & 0 & 1 & 1 & 0 & 0 & 0 & 0 & 0 & 1 & 1\\\\\n",
       "\tID\\_5 & 1 & 0 & 0 & 2 & 1 & 2 & 0 & 1 & 0 & 0 & ⋯ & 1 & 1 & 0 & 0 & 0 & 1 & 1 & 0 & 1 & 0\\\\\n",
       "\tID\\_6 & 1 & 1 & 0 & 0 & 1 & 2 & 0 & 2 & 1 & 0 & ⋯ & 1 & 2 & 0 & 2 & 0 & 1 & 0 & 0 & 1 & 1\\\\\n",
       "\\end{tabular}\n"
      ],
      "text/markdown": [
       "\n",
       "A matrix: 6 × 300 of type int\n",
       "\n",
       "| <!--/--> | SNP_001 | SNP_002 | SNP_003 | SNP_004 | SNP_005 | SNP_006 | SNP_007 | SNP_008 | SNP_009 | SNP_010 | ⋯ | SNP_291 | SNP_292 | SNP_293 | SNP_294 | SNP_295 | SNP_296 | SNP_297 | SNP_298 | SNP_299 | SNP_300 |\n",
       "|---|---|---|---|---|---|---|---|---|---|---|---|---|---|---|---|---|---|---|---|---|---|\n",
       "| ID_1 | 0 | 0 | 0 | 0 | 2 | 1 | 1 | 0 | 0 | 0 | ⋯ | 1 | 0 | 1 | 0 | 0 | 1 | 0 | 0 | 1 | 1 |\n",
       "| ID_2 | 0 | 0 | 0 | 1 | 2 | 1 | 1 | 1 | 0 | 0 | ⋯ | 1 | 1 | 1 | 0 | 1 | 0 | 1 | 0 | 1 | 0 |\n",
       "| ID_3 | 1 | 0 | 0 | 0 | 0 | 0 | 0 | 0 | 0 | 1 | ⋯ | 1 | 1 | 1 | 0 | 0 | 0 | 0 | 0 | 2 | 0 |\n",
       "| ID_4 | 1 | 0 | 0 | 0 | 1 | 0 | 1 | 0 | 0 | 0 | ⋯ | 0 | 1 | 1 | 0 | 0 | 0 | 0 | 0 | 1 | 1 |\n",
       "| ID_5 | 1 | 0 | 0 | 2 | 1 | 2 | 0 | 1 | 0 | 0 | ⋯ | 1 | 1 | 0 | 0 | 0 | 1 | 1 | 0 | 1 | 0 |\n",
       "| ID_6 | 1 | 1 | 0 | 0 | 1 | 2 | 0 | 2 | 1 | 0 | ⋯ | 1 | 2 | 0 | 2 | 0 | 1 | 0 | 0 | 1 | 1 |\n",
       "\n"
      ],
      "text/plain": [
       "     SNP_001 SNP_002 SNP_003 SNP_004 SNP_005 SNP_006 SNP_007 SNP_008 SNP_009\n",
       "ID_1 0       0       0       0       2       1       1       0       0      \n",
       "ID_2 0       0       0       1       2       1       1       1       0      \n",
       "ID_3 1       0       0       0       0       0       0       0       0      \n",
       "ID_4 1       0       0       0       1       0       1       0       0      \n",
       "ID_5 1       0       0       2       1       2       0       1       0      \n",
       "ID_6 1       1       0       0       1       2       0       2       1      \n",
       "     SNP_010 ⋯ SNP_291 SNP_292 SNP_293 SNP_294 SNP_295 SNP_296 SNP_297 SNP_298\n",
       "ID_1 0       ⋯ 1       0       1       0       0       1       0       0      \n",
       "ID_2 0       ⋯ 1       1       1       0       1       0       1       0      \n",
       "ID_3 1       ⋯ 1       1       1       0       0       0       0       0      \n",
       "ID_4 0       ⋯ 0       1       1       0       0       0       0       0      \n",
       "ID_5 0       ⋯ 1       1       0       0       0       1       1       0      \n",
       "ID_6 0       ⋯ 1       2       0       2       0       1       0       0      \n",
       "     SNP_299 SNP_300\n",
       "ID_1 1       1      \n",
       "ID_2 1       0      \n",
       "ID_3 2       0      \n",
       "ID_4 1       1      \n",
       "ID_5 1       0      \n",
       "ID_6 1       1      "
      ]
     },
     "metadata": {},
     "output_type": "display_data"
    }
   ],
   "source": [
    "head(kids[[1]])"
   ]
  },
  {
   "cell_type": "code",
   "execution_count": 90,
   "metadata": {},
   "outputs": [
    {
     "data": {
      "text/html": [
       "<table class=\"dataframe\">\n",
       "<caption>A matrix: 3 × 3 of type dbl</caption>\n",
       "<thead>\n",
       "\t<tr><th></th><th scope=col>trait</th><th scope=col>tfather</th><th scope=col>tmother</th></tr>\n",
       "</thead>\n",
       "<tbody>\n",
       "\t<tr><th scope=row>trait</th><td>1.0000000</td><td>0.18313253</td><td>0.15145904</td></tr>\n",
       "\t<tr><th scope=row>tfather</th><td>0.1831325</td><td>1.00000000</td><td>0.01713349</td></tr>\n",
       "\t<tr><th scope=row>tmother</th><td>0.1514590</td><td>0.01713349</td><td>1.00000000</td></tr>\n",
       "</tbody>\n",
       "</table>\n"
      ],
      "text/latex": [
       "A matrix: 3 × 3 of type dbl\n",
       "\\begin{tabular}{r|lll}\n",
       "  & trait & tfather & tmother\\\\\n",
       "\\hline\n",
       "\ttrait & 1.0000000 & 0.18313253 & 0.15145904\\\\\n",
       "\ttfather & 0.1831325 & 1.00000000 & 0.01713349\\\\\n",
       "\ttmother & 0.1514590 & 0.01713349 & 1.00000000\\\\\n",
       "\\end{tabular}\n"
      ],
      "text/markdown": [
       "\n",
       "A matrix: 3 × 3 of type dbl\n",
       "\n",
       "| <!--/--> | trait | tfather | tmother |\n",
       "|---|---|---|---|\n",
       "| trait | 1.0000000 | 0.18313253 | 0.15145904 |\n",
       "| tfather | 0.1831325 | 1.00000000 | 0.01713349 |\n",
       "| tmother | 0.1514590 | 0.01713349 | 1.00000000 |\n",
       "\n"
      ],
      "text/plain": [
       "        trait     tfather    tmother   \n",
       "trait   1.0000000 0.18313253 0.15145904\n",
       "tfather 0.1831325 1.00000000 0.01713349\n",
       "tmother 0.1514590 0.01713349 1.00000000"
      ]
     },
     "metadata": {},
     "output_type": "display_data"
    }
   ],
   "source": [
    "# correlation between phenotypes\n",
    "cor(dkidTrait[, .(trait, tfather, tmother)])"
   ]
  },
  {
   "cell_type": "code",
   "execution_count": 91,
   "metadata": {},
   "outputs": [
    {
     "data": {
      "text/html": [
       "'Genetic part: 0.29'"
      ],
      "text/latex": [
       "'Genetic part: 0.29'"
      ],
      "text/markdown": [
       "'Genetic part: 0.29'"
      ],
      "text/plain": [
       "[1] \"Genetic part: 0.29\""
      ]
     },
     "metadata": {},
     "output_type": "display_data"
    },
    {
     "data": {
      "text/html": [
       "'Noise part: 0.68'"
      ],
      "text/latex": [
       "'Noise part: 0.68'"
      ],
      "text/markdown": [
       "'Noise part: 0.68'"
      ],
      "text/plain": [
       "[1] \"Noise part: 0.68\""
      ]
     },
     "metadata": {},
     "output_type": "display_data"
    }
   ],
   "source": [
    "# variance composition parents\n",
    "paste0(\"Genetic part: \", round(var(parentGComp[, 1] * pgsf)/var(parentTrait[, 1]), 2))\n",
    "paste0(\"Noise part: \", round(var(parentNComp * pnsf) /var(parentTrait[, 1]), 2))"
   ]
  },
  {
   "cell_type": "code",
   "execution_count": 92,
   "metadata": {},
   "outputs": [
    {
     "data": {
      "text/html": [
       "'Genetic part: 0.27'"
      ],
      "text/latex": [
       "'Genetic part: 0.27'"
      ],
      "text/markdown": [
       "'Genetic part: 0.27'"
      ],
      "text/plain": [
       "[1] \"Genetic part: 0.27\""
      ]
     },
     "metadata": {},
     "output_type": "display_data"
    },
    {
     "data": {
      "text/html": [
       "'Noise part: 0.7'"
      ],
      "text/latex": [
       "'Noise part: 0.7'"
      ],
      "text/markdown": [
       "'Noise part: 0.7'"
      ],
      "text/plain": [
       "[1] \"Noise part: 0.7\""
      ]
     },
     "metadata": {},
     "output_type": "display_data"
    }
   ],
   "source": [
    "# variance composition kids\n",
    "paste0(\"Genetic part: \", round(var(kidGComp[, 1] * pgsf)/var(kidTrait[, 1]), 2))\n",
    "paste0(\"Noise part: \", round(var(kidNComp * pnsf) /var(kidTrait[, 1]), 2))"
   ]
  },
  {
   "cell_type": "markdown",
   "metadata": {},
   "source": [
    "# Several generations"
   ]
  },
  {
   "cell_type": "code",
   "execution_count": 255,
   "metadata": {},
   "outputs": [],
   "source": [
    "# function to create several generations\n",
    "# very inefficient function\n",
    "createGenerations = function(nGen = 3, N = 1000, nSNP = 100, causalSNP = 50, genVar = 0.3, random_mating = 1) {\n",
    "\n",
    "    noise = 1 - genVar\n",
    "    genotype = simGenotype(N, nSNP)\n",
    "    ge = geneticEffects(genotype, causalSNP)\n",
    "\n",
    "    traits = list()\n",
    "\n",
    "    parentGComp = genotype %*% ge\n",
    "    parentNComp = getNoiseComponent(genotype)\n",
    "\n",
    "    pgsf = scalingFactor(parentGComp, gen)\n",
    "    pnsf = scalingFactor(parentNComp, noise)\n",
    "    parentTrait = parentGComp * pgsf + parentNComp * pnsf\n",
    "    dparentTrait = data.table(id = rownames(parentTrait), trait = parentTrait[, 1])\n",
    "    \n",
    "    kids = NULL\n",
    "    for (i in 1:nGen) {\n",
    "        print(paste0(\"::::::: creating generation: \", i))\n",
    "        if (i == 1) {\n",
    "            couples = createCouples(genotype, dparentTrait, random_mating = random_mating)\n",
    "            kids = reproduce(couples)\n",
    "            # genetic part\n",
    "            kidGComp = kids[[1]] %*%  ge\n",
    "            pgsf = scalingFactor(parentGComp, gen)\n",
    "            pnsf = scalingFactor(parentNComp, noise)\n",
    "            # noise part\n",
    "            kidNComp = getNoiseComponent(kids[[1]])\n",
    "            # trait\n",
    "            kidTrait = kidGComp * pgsf + kidNComp * pnsf\n",
    "            dkidTrait = data.table(id = rownames(kidTrait), trait = kidTrait[, 1])\n",
    "            # merge traits\n",
    "            family = kids[[2]]\n",
    "            dkidTrait = merge(dkidTrait, family, by.x = \"id\", by.y = \"kid\")\n",
    "            dkidTrait = merge(dkidTrait, dparentTrait[, .(id, father_trait = trait)], by.x = \"father\", by.y = \"id\", all.x = TRUE)\n",
    "            dkidTrait = merge(dkidTrait, dparentTrait[, .(id, mother_trait = trait)], by.x = \"mother\", by.y = \"id\", all.x = TRUE)\n",
    "            traits[[i]] = dkidTrait\n",
    "        } else {\n",
    "            couples = createCouples(kids[[1]], dkidTrait, random_mating = random_mating)\n",
    "            kids = reproduce(couples)\n",
    "            dparentTrait = dkidTrait\n",
    "            # genetic part\n",
    "            kidGComp = kids[[1]] %*%  ge\n",
    "            # noise part\n",
    "            kidNComp = getNoiseComponent(kids[[1]])\n",
    "            # trait\n",
    "            kidTrait = kidGComp * pgsf + kidNComp * pnsf\n",
    "            dkidTrait = data.table(id = rownames(kidTrait), trait = kidTrait[, 1])\n",
    "            # merge traits\n",
    "            family = kids[[2]]\n",
    "            dkidTrait = merge(dkidTrait, family, by.x = \"id\", by.y = \"kid\")\n",
    "            dkidTrait = merge(dkidTrait, dparentTrait[, .(id, father_trait = trait)], by.x = \"father\", by.y = \"id\", all.x = TRUE)\n",
    "            dkidTrait = merge(dkidTrait, dparentTrait[, .(id, mother_trait = trait)], by.x = \"mother\", by.y = \"id\", all.x = TRUE)\n",
    "            traits[[i]] = dkidTrait\n",
    "        }   \n",
    "    }\n",
    "    return(rbindlist(traits, idcol = \"generation\"))\n",
    "}"
   ]
  },
  {
   "cell_type": "markdown",
   "metadata": {},
   "source": [
    "# Some assortative mating"
   ]
  },
  {
   "cell_type": "code",
   "execution_count": 250,
   "metadata": {},
   "outputs": [],
   "source": [
    "tt = createGenerations(nGen = 10,  N = 3000, nSNP = 500, causalSNP = 100, random_mating = 0.80)"
   ]
  },
  {
   "cell_type": "code",
   "execution_count": 256,
   "metadata": {},
   "outputs": [
    {
     "data": {
      "text/html": [
       "<table class=\"dataframe\">\n",
       "<caption>A data.table: 10 × 5</caption>\n",
       "<thead>\n",
       "\t<tr><th scope=col>generation</th><th scope=col>average</th><th scope=col>cor_kid_father</th><th scope=col>cor_kid_mother</th><th scope=col>cor_father_mother</th></tr>\n",
       "\t<tr><th scope=col>&lt;int&gt;</th><th scope=col>&lt;dbl&gt;</th><th scope=col>&lt;dbl&gt;</th><th scope=col>&lt;dbl&gt;</th><th scope=col>&lt;dbl&gt;</th></tr>\n",
       "</thead>\n",
       "<tbody>\n",
       "\t<tr><td> 1</td><td>0.1883019</td><td>0.1999825</td><td>0.1886230</td><td>0.1741984</td></tr>\n",
       "\t<tr><td> 2</td><td>0.1620189</td><td>0.1604917</td><td>0.1731871</td><td>0.2483799</td></tr>\n",
       "\t<tr><td> 3</td><td>0.1780061</td><td>0.1639263</td><td>0.1659964</td><td>0.2881601</td></tr>\n",
       "\t<tr><td> 4</td><td>0.1854883</td><td>0.1978828</td><td>0.2234411</td><td>0.2203220</td></tr>\n",
       "\t<tr><td> 5</td><td>0.1567797</td><td>0.2037965</td><td>0.2199690</td><td>0.2381033</td></tr>\n",
       "\t<tr><td> 6</td><td>0.1675324</td><td>0.2143007</td><td>0.2171608</td><td>0.2124595</td></tr>\n",
       "\t<tr><td> 7</td><td>0.2012330</td><td>0.1229418</td><td>0.1578948</td><td>0.2134461</td></tr>\n",
       "\t<tr><td> 8</td><td>0.2095405</td><td>0.1840035</td><td>0.1755964</td><td>0.2605650</td></tr>\n",
       "\t<tr><td> 9</td><td>0.2172323</td><td>0.2042063</td><td>0.2170359</td><td>0.1891421</td></tr>\n",
       "\t<tr><td>10</td><td>0.1747797</td><td>0.2822121</td><td>0.2256524</td><td>0.2325791</td></tr>\n",
       "</tbody>\n",
       "</table>\n"
      ],
      "text/latex": [
       "A data.table: 10 × 5\n",
       "\\begin{tabular}{lllll}\n",
       " generation & average & cor\\_kid\\_father & cor\\_kid\\_mother & cor\\_father\\_mother\\\\\n",
       " <int> & <dbl> & <dbl> & <dbl> & <dbl>\\\\\n",
       "\\hline\n",
       "\t  1 & 0.1883019 & 0.1999825 & 0.1886230 & 0.1741984\\\\\n",
       "\t  2 & 0.1620189 & 0.1604917 & 0.1731871 & 0.2483799\\\\\n",
       "\t  3 & 0.1780061 & 0.1639263 & 0.1659964 & 0.2881601\\\\\n",
       "\t  4 & 0.1854883 & 0.1978828 & 0.2234411 & 0.2203220\\\\\n",
       "\t  5 & 0.1567797 & 0.2037965 & 0.2199690 & 0.2381033\\\\\n",
       "\t  6 & 0.1675324 & 0.2143007 & 0.2171608 & 0.2124595\\\\\n",
       "\t  7 & 0.2012330 & 0.1229418 & 0.1578948 & 0.2134461\\\\\n",
       "\t  8 & 0.2095405 & 0.1840035 & 0.1755964 & 0.2605650\\\\\n",
       "\t  9 & 0.2172323 & 0.2042063 & 0.2170359 & 0.1891421\\\\\n",
       "\t 10 & 0.1747797 & 0.2822121 & 0.2256524 & 0.2325791\\\\\n",
       "\\end{tabular}\n"
      ],
      "text/markdown": [
       "\n",
       "A data.table: 10 × 5\n",
       "\n",
       "| generation &lt;int&gt; | average &lt;dbl&gt; | cor_kid_father &lt;dbl&gt; | cor_kid_mother &lt;dbl&gt; | cor_father_mother &lt;dbl&gt; |\n",
       "|---|---|---|---|---|\n",
       "|  1 | 0.1883019 | 0.1999825 | 0.1886230 | 0.1741984 |\n",
       "|  2 | 0.1620189 | 0.1604917 | 0.1731871 | 0.2483799 |\n",
       "|  3 | 0.1780061 | 0.1639263 | 0.1659964 | 0.2881601 |\n",
       "|  4 | 0.1854883 | 0.1978828 | 0.2234411 | 0.2203220 |\n",
       "|  5 | 0.1567797 | 0.2037965 | 0.2199690 | 0.2381033 |\n",
       "|  6 | 0.1675324 | 0.2143007 | 0.2171608 | 0.2124595 |\n",
       "|  7 | 0.2012330 | 0.1229418 | 0.1578948 | 0.2134461 |\n",
       "|  8 | 0.2095405 | 0.1840035 | 0.1755964 | 0.2605650 |\n",
       "|  9 | 0.2172323 | 0.2042063 | 0.2170359 | 0.1891421 |\n",
       "| 10 | 0.1747797 | 0.2822121 | 0.2256524 | 0.2325791 |\n",
       "\n"
      ],
      "text/plain": [
       "   generation average   cor_kid_father cor_kid_mother cor_father_mother\n",
       "1   1         0.1883019 0.1999825      0.1886230      0.1741984        \n",
       "2   2         0.1620189 0.1604917      0.1731871      0.2483799        \n",
       "3   3         0.1780061 0.1639263      0.1659964      0.2881601        \n",
       "4   4         0.1854883 0.1978828      0.2234411      0.2203220        \n",
       "5   5         0.1567797 0.2037965      0.2199690      0.2381033        \n",
       "6   6         0.1675324 0.2143007      0.2171608      0.2124595        \n",
       "7   7         0.2012330 0.1229418      0.1578948      0.2134461        \n",
       "8   8         0.2095405 0.1840035      0.1755964      0.2605650        \n",
       "9   9         0.2172323 0.2042063      0.2170359      0.1891421        \n",
       "10 10         0.1747797 0.2822121      0.2256524      0.2325791        "
      ]
     },
     "metadata": {},
     "output_type": "display_data"
    }
   ],
   "source": [
    "dtt = tt[, .(average = mean(trait), \n",
    "    cor_kid_father = cor(trait, father_trait), \n",
    "    cor_kid_mother = cor(trait, mother_trait), \n",
    "    cor_father_mother = cor(father_trait, mother_trait)), generation]\n",
    "dtt"
   ]
  },
  {
   "cell_type": "markdown",
   "metadata": {},
   "source": [
    "# Random mating\n",
    "\n",
    "There seems to be issues with the scaling."
   ]
  },
  {
   "cell_type": "code",
   "execution_count": null,
   "metadata": {},
   "outputs": [],
   "source": [
    "cc = createGenerations(nGen = 10,  N = 3000, nSNP = 500, causalSNP = 100, random_mating = 1.0)"
   ]
  },
  {
   "cell_type": "code",
   "execution_count": 259,
   "metadata": {},
   "outputs": [
    {
     "data": {
      "text/html": [
       "<table class=\"dataframe\">\n",
       "<caption>A data.table: 10 × 5</caption>\n",
       "<thead>\n",
       "\t<tr><th scope=col>generation</th><th scope=col>average</th><th scope=col>cor_kid_father</th><th scope=col>cor_kid_mother</th><th scope=col>cor_father_mother</th></tr>\n",
       "\t<tr><th scope=col>&lt;int&gt;</th><th scope=col>&lt;dbl&gt;</th><th scope=col>&lt;dbl&gt;</th><th scope=col>&lt;dbl&gt;</th><th scope=col>&lt;dbl&gt;</th></tr>\n",
       "</thead>\n",
       "<tbody>\n",
       "\t<tr><td> 1</td><td>0.3984700</td><td>0.1167146</td><td>0.1683724</td><td>-0.00397079</td></tr>\n",
       "\t<tr><td> 2</td><td>0.3973159</td><td>0.1271531</td><td>0.1502796</td><td>-0.01773577</td></tr>\n",
       "\t<tr><td> 3</td><td>0.4064284</td><td>0.1591879</td><td>0.1452047</td><td> 0.07010770</td></tr>\n",
       "\t<tr><td> 4</td><td>0.4305984</td><td>0.1582951</td><td>0.1451794</td><td>-0.01904595</td></tr>\n",
       "\t<tr><td> 5</td><td>0.4139249</td><td>0.1339551</td><td>0.1672606</td><td>-0.02494781</td></tr>\n",
       "\t<tr><td> 6</td><td>0.4416047</td><td>0.1442953</td><td>0.1671510</td><td>-0.02755566</td></tr>\n",
       "\t<tr><td> 7</td><td>0.4043321</td><td>0.1454876</td><td>0.1451702</td><td> 0.04670183</td></tr>\n",
       "\t<tr><td> 8</td><td>0.4210788</td><td>0.1261394</td><td>0.1620259</td><td> 0.03053941</td></tr>\n",
       "\t<tr><td> 9</td><td>0.4333460</td><td>0.1436480</td><td>0.1299861</td><td>-0.02521360</td></tr>\n",
       "\t<tr><td>10</td><td>0.4141084</td><td>0.1783139</td><td>0.1503601</td><td> 0.03128197</td></tr>\n",
       "</tbody>\n",
       "</table>\n"
      ],
      "text/latex": [
       "A data.table: 10 × 5\n",
       "\\begin{tabular}{lllll}\n",
       " generation & average & cor\\_kid\\_father & cor\\_kid\\_mother & cor\\_father\\_mother\\\\\n",
       " <int> & <dbl> & <dbl> & <dbl> & <dbl>\\\\\n",
       "\\hline\n",
       "\t  1 & 0.3984700 & 0.1167146 & 0.1683724 & -0.00397079\\\\\n",
       "\t  2 & 0.3973159 & 0.1271531 & 0.1502796 & -0.01773577\\\\\n",
       "\t  3 & 0.4064284 & 0.1591879 & 0.1452047 &  0.07010770\\\\\n",
       "\t  4 & 0.4305984 & 0.1582951 & 0.1451794 & -0.01904595\\\\\n",
       "\t  5 & 0.4139249 & 0.1339551 & 0.1672606 & -0.02494781\\\\\n",
       "\t  6 & 0.4416047 & 0.1442953 & 0.1671510 & -0.02755566\\\\\n",
       "\t  7 & 0.4043321 & 0.1454876 & 0.1451702 &  0.04670183\\\\\n",
       "\t  8 & 0.4210788 & 0.1261394 & 0.1620259 &  0.03053941\\\\\n",
       "\t  9 & 0.4333460 & 0.1436480 & 0.1299861 & -0.02521360\\\\\n",
       "\t 10 & 0.4141084 & 0.1783139 & 0.1503601 &  0.03128197\\\\\n",
       "\\end{tabular}\n"
      ],
      "text/markdown": [
       "\n",
       "A data.table: 10 × 5\n",
       "\n",
       "| generation &lt;int&gt; | average &lt;dbl&gt; | cor_kid_father &lt;dbl&gt; | cor_kid_mother &lt;dbl&gt; | cor_father_mother &lt;dbl&gt; |\n",
       "|---|---|---|---|---|\n",
       "|  1 | 0.3984700 | 0.1167146 | 0.1683724 | -0.00397079 |\n",
       "|  2 | 0.3973159 | 0.1271531 | 0.1502796 | -0.01773577 |\n",
       "|  3 | 0.4064284 | 0.1591879 | 0.1452047 |  0.07010770 |\n",
       "|  4 | 0.4305984 | 0.1582951 | 0.1451794 | -0.01904595 |\n",
       "|  5 | 0.4139249 | 0.1339551 | 0.1672606 | -0.02494781 |\n",
       "|  6 | 0.4416047 | 0.1442953 | 0.1671510 | -0.02755566 |\n",
       "|  7 | 0.4043321 | 0.1454876 | 0.1451702 |  0.04670183 |\n",
       "|  8 | 0.4210788 | 0.1261394 | 0.1620259 |  0.03053941 |\n",
       "|  9 | 0.4333460 | 0.1436480 | 0.1299861 | -0.02521360 |\n",
       "| 10 | 0.4141084 | 0.1783139 | 0.1503601 |  0.03128197 |\n",
       "\n"
      ],
      "text/plain": [
       "   generation average   cor_kid_father cor_kid_mother cor_father_mother\n",
       "1   1         0.3984700 0.1167146      0.1683724      -0.00397079      \n",
       "2   2         0.3973159 0.1271531      0.1502796      -0.01773577      \n",
       "3   3         0.4064284 0.1591879      0.1452047       0.07010770      \n",
       "4   4         0.4305984 0.1582951      0.1451794      -0.01904595      \n",
       "5   5         0.4139249 0.1339551      0.1672606      -0.02494781      \n",
       "6   6         0.4416047 0.1442953      0.1671510      -0.02755566      \n",
       "7   7         0.4043321 0.1454876      0.1451702       0.04670183      \n",
       "8   8         0.4210788 0.1261394      0.1620259       0.03053941      \n",
       "9   9         0.4333460 0.1436480      0.1299861      -0.02521360      \n",
       "10 10         0.4141084 0.1783139      0.1503601       0.03128197      "
      ]
     },
     "metadata": {},
     "output_type": "display_data"
    }
   ],
   "source": [
    "dcc = cc[, .(average = mean(trait), \n",
    "    cor_kid_father = cor(trait, father_trait), \n",
    "    cor_kid_mother = cor(trait, mother_trait), \n",
    "    cor_father_mother = cor(father_trait, mother_trait)), generation]\n",
    "dcc"
   ]
  }
 ],
 "metadata": {
  "interpreter": {
   "hash": "e2e428ab9c127afb68bd4bd6fa54439dcad71a6972a08f78f80f785dd2e6f6bf"
  },
  "kernelspec": {
   "display_name": "R",
   "language": "R",
   "name": "ir"
  },
  "language_info": {
   "codemirror_mode": "r",
   "file_extension": ".r",
   "mimetype": "text/x-r-source",
   "name": "R",
   "pygments_lexer": "r",
   "version": "4.1.2"
  },
  "orig_nbformat": 4
 },
 "nbformat": 4,
 "nbformat_minor": 2
}
