{
 "cells": [
  {
   "cell_type": "markdown",
   "metadata": {},
   "source": [
    "# Create tables"
   ]
  },
  {
   "cell_type": "code",
   "execution_count": 2,
   "metadata": {},
   "outputs": [],
   "source": [
    "import nbformat\n",
    "from nbconvert.preprocessors import ExecutePreprocessor\n",
    "from Sensitivity import Sensitivity\n",
    "import joblib\n",
    "import shutil"
   ]
  },
  {
   "cell_type": "code",
   "execution_count": 3,
   "metadata": {},
   "outputs": [],
   "source": [
    "def run_notebook(notebook, timeout=600, kernel_name='python3'):\n",
    "    with open(notebook) as f:\n",
    "        nb = nbformat.read(f, as_version=4)\n",
    "    ep = ExecutePreprocessor(timeout=timeout, kernel_name=kernel_name)\n",
    "    ep.preprocess(nb)\n",
    "    with open(notebook, 'w', encoding='utf-8') as f:\n",
    "        nbformat.write(nb, f)"
   ]
  },
  {
   "cell_type": "markdown",
   "metadata": {},
   "source": [
    "## Efast"
   ]
  },
  {
   "cell_type": "code",
   "execution_count": 4,
   "metadata": {},
   "outputs": [],
   "source": [
    "nbs = ['sensitivity-efast-snp.ipynb', 'sensitivity-efast-snp-vertical-trans.ipynb', 'sensitivity-efast-vertical-trans.ipynb']\n",
    "\n",
    "for i in nbs:\n",
    "    run_notebook(i)"
   ]
  },
  {
   "cell_type": "code",
   "execution_count": 5,
   "metadata": {},
   "outputs": [
    {
     "data": {
      "text/plain": [
       "'../manuscript/tables/efast.tex'"
      ]
     },
     "execution_count": 5,
     "metadata": {},
     "output_type": "execute_result"
    }
   ],
   "source": [
    "# create table\n",
    "snp = joblib.load('efast-snp.pkl')\n",
    "vt = joblib.load('efast-vt.pkl')\n",
    "snp_vt = joblib.load('efast-snp-vt.pkl')\n",
    "\n",
    "with open(\"../output/tables/efast.tex\", \"w\") as f:\n",
    "    f.write('''\n",
    "\\\\begin{table}[htp]\n",
    "\\\\renewcommand{\\\\arraystretch}{1.15}\n",
    "\\\\setlength{\\\\tabcolsep}{5pt}\n",
    "\\\\caption{Efast sensitivity results}\n",
    "\\\\label{tab:efast}\n",
    "\\\\footnotesize\n",
    "\\\\centering\n",
    "\\\\begin{threeparttable}\n",
    "\\\\begin{tabular}{lccc}\n",
    "\\\\hline\n",
    "\\\\addlinespace\n",
    "& Proportion Obese & Average BMI & SD BMI \\\\\\\\\n",
    "\\\\addlinespace\n",
    "\\\\hline\n",
    "\\\\addlinespace\n",
    "\\\\multicolumn{4}{l}{\\\\textbf{Scenario 1 (only genes, N=6000)}} \\\\\\\\\n",
    "\\\\addlinespace[6pt]\n",
    "\\\\multicolumn{4}{l}{\\\\hspace{1em} S1} \\\\\\\\\\n''')\n",
    "    f.write(snp['s1'])\n",
    "    f.write('''\\\\\\\\\n",
    "\\\\addlinespace[12pt]\n",
    "\\\\multicolumn{4}{l}{\\hspace{1em} ST} \\\\\\\\ \\n''')\n",
    "    f.write(snp['st'])\n",
    "    f.write('''\\\\\\\\ \n",
    "\\\\addlinespace[12pt]\n",
    "    \\\\multicolumn{4}{l}{\\\\textbf{Scenario 2 (only vertical transmission, N=6000)}} \\\\\\\\\n",
    "    \\\\addlinespace[6pt]\n",
    "    \\\\multicolumn{4}{l}{\\\\hspace{1em} S1} \\\\\\\\\\n''')\n",
    "    f.write(vt['s1'])\n",
    "    f.write('''\\\\\\\\\n",
    "\\\\addlinespace[12pt]\n",
    "\\\\multicolumn{4}{l}{\\hspace{1em} ST} \\\\\\\\ \\n''')\n",
    "    f.write(vt['st'])\n",
    "    f.write('''\\\\\\\\ \n",
    "\\\\addlinespace[12pt]\n",
    "    \\\\multicolumn{4}{l}{\\\\textbf{Scenario 3 (genes and vertical transmission, N=8000)}} \\\\\\\\\n",
    "    \\\\addlinespace[6pt]\n",
    "    \\\\multicolumn{4}{l}{\\\\hspace{1em} S1} \\\\\\\\\\n''')\n",
    "    f.write(snp_vt['s1'])\n",
    "    f.write('''\\\\\\\\\n",
    "\\\\addlinespace[12pt]\n",
    "\\\\multicolumn{4}{l}{\\hspace{1em} ST} \\\\\\\\ \\n''')\n",
    "    f.write(snp_vt['st'])\n",
    "    f.write('''\\\\\\\\\n",
    "\\\\addlinespace\n",
    "\\\\hline\n",
    "\\\\end{tabular}\n",
    "\\\\begin{tablenotes}\n",
    "\\\\scriptsize\n",
    "\\\\item 95\\\\% confidence interval in brackets.\n",
    "\\\\item S1 = First-order indices,  measures the contribution to the output variance by a single model input alone.\n",
    "\\\\item ST = Total-order index, measures the contribution to the output variance caused by a model input, including both its first-order effects (the input varying alone) and all higher-order interactions.\n",
    "\\\\end{tablenotes}\n",
    "\\\\end{threeparttable}\n",
    "\\\\end{table}''')\n",
    "\n",
    "\n",
    "shutil.copy(\"../output/tables/efast.tex\",'../manuscript/tables')"
   ]
  },
  {
   "cell_type": "markdown",
   "metadata": {},
   "source": [
    "## Sobol"
   ]
  },
  {
   "cell_type": "code",
   "execution_count": 4,
   "metadata": {},
   "outputs": [
    {
     "ename": "CellExecutionError",
     "evalue": "An error occurred while executing the following cell:\n------------------\nsb = Sensitivity(problem, df['g4'], X)\nsb.score('sobol')\nsb.plot(save=True, filepath= plots_path + 'snp-vt-sobol-prop-obese.pdf',\n    move=True, moving_path= '../manuscript/plots/')\nsb.plot3D(labels={'outcome':'obese', 'y':'random mating', 'x':'vertical transmission', 'z':'genes'})\nsav = {\n    'sb_obese_s1': sb.tabval('S1'),\n    'sb_obese_s2': sb.tabval('S2'),\n    'sb_obese_st': sb.tabval('ST')\n}\n------------------\n\n\u001b[0;31m---------------------------------------------------------------------------\u001b[0m\n\u001b[0;31mRuntimeError\u001b[0m                              Traceback (most recent call last)\nInput \u001b[0;32mIn [6]\u001b[0m, in \u001b[0;36m<cell line: 2>\u001b[0;34m()\u001b[0m\n\u001b[1;32m      1\u001b[0m sb \u001b[38;5;241m=\u001b[39m Sensitivity(problem, df[\u001b[38;5;124m'\u001b[39m\u001b[38;5;124mg4\u001b[39m\u001b[38;5;124m'\u001b[39m], X)\n\u001b[0;32m----> 2\u001b[0m \u001b[43msb\u001b[49m\u001b[38;5;241;43m.\u001b[39;49m\u001b[43mscore\u001b[49m\u001b[43m(\u001b[49m\u001b[38;5;124;43m'\u001b[39;49m\u001b[38;5;124;43msobol\u001b[39;49m\u001b[38;5;124;43m'\u001b[39;49m\u001b[43m)\u001b[49m\n\u001b[1;32m      3\u001b[0m sb\u001b[38;5;241m.\u001b[39mplot(save\u001b[38;5;241m=\u001b[39m\u001b[38;5;28;01mTrue\u001b[39;00m, filepath\u001b[38;5;241m=\u001b[39m plots_path \u001b[38;5;241m+\u001b[39m \u001b[38;5;124m'\u001b[39m\u001b[38;5;124msnp-vt-sobol-prop-obese.pdf\u001b[39m\u001b[38;5;124m'\u001b[39m,\n\u001b[1;32m      4\u001b[0m     move\u001b[38;5;241m=\u001b[39m\u001b[38;5;28;01mTrue\u001b[39;00m, moving_path\u001b[38;5;241m=\u001b[39m \u001b[38;5;124m'\u001b[39m\u001b[38;5;124m../manuscript/plots/\u001b[39m\u001b[38;5;124m'\u001b[39m)\n\u001b[1;32m      5\u001b[0m sb\u001b[38;5;241m.\u001b[39mplot3D(labels\u001b[38;5;241m=\u001b[39m{\u001b[38;5;124m'\u001b[39m\u001b[38;5;124moutcome\u001b[39m\u001b[38;5;124m'\u001b[39m:\u001b[38;5;124m'\u001b[39m\u001b[38;5;124mobese\u001b[39m\u001b[38;5;124m'\u001b[39m, \u001b[38;5;124m'\u001b[39m\u001b[38;5;124my\u001b[39m\u001b[38;5;124m'\u001b[39m:\u001b[38;5;124m'\u001b[39m\u001b[38;5;124mrandom mating\u001b[39m\u001b[38;5;124m'\u001b[39m, \u001b[38;5;124m'\u001b[39m\u001b[38;5;124mx\u001b[39m\u001b[38;5;124m'\u001b[39m:\u001b[38;5;124m'\u001b[39m\u001b[38;5;124mvertical transmission\u001b[39m\u001b[38;5;124m'\u001b[39m, \u001b[38;5;124m'\u001b[39m\u001b[38;5;124mz\u001b[39m\u001b[38;5;124m'\u001b[39m:\u001b[38;5;124m'\u001b[39m\u001b[38;5;124mgenes\u001b[39m\u001b[38;5;124m'\u001b[39m})\n\nFile \u001b[0;32m~/Documents/git/heritability-dem/notebooks/Sensitivity.py:29\u001b[0m, in \u001b[0;36mSensitivity.score\u001b[0;34m(self, type)\u001b[0m\n\u001b[1;32m     27\u001b[0m     \u001b[38;5;28mself\u001b[39m\u001b[38;5;241m.\u001b[39mSif \u001b[38;5;241m=\u001b[39m fast\u001b[38;5;241m.\u001b[39manalyze(\u001b[38;5;28mself\u001b[39m\u001b[38;5;241m.\u001b[39mproblem, \u001b[38;5;28mself\u001b[39m\u001b[38;5;241m.\u001b[39mY, print_to_console\u001b[38;5;241m=\u001b[39m\u001b[38;5;28;01mTrue\u001b[39;00m)\n\u001b[1;32m     28\u001b[0m \u001b[38;5;28;01mif\u001b[39;00m (\u001b[38;5;28mself\u001b[39m\u001b[38;5;241m.\u001b[39mtype \u001b[38;5;241m==\u001b[39m \u001b[38;5;124m'\u001b[39m\u001b[38;5;124msobol\u001b[39m\u001b[38;5;124m'\u001b[39m):\n\u001b[0;32m---> 29\u001b[0m     \u001b[38;5;28mself\u001b[39m\u001b[38;5;241m.\u001b[39mSif \u001b[38;5;241m=\u001b[39m \u001b[43msobol\u001b[49m\u001b[38;5;241;43m.\u001b[39;49m\u001b[43manalyze\u001b[49m\u001b[43m(\u001b[49m\u001b[38;5;28;43mself\u001b[39;49m\u001b[38;5;241;43m.\u001b[39;49m\u001b[43mproblem\u001b[49m\u001b[43m,\u001b[49m\u001b[43m \u001b[49m\u001b[38;5;28;43mself\u001b[39;49m\u001b[38;5;241;43m.\u001b[39;49m\u001b[43mY\u001b[49m\u001b[43m,\u001b[49m\u001b[43m \u001b[49m\u001b[43mprint_to_console\u001b[49m\u001b[38;5;241;43m=\u001b[39;49m\u001b[38;5;28;43;01mTrue\u001b[39;49;00m\u001b[43m)\u001b[49m\n\nFile \u001b[0;32m~/Documents/git/heritability-dem/env/lib/python3.9/site-packages/SALib/analyze/sobol.py:88\u001b[0m, in \u001b[0;36manalyze\u001b[0;34m(problem, Y, calc_second_order, num_resamples, conf_level, print_to_console, parallel, n_processors, keep_resamples, seed)\u001b[0m\n\u001b[1;32m     86\u001b[0m     N \u001b[38;5;241m=\u001b[39m \u001b[38;5;28mint\u001b[39m(Y\u001b[38;5;241m.\u001b[39msize \u001b[38;5;241m/\u001b[39m (D \u001b[38;5;241m+\u001b[39m \u001b[38;5;241m2\u001b[39m))\n\u001b[1;32m     87\u001b[0m \u001b[38;5;28;01melse\u001b[39;00m:\n\u001b[0;32m---> 88\u001b[0m     \u001b[38;5;28;01mraise\u001b[39;00m \u001b[38;5;167;01mRuntimeError\u001b[39;00m(\u001b[38;5;124m\"\"\"\u001b[39m\n\u001b[1;32m     89\u001b[0m \u001b[38;5;124m    Incorrect number of samples in model output file.\u001b[39m\n\u001b[1;32m     90\u001b[0m \u001b[38;5;124m    Confirm that calc_second_order matches option used during sampling.\u001b[39m\u001b[38;5;124m\"\"\"\u001b[39m)\n\u001b[1;32m     92\u001b[0m \u001b[38;5;28;01mif\u001b[39;00m \u001b[38;5;129;01mnot\u001b[39;00m \u001b[38;5;241m0\u001b[39m \u001b[38;5;241m<\u001b[39m conf_level \u001b[38;5;241m<\u001b[39m \u001b[38;5;241m1\u001b[39m:\n\u001b[1;32m     93\u001b[0m     \u001b[38;5;28;01mraise\u001b[39;00m \u001b[38;5;167;01mRuntimeError\u001b[39;00m(\u001b[38;5;124m\"\u001b[39m\u001b[38;5;124mConfidence level must be between 0-1.\u001b[39m\u001b[38;5;124m\"\u001b[39m)\n\n\u001b[0;31mRuntimeError\u001b[0m: \n        Incorrect number of samples in model output file.\n        Confirm that calc_second_order matches option used during sampling.\nRuntimeError: \n        Incorrect number of samples in model output file.\n        Confirm that calc_second_order matches option used during sampling.\n",
     "output_type": "error",
     "traceback": [
      "\u001b[0;31m---------------------------------------------------------------------------\u001b[0m",
      "\u001b[0;31mCellExecutionError\u001b[0m                        Traceback (most recent call last)",
      "\u001b[1;32m/Users/sdaza/Documents/git/heritability-dem/notebooks/00-run-all-notebooks.ipynb Cell 8'\u001b[0m in \u001b[0;36m<cell line: 3>\u001b[0;34m()\u001b[0m\n\u001b[1;32m      <a href='vscode-notebook-cell:/Users/sdaza/Documents/git/heritability-dem/notebooks/00-run-all-notebooks.ipynb#ch0000007?line=0'>1</a>\u001b[0m nbs \u001b[39m=\u001b[39m [\u001b[39m'\u001b[39m\u001b[39msensitivity-sobol-snp.ipynb\u001b[39m\u001b[39m'\u001b[39m, \u001b[39m'\u001b[39m\u001b[39msensitivity-sobol-snp-vertical-trans.ipynb\u001b[39m\u001b[39m'\u001b[39m, \u001b[39m'\u001b[39m\u001b[39msensitivity-sobol-vertical-trans.ipynb\u001b[39m\u001b[39m'\u001b[39m]\n\u001b[1;32m      <a href='vscode-notebook-cell:/Users/sdaza/Documents/git/heritability-dem/notebooks/00-run-all-notebooks.ipynb#ch0000007?line=2'>3</a>\u001b[0m \u001b[39mfor\u001b[39;00m i \u001b[39min\u001b[39;00m nbs:\n\u001b[0;32m----> <a href='vscode-notebook-cell:/Users/sdaza/Documents/git/heritability-dem/notebooks/00-run-all-notebooks.ipynb#ch0000007?line=3'>4</a>\u001b[0m     run_notebook(i)\n",
      "\u001b[1;32m/Users/sdaza/Documents/git/heritability-dem/notebooks/00-run-all-notebooks.ipynb Cell 3'\u001b[0m in \u001b[0;36mrun_notebook\u001b[0;34m(notebook, timeout, kernel_name)\u001b[0m\n\u001b[1;32m      <a href='vscode-notebook-cell:/Users/sdaza/Documents/git/heritability-dem/notebooks/00-run-all-notebooks.ipynb#ch0000002?line=2'>3</a>\u001b[0m     nb \u001b[39m=\u001b[39m nbformat\u001b[39m.\u001b[39mread(f, as_version\u001b[39m=\u001b[39m\u001b[39m4\u001b[39m)\n\u001b[1;32m      <a href='vscode-notebook-cell:/Users/sdaza/Documents/git/heritability-dem/notebooks/00-run-all-notebooks.ipynb#ch0000002?line=3'>4</a>\u001b[0m ep \u001b[39m=\u001b[39m ExecutePreprocessor(timeout\u001b[39m=\u001b[39mtimeout, kernel_name\u001b[39m=\u001b[39mkernel_name)\n\u001b[0;32m----> <a href='vscode-notebook-cell:/Users/sdaza/Documents/git/heritability-dem/notebooks/00-run-all-notebooks.ipynb#ch0000002?line=4'>5</a>\u001b[0m ep\u001b[39m.\u001b[39;49mpreprocess(nb)\n\u001b[1;32m      <a href='vscode-notebook-cell:/Users/sdaza/Documents/git/heritability-dem/notebooks/00-run-all-notebooks.ipynb#ch0000002?line=5'>6</a>\u001b[0m \u001b[39mwith\u001b[39;00m \u001b[39mopen\u001b[39m(notebook, \u001b[39m'\u001b[39m\u001b[39mw\u001b[39m\u001b[39m'\u001b[39m, encoding\u001b[39m=\u001b[39m\u001b[39m'\u001b[39m\u001b[39mutf-8\u001b[39m\u001b[39m'\u001b[39m) \u001b[39mas\u001b[39;00m f:\n\u001b[1;32m      <a href='vscode-notebook-cell:/Users/sdaza/Documents/git/heritability-dem/notebooks/00-run-all-notebooks.ipynb#ch0000002?line=6'>7</a>\u001b[0m     nbformat\u001b[39m.\u001b[39mwrite(nb, f)\n",
      "File \u001b[0;32m~/Documents/git/heritability-dem/env/lib/python3.9/site-packages/nbconvert/preprocessors/execute.py:89\u001b[0m, in \u001b[0;36mExecutePreprocessor.preprocess\u001b[0;34m(self, nb, resources, km)\u001b[0m\n\u001b[1;32m     87\u001b[0m     \u001b[39mself\u001b[39m\u001b[39m.\u001b[39mnb\u001b[39m.\u001b[39mmetadata[\u001b[39m\"\u001b[39m\u001b[39mlanguage_info\u001b[39m\u001b[39m\"\u001b[39m] \u001b[39m=\u001b[39m info_msg[\u001b[39m\"\u001b[39m\u001b[39mcontent\u001b[39m\u001b[39m\"\u001b[39m][\u001b[39m\"\u001b[39m\u001b[39mlanguage_info\u001b[39m\u001b[39m\"\u001b[39m]\n\u001b[1;32m     88\u001b[0m     \u001b[39mfor\u001b[39;00m index, cell \u001b[39min\u001b[39;00m \u001b[39menumerate\u001b[39m(\u001b[39mself\u001b[39m\u001b[39m.\u001b[39mnb\u001b[39m.\u001b[39mcells):\n\u001b[0;32m---> 89\u001b[0m         \u001b[39mself\u001b[39;49m\u001b[39m.\u001b[39;49mpreprocess_cell(cell, resources, index)\n\u001b[1;32m     90\u001b[0m \u001b[39mself\u001b[39m\u001b[39m.\u001b[39mset_widgets_metadata()\n\u001b[1;32m     92\u001b[0m \u001b[39mreturn\u001b[39;00m \u001b[39mself\u001b[39m\u001b[39m.\u001b[39mnb, \u001b[39mself\u001b[39m\u001b[39m.\u001b[39mresources\n",
      "File \u001b[0;32m~/Documents/git/heritability-dem/env/lib/python3.9/site-packages/nbconvert/preprocessors/execute.py:110\u001b[0m, in \u001b[0;36mExecutePreprocessor.preprocess_cell\u001b[0;34m(self, cell, resources, index)\u001b[0m\n\u001b[1;32m     95\u001b[0m \u001b[39m\"\"\"\u001b[39;00m\n\u001b[1;32m     96\u001b[0m \u001b[39mOverride if you want to apply some preprocessing to each cell.\u001b[39;00m\n\u001b[1;32m     97\u001b[0m \u001b[39mMust return modified cell and resource dictionary.\u001b[39;00m\n\u001b[0;32m   (...)\u001b[0m\n\u001b[1;32m    107\u001b[0m \u001b[39m    Index of the cell being processed\u001b[39;00m\n\u001b[1;32m    108\u001b[0m \u001b[39m\"\"\"\u001b[39;00m\n\u001b[1;32m    109\u001b[0m \u001b[39mself\u001b[39m\u001b[39m.\u001b[39m_check_assign_resources(resources)\n\u001b[0;32m--> 110\u001b[0m cell \u001b[39m=\u001b[39m \u001b[39mself\u001b[39;49m\u001b[39m.\u001b[39;49mexecute_cell(cell, index, store_history\u001b[39m=\u001b[39;49m\u001b[39mTrue\u001b[39;49;00m)\n\u001b[1;32m    111\u001b[0m \u001b[39mreturn\u001b[39;00m cell, \u001b[39mself\u001b[39m\u001b[39m.\u001b[39mresources\n",
      "File \u001b[0;32m~/Documents/git/heritability-dem/env/lib/python3.9/site-packages/nbclient/util.py:87\u001b[0m, in \u001b[0;36mrun_sync.<locals>.wrapped\u001b[0;34m(*args, **kwargs)\u001b[0m\n\u001b[1;32m     86\u001b[0m \u001b[39mdef\u001b[39;00m \u001b[39mwrapped\u001b[39m(\u001b[39m*\u001b[39margs, \u001b[39m*\u001b[39m\u001b[39m*\u001b[39mkwargs):\n\u001b[0;32m---> 87\u001b[0m     \u001b[39mreturn\u001b[39;00m just_run(coro(\u001b[39m*\u001b[39;49margs, \u001b[39m*\u001b[39;49m\u001b[39m*\u001b[39;49mkwargs))\n",
      "File \u001b[0;32m~/Documents/git/heritability-dem/env/lib/python3.9/site-packages/nbclient/util.py:62\u001b[0m, in \u001b[0;36mjust_run\u001b[0;34m(coro)\u001b[0m\n\u001b[1;32m     60\u001b[0m     nest_asyncio\u001b[39m.\u001b[39mapply()\n\u001b[1;32m     61\u001b[0m     check_patch_tornado()\n\u001b[0;32m---> 62\u001b[0m \u001b[39mreturn\u001b[39;00m loop\u001b[39m.\u001b[39;49mrun_until_complete(coro)\n",
      "File \u001b[0;32m~/Documents/git/heritability-dem/env/lib/python3.9/site-packages/nest_asyncio.py:89\u001b[0m, in \u001b[0;36m_patch_loop.<locals>.run_until_complete\u001b[0;34m(self, future)\u001b[0m\n\u001b[1;32m     86\u001b[0m \u001b[39mif\u001b[39;00m \u001b[39mnot\u001b[39;00m f\u001b[39m.\u001b[39mdone():\n\u001b[1;32m     87\u001b[0m     \u001b[39mraise\u001b[39;00m \u001b[39mRuntimeError\u001b[39;00m(\n\u001b[1;32m     88\u001b[0m         \u001b[39m'\u001b[39m\u001b[39mEvent loop stopped before Future completed.\u001b[39m\u001b[39m'\u001b[39m)\n\u001b[0;32m---> 89\u001b[0m \u001b[39mreturn\u001b[39;00m f\u001b[39m.\u001b[39;49mresult()\n",
      "File \u001b[0;32m/Library/Frameworks/Python.framework/Versions/3.9/lib/python3.9/asyncio/futures.py:201\u001b[0m, in \u001b[0;36mFuture.result\u001b[0;34m(self)\u001b[0m\n\u001b[1;32m    199\u001b[0m \u001b[39mself\u001b[39m\u001b[39m.\u001b[39m__log_traceback \u001b[39m=\u001b[39m \u001b[39mFalse\u001b[39;00m\n\u001b[1;32m    200\u001b[0m \u001b[39mif\u001b[39;00m \u001b[39mself\u001b[39m\u001b[39m.\u001b[39m_exception \u001b[39mis\u001b[39;00m \u001b[39mnot\u001b[39;00m \u001b[39mNone\u001b[39;00m:\n\u001b[0;32m--> 201\u001b[0m     \u001b[39mraise\u001b[39;00m \u001b[39mself\u001b[39m\u001b[39m.\u001b[39m_exception\n\u001b[1;32m    202\u001b[0m \u001b[39mreturn\u001b[39;00m \u001b[39mself\u001b[39m\u001b[39m.\u001b[39m_result\n",
      "File \u001b[0;32m/Library/Frameworks/Python.framework/Versions/3.9/lib/python3.9/asyncio/tasks.py:256\u001b[0m, in \u001b[0;36mTask.__step\u001b[0;34m(***failed resolving arguments***)\u001b[0m\n\u001b[1;32m    252\u001b[0m \u001b[39mtry\u001b[39;00m:\n\u001b[1;32m    253\u001b[0m     \u001b[39mif\u001b[39;00m exc \u001b[39mis\u001b[39;00m \u001b[39mNone\u001b[39;00m:\n\u001b[1;32m    254\u001b[0m         \u001b[39m# We use the `send` method directly, because coroutines\u001b[39;00m\n\u001b[1;32m    255\u001b[0m         \u001b[39m# don't have `__iter__` and `__next__` methods.\u001b[39;00m\n\u001b[0;32m--> 256\u001b[0m         result \u001b[39m=\u001b[39m coro\u001b[39m.\u001b[39;49msend(\u001b[39mNone\u001b[39;49;00m)\n\u001b[1;32m    257\u001b[0m     \u001b[39melse\u001b[39;00m:\n\u001b[1;32m    258\u001b[0m         result \u001b[39m=\u001b[39m coro\u001b[39m.\u001b[39mthrow(exc)\n",
      "File \u001b[0;32m~/Documents/git/heritability-dem/env/lib/python3.9/site-packages/nbclient/client.py:1012\u001b[0m, in \u001b[0;36mNotebookClient.async_execute_cell\u001b[0;34m(self, cell, cell_index, execution_count, store_history)\u001b[0m\n\u001b[1;32m   1008\u001b[0m     cell[\u001b[39m'\u001b[39m\u001b[39mexecution_count\u001b[39m\u001b[39m'\u001b[39m] \u001b[39m=\u001b[39m execution_count\n\u001b[1;32m   1009\u001b[0m \u001b[39mawait\u001b[39;00m run_hook(\n\u001b[1;32m   1010\u001b[0m     \u001b[39mself\u001b[39m\u001b[39m.\u001b[39mon_cell_executed, cell\u001b[39m=\u001b[39mcell, cell_index\u001b[39m=\u001b[39mcell_index, execute_reply\u001b[39m=\u001b[39mexec_reply\n\u001b[1;32m   1011\u001b[0m )\n\u001b[0;32m-> 1012\u001b[0m \u001b[39mawait\u001b[39;00m \u001b[39mself\u001b[39m\u001b[39m.\u001b[39m_check_raise_for_error(cell, cell_index, exec_reply)\n\u001b[1;32m   1013\u001b[0m \u001b[39mself\u001b[39m\u001b[39m.\u001b[39mnb[\u001b[39m'\u001b[39m\u001b[39mcells\u001b[39m\u001b[39m'\u001b[39m][cell_index] \u001b[39m=\u001b[39m cell\n\u001b[1;32m   1014\u001b[0m \u001b[39mreturn\u001b[39;00m cell\n",
      "File \u001b[0;32m~/Documents/git/heritability-dem/env/lib/python3.9/site-packages/nbclient/client.py:906\u001b[0m, in \u001b[0;36mNotebookClient._check_raise_for_error\u001b[0;34m(self, cell, cell_index, exec_reply)\u001b[0m\n\u001b[1;32m    902\u001b[0m \u001b[39mawait\u001b[39;00m run_hook(\n\u001b[1;32m    903\u001b[0m     \u001b[39mself\u001b[39m\u001b[39m.\u001b[39mon_cell_error, cell\u001b[39m=\u001b[39mcell, cell_index\u001b[39m=\u001b[39mcell_index, execute_reply\u001b[39m=\u001b[39mexec_reply\n\u001b[1;32m    904\u001b[0m )\n\u001b[1;32m    905\u001b[0m \u001b[39mif\u001b[39;00m \u001b[39mnot\u001b[39;00m cell_allows_errors:\n\u001b[0;32m--> 906\u001b[0m     \u001b[39mraise\u001b[39;00m CellExecutionError\u001b[39m.\u001b[39mfrom_cell_and_msg(cell, exec_reply_content)\n",
      "\u001b[0;31mCellExecutionError\u001b[0m: An error occurred while executing the following cell:\n------------------\nsb = Sensitivity(problem, df['g4'], X)\nsb.score('sobol')\nsb.plot(save=True, filepath= plots_path + 'snp-vt-sobol-prop-obese.pdf',\n    move=True, moving_path= '../manuscript/plots/')\nsb.plot3D(labels={'outcome':'obese', 'y':'random mating', 'x':'vertical transmission', 'z':'genes'})\nsav = {\n    'sb_obese_s1': sb.tabval('S1'),\n    'sb_obese_s2': sb.tabval('S2'),\n    'sb_obese_st': sb.tabval('ST')\n}\n------------------\n\n\u001b[0;31m---------------------------------------------------------------------------\u001b[0m\n\u001b[0;31mRuntimeError\u001b[0m                              Traceback (most recent call last)\nInput \u001b[0;32mIn [6]\u001b[0m, in \u001b[0;36m<cell line: 2>\u001b[0;34m()\u001b[0m\n\u001b[1;32m      1\u001b[0m sb \u001b[38;5;241m=\u001b[39m Sensitivity(problem, df[\u001b[38;5;124m'\u001b[39m\u001b[38;5;124mg4\u001b[39m\u001b[38;5;124m'\u001b[39m], X)\n\u001b[0;32m----> 2\u001b[0m \u001b[43msb\u001b[49m\u001b[38;5;241;43m.\u001b[39;49m\u001b[43mscore\u001b[49m\u001b[43m(\u001b[49m\u001b[38;5;124;43m'\u001b[39;49m\u001b[38;5;124;43msobol\u001b[39;49m\u001b[38;5;124;43m'\u001b[39;49m\u001b[43m)\u001b[49m\n\u001b[1;32m      3\u001b[0m sb\u001b[38;5;241m.\u001b[39mplot(save\u001b[38;5;241m=\u001b[39m\u001b[38;5;28;01mTrue\u001b[39;00m, filepath\u001b[38;5;241m=\u001b[39m plots_path \u001b[38;5;241m+\u001b[39m \u001b[38;5;124m'\u001b[39m\u001b[38;5;124msnp-vt-sobol-prop-obese.pdf\u001b[39m\u001b[38;5;124m'\u001b[39m,\n\u001b[1;32m      4\u001b[0m     move\u001b[38;5;241m=\u001b[39m\u001b[38;5;28;01mTrue\u001b[39;00m, moving_path\u001b[38;5;241m=\u001b[39m \u001b[38;5;124m'\u001b[39m\u001b[38;5;124m../manuscript/plots/\u001b[39m\u001b[38;5;124m'\u001b[39m)\n\u001b[1;32m      5\u001b[0m sb\u001b[38;5;241m.\u001b[39mplot3D(labels\u001b[38;5;241m=\u001b[39m{\u001b[38;5;124m'\u001b[39m\u001b[38;5;124moutcome\u001b[39m\u001b[38;5;124m'\u001b[39m:\u001b[38;5;124m'\u001b[39m\u001b[38;5;124mobese\u001b[39m\u001b[38;5;124m'\u001b[39m, \u001b[38;5;124m'\u001b[39m\u001b[38;5;124my\u001b[39m\u001b[38;5;124m'\u001b[39m:\u001b[38;5;124m'\u001b[39m\u001b[38;5;124mrandom mating\u001b[39m\u001b[38;5;124m'\u001b[39m, \u001b[38;5;124m'\u001b[39m\u001b[38;5;124mx\u001b[39m\u001b[38;5;124m'\u001b[39m:\u001b[38;5;124m'\u001b[39m\u001b[38;5;124mvertical transmission\u001b[39m\u001b[38;5;124m'\u001b[39m, \u001b[38;5;124m'\u001b[39m\u001b[38;5;124mz\u001b[39m\u001b[38;5;124m'\u001b[39m:\u001b[38;5;124m'\u001b[39m\u001b[38;5;124mgenes\u001b[39m\u001b[38;5;124m'\u001b[39m})\n\nFile \u001b[0;32m~/Documents/git/heritability-dem/notebooks/Sensitivity.py:29\u001b[0m, in \u001b[0;36mSensitivity.score\u001b[0;34m(self, type)\u001b[0m\n\u001b[1;32m     27\u001b[0m     \u001b[38;5;28mself\u001b[39m\u001b[38;5;241m.\u001b[39mSif \u001b[38;5;241m=\u001b[39m fast\u001b[38;5;241m.\u001b[39manalyze(\u001b[38;5;28mself\u001b[39m\u001b[38;5;241m.\u001b[39mproblem, \u001b[38;5;28mself\u001b[39m\u001b[38;5;241m.\u001b[39mY, print_to_console\u001b[38;5;241m=\u001b[39m\u001b[38;5;28;01mTrue\u001b[39;00m)\n\u001b[1;32m     28\u001b[0m \u001b[38;5;28;01mif\u001b[39;00m (\u001b[38;5;28mself\u001b[39m\u001b[38;5;241m.\u001b[39mtype \u001b[38;5;241m==\u001b[39m \u001b[38;5;124m'\u001b[39m\u001b[38;5;124msobol\u001b[39m\u001b[38;5;124m'\u001b[39m):\n\u001b[0;32m---> 29\u001b[0m     \u001b[38;5;28mself\u001b[39m\u001b[38;5;241m.\u001b[39mSif \u001b[38;5;241m=\u001b[39m \u001b[43msobol\u001b[49m\u001b[38;5;241;43m.\u001b[39;49m\u001b[43manalyze\u001b[49m\u001b[43m(\u001b[49m\u001b[38;5;28;43mself\u001b[39;49m\u001b[38;5;241;43m.\u001b[39;49m\u001b[43mproblem\u001b[49m\u001b[43m,\u001b[49m\u001b[43m \u001b[49m\u001b[38;5;28;43mself\u001b[39;49m\u001b[38;5;241;43m.\u001b[39;49m\u001b[43mY\u001b[49m\u001b[43m,\u001b[49m\u001b[43m \u001b[49m\u001b[43mprint_to_console\u001b[49m\u001b[38;5;241;43m=\u001b[39;49m\u001b[38;5;28;43;01mTrue\u001b[39;49;00m\u001b[43m)\u001b[49m\n\nFile \u001b[0;32m~/Documents/git/heritability-dem/env/lib/python3.9/site-packages/SALib/analyze/sobol.py:88\u001b[0m, in \u001b[0;36manalyze\u001b[0;34m(problem, Y, calc_second_order, num_resamples, conf_level, print_to_console, parallel, n_processors, keep_resamples, seed)\u001b[0m\n\u001b[1;32m     86\u001b[0m     N \u001b[38;5;241m=\u001b[39m \u001b[38;5;28mint\u001b[39m(Y\u001b[38;5;241m.\u001b[39msize \u001b[38;5;241m/\u001b[39m (D \u001b[38;5;241m+\u001b[39m \u001b[38;5;241m2\u001b[39m))\n\u001b[1;32m     87\u001b[0m \u001b[38;5;28;01melse\u001b[39;00m:\n\u001b[0;32m---> 88\u001b[0m     \u001b[38;5;28;01mraise\u001b[39;00m \u001b[38;5;167;01mRuntimeError\u001b[39;00m(\u001b[38;5;124m\"\"\"\u001b[39m\n\u001b[1;32m     89\u001b[0m \u001b[38;5;124m    Incorrect number of samples in model output file.\u001b[39m\n\u001b[1;32m     90\u001b[0m \u001b[38;5;124m    Confirm that calc_second_order matches option used during sampling.\u001b[39m\u001b[38;5;124m\"\"\"\u001b[39m)\n\u001b[1;32m     92\u001b[0m \u001b[38;5;28;01mif\u001b[39;00m \u001b[38;5;129;01mnot\u001b[39;00m \u001b[38;5;241m0\u001b[39m \u001b[38;5;241m<\u001b[39m conf_level \u001b[38;5;241m<\u001b[39m \u001b[38;5;241m1\u001b[39m:\n\u001b[1;32m     93\u001b[0m     \u001b[38;5;28;01mraise\u001b[39;00m \u001b[38;5;167;01mRuntimeError\u001b[39;00m(\u001b[38;5;124m\"\u001b[39m\u001b[38;5;124mConfidence level must be between 0-1.\u001b[39m\u001b[38;5;124m\"\u001b[39m)\n\n\u001b[0;31mRuntimeError\u001b[0m: \n        Incorrect number of samples in model output file.\n        Confirm that calc_second_order matches option used during sampling.\nRuntimeError: \n        Incorrect number of samples in model output file.\n        Confirm that calc_second_order matches option used during sampling.\n"
     ]
    }
   ],
   "source": [
    "nbs = ['sensitivity-sobol-snp.ipynb', 'sensitivity-sobol-snp-vertical-trans.ipynb', 'sensitivity-sobol-vertical-trans.ipynb']\n",
    "\n",
    "for i in nbs:\n",
    "    run_notebook(i)"
   ]
  },
  {
   "cell_type": "code",
   "execution_count": 1,
   "metadata": {},
   "outputs": [
    {
     "ename": "NameError",
     "evalue": "name 'joblib' is not defined",
     "output_type": "error",
     "traceback": [
      "\u001b[0;31m---------------------------------------------------------------------------\u001b[0m",
      "\u001b[0;31mNameError\u001b[0m                                 Traceback (most recent call last)",
      "\u001b[1;32m/Users/sdaza/Documents/git/heritability-dem/notebooks/00-run-all-notebooks.ipynb Cell 2'\u001b[0m in \u001b[0;36m<cell line: 3>\u001b[0;34m()\u001b[0m\n\u001b[1;32m      <a href='vscode-notebook-cell:/Users/sdaza/Documents/git/heritability-dem/notebooks/00-run-all-notebooks.ipynb#ch0000001?line=0'>1</a>\u001b[0m \u001b[39m# create sobol tables\u001b[39;00m\n\u001b[0;32m----> <a href='vscode-notebook-cell:/Users/sdaza/Documents/git/heritability-dem/notebooks/00-run-all-notebooks.ipynb#ch0000001?line=2'>3</a>\u001b[0m snp \u001b[39m=\u001b[39m joblib\u001b[39m.\u001b[39mload(\u001b[39m'\u001b[39m\u001b[39msobol-snp.pkl\u001b[39m\u001b[39m'\u001b[39m)\n\u001b[1;32m      <a href='vscode-notebook-cell:/Users/sdaza/Documents/git/heritability-dem/notebooks/00-run-all-notebooks.ipynb#ch0000001?line=3'>4</a>\u001b[0m vt \u001b[39m=\u001b[39m joblib\u001b[39m.\u001b[39mload(\u001b[39m'\u001b[39m\u001b[39msobol-vt.pkl\u001b[39m\u001b[39m'\u001b[39m)\n\u001b[1;32m      <a href='vscode-notebook-cell:/Users/sdaza/Documents/git/heritability-dem/notebooks/00-run-all-notebooks.ipynb#ch0000001?line=4'>5</a>\u001b[0m snp_vt \u001b[39m=\u001b[39m joblib\u001b[39m.\u001b[39mload(\u001b[39m'\u001b[39m\u001b[39msobol-snp-vt.pkl\u001b[39m\u001b[39m'\u001b[39m)\n",
      "\u001b[0;31mNameError\u001b[0m: name 'joblib' is not defined"
     ]
    }
   ],
   "source": [
    "# create sobol tables\n",
    "\n",
    "snp = joblib.load('sobol-snp.pkl')\n",
    "vt = joblib.load('sobol-vt.pkl')\n",
    "snp_vt = joblib.load('sobol-snp-vt.pkl')\n",
    "\n",
    "if (snp is not None):\n",
    "    with open(\"../output/tables/sobol-snp.tex\", \"w\") as f:\n",
    "        f.write('''\n",
    "    \\\\begin{table}[htp]\n",
    "    \\\\renewcommand{\\\\arraystretch}{1.3}\n",
    "    \\\\setlength{\\\\tabcolsep}{5pt}\n",
    "    \\\\caption{Sobol sensitivity results only genes, Scenario 1 (N=16384)}\n",
    "    \\\\label{tab:sobol-snp}\n",
    "    \\\\footnotesize\n",
    "    \\\\centering\n",
    "    \\\\begin{threeparttable}\n",
    "    \\\\begin{tabular}{lccc}\n",
    "    \\\\hline\n",
    "    \\\\addlinespace\n",
    "    & Proportion Obese & Average BMI & SD BMI \\\\\\\\\n",
    "    \\\\addlinespace\n",
    "    \\\\hline\n",
    "    \\\\addlinespace[6pt]\n",
    "    \\\\multicolumn{4}{l}{\\\\hspace{1em} S1} \\\\\\\\\\n''')\n",
    "        f.write(snp['s1'])\n",
    "        f.write('''\\\\\\\\\n",
    "    \\\\addlinespace[12pt]\n",
    "    \\\\multicolumn{4}{l}{\\hspace{1em} S2} \\\\\\\\ \\n''')\n",
    "        f.write(snp['s2'])\n",
    "        f.write('''\\\\\\\\\n",
    "    \\\\addlinespace[12pt]\n",
    "    \\\\multicolumn{4}{l}{\\hspace{1em} ST} \\\\\\\\ \\n''')\n",
    "        f.write(snp['st'])\n",
    "        f.write('''\\\\\\\\\n",
    "    \\\\addlinespace\n",
    "    \\\\hline\n",
    "    \\\\end{tabular}\n",
    "    \\\\begin{tablenotes}\n",
    "    \\\\scriptsize\n",
    "    \\\\item 95\\\\% confidence interval in brackets.\n",
    "    \\\\item S1 = First-order indices,  measures the contribution to the output variance by a single model input alone.\n",
    "    \\\\item S2 = Second-order indices,  measures the contribution to the output variance caused by the interaction of two model inputs.\n",
    "    \\\\item ST = Total-order index, measures the contribution to the output variance caused by a model input, including both its first-order effects (the input varying alone) and all higher-order interactions.\n",
    "    \\\\end{tablenotes}\n",
    "    \\\\end{threeparttable}\n",
    "    \\\\end{table}''')\n",
    "\n",
    "    shutil.copy(\"../output/tables/sobol-snp.tex\",'../manuscript/tables')\n",
    "\n",
    "if (vt is not None):\n",
    "    with open(\"../output/tables/sobol-vt.tex\", \"w\") as f:\n",
    "        f.write('''\n",
    "    \\\\begin{table}[htp]\n",
    "    \\\\renewcommand{\\\\arraystretch}{1.3}\n",
    "    \\\\setlength{\\\\tabcolsep}{5pt}\n",
    "    \\\\caption{Sobol sensitivity results only vertical transmission, Scenario 2 (N=16384)}\n",
    "    \\\\label{tab:sobol-vt}\n",
    "    \\\\footnotesize\n",
    "    \\\\centering\n",
    "    \\\\begin{threeparttable}\n",
    "    \\\\begin{tabular}{lccc}\n",
    "    \\\\hline\n",
    "    \\\\addlinespace\n",
    "    & Proportion Obese & Average BMI & SD BMI \\\\\\\\\n",
    "    \\\\addlinespace\n",
    "    \\\\hline\n",
    "    \\\\addlinespace[6pt]\n",
    "    \\\\multicolumn{4}{l}{\\\\hspace{1em} S1} \\\\\\\\\\n''')\n",
    "        f.write(vt['s1'])\n",
    "        f.write('''\\\\\\\\\n",
    "    \\\\addlinespace[12pt]\n",
    "    \\\\multicolumn{4}{l}{\\hspace{1em} S2} \\\\\\\\ \\n''')\n",
    "        f.write(vt['s2'])\n",
    "        f.write('''\\\\\\\\\n",
    "    \\\\addlinespace[12pt]\n",
    "    \\\\multicolumn{4}{l}{\\hspace{1em} ST} \\\\\\\\ \\n''')\n",
    "        f.write(vt['st'])\n",
    "        f.write('''\\\\\\\\\n",
    "    \\\\addlinespace\n",
    "    \\\\hline\n",
    "    \\\\end{tabular}\n",
    "    \\\\begin{tablenotes}\n",
    "    \\\\scriptsize\n",
    "    \\\\item 95\\\\% confidence interval in brackets.\n",
    "    \\\\item S1 = First-order indices,  measures the contribution to the output variance by a single model input alone.\n",
    "    \\\\item S2 = Second-order indices,  measures the contribution to the output variance caused by the interaction of two model inputs.\n",
    "    \\\\item ST = Total-order index, measures the contribution to the output variance caused by a model input, including both its first-order effects (the input varying alone) and all higher-order interactions.\n",
    "    \\\\end{tablenotes}\n",
    "    \\\\end{threeparttable}\n",
    "    \\\\end{table}''')\n",
    "\n",
    "    shutil.copy(\"../output/tables/sobol-vt.tex\",'../manuscript/tables')\n",
    "\n",
    "if (snp_vt is not None):\n",
    "    with open(\"../output/tables/sobol-snp-vt.tex\", \"w\") as f:\n",
    "        f.write('''\n",
    "    \\\\begin{table}[htp]\n",
    "    \\\\renewcommand{\\\\arraystretch}{1.3}\n",
    "    \\\\setlength{\\\\tabcolsep}{5pt}\n",
    "    \\\\caption{Sobol sensitivity results genes and vertical transmission, Scenario 3 (N=16384)}\n",
    "    \\\\label{tab:sobol-snp-vt}\n",
    "    \\\\footnotesize\n",
    "    \\\\centering\n",
    "    \\\\begin{threeparttable}\n",
    "    \\\\begin{tabular}{lccc}\n",
    "    \\\\hline\n",
    "    \\\\addlinespace\n",
    "    & Proportion Obese & Average BMI & SD BMI \\\\\\\\\n",
    "    \\\\addlinespace\n",
    "    \\\\hline\n",
    "    \\\\addlinespace\n",
    "    \\\\multicolumn{4}{l}{\\\\textbf{Scenario 3 (genes and vertical transmission)}} \\\\\\\\\n",
    "    \\\\addlinespace[6pt]\n",
    "    \\\\multicolumn{4}{l}{\\\\hspace{1em} S1} \\\\\\\\\\n''')\n",
    "        f.write(snp_vt['s1'])\n",
    "        f.write('''\\\\\\\\\n",
    "    \\\\addlinespace[12pt]\n",
    "    \\\\multicolumn{4}{l}{\\hspace{1em} S2} \\\\\\\\ \\n''')\n",
    "        f.write(snp_vt['s2'])\n",
    "        f.write('''\\\\\\\\\n",
    "    \\\\addlinespace[12pt]\n",
    "    \\\\multicolumn{4}{l}{\\hspace{1em} ST} \\\\\\\\ \\n''')\n",
    "        f.write(snp_vt['st'])\n",
    "        f.write('''\\\\\\\\\n",
    "    \\\\addlinespace\n",
    "    \\\\hline\n",
    "    \\\\end{tabular}\n",
    "    \\\\begin{tablenotes}\n",
    "    \\\\scriptsize\n",
    "    \\\\item 95\\\\% confidence interval in brackets.\n",
    "    \\\\item S1 = First-order indices,  measures the contribution to the output variance by a single model input alone.\n",
    "    \\\\item S2 = Second-order indices,  measures the contribution to the output variance caused by the interaction of two model inputs.\n",
    "    \\\\item ST = Total-order index, measures the contribution to the output variance caused by a model input, including both its first-order effects (the input varying alone) and all higher-order interactions.\n",
    "    \\\\end{tablenotes}\n",
    "    \\\\end{threeparttable}\n",
    "    \\\\end{table}''')\n",
    "\n",
    "    shutil.copy(\"../output/tables/sobol-snp-vt.tex\",'../manuscript/tables')"
   ]
  },
  {
   "cell_type": "code",
   "execution_count": null,
   "metadata": {},
   "outputs": [],
   "source": []
  }
 ],
 "metadata": {
  "kernelspec": {
   "display_name": "Python 3.9.2 64-bit",
   "language": "python",
   "name": "python3"
  },
  "language_info": {
   "codemirror_mode": {
    "name": "ipython",
    "version": 3
   },
   "file_extension": ".py",
   "mimetype": "text/x-python",
   "name": "python",
   "nbconvert_exporter": "python",
   "pygments_lexer": "ipython3",
   "version": "3.9.2"
  },
  "orig_nbformat": 4,
  "vscode": {
   "interpreter": {
    "hash": "949777d72b0d2535278d3dc13498b2535136f6dfe0678499012e853ee9abcab1"
   }
  }
 },
 "nbformat": 4,
 "nbformat_minor": 2
}
